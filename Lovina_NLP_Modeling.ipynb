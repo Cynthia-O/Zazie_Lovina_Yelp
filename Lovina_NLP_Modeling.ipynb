{
 "cells": [
  {
   "cell_type": "markdown",
   "metadata": {},
   "source": [
    "https://towardsdatascience.com/a-practitioners-guide-to-natural-language-processing-part-i-processing-understanding-text-9f4abfd13e72"
   ]
  },
  {
   "cell_type": "markdown",
   "metadata": {},
   "source": [
    "### Data scraped page-by-page from Yelp to avoid violating Yelp's TOS, then processed into page-specific DFs using variations on this code:"
   ]
  },
  {
   "cell_type": "code",
   "execution_count": null,
   "metadata": {},
   "outputs": [],
   "source": [
    "import requests\n",
    "from bs4 import BeautifulSoup\n",
    "import pandas as pd\n",
    "import numpy as np\n",
    "import re \n",
    "\n",
    "# For reviews that Yelp includes in the ratings calculations and main review page:\n",
    "r = requests.get('https://www.yelp.com/biz/zazie-san-francisco')\n",
    "html = r.text\n",
    "soup = BeautifulSoup(html, \"html5lib\")\n",
    "author = soup.find_all(itemprop = 'author')\n",
    "date = soup.find_all(itemprop = 'datePublished')\n",
    "stars = soup.find_all(itemprop = 'ratingValue')\n",
    "review_body = soup.find_all(itemprop = 'description')\n",
    "df1 = pd.DataFrame({'author':author,'date':date,'stars':stars[1:],'review_body':review_body})\n",
    "\n",
    "for i in range(len(df1)):\n",
    "    df1.author[i] = re.sub('<meta content=\"','',str(df1.author[i]))\n",
    "    df1.author[i] = re.sub('\" itemprop=\"author\"/>','',str(df1.author[i]))\n",
    "    df1.date[i] = re.sub('<meta content=\"','',str(df1.date[i]))\n",
    "    df1.date[i] = re.sub('\" itemprop=\"datePublished\"/>','',str(df1.date[i]))\n",
    "    df1.stars[i] = re.sub('<meta content=\"','',str(df1.stars[i]))\n",
    "    df1.stars[i] = re.sub('\" itemprop=\"ratingValue\"/>','',str(df1.stars[i]))\n",
    "    df1.review_body[i] = re.sub('<p itemprop=\"description\">','',str(df1.review_body[i]))\n",
    "    df1.review_body[i] = re.sub('</p>','',str(df1.review_body[i]))\n",
    "\n",
    "print(df1.shape)\n",
    "df1.head()\n",
    "\n",
    "# For reviews the Yelp excludes from the ratings calcuations and main review page:\n",
    "r = requests.get('https://www.yelp.com/not_recommended_reviews/zazie-san-francisco?not_recommended_start=10')\n",
    "html = r.text\n",
    "soup = BeautifulSoup(html, \"html5lib\")\n",
    "author = soup.find_all(class_ = 'user-display-name') \n",
    "date = soup.find_all(class_ = 'rating-qualifier')\n",
    "stars = soup.find_all(width = '84')\n",
    "review_body = soup.find_all(lang = 'en') #use only review_body[1:]\n",
    "df1 = pd.DataFrame({'author':author,'date':date,'stars':stars,'review_body':review_body[1:]})\n",
    "df1.head()\n",
    "\n",
    "for i in range(len(df1)):\n",
    "    df1.author[i] = re.sub('<span class=\"user-display-name\" ','',str(df1.author[i]))\n",
    "    df1.author[i] = re.sub('</span>','',str(df1.author[i]))\n",
    "    df1.date[i] = re.sub('<span class=\"rating-qualifier\">','',str(df1.date[i]))\n",
    "    df1.date[i] = re.sub('</span>','',str(df1.date[i]))\n",
    "    df1.stars[i] = re.sub('<img alt=\"','',str(df1.stars[i]))\n",
    "    df1.stars[i] = re.sub(' star rating\" class=\"offscreen\" height=\"303\" src=\"https://s3-media2.fl.yelpcdn.com/assets/srv0/yelp_design_web/9b34e39ccbeb/assets/img/stars/stars.png\" width=\"84\"/>','',str(df1.stars[i]))\n",
    "    df1.review_body[i] = re.sub('<p lang=\"en\">','',str(df1.review_body[i]))\n",
    "    df1.review_body[i] = re.sub('</p>','',str(df1.review_body[i]))\n",
    "\n",
    "print(df1.shape)\n",
    "df1\n",
    "\n",
    "# To build a full df out of each type of review (separately):\n",
    "dfs = [df1,df2,df3,df4] #many more df than provided in this example\n",
    "\n",
    "DF = df40\n",
    "for i in dfs:\n",
    "    DF = DF.append(i, ignore_index=True)\n",
    "    \n",
    "print(DF.shape)\n",
    "DF"
   ]
  },
  {
   "cell_type": "markdown",
   "metadata": {},
   "source": [
    "### Then moving on to work with compiled reviews as below:"
   ]
  },
  {
   "cell_type": "code",
   "execution_count": 1,
   "metadata": {},
   "outputs": [],
   "source": [
    "import numpy as np\n",
    "import pandas as pd\n",
    "import autopep8\n",
    "import spacy\n",
    "import nltk\n",
    "from nltk.tokenize.toktok import ToktokTokenizer\n",
    "import re\n",
    "from bs4 import BeautifulSoup\n",
    "import unicodedata"
   ]
  },
  {
   "cell_type": "code",
   "execution_count": 3,
   "metadata": {},
   "outputs": [],
   "source": [
    "nlp = spacy.load('en_core_web_md', parse=True, tag=True, entity=True)\n",
    "#nlp_vec = spacy.load('en_vecs', parse = True, tag=True, #entity=True)\n",
    "tokenizer = ToktokTokenizer()\n",
    "stopword_list = nltk.corpus.stopwords.words('english')\n",
    "stopword_list.remove('no')\n",
    "stopword_list.remove('not')\n",
    "# stopword_list.append('zazie')\n",
    "# stopword_list.append('food')\n",
    "# stopword_list.append('egg')\n",
    "# stopword_list.append('french')\n",
    "# stopword_list.append('good')"
   ]
  },
  {
   "cell_type": "code",
   "execution_count": 4,
   "metadata": {},
   "outputs": [
    {
     "name": "stdout",
     "output_type": "stream",
     "text": [
      "(273, 5)\n"
     ]
    },
    {
     "data": {
      "text/html": [
       "<div>\n",
       "<style scoped>\n",
       "    .dataframe tbody tr th:only-of-type {\n",
       "        vertical-align: middle;\n",
       "    }\n",
       "\n",
       "    .dataframe tbody tr th {\n",
       "        vertical-align: top;\n",
       "    }\n",
       "\n",
       "    .dataframe thead th {\n",
       "        text-align: right;\n",
       "    }\n",
       "</style>\n",
       "<table border=\"1\" class=\"dataframe\">\n",
       "  <thead>\n",
       "    <tr style=\"text-align: right;\">\n",
       "      <th></th>\n",
       "      <th>Unnamed: 0</th>\n",
       "      <th>author</th>\n",
       "      <th>date</th>\n",
       "      <th>stars</th>\n",
       "      <th>review_body</th>\n",
       "    </tr>\n",
       "  </thead>\n",
       "  <tbody>\n",
       "    <tr>\n",
       "      <th>0</th>\n",
       "      <td>0</td>\n",
       "      <td>Stacey P.</td>\n",
       "      <td>2019-03-09</td>\n",
       "      <td>5.0</td>\n",
       "      <td>Thank you Yelp for recommending Lovina.\\n\\nMys...</td>\n",
       "    </tr>\n",
       "    <tr>\n",
       "      <th>1</th>\n",
       "      <td>1</td>\n",
       "      <td>Cathy H.</td>\n",
       "      <td>2019-03-05</td>\n",
       "      <td>5.0</td>\n",
       "      <td>Delicious local-feeling place! The daily focac...</td>\n",
       "    </tr>\n",
       "    <tr>\n",
       "      <th>2</th>\n",
       "      <td>2</td>\n",
       "      <td>Himanshu K.</td>\n",
       "      <td>2018-11-24</td>\n",
       "      <td>5.0</td>\n",
       "      <td>Amazing place\\n\\nDefinitely try the French Toa...</td>\n",
       "    </tr>\n",
       "    <tr>\n",
       "      <th>3</th>\n",
       "      <td>3</td>\n",
       "      <td>Sylvia E.</td>\n",
       "      <td>2019-03-02</td>\n",
       "      <td>5.0</td>\n",
       "      <td>Little gem in Calistoga!  Delicious food and v...</td>\n",
       "    </tr>\n",
       "    <tr>\n",
       "      <th>4</th>\n",
       "      <td>4</td>\n",
       "      <td>Mary M.</td>\n",
       "      <td>2019-03-10</td>\n",
       "      <td>5.0</td>\n",
       "      <td>Great food and great service. The location is ...</td>\n",
       "    </tr>\n",
       "  </tbody>\n",
       "</table>\n",
       "</div>"
      ],
      "text/plain": [
       "   Unnamed: 0       author        date  stars  \\\n",
       "0           0    Stacey P.  2019-03-09    5.0   \n",
       "1           1     Cathy H.  2019-03-05    5.0   \n",
       "2           2  Himanshu K.  2018-11-24    5.0   \n",
       "3           3    Sylvia E.  2019-03-02    5.0   \n",
       "4           4      Mary M.  2019-03-10    5.0   \n",
       "\n",
       "                                         review_body  \n",
       "0  Thank you Yelp for recommending Lovina.\\n\\nMys...  \n",
       "1  Delicious local-feeling place! The daily focac...  \n",
       "2  Amazing place\\n\\nDefinitely try the French Toa...  \n",
       "3  Little gem in Calistoga!  Delicious food and v...  \n",
       "4  Great food and great service. The location is ...  "
      ]
     },
     "execution_count": 4,
     "metadata": {},
     "output_type": "execute_result"
    }
   ],
   "source": [
    "included_reviews = pd.read_csv('/home/cynthiaorourke/Desktop/Yelp_Zazie/Lovina_reviews_included.csv')\n",
    "print(included_reviews.shape)\n",
    "included_reviews.head()"
   ]
  },
  {
   "cell_type": "markdown",
   "metadata": {},
   "source": [
    "### Functions built for text preprocessing:"
   ]
  },
  {
   "cell_type": "code",
   "execution_count": 5,
   "metadata": {},
   "outputs": [],
   "source": [
    "def strip_html_tags(text):\n",
    "    soup = BeautifulSoup(text, \"html.parser\")\n",
    "    stripped_text = soup.get_text()\n",
    "    return stripped_text\n",
    "\n",
    "# strip_html_tags('<html><h2>Some important text</h2></html>')"
   ]
  },
  {
   "cell_type": "code",
   "execution_count": 7,
   "metadata": {},
   "outputs": [],
   "source": [
    "def remove_accented_chars(text):\n",
    "    text = unicodedata.normalize('NFKD', text).encode('ascii', 'ignore').decode('utf-8', 'ignore')\n",
    "    return text\n",
    "\n",
    "# remove_accented_chars('Sómě Áccěntěd těxt')"
   ]
  },
  {
   "cell_type": "code",
   "execution_count": 8,
   "metadata": {},
   "outputs": [],
   "source": [
    "CONTRACTION_MAP = {\n",
    "\"ain't\": \"is not\",\n",
    "\"aren't\": \"are not\",\n",
    "\"can't\": \"cannot\",\n",
    "\"can't've\": \"cannot have\",\n",
    "\"'cause\": \"because\",\n",
    "\"could've\": \"could have\",\n",
    "\"couldn't\": \"could not\",\n",
    "\"couldn't've\": \"could not have\",\n",
    "\"didn't\": \"did not\",\n",
    "\"doesn't\": \"does not\",\n",
    "\"don't\": \"do not\",\n",
    "\"hadn't\": \"had not\",\n",
    "\"hadn't've\": \"had not have\",\n",
    "\"hasn't\": \"has not\",\n",
    "\"haven't\": \"have not\",\n",
    "\"he'd\": \"he would\",\n",
    "\"he'd've\": \"he would have\",\n",
    "\"he'll\": \"he will\",\n",
    "\"he'll've\": \"he he will have\",\n",
    "\"he's\": \"he is\",\n",
    "\"how'd\": \"how did\",\n",
    "\"how'd'y\": \"how do you\",\n",
    "\"how'll\": \"how will\",\n",
    "\"how's\": \"how is\",\n",
    "\"I'd\": \"I would\",\n",
    "\"I'd've\": \"I would have\",\n",
    "\"I'll\": \"I will\",\n",
    "\"I'll've\": \"I will have\",\n",
    "\"I'm\": \"I am\",\n",
    "\"I've\": \"I have\",\n",
    "\"i'd\": \"i would\",\n",
    "\"i'd've\": \"i would have\",\n",
    "\"i'll\": \"i will\",\n",
    "\"i'll've\": \"i will have\",\n",
    "\"i'm\": \"i am\",\n",
    "\"i've\": \"i have\",\n",
    "\"isn't\": \"is not\",\n",
    "\"it'd\": \"it would\",\n",
    "\"it'd've\": \"it would have\",\n",
    "\"it'll\": \"it will\",\n",
    "\"it'll've\": \"it will have\",\n",
    "\"it's\": \"it is\",\n",
    "\"let's\": \"let us\",\n",
    "\"ma'am\": \"madam\",\n",
    "\"mayn't\": \"may not\",\n",
    "\"might've\": \"might have\",\n",
    "\"mightn't\": \"might not\",\n",
    "\"mightn't've\": \"might not have\",\n",
    "\"must've\": \"must have\",\n",
    "\"mustn't\": \"must not\",\n",
    "\"mustn't've\": \"must not have\",\n",
    "\"needn't\": \"need not\",\n",
    "\"needn't've\": \"need not have\",\n",
    "\"o'clock\": \"of the clock\",\n",
    "\"oughtn't\": \"ought not\",\n",
    "\"oughtn't've\": \"ought not have\",\n",
    "\"shan't\": \"shall not\",\n",
    "\"sha'n't\": \"shall not\",\n",
    "\"shan't've\": \"shall not have\",\n",
    "\"she'd\": \"she would\",\n",
    "\"she'd've\": \"she would have\",\n",
    "\"she'll\": \"she will\",\n",
    "\"she'll've\": \"she will have\",\n",
    "\"she's\": \"she is\",\n",
    "\"should've\": \"should have\",\n",
    "\"shouldn't\": \"should not\",\n",
    "\"shouldn't've\": \"should not have\",\n",
    "\"so've\": \"so have\",\n",
    "\"so's\": \"so as\",\n",
    "\"that'd\": \"that would\",\n",
    "\"that'd've\": \"that would have\",\n",
    "\"that's\": \"that is\",\n",
    "\"there'd\": \"there would\",\n",
    "\"there'd've\": \"there would have\",\n",
    "\"there's\": \"there is\",\n",
    "\"they'd\": \"they would\",\n",
    "\"they'd've\": \"they would have\",\n",
    "\"they'll\": \"they will\",\n",
    "\"they'll've\": \"they will have\",\n",
    "\"they're\": \"they are\",\n",
    "\"they've\": \"they have\",\n",
    "\"to've\": \"to have\",\n",
    "\"wasn't\": \"was not\",\n",
    "\"we'd\": \"we would\",\n",
    "\"we'd've\": \"we would have\",\n",
    "\"we'll\": \"we will\",\n",
    "\"we'll've\": \"we will have\",\n",
    "\"we're\": \"we are\",\n",
    "\"we've\": \"we have\",\n",
    "\"weren't\": \"were not\",\n",
    "\"what'll\": \"what will\",\n",
    "\"what'll've\": \"what will have\",\n",
    "\"what're\": \"what are\",\n",
    "\"what's\": \"what is\",\n",
    "\"what've\": \"what have\",\n",
    "\"when's\": \"when is\",\n",
    "\"when've\": \"when have\",\n",
    "\"where'd\": \"where did\",\n",
    "\"where's\": \"where is\",\n",
    "\"where've\": \"where have\",\n",
    "\"who'll\": \"who will\",\n",
    "\"who'll've\": \"who will have\",\n",
    "\"who's\": \"who is\",\n",
    "\"who've\": \"who have\",\n",
    "\"why's\": \"why is\",\n",
    "\"why've\": \"why have\",\n",
    "\"will've\": \"will have\",\n",
    "\"won't\": \"will not\",\n",
    "\"won't've\": \"will not have\",\n",
    "\"would've\": \"would have\",\n",
    "\"wouldn't\": \"would not\",\n",
    "\"wouldn't've\": \"would not have\",\n",
    "\"y'all\": \"you all\",\n",
    "\"y'all'd\": \"you all would\",\n",
    "\"y'all'd've\": \"you all would have\",\n",
    "\"y'all're\": \"you all are\",\n",
    "\"y'all've\": \"you all have\",\n",
    "\"you'd\": \"you would\",\n",
    "\"you'd've\": \"you would have\",\n",
    "\"you'll\": \"you will\",\n",
    "\"you'll've\": \"you will have\",\n",
    "\"you're\": \"you are\",\n",
    "\"you've\": \"you have\"\n",
    "}"
   ]
  },
  {
   "cell_type": "code",
   "execution_count": 9,
   "metadata": {},
   "outputs": [],
   "source": [
    "def expand_contractions(text, contraction_mapping=CONTRACTION_MAP):\n",
    "    \n",
    "    contractions_pattern = re.compile('({})'.format('|'.join(contraction_mapping.keys())), \n",
    "                                      flags=re.IGNORECASE|re.DOTALL)\n",
    "    def expand_match(contraction):\n",
    "        match = contraction.group(0)\n",
    "        first_char = match[0]\n",
    "        expanded_contraction = contraction_mapping.get(match)\\\n",
    "                                if contraction_mapping.get(match)\\\n",
    "                                else contraction_mapping.get(match.lower())                       \n",
    "        expanded_contraction = first_char+expanded_contraction[1:]\n",
    "        return expanded_contraction\n",
    "        \n",
    "    expanded_text = contractions_pattern.sub(expand_match, text)\n",
    "    expanded_text = re.sub(\"'\", \"\", expanded_text)\n",
    "    return expanded_text\n",
    "\n",
    "# expand_contractions(\"Y'all can't expand contractions I'd think\")"
   ]
  },
  {
   "cell_type": "code",
   "execution_count": 10,
   "metadata": {},
   "outputs": [],
   "source": [
    "def remove_special_characters(text, remove_digits=False):\n",
    "    pattern = r'[^a-zA-z0-9\\s]' if not remove_digits else r'[^a-zA-z\\s]'\n",
    "    text = re.sub(pattern, '', text)\n",
    "    return text\n",
    "\n",
    "# remove_special_characters(\"Well this was fun! What do you think? 123#@!\",remove_digits=True)"
   ]
  },
  {
   "cell_type": "code",
   "execution_count": 11,
   "metadata": {},
   "outputs": [],
   "source": [
    "def simple_stemmer(text):\n",
    "    ps = nltk.porter.PorterStemmer()\n",
    "    text = ' '.join([ps.stem(word) for word in text.split()])\n",
    "    return text\n",
    "\n",
    "# simple_stemmer(\"My system keeps crashing his crashed yesterday, ours crashes daily\")"
   ]
  },
  {
   "cell_type": "code",
   "execution_count": 12,
   "metadata": {},
   "outputs": [],
   "source": [
    "def lemmatize_text(text):\n",
    "    text = nlp(text)\n",
    "    text = ' '.join([word.lemma_ if word.lemma_ != '-PRON-' else word.text for word in text])\n",
    "    return text\n",
    "\n",
    "# lemmatize_text(\"My system keeps crashing! his crashed yesterday, ours crashes daily\")"
   ]
  },
  {
   "cell_type": "code",
   "execution_count": 13,
   "metadata": {},
   "outputs": [],
   "source": [
    "def remove_stopwords(text, is_lower_case=False):\n",
    "    tokens = tokenizer.tokenize(text)\n",
    "    tokens = [token.strip() for token in tokens]\n",
    "    if is_lower_case:\n",
    "        filtered_tokens = [token for token in tokens if token not in stopword_list]\n",
    "    else:\n",
    "        filtered_tokens = [token for token in tokens if token.lower() not in stopword_list]\n",
    "    filtered_text = ' '.join(filtered_tokens)    \n",
    "    return filtered_text\n",
    "\n",
    "# remove_stopwords(\"The, and, if are stopwords, computer is not\")"
   ]
  },
  {
   "cell_type": "code",
   "execution_count": 14,
   "metadata": {},
   "outputs": [],
   "source": [
    "def normalize_corpus(corpus, html_stripping=True, contraction_expansion=True,\n",
    "                     accented_char_removal=True, text_lower_case=True, \n",
    "                     text_lemmatization=True, special_char_removal=True, \n",
    "                     stopword_removal=True, remove_digits=True):\n",
    "    \n",
    "    normalized_corpus = []\n",
    "    # normalize each document in the corpus\n",
    "    for doc in corpus:\n",
    "        # strip HTML\n",
    "        if html_stripping:\n",
    "            doc = strip_html_tags(doc)\n",
    "        # remove accented characters\n",
    "        if accented_char_removal:\n",
    "            doc = remove_accented_chars(doc)\n",
    "        # expand contractions    \n",
    "        if contraction_expansion:\n",
    "            doc = expand_contractions(doc)\n",
    "        # lowercase the text    \n",
    "        if text_lower_case:\n",
    "            doc = doc.lower()\n",
    "        # remove extra newlines\n",
    "        doc = re.sub(r'[\\r|\\n|\\r\\n]+', ' ',doc)\n",
    "        # lemmatize text\n",
    "        if text_lemmatization:\n",
    "            doc = lemmatize_text(doc)\n",
    "        # remove special characters and\\or digits    \n",
    "        if special_char_removal:\n",
    "            # insert spaces between special characters to isolate them    \n",
    "            special_char_pattern = re.compile(r'([{.(-)!}])')\n",
    "            doc = special_char_pattern.sub(\" \\\\1 \", doc)\n",
    "            doc = remove_special_characters(doc, remove_digits=remove_digits)  \n",
    "        # remove extra whitespace\n",
    "        doc = re.sub(' +', ' ', doc)\n",
    "        # remove stopwords\n",
    "        if stopword_removal:\n",
    "            doc = remove_stopwords(doc, is_lower_case=text_lower_case)\n",
    "            \n",
    "        normalized_corpus.append(doc)\n",
    "        \n",
    "    return normalized_corpus"
   ]
  },
  {
   "cell_type": "code",
   "execution_count": 15,
   "metadata": {},
   "outputs": [],
   "source": [
    "# pre-process reviews text\n",
    "included_reviews['review_cleaned'] = normalize_corpus(included_reviews['review_body'])\n",
    "norm_corpus = list(included_reviews['review_cleaned'])"
   ]
  },
  {
   "cell_type": "markdown",
   "metadata": {},
   "source": [
    "### Export and save locally to skip this preprocessing step in the future:"
   ]
  },
  {
   "cell_type": "code",
   "execution_count": 16,
   "metadata": {},
   "outputs": [],
   "source": [
    "included_reviews.to_csv('/home/cynthiaorourke/Desktop/Yelp_Zazie/cleaned_inc_reviews.csv')"
   ]
  },
  {
   "cell_type": "code",
   "execution_count": 17,
   "metadata": {},
   "outputs": [],
   "source": [
    "# create a basic pre-processed corpus, don't lowercase to get POS context\n",
    "corpus = normalize_corpus(included_reviews['review_body'], text_lower_case=False, \n",
    "                          text_lemmatization=False, special_char_removal=False)"
   ]
  },
  {
   "cell_type": "code",
   "execution_count": 18,
   "metadata": {},
   "outputs": [
    {
     "name": "stderr",
     "output_type": "stream",
     "text": [
      "[nltk_data] Downloading package averaged_perceptron_tagger to\n",
      "[nltk_data]     /home/cynthiaorourke/nltk_data...\n",
      "[nltk_data]   Package averaged_perceptron_tagger is already up-to-\n",
      "[nltk_data]       date!\n"
     ]
    },
    {
     "data": {
      "text/html": [
       "<div>\n",
       "<style scoped>\n",
       "    .dataframe tbody tr th:only-of-type {\n",
       "        vertical-align: middle;\n",
       "    }\n",
       "\n",
       "    .dataframe tbody tr th {\n",
       "        vertical-align: top;\n",
       "    }\n",
       "\n",
       "    .dataframe thead th {\n",
       "        text-align: right;\n",
       "    }\n",
       "</style>\n",
       "<table border=\"1\" class=\"dataframe\">\n",
       "  <thead>\n",
       "    <tr style=\"text-align: right;\">\n",
       "      <th></th>\n",
       "      <th>Word</th>\n",
       "      <th>POS tag</th>\n",
       "      <th>Tag type</th>\n",
       "    </tr>\n",
       "  </thead>\n",
       "  <tbody>\n",
       "    <tr>\n",
       "      <th>0</th>\n",
       "      <td>Delicious</td>\n",
       "      <td>JJ</td>\n",
       "      <td>ADJ</td>\n",
       "    </tr>\n",
       "    <tr>\n",
       "      <th>1</th>\n",
       "      <td>local</td>\n",
       "      <td>RB</td>\n",
       "      <td>ADV</td>\n",
       "    </tr>\n",
       "    <tr>\n",
       "      <th>2</th>\n",
       "      <td>-</td>\n",
       "      <td>HYPH</td>\n",
       "      <td>PUNCT</td>\n",
       "    </tr>\n",
       "    <tr>\n",
       "      <th>3</th>\n",
       "      <td>feeling</td>\n",
       "      <td>VBG</td>\n",
       "      <td>VERB</td>\n",
       "    </tr>\n",
       "    <tr>\n",
       "      <th>4</th>\n",
       "      <td>place</td>\n",
       "      <td>NN</td>\n",
       "      <td>NOUN</td>\n",
       "    </tr>\n",
       "  </tbody>\n",
       "</table>\n",
       "</div>"
      ],
      "text/plain": [
       "        Word POS tag Tag type\n",
       "0  Delicious      JJ      ADJ\n",
       "1      local      RB      ADV\n",
       "2          -    HYPH    PUNCT\n",
       "3    feeling     VBG     VERB\n",
       "4      place      NN     NOUN"
      ]
     },
     "execution_count": 18,
     "metadata": {},
     "output_type": "execute_result"
    }
   ],
   "source": [
    "nltk.download('averaged_perceptron_tagger')\n",
    "\n",
    "# demo for POS tagging for sample news headline\n",
    "sentence = str(included_reviews.iloc[1].review_body)\n",
    "sentence_nlp = nlp(sentence)\n",
    "\n",
    "# POS tagging with Spacy \n",
    "spacy_pos_tagged = [(word, word.tag_, word.pos_) for word in sentence_nlp]\n",
    "spacy_example = pd.DataFrame(spacy_pos_tagged, columns=['Word', 'POS tag', 'Tag type'])\n",
    "spacy_example.head()"
   ]
  },
  {
   "cell_type": "code",
   "execution_count": 19,
   "metadata": {},
   "outputs": [
    {
     "data": {
      "text/html": [
       "<div>\n",
       "<style scoped>\n",
       "    .dataframe tbody tr th:only-of-type {\n",
       "        vertical-align: middle;\n",
       "    }\n",
       "\n",
       "    .dataframe tbody tr th {\n",
       "        vertical-align: top;\n",
       "    }\n",
       "\n",
       "    .dataframe thead th {\n",
       "        text-align: right;\n",
       "    }\n",
       "</style>\n",
       "<table border=\"1\" class=\"dataframe\">\n",
       "  <thead>\n",
       "    <tr style=\"text-align: right;\">\n",
       "      <th></th>\n",
       "      <th>Word</th>\n",
       "      <th>POS tag</th>\n",
       "    </tr>\n",
       "  </thead>\n",
       "  <tbody>\n",
       "    <tr>\n",
       "      <th>0</th>\n",
       "      <td>Delicious</td>\n",
       "      <td>JJ</td>\n",
       "    </tr>\n",
       "    <tr>\n",
       "      <th>1</th>\n",
       "      <td>local-feeling</td>\n",
       "      <td>JJ</td>\n",
       "    </tr>\n",
       "    <tr>\n",
       "      <th>2</th>\n",
       "      <td>place!</td>\n",
       "      <td>IN</td>\n",
       "    </tr>\n",
       "    <tr>\n",
       "      <th>3</th>\n",
       "      <td>The</td>\n",
       "      <td>DT</td>\n",
       "    </tr>\n",
       "    <tr>\n",
       "      <th>4</th>\n",
       "      <td>daily</td>\n",
       "      <td>JJ</td>\n",
       "    </tr>\n",
       "  </tbody>\n",
       "</table>\n",
       "</div>"
      ],
      "text/plain": [
       "            Word POS tag\n",
       "0      Delicious      JJ\n",
       "1  local-feeling      JJ\n",
       "2         place!      IN\n",
       "3            The      DT\n",
       "4          daily      JJ"
      ]
     },
     "execution_count": 19,
     "metadata": {},
     "output_type": "execute_result"
    }
   ],
   "source": [
    "# POS tagging with nltk\n",
    "nltk_pos_tagged = nltk.pos_tag(sentence.split())\n",
    "nltk_example = pd.DataFrame(nltk_pos_tagged, columns=['Word', 'POS tag'])\n",
    "nltk_example.head()"
   ]
  },
  {
   "cell_type": "markdown",
   "metadata": {},
   "source": [
    "### Skipping a lot of additional instructive NLP work in the tutorial here - come back to that."
   ]
  },
  {
   "cell_type": "code",
   "execution_count": 20,
   "metadata": {},
   "outputs": [],
   "source": [
    "from afinn import Afinn\n",
    "af = Afinn()"
   ]
  },
  {
   "cell_type": "code",
   "execution_count": 21,
   "metadata": {},
   "outputs": [
    {
     "data": {
      "text/html": [
       "<div>\n",
       "<style scoped>\n",
       "    .dataframe tbody tr th:only-of-type {\n",
       "        vertical-align: middle;\n",
       "    }\n",
       "\n",
       "    .dataframe tbody tr th {\n",
       "        vertical-align: top;\n",
       "    }\n",
       "\n",
       "    .dataframe thead tr th {\n",
       "        text-align: left;\n",
       "    }\n",
       "\n",
       "    .dataframe thead tr:last-of-type th {\n",
       "        text-align: right;\n",
       "    }\n",
       "</style>\n",
       "<table border=\"1\" class=\"dataframe\">\n",
       "  <thead>\n",
       "    <tr>\n",
       "      <th></th>\n",
       "      <th colspan=\"8\" halign=\"left\">sentiment_score</th>\n",
       "    </tr>\n",
       "    <tr>\n",
       "      <th></th>\n",
       "      <th>count</th>\n",
       "      <th>mean</th>\n",
       "      <th>std</th>\n",
       "      <th>min</th>\n",
       "      <th>25%</th>\n",
       "      <th>50%</th>\n",
       "      <th>75%</th>\n",
       "      <th>max</th>\n",
       "    </tr>\n",
       "    <tr>\n",
       "      <th>stars</th>\n",
       "      <th></th>\n",
       "      <th></th>\n",
       "      <th></th>\n",
       "      <th></th>\n",
       "      <th></th>\n",
       "      <th></th>\n",
       "      <th></th>\n",
       "      <th></th>\n",
       "    </tr>\n",
       "  </thead>\n",
       "  <tbody>\n",
       "    <tr>\n",
       "      <th>1.0</th>\n",
       "      <td>24.0</td>\n",
       "      <td>0.375000</td>\n",
       "      <td>7.603274</td>\n",
       "      <td>-16.0</td>\n",
       "      <td>-4.0</td>\n",
       "      <td>0.0</td>\n",
       "      <td>3.25</td>\n",
       "      <td>19.0</td>\n",
       "    </tr>\n",
       "    <tr>\n",
       "      <th>2.0</th>\n",
       "      <td>13.0</td>\n",
       "      <td>2.076923</td>\n",
       "      <td>7.488453</td>\n",
       "      <td>-8.0</td>\n",
       "      <td>-4.0</td>\n",
       "      <td>2.0</td>\n",
       "      <td>9.00</td>\n",
       "      <td>14.0</td>\n",
       "    </tr>\n",
       "    <tr>\n",
       "      <th>3.0</th>\n",
       "      <td>17.0</td>\n",
       "      <td>12.470588</td>\n",
       "      <td>8.239521</td>\n",
       "      <td>0.0</td>\n",
       "      <td>9.0</td>\n",
       "      <td>10.0</td>\n",
       "      <td>22.00</td>\n",
       "      <td>25.0</td>\n",
       "    </tr>\n",
       "    <tr>\n",
       "      <th>4.0</th>\n",
       "      <td>55.0</td>\n",
       "      <td>15.636364</td>\n",
       "      <td>10.741687</td>\n",
       "      <td>2.0</td>\n",
       "      <td>7.5</td>\n",
       "      <td>13.0</td>\n",
       "      <td>20.00</td>\n",
       "      <td>55.0</td>\n",
       "    </tr>\n",
       "    <tr>\n",
       "      <th>5.0</th>\n",
       "      <td>164.0</td>\n",
       "      <td>15.957317</td>\n",
       "      <td>10.031454</td>\n",
       "      <td>1.0</td>\n",
       "      <td>9.0</td>\n",
       "      <td>14.0</td>\n",
       "      <td>20.00</td>\n",
       "      <td>54.0</td>\n",
       "    </tr>\n",
       "  </tbody>\n",
       "</table>\n",
       "</div>"
      ],
      "text/plain": [
       "      sentiment_score                                                    \n",
       "                count       mean        std   min  25%   50%    75%   max\n",
       "stars                                                                    \n",
       "1.0              24.0   0.375000   7.603274 -16.0 -4.0   0.0   3.25  19.0\n",
       "2.0              13.0   2.076923   7.488453  -8.0 -4.0   2.0   9.00  14.0\n",
       "3.0              17.0  12.470588   8.239521   0.0  9.0  10.0  22.00  25.0\n",
       "4.0              55.0  15.636364  10.741687   2.0  7.5  13.0  20.00  55.0\n",
       "5.0             164.0  15.957317  10.031454   1.0  9.0  14.0  20.00  54.0"
      ]
     },
     "execution_count": 21,
     "metadata": {},
     "output_type": "execute_result"
    }
   ],
   "source": [
    "# compute sentiment scores (polarity) and labels\n",
    "sentiment_scores = [af.score(article) for article in corpus]\n",
    "sentiment_category = ['positive' if score > 0 \n",
    "                          else 'negative' if score < 0 \n",
    "                              else 'neutral' \n",
    "                                  for score in sentiment_scores]\n",
    "    \n",
    "    \n",
    "# sentiment statistics per news category\n",
    "df = pd.DataFrame([list(included_reviews['stars']), sentiment_scores, sentiment_category]).T\n",
    "df.columns = ['stars', 'sentiment_score', 'sentiment_category']\n",
    "df['sentiment_score'] = df.sentiment_score.astype('float')\n",
    "df.groupby(by=['stars']).describe()"
   ]
  },
  {
   "cell_type": "markdown",
   "metadata": {},
   "source": [
    "### A higher mean indicates a more positive sentiment score, so this^ checks out."
   ]
  },
  {
   "cell_type": "code",
   "execution_count": 22,
   "metadata": {},
   "outputs": [
    {
     "name": "stdout",
     "output_type": "stream",
     "text": [
      "raw: Thank you Yelp for recommending Lovina.\n",
      "\n",
      "Myself and two friends were hungry, out of town visitors, and clueless where to eat. With such glowing reviews figured it was well worth the shot! I would not have found it otherwise because I must admit when we parked behind the restaurant and there was little signage and it looked like a house I was skeptical.\n",
      "\n",
      "My skepticism melted upon entering and being warmly greeted immediately. It was just damn nice. We were seated promptly and our server was charming, welcoming, and just delightful. \n",
      "\n",
      "I ordered the cheeseburger, my friend ordered the cheese sandwich, and my other friend ordered the eggs and bacon. I was quite impressed when the orders came out. The portions are huge! That grilled cheese was the thickest, cheesiest sandwich I've ever seen. It ooooooozed cheese! The bread was hearty. It was just giant! My cheeseburger was also amazing - a perfect bun to meat ratio. It was oh so juicy, perfectly seasoned, fantastic cheese, and so very delicious. \n",
      "\n",
      "I was incredibly happy with our stop here! Highly recommend.\n",
      "...\n",
      "cleaned: thank yelp recommend lovina two friend hungry town visitor clueless eat glowing review figure well worth shot would not find otherwise must admit park behind restaurant little signage look like house skeptical skepticism melt upon enter warmly greet immediately damn nice seat promptly server charming welcome delightful order cheeseburger friend order cheese sandwich friend order egg bacon quite impressed order come portion huge grill cheese thick cheesy sandwich ever see oooooooz cheese bread hearty giant cheeseburger also amazing perfect bun meat ratio oh juicy perfectly seasoned fantastic cheese delicious incredibly happy stop highly recommend\n"
     ]
    }
   ],
   "source": [
    "# let's look at one of these cleaned reviews, vs the original:\n",
    "print('raw:',included_reviews.iloc[0,4])\n",
    "print('...')\n",
    "print('cleaned:',included_reviews.iloc[0,5])"
   ]
  },
  {
   "cell_type": "code",
   "execution_count": 23,
   "metadata": {},
   "outputs": [
    {
     "name": "stderr",
     "output_type": "stream",
     "text": [
      "/home/cynthiaorourke/anaconda3/lib/python3.7/site-packages/seaborn/categorical.py:3666: UserWarning: The `factorplot` function has been renamed to `catplot`. The original name will be removed in a future release. Please update your code. Note that the default `kind` in `factorplot` (`'point'`) has changed `'strip'` in `catplot`.\n",
      "  warnings.warn(msg)\n"
     ]
    },
    {
     "data": {
      "text/plain": [
       "Text(0.5, 0.98, 'Word counts by sentiment and stars')"
      ]
     },
     "execution_count": 23,
     "metadata": {},
     "output_type": "execute_result"
    }
   ],
   "source": [
    "# let's try vizualizing these scores:\n",
    "import seaborn as sns \n",
    "\n",
    "fc = sns.factorplot(x=\"stars\", hue=\"sentiment_category\", \n",
    "                    data=df, kind=\"count\", \n",
    "                    palette={\"negative\": \"#FE2020\", \n",
    "                             \"positive\": \"#BADD07\", \n",
    "                             \"neutral\": \"#68BFF5\"})\n",
    "\n",
    "fc.fig.suptitle('Word counts by sentiment and stars')"
   ]
  },
  {
   "cell_type": "code",
   "execution_count": 24,
   "metadata": {},
   "outputs": [
    {
     "ename": "IndexError",
     "evalue": "index 0 is out of bounds for axis 0 with size 0",
     "output_type": "error",
     "traceback": [
      "\u001b[0;31m---------------------------------------------------------------------------\u001b[0m",
      "\u001b[0;31mIndexError\u001b[0m                                Traceback (most recent call last)",
      "\u001b[0;32m<ipython-input-24-85446a2f08d9>\u001b[0m in \u001b[0;36m<module>\u001b[0;34m\u001b[0m\n\u001b[0;32m----> 1\u001b[0;31m \u001b[0mpos_idx\u001b[0m \u001b[0;34m=\u001b[0m \u001b[0mdf\u001b[0m\u001b[0;34m[\u001b[0m\u001b[0;34m(\u001b[0m\u001b[0mdf\u001b[0m\u001b[0;34m.\u001b[0m\u001b[0msentiment_score\u001b[0m \u001b[0;34m==\u001b[0m \u001b[0;36m152\u001b[0m\u001b[0;34m)\u001b[0m\u001b[0;34m]\u001b[0m\u001b[0;34m.\u001b[0m\u001b[0mindex\u001b[0m\u001b[0;34m[\u001b[0m\u001b[0;36m0\u001b[0m\u001b[0;34m]\u001b[0m\u001b[0;34m\u001b[0m\u001b[0;34m\u001b[0m\u001b[0m\n\u001b[0m\u001b[1;32m      2\u001b[0m \u001b[0mneg_idx\u001b[0m \u001b[0;34m=\u001b[0m \u001b[0mdf\u001b[0m\u001b[0;34m[\u001b[0m\u001b[0;34m(\u001b[0m\u001b[0mdf\u001b[0m\u001b[0;34m.\u001b[0m\u001b[0msentiment_score\u001b[0m \u001b[0;34m==\u001b[0m \u001b[0;34m-\u001b[0m\u001b[0;36m62\u001b[0m\u001b[0;34m)\u001b[0m\u001b[0;34m]\u001b[0m\u001b[0;34m.\u001b[0m\u001b[0mindex\u001b[0m\u001b[0;34m[\u001b[0m\u001b[0;36m0\u001b[0m\u001b[0;34m]\u001b[0m\u001b[0;34m\u001b[0m\u001b[0;34m\u001b[0m\u001b[0m\n\u001b[1;32m      3\u001b[0m \u001b[0;34m\u001b[0m\u001b[0m\n\u001b[1;32m      4\u001b[0m \u001b[0mprint\u001b[0m\u001b[0;34m(\u001b[0m\u001b[0;34m'Most negative review:'\u001b[0m\u001b[0;34m,\u001b[0m \u001b[0mincluded_reviews\u001b[0m\u001b[0;34m.\u001b[0m\u001b[0miloc\u001b[0m\u001b[0;34m[\u001b[0m\u001b[0mneg_idx\u001b[0m\u001b[0;34m]\u001b[0m\u001b[0;34m[\u001b[0m\u001b[0;34m[\u001b[0m\u001b[0;34m'date'\u001b[0m\u001b[0;34m]\u001b[0m\u001b[0;34m]\u001b[0m\u001b[0;34m[\u001b[0m\u001b[0;36m0\u001b[0m\u001b[0;34m]\u001b[0m\u001b[0;34m,\u001b[0m \u001b[0mincluded_reviews\u001b[0m\u001b[0;34m.\u001b[0m\u001b[0miloc\u001b[0m\u001b[0;34m[\u001b[0m\u001b[0mneg_idx\u001b[0m\u001b[0;34m]\u001b[0m\u001b[0;34m[\u001b[0m\u001b[0;34m[\u001b[0m\u001b[0;34m'author'\u001b[0m\u001b[0;34m]\u001b[0m\u001b[0;34m]\u001b[0m\u001b[0;34m[\u001b[0m\u001b[0;36m0\u001b[0m\u001b[0;34m]\u001b[0m\u001b[0;34m)\u001b[0m\u001b[0;34m\u001b[0m\u001b[0;34m\u001b[0m\u001b[0m\n\u001b[1;32m      5\u001b[0m \u001b[0mprint\u001b[0m\u001b[0;34m(\u001b[0m\u001b[0mincluded_reviews\u001b[0m\u001b[0;34m.\u001b[0m\u001b[0miloc\u001b[0m\u001b[0;34m[\u001b[0m\u001b[0mneg_idx\u001b[0m\u001b[0;34m]\u001b[0m\u001b[0;34m[\u001b[0m\u001b[0;34m[\u001b[0m\u001b[0;34m'review_body'\u001b[0m\u001b[0;34m]\u001b[0m\u001b[0;34m]\u001b[0m\u001b[0;34m[\u001b[0m\u001b[0;36m0\u001b[0m\u001b[0;34m]\u001b[0m\u001b[0;34m)\u001b[0m\u001b[0;34m\u001b[0m\u001b[0;34m\u001b[0m\u001b[0m\n",
      "\u001b[0;32m~/anaconda3/lib/python3.7/site-packages/pandas/core/indexes/base.py\u001b[0m in \u001b[0;36m__getitem__\u001b[0;34m(self, key)\u001b[0m\n\u001b[1;32m   2082\u001b[0m \u001b[0;34m\u001b[0m\u001b[0m\n\u001b[1;32m   2083\u001b[0m         \u001b[0;32mif\u001b[0m \u001b[0mis_scalar\u001b[0m\u001b[0;34m(\u001b[0m\u001b[0mkey\u001b[0m\u001b[0;34m)\u001b[0m\u001b[0;34m:\u001b[0m\u001b[0;34m\u001b[0m\u001b[0;34m\u001b[0m\u001b[0m\n\u001b[0;32m-> 2084\u001b[0;31m             \u001b[0;32mreturn\u001b[0m \u001b[0mgetitem\u001b[0m\u001b[0;34m(\u001b[0m\u001b[0mkey\u001b[0m\u001b[0;34m)\u001b[0m\u001b[0;34m\u001b[0m\u001b[0;34m\u001b[0m\u001b[0m\n\u001b[0m\u001b[1;32m   2085\u001b[0m \u001b[0;34m\u001b[0m\u001b[0m\n\u001b[1;32m   2086\u001b[0m         \u001b[0;32mif\u001b[0m \u001b[0misinstance\u001b[0m\u001b[0;34m(\u001b[0m\u001b[0mkey\u001b[0m\u001b[0;34m,\u001b[0m \u001b[0mslice\u001b[0m\u001b[0;34m)\u001b[0m\u001b[0;34m:\u001b[0m\u001b[0;34m\u001b[0m\u001b[0;34m\u001b[0m\u001b[0m\n",
      "\u001b[0;31mIndexError\u001b[0m: index 0 is out of bounds for axis 0 with size 0"
     ]
    }
   ],
   "source": [
    "pos_idx = df[(df.sentiment_score == 152)].index[0]\n",
    "neg_idx = df[(df.sentiment_score == -62)].index[0]\n",
    "\n",
    "print('Most negative review:', included_reviews.iloc[neg_idx][['date']][0], included_reviews.iloc[neg_idx][['author']][0])\n",
    "print(included_reviews.iloc[neg_idx][['review_body']][0])\n",
    "print()\n",
    "print('Most positive review:', included_reviews.iloc[pos_idx][['date']][0], included_reviews.iloc[pos_idx][['author']][0])\n",
    "print(included_reviews.iloc[pos_idx][['review_body']][0])"
   ]
  },
  {
   "cell_type": "markdown",
   "metadata": {},
   "source": [
    "### Topic modeling"
   ]
  },
  {
   "cell_type": "code",
   "execution_count": 25,
   "metadata": {},
   "outputs": [
    {
     "data": {
      "text/html": [
       "<script type=\"text/javascript\">window.PlotlyConfig = {MathJaxConfig: 'local'};</script><script type=\"text/javascript\">if (window.MathJax) {MathJax.Hub.Config({SVG: {font: \"STIX-Web\"}});}</script><script>requirejs.config({paths: { 'plotly': ['https://cdn.plot.ly/plotly-latest.min']},});if(!window._Plotly) {require(['plotly'],function(plotly) {window._Plotly=plotly;});}</script>"
      ],
      "text/vnd.plotly.v1+html": [
       "<script type=\"text/javascript\">window.PlotlyConfig = {MathJaxConfig: 'local'};</script><script type=\"text/javascript\">if (window.MathJax) {MathJax.Hub.Config({SVG: {font: \"STIX-Web\"}});}</script><script>requirejs.config({paths: { 'plotly': ['https://cdn.plot.ly/plotly-latest.min']},});if(!window._Plotly) {require(['plotly'],function(plotly) {window._Plotly=plotly;});}</script>"
      ]
     },
     "metadata": {},
     "output_type": "display_data"
    },
    {
     "name": "stdout",
     "output_type": "stream",
     "text": [
      "Requirement already satisfied: en_core_web_lg==2.0.0 from https://github.com/explosion/spacy-models/releases/download/en_core_web_lg-2.0.0/en_core_web_lg-2.0.0.tar.gz#egg=en_core_web_lg==2.0.0 in /home/cynthiaorourke/anaconda3/lib/python3.7/site-packages (2.0.0)\n",
      "\n",
      "\u001b[93m    Linking successful\u001b[0m\n",
      "    /home/cynthiaorourke/anaconda3/lib/python3.7/site-packages/en_core_web_lg\n",
      "    -->\n",
      "    /home/cynthiaorourke/anaconda3/lib/python3.7/site-packages/spacy/data/en_core_web_lg\n",
      "\n",
      "    You can now load the model via spacy.load('en_core_web_lg')\n",
      "\n"
     ]
    }
   ],
   "source": [
    "from tqdm import tqdm\n",
    "import string\n",
    "import matplotlib.pyplot as plt\n",
    "from sklearn.decomposition import NMF, LatentDirichletAllocation, TruncatedSVD\n",
    "from sklearn.feature_extraction.text import CountVectorizer\n",
    "from sklearn.manifold import TSNE\n",
    "import concurrent.futures\n",
    "import time\n",
    "import pyLDAvis.sklearn\n",
    "from pylab import bone, pcolor, colorbar, plot, show, rcParams, savefig\n",
    "import warnings\n",
    "warnings.filterwarnings('ignore')\n",
    "\n",
    "%matplotlib inline\n",
    "import os\n",
    "\n",
    "# Plotly based imports for visualization\n",
    "from plotly import tools\n",
    "import plotly.plotly as py\n",
    "from plotly.offline import init_notebook_mode, iplot\n",
    "init_notebook_mode(connected=True)\n",
    "import plotly.graph_objs as go\n",
    "import plotly.figure_factory as ff\n",
    "\n",
    "# spaCy based imports\n",
    "import spacy\n",
    "from spacy.lang.en.stop_words import STOP_WORDS\n",
    "from spacy.lang.en import English\n",
    "!python -m spacy download en_core_web_lg"
   ]
  },
  {
   "cell_type": "code",
   "execution_count": 26,
   "metadata": {},
   "outputs": [],
   "source": [
    "# Creating a spaCy object\n",
    "nlp = spacy.load('en_core_web_lg')"
   ]
  },
  {
   "cell_type": "code",
   "execution_count": 27,
   "metadata": {},
   "outputs": [
    {
     "data": {
      "text/html": [
       "<div class=\"entities\" style=\"line-height: 2.5\">Great food and great service. The location is wonderful. We tried the cioppino it was so very good.  Will definitely come back here again.</div>"
      ],
      "text/plain": [
       "<IPython.core.display.HTML object>"
      ]
     },
     "metadata": {},
     "output_type": "display_data"
    }
   ],
   "source": [
    "doc = nlp(included_reviews['review_body'][4])\n",
    "spacy.displacy.render(doc, style='ent',jupyter=True)"
   ]
  },
  {
   "cell_type": "code",
   "execution_count": 28,
   "metadata": {},
   "outputs": [],
   "source": [
    "punctuations = string.punctuation\n",
    "stopwords = list(STOP_WORDS)"
   ]
  },
  {
   "cell_type": "code",
   "execution_count": 29,
   "metadata": {},
   "outputs": [],
   "source": [
    "review = str(\" \".join([i.lemma_ for i in doc]))"
   ]
  },
  {
   "cell_type": "code",
   "execution_count": 30,
   "metadata": {},
   "outputs": [
    {
     "data": {
      "text/html": [
       "<div class=\"entities\" style=\"line-height: 2.5\">great food and great service . the location be wonderful . -PRON- try the cioppino -PRON- be so very good . \n",
       "<mark class=\"entity\" style=\"background: #7aecec; padding: 0.45em 0.6em; margin: 0 0.25em; line-height: 1; border-radius: 0.35em; box-decoration-break: clone; -webkit-box-decoration-break: clone\">\n",
       "      \n",
       "    <span style=\"font-size: 0.8em; font-weight: bold; line-height: 1; border-radius: 0.35em; text-transform: uppercase; vertical-align: middle; margin-left: 0.5rem\">ORG</span>\n",
       "</mark>\n",
       "will definitely come back here again .</div>"
      ],
      "text/plain": [
       "<IPython.core.display.HTML object>"
      ]
     },
     "metadata": {},
     "output_type": "display_data"
    }
   ],
   "source": [
    "doc = nlp(review)\n",
    "spacy.displacy.render(doc, style='ent',jupyter=True)\n",
    "#no difference from above if we start with review_cleaned above, as review_cleaned has...\n",
    "#... already been pre-processed "
   ]
  },
  {
   "cell_type": "code",
   "execution_count": 32,
   "metadata": {},
   "outputs": [],
   "source": [
    "# Parser for reviews\n",
    "parser = English()\n",
    "def spacy_tokenizer(sentence):\n",
    "    mytokens = parser(sentence)\n",
    "    mytokens = [ word.lemma_.lower().strip() if word.lemma_ != \"-PRON-\" else word.lower_ for word in mytokens ]\n",
    "    mytokens = [ word for word in mytokens if word not in stopwords and word not in punctuations ]\n",
    "    mytokens = \" \".join([i for i in mytokens])\n",
    "    return mytokens"
   ]
  },
  {
   "cell_type": "code",
   "execution_count": 33,
   "metadata": {},
   "outputs": [
    {
     "name": "stderr",
     "output_type": "stream",
     "text": [
      "100%|██████████| 273/273 [00:00<00:00, 531.36it/s]\n"
     ]
    }
   ],
   "source": [
    "tqdm.pandas()\n",
    "included_reviews['processed_reviews'] = included_reviews['review_body'].progress_apply(spacy_tokenizer)"
   ]
  },
  {
   "cell_type": "code",
   "execution_count": 34,
   "metadata": {},
   "outputs": [],
   "source": [
    "# Creating a vectorizer\n",
    "#now with custom stopwords\n",
    "vectorizer = CountVectorizer(min_df=5, max_df=0.9, stop_words=stopwords, lowercase=True, token_pattern='[a-zA-Z\\-][a-zA-Z\\-]{2,}')\n",
    "data_vectorized = vectorizer.fit_transform(included_reviews['processed_reviews'])"
   ]
  },
  {
   "cell_type": "code",
   "execution_count": 35,
   "metadata": {},
   "outputs": [],
   "source": [
    "# this is an arbitrary number:\n",
    "NUM_TOPICS = 10"
   ]
  },
  {
   "cell_type": "code",
   "execution_count": 36,
   "metadata": {},
   "outputs": [
    {
     "name": "stdout",
     "output_type": "stream",
     "text": [
      "iteration: 1 of max_iter: 10\n",
      "iteration: 2 of max_iter: 10\n",
      "iteration: 3 of max_iter: 10\n",
      "iteration: 4 of max_iter: 10\n",
      "iteration: 5 of max_iter: 10\n",
      "iteration: 6 of max_iter: 10\n",
      "iteration: 7 of max_iter: 10\n",
      "iteration: 8 of max_iter: 10\n",
      "iteration: 9 of max_iter: 10\n",
      "iteration: 10 of max_iter: 10\n"
     ]
    }
   ],
   "source": [
    "# Latent Dirichlet Allocation Model\n",
    "lda = LatentDirichletAllocation(n_components=NUM_TOPICS, max_iter=10, learning_method='online',verbose=True)\n",
    "data_lda = lda.fit_transform(data_vectorized)\n",
    "#should cross-validation have been applied?"
   ]
  },
  {
   "cell_type": "code",
   "execution_count": 37,
   "metadata": {},
   "outputs": [],
   "source": [
    "# Non-Negative Matrix Factorization Model\n",
    "nmf = NMF(n_components=NUM_TOPICS)\n",
    "data_nmf = nmf.fit_transform(data_vectorized) "
   ]
  },
  {
   "cell_type": "code",
   "execution_count": 38,
   "metadata": {},
   "outputs": [],
   "source": [
    "# Latent Semantic Indexing Model using Truncated SVD\n",
    "lsi = TruncatedSVD(n_components=NUM_TOPICS)\n",
    "data_lsi = lsi.fit_transform(data_vectorized)"
   ]
  },
  {
   "cell_type": "code",
   "execution_count": 39,
   "metadata": {},
   "outputs": [],
   "source": [
    "# Functions for printing keywords for each topic\n",
    "def selected_topics(model, vectorizer, top_n=10):\n",
    "    for idx, topic in enumerate(model.components_):\n",
    "        print(\"Topic %d:\" % (idx))\n",
    "        print([(vectorizer.get_feature_names()[i], topic[i])\n",
    "                        for i in topic.argsort()[:-top_n - 1:-1]]) "
   ]
  },
  {
   "cell_type": "code",
   "execution_count": 40,
   "metadata": {
    "scrolled": true
   },
   "outputs": [
    {
     "name": "stdout",
     "output_type": "stream",
     "text": [
      "LDA Model:\n",
      "Topic 0:\n",
      "[('good', 21.54024739726834), ('great', 18.868579231011495), ('pork', 17.667937688413886), ('meal', 17.58798229341556), ('service', 16.962956950701884), ('look', 15.51739190200624), ('salad', 14.016430228500504), ('wine', 12.508622474663587), ('check', 9.991235444751776), ('steak', 9.908184404880942)]\n",
      "Topic 1:\n",
      "[('salad', 31.097732352840765), ('burger', 24.61516095823141), ('lunch', 17.21177418700636), ('delicious', 15.84808772817048), ('good', 15.476083266713228), ('like', 15.272293085872073), ('lamb', 15.01190236788844), ('order', 14.449603878617799), ('cheese', 14.27832876053908), ('veggie', 13.954544816279103)]\n",
      "Topic 2:\n",
      "[('quality', 10.387359468062664), ('great', 8.306557111373943), ('prepare', 7.941162144502909), ('ingredient', 6.84240716112206), ('juice', 6.834202450295102), ('house', 6.685890738368946), ('food', 6.219573379885604), ('good', 4.663918806048522), ('visit', 4.304674844013632), ('sauce', 3.971930713290532)]\n",
      "Topic 3:\n",
      "[('table', 45.96256822910255), ('ask', 41.3540145740822), ('restaurant', 33.63474162881726), ('come', 20.36768397689117), ('want', 19.108658714094584), ('wait', 18.028763320720138), ('time', 17.73841345705393), ('minute', 13.3012479866705), ('hostess', 13.08035658268299), ('return', 11.749358439692303)]\n",
      "Topic 4:\n",
      "[('food', 165.2899308135095), ('calistoga', 144.29827963414832), ('good', 139.80375662571427), ('place', 104.77706728707989), ('service', 103.07214607844716), ('great', 97.11210492796727), ('restaurant', 66.30503307650405), ('nice', 58.24600622967503), ('dinner', 55.97629706687875), ('kitchen', 54.23159708341889)]\n",
      "Topic 5:\n",
      "[('amp', 4.65199169568545), ('kimchi', 3.448172284298339), ('new', 3.3002871794390827), ('location', 2.7038510313182207), ('bacon', 2.5551865748352456), ('burger', 2.5545482546890277), ('stop', 2.3135842219852094), ('love', 2.0597327784076005), ('lack', 1.9628610961401964), ('bland', 1.9341547979660145)]\n",
      "Topic 6:\n",
      "[('yum', 1.4011510096840543), ('great', 0.900061244692018), ('food', 0.8953304326247631), ('service', 0.8410600993272977), ('come', 0.8142167759155097), ('wonderful', 0.8110814407688669), ('atmosphere', 0.7905370409639242), ('recommend', 0.7857387664364659), ('bolognese', 0.7831772009654459), ('yummy', 0.7669427139190901)]\n",
      "Topic 7:\n",
      "[('recommendation', 2.8910590347717804), ('come', 2.491342975638757), ('consider', 1.9549126870511804), ('thank', 1.877191429242609), ('chef', 1.7031785213152841), ('appetizer', 1.6465865195520109), ('salad', 1.5262297531542939), ('taste', 1.4368308850336629), ('amazing', 1.3753210858640328), ('completely', 1.349349736641559)]\n",
      "Topic 8:\n",
      "[('breakfast', 3.954697361499532), ('brunch', 3.1765118966698465), ('burrito', 2.0622624322298484), ('unique', 2.0022167971996674), ('garden', 1.9853599254383287), ('highly', 1.9458475918772615), ('recommend', 1.6167290106443246), ('door', 1.500030968841959), ('hearty', 1.4251709326869924), ('probably', 1.4152695836413551)]\n",
      "Topic 9:\n",
      "[('delicious', 4.904520165167175), ('serve', 4.527179304646581), ('seat', 3.897052401719215), ('table', 3.8565027122934357), ('visit', 3.8057178545423427), ('order', 3.7865148319159894), ('pork', 3.4929709368472963), ('weekend', 3.1816191323000784), ('sunday', 2.9364373814526648), ('place', 2.813075082801285)]\n"
     ]
    }
   ],
   "source": [
    "# Keywords for topics clustered by Latent Dirichlet Allocation\n",
    "print(\"LDA Model:\")\n",
    "selected_topics(lda, vectorizer)"
   ]
  },
  {
   "cell_type": "code",
   "execution_count": 41,
   "metadata": {
    "scrolled": true
   },
   "outputs": [
    {
     "name": "stdout",
     "output_type": "stream",
     "text": [
      "NMF Model:\n",
      "Topic 0:\n",
      "[('good', 4.93170501269609), ('like', 1.0542677527695916), ('little', 0.8478131939393064), ('fresh', 0.7067885346919296), ('delicious', 0.6932997824821783), ('lamb', 0.6418653244638269), ('cake', 0.6101357986049206), ('dish', 0.5625891620083696), ('dessert', 0.5554659712566453), ('flavor', 0.5233714927389642)]\n",
      "Topic 1:\n",
      "[('table', 3.8137574957505205), ('restaurant', 1.149542846511923), ('hostess', 0.8221785288184776), ('time', 0.588340267531055), ('dinner', 0.5549739234998489), ('open', 0.5411494105245515), ('ask', 0.4991661772554882), ('reservation', 0.48020148490687276), ('service', 0.462271680261953), ('leave', 0.3933941831394653)]\n",
      "Topic 2:\n",
      "[('coffee', 1.4544267543001002), ('toast', 0.9832221118662774), ('ask', 0.9524199962455645), ('french', 0.940065060338407), ('egg', 0.9036339198352078), ('order', 0.8374245134366021), ('waitress', 0.830982903769532), ('breakfast', 0.7503458432754931), ('feel', 0.7500349734087716), ('eat', 0.626189603683756)]\n",
      "Topic 3:\n",
      "[('love', 2.4947532709462594), ('food', 1.8452452487952384), ('day', 0.9402801262108501), ('know', 0.6357996586226818), ('want', 0.5172000564985644), ('restaurant', 0.46101142822755975), ('tell', 0.4487742225629666), ('leave', 0.40151967639973624), ('spring', 0.3945300404343884), ('beautiful', 0.38278222316739563)]\n",
      "Topic 4:\n",
      "[('come', 2.4948866287794553), ('wait', 1.5557464663964362), ('food', 1.1931797063050351), ('minute', 1.0758371864710112), ('order', 0.7130100225965678), ('ask', 0.5473131307842573), ('appetizer', 0.4665975397969862), ('offer', 0.4370785578629656), ('eat', 0.43294466148012345), ('waitress', 0.3986097583848854)]\n",
      "Topic 5:\n",
      "[('great', 1.980449734135817), ('food', 1.7572951117932099), ('service', 1.730756507347767), ('brunch', 0.7851071547322498), ('place', 0.7669930056402212), ('excellent', 0.6607265828114303), ('toast', 0.502915545863906), ('sunday', 0.4676288815510486), ('friendly', 0.3504852212047044), ('meal', 0.3475331033314526)]\n",
      "Topic 6:\n",
      "[('pork', 1.6865699997063424), ('chop', 0.9570407891149902), ('sauce', 0.7607120258556546), ('meal', 0.6676403059160714), ('perfect', 0.6226569526281883), ('flavor', 0.6144238904712817), ('steak', 0.5575438232781483), ('brunch', 0.5190008673450559), ('great', 0.5126909266941311), ('dish', 0.491228879912263)]\n",
      "Topic 7:\n",
      "[('salad', 1.8681030055389316), ('duck', 1.1545863833642651), ('server', 0.9649430733334134), ('order', 0.8855450618558941), ('patio', 0.6469760855472003), ('delicious', 0.6324084476792489), ('decide', 0.6019705778813271), ('arugula', 0.5972234863021997), ('wine', 0.561390002835035), ('inside', 0.5584837959594748)]\n",
      "Topic 8:\n",
      "[('new', 1.2172071253202381), ('amp', 1.1750630702322138), ('experience', 1.032513197256904), ('location', 0.9771777490491548), ('burger', 0.9327263795977866), ('place', 0.8221463763757645), ('lack', 0.7054124825805781), ('taste', 0.6824448110169649), ('look', 0.6747500435469868), ('love', 0.6708742315323877)]\n",
      "Topic 9:\n",
      "[('calistoga', 2.631085127323641), ('place', 1.2320181714819876), ('restaurant', 1.1226985041962323), ('menu', 0.9263420590438068), ('kitchen', 0.8096386480101417), ('food', 0.6364408008331088), ('napa', 0.5964542211124492), ('chef', 0.5762328756405588), ('delicious', 0.4912934281109512), ('rick', 0.43443080099198894)]\n"
     ]
    }
   ],
   "source": [
    "# Keywords for topics clustered by Latent Semantic Indexing\n",
    "print(\"NMF Model:\")\n",
    "selected_topics(nmf, vectorizer)"
   ]
  },
  {
   "cell_type": "code",
   "execution_count": 42,
   "metadata": {
    "scrolled": true
   },
   "outputs": [
    {
     "name": "stdout",
     "output_type": "stream",
     "text": [
      "LSI Model:\n",
      "Topic 0:\n",
      "[('food', 0.30442489920068927), ('good', 0.2592635113135372), ('come', 0.2167410015781488), ('calistoga', 0.20426061415936206), ('service', 0.1849178852860311), ('place', 0.18309310850512142), ('restaurant', 0.1793518885611151), ('table', 0.17242351832727038), ('great', 0.15365879581860287), ('time', 0.13571213994355877)]\n",
      "Topic 1:\n",
      "[('table', 0.7881140655090123), ('restaurant', 0.20096458886689464), ('hostess', 0.17232741474606655), ('open', 0.11142042703136071), ('ask', 0.10567942793316126), ('time', 0.0915799773878592), ('dinner', 0.09079149441208388), ('reservation', 0.08938121082688534), ('available', 0.08452813297807073), ('leave', 0.07766538542291636)]\n",
      "Topic 2:\n",
      "[('food', 0.3101632998661754), ('come', 0.22489955558125935), ('ask', 0.20990384254754627), ('coffee', 0.2022502559570986), ('love', 0.18198383766088075), ('waitress', 0.1594026527709431), ('wait', 0.15725420009726257), ('water', 0.1494563165850129), ('day', 0.14617707511800748), ('leave', 0.11803696881691464)]\n",
      "Topic 3:\n",
      "[('love', 0.3882501553564217), ('food', 0.32875880420182096), ('calistoga', 0.23315102492811657), ('restaurant', 0.1884293988248221), ('know', 0.09602762202244639), ('meal', 0.09407758313810356), ('place', 0.09061870276308094), ('chef', 0.08674410922553115), ('kitchen', 0.08585046338598373), ('day', 0.0847993488293074)]\n",
      "Topic 4:\n",
      "[('calistoga', 0.2134888689331307), ('coffee', 0.20813236115354763), ('restaurant', 0.17300593702417402), ('breakfast', 0.1566778497519208), ('toast', 0.1504309894688632), ('feel', 0.1500339566319805), ('french', 0.14649100619498817), ('egg', 0.14307951385288264), ('try', 0.1322633184875259), ('menu', 0.12761821150303393)]\n",
      "Topic 5:\n",
      "[('place', 0.32123970899326504), ('brunch', 0.23806461643350962), ('great', 0.18378593578425212), ('breakfast', 0.17625686207593463), ('amp', 0.14635718490996347), ('calistoga', 0.14047368594148352), ('toast', 0.12180020599889836), ('pork', 0.12094746420688597), ('french', 0.10349589453561632), ('definitely', 0.09623492830810754)]\n",
      "Topic 6:\n",
      "[('salad', 0.30142468669821587), ('pork', 0.2576654601743481), ('love', 0.23514873978303164), ('chop', 0.19377641917021673), ('great', 0.12692756818546158), ('duck', 0.11875294134594733), ('server', 0.10413314495644664), ('perfect', 0.10388983318240749), ('cook', 0.10150609522128583), ('flavor', 0.09998105054547485)]\n",
      "Topic 7:\n",
      "[('calistoga', 0.2282105602829703), ('come', 0.2275718128604015), ('server', 0.22357505886583418), ('place', 0.21866181933146522), ('salad', 0.15666261978240306), ('order', 0.15228976819612983), ('wait', 0.14391877827104385), ('wine', 0.12168344974093141), ('new', 0.11882547629482783), ('chef', 0.11318058546205322)]\n",
      "Topic 8:\n",
      "[('service', 0.22364371433599925), ('great', 0.15882450120651662), ('taste', 0.15781854725354322), ('place', 0.15528651140884464), ('fresh', 0.1361456796421914), ('salad', 0.1332332063932914), ('toast', 0.12462568592274027), ('love', 0.1234349667910912), ('server', 0.12112903691573991), ('excellent', 0.11758655886420162)]\n",
      "Topic 9:\n",
      "[('great', 0.3467752710617208), ('time', 0.17121885912160895), ('menu', 0.16043962367320988), ('new', 0.14433366450401847), ('burger', 0.1405982612634547), ('experience', 0.13915564163551328), ('look', 0.13177957494587106), ('thing', 0.12381796994495531), ('service', 0.11325846604731256), ('meal', 0.10815991791787015)]\n"
     ]
    }
   ],
   "source": [
    "# Keywords for topics clustered by Non-Negative Matrix Factorization\n",
    "print(\"LSI Model:\")\n",
    "selected_topics(lsi, vectorizer)"
   ]
  },
  {
   "cell_type": "code",
   "execution_count": 43,
   "metadata": {
    "scrolled": false
   },
   "outputs": [
    {
     "data": {
      "text/html": [
       "\n",
       "<link rel=\"stylesheet\" type=\"text/css\" href=\"https://cdn.rawgit.com/bmabey/pyLDAvis/files/ldavis.v1.0.0.css\">\n",
       "\n",
       "\n",
       "<div id=\"ldavis_el112971406612220146721632363641\"></div>\n",
       "<script type=\"text/javascript\">\n",
       "\n",
       "var ldavis_el112971406612220146721632363641_data = {\"mdsDat\": {\"x\": [227.1361083984375, -300.46661376953125, -62.760135650634766, 51.640743255615234, -126.19721984863281, 67.81594848632812, 284.4331970214844, 195.43455505371094, -286.2009582519531, -96.87157440185547], \"y\": [255.5182647705078, -126.33011627197266, 294.4040222167969, -108.54473876953125, 12.377857208251953, 106.00927734375, -14.518091201782227, -273.1069641113281, 166.58444213867188, -281.6796569824219], \"topics\": [1, 2, 3, 4, 5, 6, 7, 8, 9, 10], \"cluster\": [1, 1, 1, 1, 1, 1, 1, 1, 1, 1], \"Freq\": [60.59905554409993, 11.211327481995621, 11.051832501310994, 6.487974311920549, 3.1826457223444162, 2.9124381428357613, 1.6583888247341128, 1.2167460079282573, 1.1347639053780552, 0.5448275574522882]}, \"tinfo\": {\"Category\": [\"Default\", \"Default\", \"Default\", \"Default\", \"Default\", \"Default\", \"Default\", \"Default\", \"Default\", \"Default\", \"Default\", \"Default\", \"Default\", \"Default\", \"Default\", \"Default\", \"Default\", \"Default\", \"Default\", \"Default\", \"Default\", \"Default\", \"Default\", \"Default\", \"Default\", \"Default\", \"Default\", \"Default\", \"Default\", \"Default\", \"Topic1\", \"Topic1\", \"Topic1\", \"Topic1\", \"Topic1\", \"Topic1\", \"Topic1\", \"Topic1\", \"Topic1\", \"Topic1\", \"Topic1\", \"Topic1\", \"Topic1\", \"Topic1\", \"Topic1\", \"Topic1\", \"Topic1\", \"Topic1\", \"Topic1\", \"Topic1\", \"Topic1\", \"Topic1\", \"Topic1\", \"Topic1\", \"Topic1\", \"Topic1\", \"Topic1\", \"Topic1\", \"Topic1\", \"Topic1\", \"Topic1\", \"Topic1\", \"Topic1\", \"Topic1\", \"Topic1\", \"Topic1\", \"Topic1\", \"Topic1\", \"Topic1\", \"Topic1\", \"Topic1\", \"Topic1\", \"Topic1\", \"Topic1\", \"Topic1\", \"Topic1\", \"Topic1\", \"Topic1\", \"Topic1\", \"Topic1\", \"Topic1\", \"Topic1\", \"Topic1\", \"Topic2\", \"Topic2\", \"Topic2\", \"Topic2\", \"Topic2\", \"Topic2\", \"Topic2\", \"Topic2\", \"Topic2\", \"Topic2\", \"Topic2\", \"Topic2\", \"Topic2\", \"Topic2\", \"Topic2\", \"Topic2\", \"Topic2\", \"Topic2\", \"Topic2\", \"Topic2\", \"Topic2\", \"Topic2\", \"Topic2\", \"Topic2\", \"Topic2\", \"Topic2\", \"Topic2\", \"Topic2\", \"Topic2\", \"Topic2\", \"Topic2\", \"Topic2\", \"Topic2\", \"Topic2\", \"Topic2\", \"Topic2\", \"Topic2\", \"Topic2\", \"Topic2\", \"Topic2\", \"Topic2\", \"Topic2\", \"Topic2\", \"Topic2\", \"Topic2\", \"Topic2\", \"Topic2\", \"Topic2\", \"Topic2\", \"Topic2\", \"Topic3\", \"Topic3\", \"Topic3\", \"Topic3\", \"Topic3\", \"Topic3\", \"Topic3\", \"Topic3\", \"Topic3\", \"Topic3\", \"Topic3\", \"Topic3\", \"Topic3\", \"Topic3\", \"Topic3\", \"Topic3\", \"Topic3\", \"Topic3\", \"Topic3\", \"Topic3\", \"Topic3\", \"Topic3\", \"Topic3\", \"Topic3\", \"Topic3\", \"Topic3\", \"Topic3\", \"Topic3\", \"Topic3\", \"Topic3\", \"Topic3\", \"Topic3\", \"Topic3\", \"Topic3\", \"Topic3\", \"Topic3\", \"Topic3\", \"Topic3\", \"Topic3\", \"Topic3\", \"Topic3\", \"Topic3\", \"Topic3\", \"Topic3\", \"Topic3\", \"Topic3\", \"Topic3\", \"Topic3\", \"Topic3\", \"Topic4\", \"Topic4\", \"Topic4\", \"Topic4\", \"Topic4\", \"Topic4\", \"Topic4\", \"Topic4\", \"Topic4\", \"Topic4\", \"Topic4\", \"Topic4\", \"Topic4\", \"Topic4\", \"Topic4\", \"Topic4\", \"Topic4\", \"Topic4\", \"Topic4\", \"Topic4\", \"Topic4\", \"Topic4\", \"Topic4\", \"Topic4\", \"Topic4\", \"Topic4\", \"Topic4\", \"Topic4\", \"Topic4\", \"Topic4\", \"Topic4\", \"Topic4\", \"Topic4\", \"Topic4\", \"Topic4\", \"Topic4\", \"Topic4\", \"Topic4\", \"Topic4\", \"Topic4\", \"Topic4\", \"Topic4\", \"Topic4\", \"Topic4\", \"Topic5\", \"Topic5\", \"Topic5\", \"Topic5\", \"Topic5\", \"Topic5\", \"Topic5\", \"Topic5\", \"Topic5\", \"Topic5\", \"Topic5\", \"Topic5\", \"Topic5\", \"Topic5\", \"Topic5\", \"Topic5\", \"Topic5\", \"Topic5\", \"Topic5\", \"Topic5\", \"Topic5\", \"Topic5\", \"Topic5\", \"Topic5\", \"Topic5\", \"Topic5\", \"Topic5\", \"Topic5\", \"Topic5\", \"Topic5\", \"Topic5\", \"Topic5\", \"Topic5\", \"Topic5\", \"Topic5\", \"Topic5\", \"Topic5\", \"Topic5\", \"Topic5\", \"Topic5\", \"Topic5\", \"Topic5\", \"Topic5\", \"Topic5\", \"Topic5\", \"Topic5\", \"Topic6\", \"Topic6\", \"Topic6\", \"Topic6\", \"Topic6\", \"Topic6\", \"Topic6\", \"Topic6\", \"Topic6\", \"Topic6\", \"Topic6\", \"Topic6\", \"Topic6\", \"Topic6\", \"Topic6\", \"Topic6\", \"Topic6\", \"Topic6\", \"Topic6\", \"Topic6\", \"Topic6\", \"Topic6\", \"Topic6\", \"Topic6\", \"Topic6\", \"Topic6\", \"Topic6\", \"Topic6\", \"Topic6\", \"Topic6\", \"Topic6\", \"Topic6\", \"Topic6\", \"Topic6\", \"Topic6\", \"Topic6\", \"Topic6\", \"Topic6\", \"Topic6\", \"Topic6\", \"Topic6\", \"Topic6\", \"Topic6\", \"Topic6\", \"Topic6\", \"Topic6\", \"Topic6\", \"Topic6\", \"Topic6\", \"Topic6\", \"Topic6\", \"Topic6\", \"Topic7\", \"Topic7\", \"Topic7\", \"Topic7\", \"Topic7\", \"Topic7\", \"Topic7\", \"Topic7\", \"Topic7\", \"Topic7\", \"Topic7\", \"Topic7\", \"Topic7\", \"Topic7\", \"Topic7\", \"Topic7\", \"Topic7\", \"Topic7\", \"Topic7\", \"Topic7\", \"Topic7\", \"Topic7\", \"Topic7\", \"Topic7\", \"Topic7\", \"Topic7\", \"Topic7\", \"Topic7\", \"Topic7\", \"Topic7\", \"Topic7\", \"Topic7\", \"Topic7\", \"Topic7\", \"Topic7\", \"Topic7\", \"Topic7\", \"Topic7\", \"Topic7\", \"Topic7\", \"Topic7\", \"Topic7\", \"Topic7\", \"Topic7\", \"Topic7\", \"Topic7\", \"Topic8\", \"Topic8\", \"Topic8\", \"Topic8\", \"Topic8\", \"Topic8\", \"Topic8\", \"Topic8\", \"Topic8\", \"Topic8\", \"Topic8\", \"Topic8\", \"Topic8\", \"Topic8\", \"Topic8\", \"Topic8\", \"Topic8\", \"Topic8\", \"Topic8\", \"Topic8\", \"Topic8\", \"Topic8\", \"Topic8\", \"Topic8\", \"Topic8\", \"Topic8\", \"Topic8\", \"Topic8\", \"Topic8\", \"Topic8\", \"Topic8\", \"Topic8\", \"Topic8\", \"Topic8\", \"Topic8\", \"Topic8\", \"Topic8\", \"Topic8\", \"Topic8\", \"Topic8\", \"Topic8\", \"Topic8\", \"Topic8\", \"Topic9\", \"Topic9\", \"Topic9\", \"Topic9\", \"Topic9\", \"Topic9\", \"Topic9\", \"Topic9\", \"Topic9\", \"Topic9\", \"Topic9\", \"Topic9\", \"Topic9\", \"Topic9\", \"Topic9\", \"Topic9\", \"Topic9\", \"Topic9\", \"Topic9\", \"Topic9\", \"Topic9\", \"Topic9\", \"Topic9\", \"Topic9\", \"Topic9\", \"Topic9\", \"Topic9\", \"Topic9\", \"Topic9\", \"Topic9\", \"Topic9\", \"Topic9\", \"Topic9\", \"Topic9\", \"Topic9\", \"Topic9\", \"Topic9\", \"Topic9\", \"Topic9\", \"Topic9\", \"Topic9\", \"Topic9\", \"Topic9\", \"Topic9\", \"Topic9\", \"Topic9\", \"Topic10\", \"Topic10\", \"Topic10\", \"Topic10\", \"Topic10\", \"Topic10\", \"Topic10\", \"Topic10\", \"Topic10\", \"Topic10\", \"Topic10\", \"Topic10\", \"Topic10\", \"Topic10\", \"Topic10\", \"Topic10\", \"Topic10\", \"Topic10\", \"Topic10\", \"Topic10\", \"Topic10\", \"Topic10\", \"Topic10\", \"Topic10\", \"Topic10\", \"Topic10\", \"Topic10\", \"Topic10\", \"Topic10\", \"Topic10\", \"Topic10\", \"Topic10\", \"Topic10\", \"Topic10\", \"Topic10\", \"Topic10\", \"Topic10\", \"Topic10\", \"Topic10\", \"Topic10\", \"Topic10\", \"Topic10\", \"Topic10\", \"Topic10\", \"Topic10\", \"Topic10\", \"Topic10\"], \"Freq\": [130.0, 179.0, 54.0, 132.0, 89.0, 182.0, 60.0, 107.0, 55.0, 45.0, 73.0, 66.0, 50.0, 63.0, 155.0, 23.0, 52.0, 30.0, 31.0, 36.0, 24.0, 22.0, 35.0, 48.0, 53.0, 62.0, 117.0, 46.0, 44.0, 32.0, 40.480927706802326, 23.447281663137208, 31.879900605822876, 27.039931605902556, 51.644095655393606, 34.01427922815076, 18.102553151529733, 28.010619903886543, 16.206065074082783, 13.927743558355585, 26.07425876666686, 23.656170834703047, 17.194390923056073, 13.169773742403917, 13.378904512803144, 26.81182713784495, 18.218200681531112, 11.663921010159445, 43.660055865509, 10.457790983632824, 47.84509318682473, 45.65511039180809, 29.917658038458324, 39.51471477298742, 23.637881840102143, 9.944502198078272, 9.93886721638609, 14.331958864215455, 137.41351088871323, 33.86048037316851, 157.40360706463875, 99.77793715243533, 53.305552401673225, 55.46696905575168, 40.53293249399716, 46.7276422450988, 37.229102524160574, 133.1334308494716, 98.15436125353455, 28.76539208463401, 49.51346624935612, 92.47868596755674, 32.945729507965666, 37.09693706903728, 38.20376182056034, 63.14148309830926, 46.668454745626136, 51.62756003485997, 34.64504646477159, 38.02621910639188, 38.49758570813107, 34.006230831911836, 33.76729850165791, 10.46038211253732, 14.944974086514092, 10.152703067566435, 52.51457686122785, 7.55740694035146, 47.249069417663826, 11.062878908196216, 4.512213515753359, 6.603251851462078, 10.784042891107353, 15.197353774151775, 4.069480784251254, 3.999661721045134, 4.040797021363685, 3.988774057271628, 4.497185569897137, 3.700513739789234, 4.545409965768062, 11.179382070173032, 6.6011450652073735, 5.023555278399474, 4.48874039119033, 3.7071291476271515, 4.349737487276257, 5.905989093157499, 3.4358835235520773, 9.255388044546843, 3.3083320947319095, 9.644590572186694, 2.5724470437515032, 6.789971678445629, 13.424240868695799, 21.832616527309423, 12.53270822044918, 20.598780999347333, 38.429406635194724, 7.8903552136327875, 20.267041481308574, 9.431035528475258, 23.271117061130653, 7.622953726591694, 6.650171467735048, 9.099229172824755, 8.443615160594106, 7.58588110190239, 12.215937280570254, 9.738365948798087, 8.385313104551884, 8.191136782039381, 8.830477031445609, 11.501957659288832, 14.63331238513041, 7.769902372834254, 25.81247503622349, 7.965526335335658, 13.5767390199916, 7.1263600297583, 7.123471290880102, 4.573842152637309, 10.603063132979326, 7.648248456354637, 8.960718421070345, 3.2925761271622505, 4.120551645975417, 4.993922263985587, 7.260635620595402, 4.265658486689419, 18.04897771276401, 15.742101210504782, 3.5478241127256216, 4.529035016791312, 3.245846146418137, 11.830159322371378, 32.61036730180034, 9.30719132266472, 2.184829677444583, 2.0404866526379815, 3.2584537262633466, 4.083981469952813, 7.5142534394371125, 11.110132627346209, 8.521389853336219, 9.217374022466721, 14.972845609898776, 15.152451776896221, 16.0151576783874, 16.61895973580798, 6.8453170029053965, 11.639922121809938, 9.91969354718351, 11.49635511289295, 8.605385451838245, 9.754062424954443, 16.22886048392728, 8.620159670267523, 9.872758451270386, 7.985070434352539, 8.917289520624053, 7.865482886700251, 8.331632277718004, 7.193047162748114, 6.732084781247261, 7.902711234609492, 2.2905125079955515, 6.698030394862143, 8.724460494208861, 15.427844257006228, 6.6095082338682465, 2.33285078221656, 2.9574249979238347, 1.7908239838207602, 5.482994833649376, 2.2428396873861094, 8.076118069642781, 5.718480989754524, 13.549963202330817, 2.0845455317091424, 3.1065876145330775, 1.4120143682615782, 3.2647864826888835, 8.651939381042954, 4.8375988508609185, 5.6247962465199315, 1.873806189663388, 1.7247464242000667, 6.771544771181032, 1.555036483137989, 5.256410254657928, 6.2997883565172526, 15.358026296172548, 10.922671497497355, 6.036237065055664, 12.239306387542106, 5.6564334015141675, 16.476258115734893, 18.809189163054675, 7.0136331331849355, 14.812247053901844, 5.1755636281343245, 5.804096964087154, 7.291591905171239, 5.657860396969308, 5.40997108042449, 8.25394086500788, 10.796486614030192, 3.8481220532912404, 7.103381326028668, 2.6163292905968905, 1.9735850517193028, 1.4644841772376616, 2.643917099336353, 1.4492989517768715, 7.111909195973634, 1.5789054580387243, 2.5007732173509964, 6.949228057583699, 1.4367748352211112, 1.3805248675151955, 1.4482850258514572, 2.7722391728904836, 1.9663291691468137, 3.928976816392944, 1.3609499389577386, 1.3126789154776184, 3.651284205027553, 1.081574098991275, 2.4629184523469063, 1.79219114467659, 1.7700815035092619, 1.2789222026485976, 4.47422316268542, 0.7942582887510631, 0.9409645971579003, 4.128373231883026, 1.5398689099037595, 2.815492339992312, 8.633727651128693, 3.6944479527176965, 3.467002660727227, 6.464543847488262, 4.847616674213163, 2.2840836918927896, 2.3161655183930567, 2.6002132537749527, 2.296344450637944, 1.9776019583958786, 2.1655494767920236, 2.0285180586808274, 2.1151364921266613, 2.7814514397711996, 2.413131277414588, 1.5606753150562953, 1.595657995678522, 1.3498141824478318, 2.115910152738012, 1.6454812815353697, 2.008561600075913, 1.6800960050860807, 1.4072754853919245, 1.604998411835291, 1.899947310547633, 0.8440239782184809, 0.8893769896173308, 1.107429585796904, 4.1912907678178195, 0.7768694667710021, 0.8286226590323782, 1.476844336800251, 0.8360794366196707, 0.9941487528455983, 0.8428724074466237, 3.50396203964665, 3.2339399181860062, 1.0787618621091415, 0.8560328758746185, 1.505942190171792, 2.980071370210063, 0.7196292835723783, 2.2697104063091333, 4.985846441867383, 4.291878793256527, 3.8468581748356057, 1.6286959689107752, 5.4014172554348505, 4.170142208065297, 2.919618382916539, 4.247220848179149, 2.121736597459625, 1.9766150631000763, 2.298436952622196, 2.9042255020588383, 2.9453342223112586, 3.098079278171091, 1.917646365062808, 1.8706142232795882, 2.160460208893217, 2.169615166774842, 2.118442305188951, 1.8469847594398572, 1.8007099158107542, 1.8819970534156512, 3.5757196148082953, 2.8038660400553512, 1.512653429002338, 2.0354670080067705, 2.6497025095694733, 1.443708354875424, 4.824068109918303, 1.3936968580834166, 3.4223642640356093, 2.005698868544201, 0.7941486523038559, 0.6380732251444527, 2.3991633250851043, 0.6151390958849945, 1.2412649836756107, 0.7881474333124664, 0.7052650256232329, 1.267298503783842, 0.7929676198450172, 0.7495024454283876, 0.7763360892776964, 0.7773585930794986, 0.7039745086833655, 0.6754979794123432, 0.666771192900234, 0.6997229309876825, 1.1737323637434325, 0.7430893281216489, 0.735130094482424, 0.6016994656203641, 1.3898404350409226, 1.9408978183040735, 2.6490405780651356, 1.3407694561664953, 1.594880807127769, 1.4980910411692625, 1.4551590763673303, 2.1359219580045834, 1.0837620577761007, 1.1811479875032558, 1.2479694454452397, 1.0534944495470668, 1.69092297887294, 1.1674904087510307, 0.8470467160774634, 0.8025430708568215, 1.845928760107796, 1.8616017793880828, 1.1755819832611136, 1.9174304294988058, 1.325081653461777, 1.136810072630829, 1.809191364553061, 0.7094381000891888, 1.3096440090980095, 0.669691365560142, 0.5911290363384406, 0.9269526626948421, 0.6637145573099359, 0.43411835976471647, 1.3946842942477562, 0.5951090648572711, 1.3158756728569392, 0.7057789621602327, 0.46175990176090537, 0.7149783338141661, 0.44933273405288304, 0.7120353290110775, 0.7122691797249806, 0.7430488481139924, 0.7104429991765526, 0.8349580940411762, 3.6769602849229903, 2.953426525718182, 0.3807357309170781, 0.7380991708618073, 1.5031866714999256, 1.1260125128211196, 1.2426546382025214, 0.9041237395599515, 0.7099511463735865, 0.7102080861036562, 0.7228002542255877, 0.7537726545405595, 0.8400662676319446, 0.8100485096965584, 0.7276446230594783, 0.7193168692432854, 0.7108566858848374, 2.4245925660822247, 1.6394915189749084, 1.5743104273255302, 1.1316349134200203, 0.6552132111635889, 0.685970521768721, 1.1534158385061477, 0.6371016094912588, 0.6375750959287656, 0.6850310173401692, 0.5819857486473164, 0.6458629329239104, 0.5478987478620121, 0.5800835266780937, 1.1137681702172102, 0.6458197427775733, 0.5857633459413357, 0.5366956313844503, 0.6417704402879717, 0.627209857630216, 0.5276600632527637, 0.419431779908973, 0.5799268227437562, 1.3809131486767305, 0.6159610942423018, 0.44325227404760176, 0.5354562746312842, 0.826381898649942, 1.1306925422139678, 0.6476642582679462, 0.6841284086036928, 1.4283741465756463, 2.0893698764514275, 1.205001157247198, 0.8799913553134465, 0.8860597286689649, 1.2799757006426973, 0.6849499901457379, 0.8298951103994249, 0.6810925537431803, 0.7859733541476104, 0.7188215819449141, 0.8745148927019563, 0.7691901874663271, 0.7312738003634747, 0.7011212362863708, 0.4680494311159977, 0.8857885767113927, 0.3537506475628667, 0.3040148340894847, 0.4817305300238075, 0.4831704100112358, 0.4841633902558882, 0.48485073363701897, 0.49511395514208256, 0.4715269243770622, 0.48469764377222435, 0.13626066691868455, 0.49976674570642426, 0.4676065362720928, 0.49673334192983476, 0.5127546353320496, 0.07986257221864405, 0.08203124034686445, 0.07908852728415884, 0.07962329057707786, 0.0815515428463528, 0.08164082374794182, 0.07819678979770271, 0.07974252271387629, 0.08190133803279276, 0.0788505194913549, 0.07846164562131534, 0.0761777528975041, 0.07710476472966273, 0.07779014192251886, 0.20808655888806438, 0.1271958524647006, 0.5147367514907384, 0.5690064549634819, 0.5317067347936038, 0.5660157000350123, 0.08635577398081941, 0.12266169174189363, 0.1815119010141144, 0.12584044654341497, 0.15524088002720327, 0.10622747661850898, 0.11299269833812411, 0.08850188104914707, 0.11034954694071826, 0.10537685832326982, 0.10586887776194213], \"Term\": [\"great\", \"food\", \"breakfast\", \"service\", \"come\", \"good\", \"table\", \"restaurant\", \"ask\", \"brunch\", \"delicious\", \"salad\", \"love\", \"meal\", \"calistoga\", \"amp\", \"order\", \"burger\", \"pork\", \"serve\", \"recommend\", \"ingredient\", \"chef\", \"wine\", \"try\", \"dinner\", \"place\", \"fresh\", \"day\", \"taste\", \"omelet\", \"coffee\", \"share\", \"flavor\", \"kitchen\", \"bite\", \"big\", \"outside\", \"hash\", \"reasonable\", \"rick\", \"potato\", \"year\", \"fan\", \"absolutely\", \"tasty\", \"cream\", \"set\", \"bread\", \"outstanding\", \"try\", \"love\", \"dish\", \"day\", \"night\", \"rancheros\", \"huevos\", \"mix\", \"calistoga\", \"enjoy\", \"food\", \"place\", \"dinner\", \"nice\", \"fresh\", \"breakfast\", \"think\", \"good\", \"service\", \"feel\", \"little\", \"great\", \"napa\", \"excellent\", \"eat\", \"restaurant\", \"delicious\", \"come\", \"brunch\", \"menu\", \"meal\", \"friendly\", \"wine\", \"rude\", \"hostess\", \"book\", \"table\", \"available\", \"ask\", \"door\", \"problem\", \"busy\", \"open\", \"minute\", \"understand\", \"quick\", \"note\", \"attitude\", \"live\", \"receive\", \"bar\", \"leave\", \"arrive\", \"use\", \"offer\", \"point\", \"customer\", \"oil\", \"guest\", \"walk\", \"hour\", \"party\", \"half\", \"finish\", \"return\", \"want\", \"owner\", \"wait\", \"restaurant\", \"date\", \"time\", \"waitress\", \"come\", \"bill\", \"partner\", \"reservation\", \"long\", \"bring\", \"service\", \"calistoga\", \"like\", \"menu\", \"good\", \"bun\", \"veggie\", \"arugula\", \"burger\", \"today\", \"tomato\", \"base\", \"hear\", \"dress\", \"green\", \"goat\", \"slice\", \"juicy\", \"old\", \"blt\", \"healthy\", \"short\", \"lunch\", \"lamb\", \"heirloom\", \"breast\", \"add\", \"house\", \"salad\", \"choice\", \"cherry\", \"zazie\", \"course\", \"grill\", \"juice\", \"small\", \"happy\", \"sauce\", \"cheese\", \"order\", \"like\", \"delicious\", \"friend\", \"friendly\", \"staff\", \"time\", \"taste\", \"duck\", \"good\", \"local\", \"great\", \"special\", \"place\", \"toast\", \"selection\", \"sorry\", \"pur\", \"fish\", \"nearly\", \"bad\", \"check\", \"pork\", \"group\", \"forget\", \"stew\", \"tiki\", \"yummy\", \"balance\", \"star\", \"sweet\", \"look\", \"spice\", \"incredible\", \"excite\", \"yum\", \"steak\", \"crisp\", \"bone\", \"ambience\", \"country\", \"lamb\", \"trip\", \"large\", \"chop\", \"meal\", \"wine\", \"return\", \"salad\", \"right\", \"great\", \"good\", \"serve\", \"service\", \"light\", \"special\", \"like\", \"toast\", \"dessert\", \"prepare\", \"quality\", \"forward\", \"juice\", \"ambience\", \"squash\", \"tiki\", \"cozy\", \"actually\", \"ingredient\", \"completely\", \"hot\", \"house\", \"comfortable\", \"tonight\", \"ricotta\", \"yum\", \"follow\", \"risotto\", \"walnut\", \"surprise\", \"thing\", \"garden\", \"perfection\", \"blow\", \"helpful\", \"chat\", \"visit\", \"loved\", \"mess\", \"sauce\", \"smoke\", \"chicken\", \"great\", \"staff\", \"look\", \"food\", \"good\", \"amaze\", \"chef\", \"meal\", \"enjoy\", \"return\", \"dinner\", \"menu\", \"calistoga\", \"cool\", \"extremely\", \"warn\", \"unique\", \"ready\", \"helpful\", \"stew\", \"burrito\", \"short\", \"polenta\", \"room\", \"quaint\", \"spicy\", \"knowledgeable\", \"receive\", \"visit\", \"vibe\", \"pretentious\", \"girl\", \"wild\", \"fact\", \"ricotta\", \"weekend\", \"sunday\", \"wrong\", \"meet\", \"item\", \"lovina\", \"professional\", \"bolognese\", \"serve\", \"seat\", \"pork\", \"warm\", \"delicious\", \"order\", \"special\", \"table\", \"definitely\", \"disappoint\", \"chop\", \"fresh\", \"meal\", \"place\", \"waitress\", \"house\", \"dinner\", \"nice\", \"restaurant\", \"reservation\", \"sauce\", \"menu\", \"kimchi\", \"location\", \"homemade\", \"lack\", \"bacon\", \"high\", \"amp\", \"avocado\", \"new\", \"bland\", \"ricotta\", \"vibe\", \"stop\", \"excite\", \"wish\", \"fine\", \"squash\", \"item\", \"cut\", \"heirloom\", \"point\", \"old\", \"spice\", \"hit\", \"fact\", \"instead\", \"end\", \"customer\", \"thick\", \"satisfy\", \"thing\", \"way\", \"burger\", \"tomato\", \"right\", \"husband\", \"house\", \"love\", \"probably\", \"area\", \"price\", \"server\", \"service\", \"experience\", \"veggie\", \"know\", \"garden\", \"unique\", \"park\", \"burrito\", \"hearty\", \"family\", \"highly\", \"nearly\", \"cozy\", \"soon\", \"style\", \"amazing\", \"corner\", \"music\", \"door\", \"trip\", \"probably\", \"room\", \"yelp\", \"helpful\", \"decor\", \"avocado\", \"hot\", \"efficient\", \"delightful\", \"fabulous\", \"breakfast\", \"brunch\", \"stay\", \"interest\", \"recommend\", \"outdoor\", \"right\", \"dine\", \"bacon\", \"super\", \"attentive\", \"server\", \"delicious\", \"try\", \"sauce\", \"sandwich\", \"perfect\", \"recommendation\", \"consider\", \"thank\", \"completely\", \"loved\", \"wild\", \"amazing\", \"pretentious\", \"homemade\", \"went\", \"spicy\", \"ricotta\", \"zazie\", \"tonight\", \"incredible\", \"meet\", \"professional\", \"strip\", \"heirloom\", \"add\", \"hand\", \"head\", \"guest\", \"appetizer\", \"live\", \"include\", \"pudding\", \"waiter\", \"quality\", \"blt\", \"perfection\", \"chef\", \"come\", \"taste\", \"lovina\", \"minute\", \"salad\", \"cake\", \"right\", \"chocolate\", \"steak\", \"mix\", \"calistoga\", \"day\", \"burger\", \"town\", \"vibe\", \"yum\", \"professional\", \"white\", \"goat\", \"ambiance\", \"beef\", \"yummy\", \"bolognese\", \"bean\", \"chicken\", \"surprise\", \"atmosphere\", \"salmon\", \"recommend\", \"wonderful\", \"nearly\", \"tiki\", \"loved\", \"excite\", \"zazie\", \"decent\", \"spicy\", \"appreciate\", \"knowledgeable\", \"head\", \"park\", \"music\", \"veggies\", \"soon\", \"warm\", \"blow\", \"come\", \"great\", \"service\", \"food\", \"write\", \"thing\", \"excellent\", \"stop\", \"local\", \"away\", \"fantastic\", \"wrong\", \"staff\", \"lunch\", \"good\"], \"Total\": [130.0, 179.0, 54.0, 132.0, 89.0, 182.0, 60.0, 107.0, 55.0, 45.0, 73.0, 66.0, 50.0, 63.0, 155.0, 23.0, 52.0, 30.0, 31.0, 36.0, 24.0, 22.0, 35.0, 48.0, 53.0, 62.0, 117.0, 46.0, 44.0, 32.0, 41.662272604711546, 24.671684358833446, 33.885988265574156, 28.864884599523855, 55.20520432117992, 36.450214322808954, 19.465320912435978, 30.20334842633991, 17.48736989090547, 15.102286976881718, 28.326712253803255, 25.739166803633143, 18.763395057079805, 14.394429265533539, 14.667893914984866, 29.40992852218833, 20.047464511475958, 12.849143773130976, 48.13451666537466, 11.54808101504788, 53.23645819229857, 50.844986975966364, 33.338998722852445, 44.13372494883056, 26.458842941602953, 11.131846859085986, 11.142893591901313, 16.13434658446742, 155.36910628759253, 38.304002898237464, 179.2986703086843, 117.99647831164113, 62.140884795584675, 64.76791566219441, 46.94991508892767, 54.57251165416193, 43.70419878105308, 182.86956005419367, 132.60844789549995, 33.661580383557116, 62.46976733045457, 130.6575630191266, 39.60420225034562, 47.90965769068912, 50.41463929893623, 107.06577642570566, 73.4681318790303, 89.01465822344738, 45.49416608603107, 56.40318220138514, 63.37169714014161, 49.95886270043512, 48.71111804756415, 11.536404747469604, 16.699378634946953, 11.389387576397077, 60.08719602874498, 8.872793287278949, 55.801449234763936, 13.86266285274633, 5.730170417848833, 8.656370130467986, 14.44436178264718, 20.55162858765489, 5.639303718458505, 5.553000061586079, 5.754449812356012, 5.731841264001501, 6.92585427539708, 5.767577327806561, 7.107266183542998, 18.07902616928971, 10.675517536517049, 8.431921573366184, 7.609651382350119, 6.329803778252259, 7.726877423148785, 10.586234321730569, 6.214370401322773, 16.863471038817956, 6.128960416679993, 17.88585455739066, 4.775879292678638, 12.804012404775333, 25.6959230424329, 44.54137274033033, 25.259914073046286, 45.09874301569468, 107.06577642570566, 16.295181017023967, 62.38030055083933, 21.614607774266375, 89.01465822344738, 18.741245635294707, 15.884841110551244, 31.869507239981907, 29.3895570269659, 25.46935704817592, 132.60844789549995, 155.36910628759253, 63.55044228701272, 56.40318220138514, 182.86956005419367, 12.61112412490104, 16.520932312490356, 8.88667103244377, 30.880064662301642, 9.89503681541724, 17.468171753935145, 9.815709991913586, 10.283132401844622, 6.6289427869515425, 15.554495582880074, 11.54860311289063, 13.620452429329038, 5.201535355889855, 6.536608986811988, 7.970855800726547, 11.715407777193937, 6.90660605786201, 29.436300602491293, 25.7771173734319, 5.901474053399238, 8.08810910837995, 5.836153287505834, 22.91823881029088, 66.24738519385575, 19.053618035194486, 4.661785048237109, 4.365320085125688, 7.0539396667823695, 8.89578702919816, 16.43523805003669, 26.133743476937482, 20.80464007433259, 22.921228378167495, 43.51687247162011, 52.80979274542014, 63.55044228701272, 73.4681318790303, 17.341968231266517, 49.95886270043512, 40.55200129305066, 62.38030055083933, 32.83071399470661, 45.97236004439664, 182.86956005419367, 41.009111223682986, 130.6575630191266, 32.25174708046213, 117.99647831164113, 36.13937808582926, 9.664326428923601, 8.369147528517585, 8.477189618565736, 12.872205251498348, 4.093457066130151, 12.390250303436535, 17.561422969944978, 31.522073069494983, 13.53308209296046, 5.069672581022681, 6.44636680113163, 4.230444795975917, 12.962623186353865, 5.532967325219275, 20.43655337991592, 14.82805094686125, 38.76091494038532, 6.019808690804227, 9.193690037969285, 4.2135266330813, 9.891093838057001, 27.25069238074994, 15.947764782372742, 18.604929019217618, 6.480002945949407, 6.341506649880928, 25.7771173734319, 6.025891702751084, 20.516477974395098, 25.377363063322093, 63.37169714014161, 48.71111804756415, 25.6959230424329, 66.24738519385575, 25.425820601083977, 130.6575630191266, 182.86956005419367, 36.31537175726526, 132.60844789549995, 22.55572793586066, 32.25174708046213, 63.55044228701272, 36.13937808582926, 32.70791457735452, 10.467117867738786, 13.694146252467752, 5.812953196105933, 16.43523805003669, 6.480002945949407, 5.296701957656091, 4.230444795975917, 7.7944307489048175, 4.501840914573818, 22.879447693198017, 5.167925292799303, 8.186878152985043, 22.91823881029088, 4.759375794864632, 4.690309479006813, 4.999963742027409, 9.891093838057001, 7.026193894426298, 14.888666123865743, 5.180519097305426, 5.0579155965691545, 14.800815889743191, 4.426093582089166, 10.230542768897626, 7.519343994829559, 7.942680627326531, 5.76745126748496, 22.07704457858045, 4.171863080990674, 4.994066328156756, 22.921228378167495, 8.46983623927039, 17.675418255143178, 130.6575630191266, 40.55200129305066, 38.76091494038532, 179.2986703086843, 182.86956005419367, 28.1369419189366, 35.55377362860082, 63.37169714014161, 38.304002898237464, 25.6959230424329, 62.140884795584675, 56.40318220138514, 155.36910628759253, 6.205218165461743, 5.927110102780172, 4.713013374907784, 5.17089756890504, 4.636808382021281, 7.942680627326531, 6.44636680113163, 8.099002278949737, 6.90660605786201, 6.297689668129939, 7.61906978861222, 9.291490984261115, 4.272595136006783, 4.55060354241205, 5.767577327806561, 22.07704457858045, 4.193605065073807, 4.502914700605971, 8.08387640437931, 4.604618086786691, 5.785638093626559, 4.999963742027409, 21.415839697231895, 20.205482225617082, 6.830863698988245, 5.451868722489995, 9.608823685469982, 19.4529421553153, 4.964460768731335, 15.66313680837654, 36.31537175726526, 32.54719393952911, 31.522073069494983, 12.430134306250924, 73.4681318790303, 52.80979274542014, 32.25174708046213, 60.08719602874498, 20.849856340070083, 18.874598323773522, 25.377363063322093, 46.94991508892767, 63.37169714014161, 117.99647831164113, 21.614607774266375, 22.91823881029088, 62.140884795584675, 64.76791566219441, 107.06577642570566, 31.869507239981907, 22.921228378167495, 56.40318220138514, 7.564510970082272, 7.554193117140019, 4.512539088949085, 6.6195616702292215, 12.77136575835029, 7.093066497701617, 23.93576383596549, 8.083319298051945, 20.258480776369456, 12.106419526549791, 4.999963742027409, 4.193605065073807, 16.360941791918027, 4.2135266330813, 8.83845792532626, 5.882032473135691, 5.296701957656091, 9.608823685469982, 6.02628098172462, 5.901474053399238, 6.329803778252259, 6.536608986811988, 6.019808690804227, 5.782234047375147, 5.785638093626559, 6.689910810012091, 11.51245758033022, 7.726877423148785, 7.674216056671361, 6.30131494155858, 14.800815889743191, 21.788927676892854, 30.880064662301642, 17.468171753935145, 25.425820601083977, 23.859369814542827, 22.91823881029088, 50.844986975966364, 13.541408155065211, 17.597981860997095, 25.012445183423203, 20.52253614514095, 132.60844789549995, 32.693692439861465, 16.520932312490356, 30.90144587756845, 4.426093582089166, 5.17089756890504, 4.386291978064231, 8.099002278949737, 5.860514639010091, 5.903361474995053, 9.42992202061401, 4.093457066130151, 7.7944307489048175, 4.440887302449242, 5.073256149033213, 8.026824681251608, 5.913627246766623, 4.268406417330896, 13.86266285274633, 6.025891702751084, 13.541408155065211, 7.61906978861222, 5.011057340275388, 7.942680627326531, 5.074444775324416, 8.083319298051945, 8.186878152985043, 9.675076329227121, 9.7775136369431, 11.657672755411912, 54.57251165416193, 45.49416608603107, 6.219977816433497, 12.089989474592018, 24.782176170201947, 19.532734506437524, 25.425820601083977, 20.875028910733587, 12.77136575835029, 13.210314311272116, 14.5370738423627, 20.52253614514095, 73.4681318790303, 53.23645819229857, 22.921228378167495, 23.425601401253473, 34.168922038765295, 5.3360157909469255, 4.488941588310624, 5.423247498172074, 5.167925292799303, 4.171863080990674, 4.604618086786691, 8.026824681251608, 4.502914700605971, 4.512539088949085, 5.0257996648250955, 4.272595136006783, 4.999963742027409, 4.365320085125688, 4.690309479006813, 9.193690037969285, 5.451868722489995, 4.964460768731335, 4.933290698120809, 5.901474053399238, 5.836153287505834, 5.053500491536275, 4.406134895525668, 6.214370401322773, 15.045503429440528, 6.92585427539708, 5.109160792220973, 6.210080550412298, 9.776921778243478, 13.694146252467752, 7.970855800726547, 10.230542768897626, 35.55377362860082, 89.01465822344738, 32.83071399470661, 19.4529421553153, 20.55162858765489, 66.24738519385575, 10.264737913575166, 25.425820601083977, 11.472411967389835, 27.25069238074994, 16.13434658446742, 155.36910628759253, 44.13372494883056, 30.880064662301642, 21.24189837936134, 4.193605065073807, 9.891093838057001, 4.964460768731335, 7.149451161455482, 11.54860311289063, 12.427150076273312, 12.847217724954328, 12.962623186353865, 15.66313680837654, 16.09216343897353, 17.675418255143178, 5.0579155965691545, 20.57321628781956, 21.040265232871196, 24.782176170201947, 26.006089170158912, 4.093457066130151, 4.230444795975917, 4.171863080990674, 4.2135266330813, 4.365320085125688, 4.447161664551764, 4.272595136006783, 4.3752707719096, 4.55060354241205, 4.406134895525668, 4.386291978064231, 4.268406417330896, 4.329143086290801, 4.440887302449242, 12.430134306250924, 7.519343994829559, 89.01465822344738, 130.6575630191266, 132.60844789549995, 179.2986703086843, 5.264320498466203, 14.800815889743191, 47.90965769068912, 16.360941791918027, 41.009111223682986, 12.55835293299142, 18.202985193044313, 6.830863698988245, 40.55200129305066, 29.436300602491293, 182.86956005419367], \"loglift\": [30.0, 29.0, 28.0, 27.0, 26.0, 25.0, 24.0, 23.0, 22.0, 21.0, 20.0, 19.0, 18.0, 17.0, 16.0, 15.0, 14.0, 13.0, 12.0, 11.0, 10.0, 9.0, 8.0, 7.0, 6.0, 5.0, 4.0, 3.0, 2.0, 1.0, 0.4721, 0.45, 0.4399, 0.4356, 0.4342, 0.4317, 0.4283, 0.4255, 0.4248, 0.4199, 0.418, 0.4165, 0.4136, 0.412, 0.4089, 0.4084, 0.4052, 0.4041, 0.4033, 0.4017, 0.3941, 0.3932, 0.3926, 0.3903, 0.3882, 0.3881, 0.3865, 0.3824, 0.3781, 0.3776, 0.3707, 0.3332, 0.3475, 0.3459, 0.3539, 0.3457, 0.3405, 0.1835, 0.2, 0.3437, 0.2685, 0.1553, 0.3168, 0.2451, 0.2235, -0.0272, 0.0471, -0.0439, 0.2285, 0.1066, 0.0025, 0.1162, 0.1345, 2.0903, 2.0772, 2.0733, 2.0535, 2.0278, 2.0219, 1.9626, 1.9493, 1.9175, 1.896, 1.8864, 1.862, 1.8601, 1.8347, 1.8257, 1.7564, 1.7445, 1.7412, 1.7076, 1.7075, 1.6704, 1.6604, 1.6532, 1.6137, 1.6047, 1.5957, 1.5883, 1.5717, 1.5706, 1.5695, 1.5539, 1.539, 1.4752, 1.4874, 1.4046, 1.1636, 1.463, 1.064, 1.3589, 0.8467, 1.2887, 1.3175, 0.9348, 0.941, 0.9771, -0.1964, -0.5815, 0.1629, 0.2588, -0.8423, 2.1105, 2.0812, 2.0683, 2.0233, 1.9857, 1.9506, 1.8824, 1.8355, 1.8315, 1.8194, 1.7905, 1.7839, 1.7453, 1.7411, 1.735, 1.7241, 1.7207, 1.7134, 1.7094, 1.6937, 1.6227, 1.6159, 1.5413, 1.4938, 1.4861, 1.4447, 1.4421, 1.4302, 1.4241, 1.4199, 1.3472, 1.31, 1.2916, 1.1357, 0.954, 0.8243, 0.7163, 1.273, 0.7458, 0.7945, 0.5114, 0.8636, 0.6522, -0.2194, 0.6429, -0.3802, 0.8066, -0.3801, 0.6777, 2.5868, 2.5838, 2.5047, 2.2474, 2.1546, 2.1201, 2.0356, 2.0207, 2.0186, 1.959, 1.956, 1.8756, 1.8748, 1.8322, 1.8068, 1.7824, 1.6842, 1.6747, 1.6502, 1.6419, 1.6268, 1.5879, 1.5423, 1.539, 1.4945, 1.4332, 1.3985, 1.3807, 1.3734, 1.3419, 1.3178, 1.2402, 1.2867, 1.0465, 1.2322, 0.6646, 0.4608, 1.0908, 0.5433, 1.2632, 1.0202, 0.5701, 0.8809, 0.9358, 3.2099, 3.2097, 3.035, 2.6086, 2.5405, 2.4602, 2.3867, 2.3663, 2.3141, 2.279, 2.2617, 2.2615, 2.2542, 2.2497, 2.2244, 2.2084, 2.1755, 2.174, 2.1152, 2.1107, 2.0986, 2.0479, 2.0384, 2.0234, 2.0134, 1.9462, 1.9412, 1.8513, 1.7887, 1.7784, 1.7333, 1.7426, 1.6104, 0.7306, 1.0517, 1.0333, 0.1247, -0.1828, 0.9363, 0.7163, 0.254, 0.6332, 0.883, 0.0907, 0.1222, -0.8492, 2.7338, 2.6376, 2.431, 2.3604, 2.3021, 2.2134, 2.1707, 2.1419, 2.1226, 2.0377, 1.9786, 1.9489, 1.9144, 1.9037, 1.886, 1.8746, 1.8501, 1.8435, 1.8362, 1.8301, 1.7749, 1.7558, 1.7259, 1.7039, 1.6905, 1.6848, 1.6829, 1.6601, 1.6049, 1.6045, 1.5505, 1.5102, 1.4327, 1.5038, 0.926, 0.9974, 1.1341, 0.8866, 1.2511, 1.2797, 1.1346, 0.7533, 0.4674, -0.1037, 1.1139, 1.0305, 0.1771, 0.1399, -0.3866, 0.6881, 0.9923, 0.136, 3.35, 3.1082, 3.0063, 2.92, 2.5266, 2.5074, 2.4976, 2.3415, 2.3211, 2.3016, 2.2594, 2.2165, 2.1795, 2.1751, 2.1363, 2.0894, 2.0831, 2.0735, 2.0712, 2.0358, 2.0009, 1.9701, 1.9533, 1.9522, 1.9386, 1.8417, 1.8161, 1.7577, 1.7537, 1.7506, 1.7338, 1.6811, 1.6434, 1.5322, 1.3304, 1.3313, 1.3425, 0.9294, 1.574, 1.398, 1.1015, 1.1299, -0.2628, 0.767, 1.1287, 0.4486, 3.5345, 3.3874, 3.0923, 2.9682, 2.9222, 2.7617, 2.758, 2.6563, 2.6253, 2.5172, 2.2593, 2.2503, 2.2218, 2.1233, 2.1125, 2.0939, 2.0777, 2.0299, 2.0246, 2.0012, 1.9848, 1.9796, 1.9672, 1.8424, 1.787, 1.7727, 1.7115, 1.6744, 1.6156, 1.6129, 1.6065, 1.5556, 1.3905, 1.2696, 1.5192, 1.4858, 1.4077, 1.1048, -0.0621, 0.2236, 0.959, 0.9257, 0.5364, 3.6899, 3.4715, 3.2419, 2.9599, 2.6276, 2.5748, 2.5387, 2.5232, 2.5218, 2.4859, 2.4852, 2.4321, 2.4034, 2.3887, 2.368, 2.3456, 2.3416, 2.2604, 2.26, 2.2482, 2.2194, 2.1269, 2.107, 2.0904, 2.0589, 2.0341, 2.0279, 2.008, 1.9846, 1.9686, 1.7738, 1.2642, 0.7268, 1.1739, 1.3829, 1.3348, 0.5322, 1.7716, 1.0565, 1.6547, 0.9328, 1.3677, -0.7011, 0.4291, 0.7357, 1.0677, 3.0197, 2.7995, 2.571, 2.0547, 2.0355, 1.9652, 1.934, 1.9265, 1.7582, 1.6823, 1.6161, 1.5983, 1.4949, 1.4059, 1.3026, 1.2862, 1.2756, 1.2695, 1.2469, 1.2437, 1.2322, 1.2148, 1.2117, 1.2075, 1.195, 1.1893, 1.1888, 1.1865, 1.1845, 1.1679, 1.1225, 1.1329, 0.0596, -0.224, -0.3066, -0.5457, 1.1022, 0.4194, -0.3633, 0.3448, -0.3641, 0.4399, 0.1304, 0.8663, -0.6942, -0.42, -2.2419], \"logprob\": [30.0, 29.0, 28.0, 27.0, 26.0, 25.0, 24.0, 23.0, 22.0, 21.0, 20.0, 19.0, 18.0, 17.0, 16.0, 15.0, 14.0, 13.0, 12.0, 11.0, 10.0, 9.0, 8.0, 7.0, 6.0, 5.0, 4.0, 3.0, 2.0, 1.0, -4.7911, -5.3372, -5.0299, -5.1946, -4.5475, -4.9651, -5.5959, -5.1593, -5.7065, -5.858, -5.231, -5.3283, -5.6473, -5.914, -5.8982, -5.2031, -5.5895, -6.0354, -4.7155, -6.1446, -4.6239, -4.6708, -5.0935, -4.8152, -5.3291, -6.1949, -6.1955, -5.8294, -3.5689, -4.9697, -3.4331, -3.889, -4.5159, -4.4761, -4.7898, -4.6476, -4.8748, -3.6006, -3.9054, -5.1327, -4.5897, -3.9649, -4.9971, -4.8784, -4.849, -4.3465, -4.6488, -4.5479, -4.9468, -4.8536, -4.8413, -4.9654, -4.9724, -4.457, -4.1002, -4.4868, -2.8435, -4.782, -2.9491, -4.401, -5.2978, -4.917, -4.4265, -4.0834, -5.401, -5.4184, -5.4081, -5.4211, -5.3011, -5.4961, -5.2904, -4.3905, -4.9173, -5.1904, -5.303, -5.4943, -5.3344, -5.0286, -5.5703, -4.5794, -5.6081, -4.5382, -5.8597, -4.8891, -4.2075, -3.7212, -4.2762, -3.7793, -3.1557, -4.7389, -3.7956, -4.5606, -3.6573, -4.7734, -4.9099, -4.5964, -4.6711, -4.7783, -4.3018, -4.5285, -4.6781, -4.7015, -4.6264, -4.3477, -4.1069, -4.74, -3.5394, -4.7151, -4.1819, -4.8264, -4.8268, -5.2699, -4.4291, -4.7558, -4.5974, -5.5986, -5.3742, -5.182, -4.8078, -5.3396, -3.8971, -4.0339, -5.5239, -5.2797, -5.6129, -4.3196, -3.3056, -4.5594, -6.0087, -6.077, -5.609, -5.3832, -4.7734, -4.3824, -4.6477, -4.5691, -4.084, -4.0721, -4.0167, -3.9797, -4.8667, -4.3358, -4.4957, -4.3482, -4.6378, -4.5125, -4.0034, -4.6361, -4.5005, -4.7127, -4.6022, -4.7277, -4.1375, -4.2845, -4.3507, -4.1904, -5.4288, -4.3558, -4.0915, -3.5214, -4.3691, -5.4105, -5.1733, -5.6749, -4.5559, -5.4498, -4.1687, -4.5139, -3.6512, -5.523, -5.1241, -5.9126, -5.0744, -4.0998, -4.6812, -4.5304, -5.6296, -5.7125, -4.3449, -5.8161, -4.5981, -4.4171, -3.5259, -3.8667, -4.4598, -3.7529, -4.5248, -3.4557, -3.3232, -4.3097, -3.5621, -4.6136, -4.499, -4.2709, -4.5245, -4.5693, -3.4347, -3.1661, -4.1978, -3.5848, -4.5836, -4.8655, -5.1638, -4.5731, -5.1743, -3.5836, -5.0886, -4.6287, -3.6067, -5.1829, -5.2229, -5.175, -4.5257, -4.8692, -4.177, -5.2372, -5.2733, -4.2503, -5.4669, -4.644, -4.9619, -4.9743, -5.2993, -4.047, -5.7757, -5.6062, -4.1275, -5.1137, -4.5102, -3.3897, -4.2385, -4.3021, -3.679, -3.9669, -4.7194, -4.7054, -4.5898, -4.714, -4.8635, -4.7727, -4.838, -4.7962, -4.4337, -4.5757, -5.0115, -4.9893, -5.1567, -4.7071, -4.9586, -4.7592, -4.9378, -5.115, -4.9835, -4.8148, -5.6262, -5.5739, -5.3546, -4.0236, -5.7091, -5.6446, -5.0667, -5.6357, -5.4625, -5.6276, -4.2027, -4.2829, -5.3808, -5.6121, -5.0472, -4.3647, -5.7856, -4.637, -3.85, -3.9999, -4.1094, -4.9688, -3.77, -4.0287, -4.3852, -4.0104, -4.7044, -4.7752, -4.6244, -4.3905, -4.3764, -4.3258, -4.8055, -4.8304, -4.6863, -4.6821, -4.7059, -4.8431, -4.8684, -4.8243, -3.6193, -3.8625, -4.4796, -4.1828, -3.919, -4.5263, -3.3199, -4.5615, -3.6632, -4.1975, -5.124, -5.3428, -4.0184, -5.3794, -4.6774, -5.1316, -5.2427, -4.6566, -5.1255, -5.1818, -5.1467, -5.1453, -5.2445, -5.2858, -5.2988, -5.2506, -4.7333, -5.1904, -5.2012, -5.4015, -4.5643, -4.2303, -3.9193, -4.6002, -4.4267, -4.4893, -4.5184, -4.1346, -4.813, -4.727, -4.672, -4.8414, -4.3682, -4.7386, -5.0595, -5.1135, -3.9708, -3.9624, -4.4221, -3.9328, -4.3023, -4.4556, -3.9909, -4.9271, -4.3141, -4.9848, -5.1095, -4.6597, -4.9937, -5.4183, -4.2511, -5.1028, -4.3093, -4.9323, -5.3565, -4.9193, -5.3838, -4.9234, -4.9231, -4.8808, -4.9257, -4.7642, -3.2817, -3.5008, -5.5495, -4.8875, -4.1762, -4.4651, -4.3666, -4.6846, -4.9264, -4.926, -4.9084, -4.8665, -4.7581, -4.7945, -4.9018, -4.9133, -4.9251, -3.6284, -4.0197, -4.0602, -4.3904, -4.9369, -4.891, -4.3713, -4.9649, -4.9641, -4.8924, -5.0554, -4.9512, -5.1157, -5.0586, -4.4063, -4.9513, -5.0489, -5.1364, -4.9576, -4.9805, -5.1534, -5.3829, -5.0589, -4.1913, -4.9986, -5.3277, -5.1387, -4.7048, -4.3912, -4.9484, -4.8937, -4.1575, -3.7772, -4.3276, -4.6419, -4.635, -4.2672, -4.8925, -4.7005, -4.8981, -4.7549, -4.8442, -4.6481, -4.7765, -4.827, -4.8691, -4.5395, -3.9016, -4.8195, -4.971, -4.5107, -4.5077, -4.5057, -4.5043, -4.4833, -4.5321, -4.5046, -5.7735, -4.474, -4.5405, -4.4801, -4.4483, -6.3078, -6.281, -6.3175, -6.3108, -6.2869, -6.2858, -6.3289, -6.3093, -6.2826, -6.3206, -6.3255, -6.355, -6.3429, -6.3341, -5.3502, -5.8424, -4.4444, -4.3442, -4.412, -4.3495, -6.2296, -5.8787, -5.4868, -5.8531, -5.6431, -6.0225, -5.9608, -6.2051, -5.9845, -6.0306, -6.0259]}, \"token.table\": {\"Topic\": [1, 1, 5, 3, 5, 9, 1, 3, 4, 5, 1, 3, 4, 8, 9, 1, 2, 5, 3, 4, 5, 1, 3, 6, 7, 1, 9, 1, 1, 3, 4, 6, 7, 1, 2, 3, 3, 1, 2, 1, 3, 1, 2, 3, 4, 8, 1, 2, 2, 1, 3, 4, 7, 8, 1, 2, 4, 5, 6, 7, 1, 3, 7, 8, 2, 4, 7, 1, 3, 4, 5, 2, 4, 6, 2, 3, 4, 1, 4, 1, 6, 1, 1, 2, 4, 1, 4, 1, 2, 7, 1, 4, 5, 7, 1, 3, 7, 9, 1, 4, 6, 1, 4, 2, 1, 3, 1, 2, 4, 8, 1, 2, 3, 4, 1, 2, 1, 2, 3, 4, 6, 8, 3, 3, 4, 7, 9, 1, 6, 8, 1, 2, 1, 9, 1, 2, 3, 4, 5, 6, 9, 1, 5, 1, 2, 4, 6, 1, 3, 1, 2, 3, 4, 5, 9, 1, 2, 3, 1, 3, 4, 5, 1, 3, 9, 1, 3, 1, 4, 5, 6, 1, 1, 2, 3, 4, 6, 9, 10, 2, 3, 5, 2, 5, 9, 2, 9, 1, 2, 5, 6, 1, 2, 5, 8, 1, 3, 4, 2, 3, 1, 3, 5, 8, 1, 4, 1, 4, 2, 3, 7, 2, 4, 5, 6, 7, 1, 2, 5, 1, 2, 4, 9, 1, 3, 4, 1, 1, 5, 6, 1, 3, 4, 6, 8, 1, 3, 8, 1, 3, 4, 6, 1, 2, 3, 5, 8, 1, 2, 4, 5, 6, 1, 2, 4, 6, 1, 4, 7, 2, 8, 3, 4, 1, 3, 4, 1, 2, 3, 4, 1, 8, 1, 2, 7, 1, 5, 6, 1, 3, 4, 6, 1, 4, 7, 1, 2, 3, 5, 7, 1, 4, 6, 1, 8, 1, 6, 7, 1, 2, 8, 1, 1, 3, 5, 6, 1, 2, 3, 4, 1, 2, 7, 1, 2, 1, 3, 4, 1, 3, 1, 5, 1, 2, 3, 4, 5, 6, 10, 2, 3, 4, 4, 5, 1, 3, 4, 6, 1, 3, 4, 1, 3, 4, 5, 7, 8, 3, 5, 8, 1, 2, 6, 1, 3, 5, 1, 2, 3, 4, 5, 1, 2, 3, 4, 5, 10, 1, 3, 4, 5, 1, 3, 4, 1, 4, 5, 8, 1, 2, 9, 2, 3, 1, 3, 9, 1, 3, 1, 1, 1, 3, 6, 1, 2, 3, 4, 3, 5, 8, 3, 7, 9, 1, 5, 6, 8, 1, 7, 1, 3, 8, 1, 3, 7, 3, 7, 9, 2, 7, 1, 5, 8, 1, 2, 3, 5, 6, 7, 1, 1, 2, 4, 5, 7, 1, 6, 1, 4, 5, 9, 1, 5, 1, 2, 7, 1, 8, 1, 3, 6, 7, 2, 3, 5, 1, 3, 1, 7, 1, 3, 5, 1, 2, 7, 1, 2, 6, 1, 2, 7, 1, 3, 4, 6, 1, 4, 1, 2, 1, 3, 4, 6, 1, 2, 3, 4, 1, 2, 3, 4, 2, 4, 9, 1, 2, 3, 6, 1, 7, 1, 2, 3, 1, 2, 3, 4, 5, 7, 1, 4, 7, 1, 4, 5, 9, 1, 2, 3, 4, 5, 6, 9, 1, 2, 3, 6, 1, 2, 3, 4, 5, 6, 2, 4, 6, 9, 1, 2, 3, 4, 5, 6, 1, 2, 4, 5, 1, 2, 4, 9, 1, 9, 1, 4, 5, 1, 2, 3, 4, 8, 1, 2, 5, 7, 1, 2, 3, 5, 6, 7, 1, 5, 6, 2, 3, 1, 2, 3, 9, 1, 2, 3, 4, 7, 1, 1, 2, 4, 6, 1, 3, 4, 6, 1, 2, 3, 8, 1, 4, 6, 1, 1, 2, 3, 5, 6, 1, 3, 8, 2, 3, 4, 5, 8, 1, 2, 1, 3, 4, 5, 8, 1, 2, 3, 5, 6, 9, 1, 2, 3, 4, 6, 2, 6, 7, 1, 4, 6, 1, 4, 5, 6, 1, 4, 5, 6, 2, 5, 6, 9, 1, 3, 7, 1, 3, 7, 8, 2, 1, 3, 6, 9, 1, 3, 5, 9, 4, 1, 3, 5, 6, 1, 5, 9, 2, 1, 1, 3, 6, 1, 2, 6, 1, 2, 3, 6, 8, 1, 4, 9, 1, 2, 4, 6, 1, 2, 3, 6, 1, 2, 4, 5, 6, 1, 3, 4, 5, 6, 7, 9, 1, 2, 3, 4, 6, 7, 8, 9, 1, 3, 4, 5, 2, 3, 6, 8, 2, 1, 3, 4, 5, 6, 9, 1, 4, 5, 1, 3, 6, 8, 1, 3, 7, 1, 3, 5, 6, 8, 1, 2, 3, 6, 4, 1, 3, 4, 6, 1, 2, 3, 4, 7, 8, 1, 2, 3, 4, 5, 6, 7, 10, 1, 1, 4, 3, 6, 2, 3, 4, 1, 3, 1, 3, 4, 5, 1, 2, 3, 8, 4, 1, 2, 3, 4, 5, 6, 1, 4, 7, 1, 6, 9, 3, 5, 7, 1, 2, 3, 4, 5, 8, 1, 2, 3, 4, 5, 1, 1, 2, 3, 4, 5, 9, 4, 5, 6, 1, 2, 3, 4, 7, 1, 9, 1, 8, 1, 2, 6, 1, 3, 8, 1, 3, 5, 6, 1, 3, 4, 1, 2, 3, 6, 1, 3, 5, 6, 9, 1, 3, 4, 3, 4, 5, 9, 1, 3, 4, 5, 7, 2, 3, 4, 5, 6, 7, 1, 2, 4, 4, 5, 1, 2, 3, 4, 5, 1, 3, 4, 8, 3, 6, 1, 3, 6, 7, 2, 3, 5, 9, 1, 2, 3, 9, 1, 4, 8, 1, 2, 3, 8, 1, 2, 3, 6, 8, 1, 2, 3, 7, 1, 6, 1, 6, 7, 1, 3, 4, 5, 6, 1, 2, 4, 1, 3, 6, 9, 1, 2, 3, 6, 1, 2, 1, 5, 1, 2, 3, 4, 1, 3, 5, 6, 3, 6, 1, 2, 3, 6, 7, 1, 6, 1, 3, 4, 6, 9, 1, 2, 3, 3, 6, 9, 1, 3, 4, 1, 3, 7, 1, 3, 4, 6, 10, 1, 2, 3, 1, 2, 3, 6, 1, 1, 3, 1, 4, 5, 7, 9, 10, 1, 3, 4, 1, 3, 9], \"Freq\": [0.8862894751862823, 0.44426270007129665, 0.22213135003564832, 0.5140372180460829, 0.17134573934869432, 0.17134573934869432, 0.6752688353531663, 0.14216186007435078, 0.035540465018587694, 0.07108093003717539, 0.37374679516884823, 0.12458226505628274, 0.12458226505628274, 0.12458226505628274, 0.12458226505628274, 0.3218758907271144, 0.4828138360906716, 0.1609379453635572, 0.1543209174966643, 0.3086418349933286, 0.4629627524899929, 0.6684557931658175, 0.04177848707286359, 0.04177848707286359, 0.20889243536431795, 0.864045531009753, 0.06646504084690408, 0.6856718489883635, 0.3977728841461246, 0.34094818641096397, 0.05682469773516066, 0.05682469773516066, 0.05682469773516066, 0.2810168209398837, 0.6557059155263953, 0.0936722736466279, 0.9002246140082512, 0.12544477062862816, 0.8422720313636461, 0.7777101925221509, 0.09721377406526886, 0.4127378085206744, 0.06878963475344572, 0.2063689042603372, 0.2063689042603372, 0.06878963475344572, 0.1744640079760133, 0.6978560319040532, 0.9016326359670427, 0.24742311001892425, 0.24742311001892425, 0.24742311001892425, 0.12371155500946213, 0.12371155500946213, 0.3981413826063727, 0.23888482956382362, 0.07962827652127455, 0.07962827652127455, 0.07962827652127455, 0.07962827652127455, 0.4698009683167225, 0.23490048415836126, 0.23490048415836126, 0.07830016138612042, 0.3228344788878533, 0.5649603380537433, 0.08070861972196333, 0.18073484646149965, 0.18073484646149965, 0.3614696929229993, 0.18073484646149965, 0.7035053803919135, 0.1407010760783827, 0.1407010760783827, 0.10187750053983091, 0.7131425037788164, 0.10187750053983091, 0.8699886782216909, 0.06214204844440649, 0.7783786508557479, 0.15567573017114958, 0.9247214613605566, 0.4802242164229803, 0.42686597015376027, 0.05335824626922003, 0.9327791518285884, 0.027434680936134954, 0.6608064409510778, 0.16520161023776944, 0.16520161023776944, 0.3989709743380348, 0.13299032477934492, 0.26598064955868983, 0.13299032477934492, 0.1254570431331664, 0.6272852156658321, 0.1254570431331664, 0.1254570431331664, 0.7022858916814972, 0.06384417197104521, 0.12768834394209042, 0.6449903672088628, 0.3224951836044314, 0.8780103348773213, 0.914104951045477, 0.06232533757128252, 0.8612394514265606, 0.036648487294747255, 0.018324243647373627, 0.07329697458949451, 0.12363829253538597, 0.12363829253538597, 0.6181914626769298, 0.12363829253538597, 0.6674687534453296, 0.31410294279780215, 0.7693294110241249, 0.021980840314974995, 0.04396168062994999, 0.06594252094492499, 0.021980840314974995, 0.06594252094492499, 0.9515408682962403, 0.8419671488492956, 0.032383351878819064, 0.09715005563645719, 0.032383351878819064, 0.370415996523097, 0.24694399768206463, 0.24694399768206463, 0.11552186250450192, 0.8086530375315134, 0.7793671954760736, 0.0974208994345092, 0.8817711787979857, 0.06436285976627633, 0.012872571953255266, 0.006436285976627633, 0.012872571953255266, 0.006436285976627633, 0.006436285976627633, 0.5201604419118437, 0.1733868139706146, 0.056942993840044906, 0.28471496920022454, 0.5124869445604041, 0.11388598768008981, 0.620448999812849, 0.34469388878491614, 0.6750338304650024, 0.028126409602708433, 0.11250563841083373, 0.0843792288081253, 0.05625281920541687, 0.028126409602708433, 0.2145101049603645, 0.2145101049603645, 0.429020209920729, 0.2828787374547759, 0.33945448494573105, 0.16972724247286552, 0.16972724247286552, 0.6973250283148726, 0.17433125707871816, 0.08716562853935908, 0.4723512344676922, 0.4723512344676922, 0.5910779604079315, 0.2364311841631726, 0.03940519736052877, 0.07881039472105754, 0.9322427956470303, 0.5841734500565959, 0.2583844106019559, 0.07863873366146484, 0.04493641923512277, 0.011234104808780692, 0.022468209617561383, 0.011234104808780692, 0.21011158670828226, 0.4202231734165645, 0.21011158670828226, 0.19350124921375, 0.3870024984275, 0.19350124921375, 0.4455393238370659, 0.4455393238370659, 0.16115468841466396, 0.16115468841466396, 0.16115468841466396, 0.4834640652439919, 0.3382019049465003, 0.3382019049465003, 0.16910095247325016, 0.16910095247325016, 0.15769123257464007, 0.31538246514928014, 0.31538246514928014, 0.4252942528169425, 0.4252942528169425, 0.2565934658257137, 0.12829673291285684, 0.3848901987385705, 0.12829673291285684, 0.8978691539618934, 0.04988161966454963, 0.6270471214281466, 0.3135235607140733, 0.5176735414511024, 0.1294183853627756, 0.1294183853627756, 0.3318796461806588, 0.1659398230903294, 0.1659398230903294, 0.1659398230903294, 0.1659398230903294, 0.4295748536138955, 0.49094268984445205, 0.061367836230556506, 0.9063363685339664, 0.04531681842669832, 0.02265840921334916, 0.02265840921334916, 0.4497250495618272, 0.2248625247809136, 0.2248625247809136, 0.5911976842448159, 0.815353339741182, 0.047961961161246, 0.095923922322492, 0.6397331577368583, 0.23139284428779983, 0.040834031344905854, 0.06805671890817643, 0.013611343781635284, 0.7159284312886443, 0.10227549018409203, 0.10227549018409203, 0.7031937161754775, 0.09172091950114925, 0.15286819916858208, 0.030573639833716415, 0.670657753810412, 0.09580825054434458, 0.09580825054434458, 0.04790412527217229, 0.04790412527217229, 0.8529006333647479, 0.048277394341400826, 0.016092464780466942, 0.032184929560933884, 0.032184929560933884, 0.7947188990563435, 0.05298125993708957, 0.05298125993708957, 0.10596251987417914, 0.8998470604768432, 0.029994902015894772, 0.029994902015894772, 0.7934983427675868, 0.07213621297887152, 0.7542680877925263, 0.15085361755850527, 0.7178226214214604, 0.21752200649135164, 0.06525660194740548, 0.7537493182223722, 0.09917754187136478, 0.07934203349709182, 0.03967101674854591, 0.8268668615908551, 0.10335835769885689, 0.6948994117180087, 0.08686242646475109, 0.08686242646475109, 0.8876356888946583, 0.05221386405262696, 0.02610693202631348, 0.7722868787516023, 0.0834904733785516, 0.0834904733785516, 0.0417452366892758, 0.23733088386075119, 0.23733088386075119, 0.23733088386075119, 0.7646734930900309, 0.06117387944720247, 0.0917608191708037, 0.030586939723601235, 0.030586939723601235, 0.3374325709019442, 0.1687162854509721, 0.3374325709019442, 0.7720237296781105, 0.08578041440867895, 0.5185253469802736, 0.17284178232675787, 0.17284178232675787, 0.33879002810033343, 0.33879002810033343, 0.16939501405016671, 0.9031271584436902, 0.7691046194637158, 0.05493604424740827, 0.05493604424740827, 0.05493604424740827, 0.8615162945280433, 0.08912237529600449, 0.029707458432001496, 0.029707458432001496, 0.5100277860929099, 0.17000926203096997, 0.17000926203096997, 0.3905025894957131, 0.5467036252939983, 0.15537353242306295, 0.15537353242306295, 0.6214941296922518, 0.9353926189071057, 0.03464417107063354, 0.569298265903692, 0.284649132951846, 0.8756339337581565, 0.03346371721368751, 0.016731858606843755, 0.016731858606843755, 0.03346371721368751, 0.005577286202281251, 0.005577286202281251, 0.1972513972092207, 0.1972513972092207, 0.3945027944184414, 0.17202959773870102, 0.6881183909548041, 0.873271014917536, 0.04259858609353834, 0.02129929304676917, 0.0638978791403075, 0.34598148952795127, 0.40364507111594317, 0.17299074476397563, 0.6805599279525607, 0.24019762163031555, 0.020016468469192965, 0.020016468469192965, 0.020016468469192965, 0.020016468469192965, 0.22593286415060135, 0.22593286415060135, 0.4518657283012027, 0.49481211734423153, 0.24740605867211576, 0.12370302933605788, 0.08659055906803076, 0.6927244725442461, 0.17318111813606152, 0.7272943619516843, 0.04921540795161773, 0.08749405858065375, 0.10389919456452633, 0.0273418933064543, 0.7041306899818144, 0.015307188912648137, 0.07653594456324068, 0.1224575113011851, 0.06888235010691662, 0.0076535944563240685, 0.19287028525064645, 0.7071910459190369, 0.06429009508354881, 0.06429009508354881, 0.33723828933328354, 0.44965105244437803, 0.11241276311109451, 0.3694649870335793, 0.517250981847011, 0.07389299740671586, 0.07389299740671586, 0.16091734728060994, 0.4827520418418298, 0.16091734728060994, 0.6281565793756474, 0.20938552645854913, 0.5936479090136575, 0.19788263633788583, 0.19788263633788583, 0.5287282048955552, 0.4325958040054543, 0.914946049624135, 0.6808688501676228, 0.1707153552002983, 0.597503743201044, 0.08535767760014915, 0.09724663273037472, 0.09724663273037472, 0.680726429112623, 0.09724663273037472, 0.5119004361887807, 0.17063347872959356, 0.17063347872959356, 0.677796761250862, 0.1694491903127155, 0.1694491903127155, 0.25180415703976133, 0.25180415703976133, 0.25180415703976133, 0.12590207851988067, 0.5639309882821667, 0.14098274707054168, 0.6362724937580473, 0.10604541562634122, 0.21209083125268244, 0.34588707126234414, 0.34588707126234414, 0.17294353563117207, 0.44320945715414856, 0.44320945715414856, 0.22160472857707428, 0.8982370139574747, 0.05988246759716498, 0.4885867268638348, 0.36644004514787615, 0.1221466817159587, 0.32631961442547275, 0.4894794216382091, 0.5236004432684283, 0.30543359190658315, 0.08726674054473804, 0.04363337027236902, 0.897432961871594, 0.7544205961814042, 0.04191225534341135, 0.04191225534341135, 0.04191225534341135, 0.04191225534341135, 0.5871805805305038, 0.1957268601768346, 0.3263107617953416, 0.3263107617953416, 0.10877025393178053, 0.10877025393178053, 0.6556102315555218, 0.3059514413925768, 0.29895764783692014, 0.4484364717553802, 0.14947882391846007, 0.8271305794778167, 0.08271305794778167, 0.5203550573584536, 0.10407101147169072, 0.20814202294338144, 0.10407101147169072, 0.060844874711003506, 0.48675899768802805, 0.4259141229770245, 0.1922509281548322, 0.5767527844644965, 0.39658875661163484, 0.5287850088155132, 0.9419401782749998, 0.018114234197596148, 0.036228468395192295, 0.7119407967887333, 0.2265266171600515, 0.03236094530857879, 0.4395021410588317, 0.21975107052941584, 0.21975107052941584, 0.302134808864277, 0.1510674044321385, 0.302134808864277, 0.03879409731945766, 0.6207055571113226, 0.27155868123620364, 0.07758819463891532, 0.6823783310893922, 0.24370654681764006, 0.3318762827055374, 0.6084398516268186, 0.5763502750594761, 0.13300390962910988, 0.2216731827151831, 0.044334636543036626, 0.48780148311155364, 0.1258842537062074, 0.2517685074124148, 0.11014872199293146, 0.8003871654509036, 0.11205420316312652, 0.06403097323607229, 0.016007743309018073, 0.5775460818182848, 0.1443865204545712, 0.1443865204545712, 0.5852357996517581, 0.14630894991293952, 0.21946342486940928, 0.04876964997097984, 0.39713043517423147, 0.39713043517423147, 0.6464881380337535, 0.2722055318036857, 0.03402569147546071, 0.2837910306533814, 0.10319673841941142, 0.15479510762911713, 0.36118858446794, 0.07739755381455857, 0.025799184604852855, 0.9047106260788991, 0.03933524461212605, 0.03933524461212605, 0.23970105935560437, 0.23970105935560437, 0.23970105935560437, 0.23970105935560437, 0.46265495101679777, 0.051406105668533084, 0.10281221133706617, 0.10281221133706617, 0.051406105668533084, 0.15421831700559926, 0.051406105668533084, 0.3057449413068672, 0.033971660145207465, 0.6114898826137344, 0.033971660145207465, 0.5996367734316147, 0.01577991509030565, 0.04733974527091695, 0.23669872635458475, 0.04733974527091695, 0.04733974527091695, 0.550270036331658, 0.18342334544388603, 0.18342334544388603, 0.18342334544388603, 0.6737208525632938, 0.14183596896069345, 0.0886474806004334, 0.01772949612008668, 0.03545899224017336, 0.03545899224017336, 0.40047525775216797, 0.20023762887608398, 0.20023762887608398, 0.20023762887608398, 0.09731588868832397, 0.7298691651624298, 0.09731588868832397, 0.048657944344161985, 0.8677140984115117, 0.061979578457965125, 0.4685589431876622, 0.2342794715938311, 0.2342794715938311, 0.8332449115222871, 0.025249845803705668, 0.12624922901852834, 0.4885845796572012, 0.2442922898286006, 0.6417065595147625, 0.09872408607919424, 0.04936204303959712, 0.14808612911879138, 0.8491858883781244, 0.030879486850113616, 0.046319230275170424, 0.015439743425056808, 0.030879486850113616, 0.015439743425056808, 0.9070691433094848, 0.0377945476378952, 0.0377945476378952, 0.6951142386212423, 0.17377855965531058, 0.13141206472604083, 0.5256482589041633, 0.13141206472604083, 0.13141206472604083, 0.2833868879930082, 0.5667737759860164, 0.6119380871749017, 0.15298452179372543, 0.15298452179372543, 0.9601012498650023, 0.06923116542271573, 0.761542819649873, 0.13846233084543147, 0.06923116542271573, 0.5870123397272456, 0.28403822890028013, 0.03787176385337069, 0.07574352770674138, 0.8191377400192882, 0.05119610875120551, 0.05119610875120551, 0.05119610875120551, 0.9270495312228891, 0.033108911829388896, 0.033108911829388896, 0.8659447389544088, 0.31670733229201437, 0.5146494149745233, 0.07917683307300359, 0.039588416536501796, 0.039588416536501796, 0.22798299908008457, 0.22798299908008457, 0.22798299908008457, 0.44067170400277816, 0.3777186034309527, 0.06295310057182545, 0.06295310057182545, 0.06295310057182545, 0.3913707325271473, 0.5591010464673534, 0.6731262980408355, 0.1755981647063049, 0.08779908235315245, 0.02926636078438415, 0.02926636078438415, 0.09774652455783177, 0.19549304911566354, 0.2932395736734953, 0.19549304911566354, 0.09774652455783177, 0.09774652455783177, 0.8474829200909664, 0.033899316803638654, 0.07627346280818698, 0.008474829200909664, 0.02542448760272899, 0.6319311214263978, 0.15798278035659946, 0.15798278035659946, 0.476365168512794, 0.15878838950426466, 0.15878838950426466, 0.34896182036469825, 0.475857027770043, 0.031723801851336206, 0.12689520740534482, 0.932431114926857, 0.03885129645528571, 0.764298262529095, 0.09553728281613688, 0.22207837955833962, 0.22207837955833962, 0.22207837955833962, 0.22207837955833962, 0.8395820498956088, 0.03998009761407661, 0.03998009761407661, 0.7384756360260409, 0.0738475636026041, 0.0738475636026041, 0.0738475636026041, 0.87257439751278, 0.20143174588033844, 0.4028634917606769, 0.20143174588033844, 0.20143174588033844, 0.4830855212982423, 0.16102850709941408, 0.16102850709941408, 0.16102850709941408, 0.8257453607820013, 0.43050141325817487, 0.21525070662908743, 0.10762535331454372, 0.21525070662908743, 0.0730239024444328, 0.8032629268887607, 0.0730239024444328, 0.7203313444332102, 0.8983235330656606, 0.2156655866732365, 0.2156655866732365, 0.2156655866732365, 0.9270119168991374, 0.6935320972144158, 0.17338302430360394, 0.6859768844852606, 0.04035158144030945, 0.12105474432092835, 0.04035158144030945, 0.0807031628806189, 0.18740574225747197, 0.18740574225747197, 0.37481148451494395, 0.5961811664337107, 0.2824016051528103, 0.03137795612809004, 0.06275591225618007, 0.5884233235231476, 0.3549220046647557, 0.018680105508671354, 0.018680105508671354, 0.07783335888332577, 0.5059168327416175, 0.23350007664997732, 0.07783335888332577, 0.07783335888332577, 0.9178615494464643, 0.03530236728640247, 0.20000145032942085, 0.20000145032942085, 0.20000145032942085, 0.20000145032942085, 0.20000145032942085, 0.4326310710904268, 0.11799029211557094, 0.07866019474371395, 0.23598058423114188, 0.03933009737185698, 0.07866019474371395, 0.03933009737185698, 0.03933009737185698, 0.2686607360741478, 0.2686607360741478, 0.06716518401853695, 0.2686607360741478, 0.2624992361914421, 0.2624992361914421, 0.2624992361914421, 0.13124961809572105, 0.8668211820665707, 0.25661390182048577, 0.49813286823976644, 0.18113922481446051, 0.015094935401205043, 0.030189870802410087, 0.015094935401205043, 0.8079746054456057, 0.047527917967388575, 0.047527917967388575, 0.597636737695489, 0.2561300304409238, 0.04268833840682064, 0.04268833840682064, 0.6347881413796835, 0.15869703534492088, 0.15869703534492088, 0.26176607557887294, 0.39264911336830943, 0.17451071705258198, 0.08725535852629099, 0.043627679263145494, 0.6144922980813307, 0.1843476894243992, 0.06144922980813307, 0.12289845961626614, 0.8277866087032646, 0.6058040696113396, 0.05507309723739451, 0.19275584033088078, 0.13768274309348627, 0.48726921123575, 0.146180763370725, 0.243634605617875, 0.048726921123575, 0.048726921123575, 0.048726921123575, 0.7390177741709744, 0.09049197234746624, 0.015081995391244375, 0.1131149654343328, 0.015081995391244375, 0.007540997695622187, 0.015081995391244375, 0.007540997695622187, 0.9339143690720753, 0.9443431234528818, 0.029510722607902558, 0.579155661476692, 0.289577830738346, 0.07341900022694484, 0.6607710020425035, 0.2202570006808345, 0.5357058782012889, 0.4209117614438699, 0.472264148562165, 0.2361320742810825, 0.11806603714054124, 0.2361320742810825, 0.4503604491149682, 0.2251802245574841, 0.2251802245574841, 0.2251802245574841, 0.8364053777457905, 0.310060722448674, 0.12402428897946959, 0.24804857795893917, 0.18603643346920437, 0.031006072244867396, 0.09301821673460219, 0.33223647174289295, 0.33223647174289295, 0.16611823587144647, 0.46809958265065654, 0.23404979132532827, 0.23404979132532827, 0.3775934564543716, 0.3775934564543716, 0.1887967282271858, 0.5178536035309986, 0.07397908621871409, 0.2465969540623803, 0.04931939081247606, 0.09863878162495213, 0.02465969540623803, 0.34252351019616006, 0.09786386005604573, 0.04893193002802287, 0.39145544022418294, 0.09786386005604573, 0.6430891102910041, 0.4770520990205475, 0.07339263061854577, 0.036696315309272885, 0.330266837783456, 0.036696315309272885, 0.036696315309272885, 0.4653784205195032, 0.15512614017316773, 0.31025228034633545, 0.3667270549769866, 0.06112117582949777, 0.3667270549769866, 0.06112117582949777, 0.12224235165899554, 0.608113363589695, 0.20270445452989835, 0.591336197477767, 0.19711206582592233, 0.7423727794520328, 0.049491518630135525, 0.14847455589040656, 0.7569842597512753, 0.15139685195025504, 0.07569842597512752, 0.39541980521711834, 0.19770990260855917, 0.19770990260855917, 0.19770990260855917, 0.4720782269420065, 0.06743974670600093, 0.40463848023600557, 0.01664248069624704, 0.8820514769010931, 0.03328496139249408, 0.06656992278498816, 0.639644937462703, 0.2741335446268727, 0.03045928273631919, 0.03045928273631919, 0.03045928273631919, 0.9180573145436188, 0.034002122760874776, 0.034002122760874776, 0.18439136335508452, 0.18439136335508452, 0.18439136335508452, 0.36878272671016904, 0.26061293886316333, 0.26061293886316333, 0.26061293886316333, 0.13030646943158167, 0.13030646943158167, 0.13512768585858695, 0.33781921464646736, 0.06756384292929347, 0.2702553717171739, 0.06756384292929347, 0.06756384292929347, 0.8466005791654159, 0.09152438693680172, 0.04576219346840086, 0.472763526403285, 0.2363817632016425, 0.4328289501906979, 0.32061403717829473, 0.1763377204480621, 0.03206140371782947, 0.016030701858914736, 0.5810836022171169, 0.2213651817969969, 0.1660238863477477, 0.027670647724624613, 0.8084861278671924, 0.10106076598339905, 0.05724697547553738, 0.8014576566575233, 0.05724697547553738, 0.05724697547553738, 0.2132055474112879, 0.2132055474112879, 0.2132055474112879, 0.2132055474112879, 0.8473818901934314, 0.04707677167741285, 0.04707677167741285, 0.04707677167741285, 0.4978516289349124, 0.3319010859566083, 0.16595054297830414, 0.9016377428155786, 0.056352358925973664, 0.01878411964199122, 0.01878411964199122, 0.17732685627958134, 0.7093074251183253, 0.19339002304231573, 0.38678004608463146, 0.38678004608463146, 0.23719385701088322, 0.5929846425272081, 0.9079390748825669, 0.06052927165883779, 0.6929777880292685, 0.23099259600975616, 0.23845831557397745, 0.23845831557397745, 0.23845831557397745, 0.40766326162750804, 0.13588775387583601, 0.04529591795861201, 0.18118367183444803, 0.18118367183444803, 0.4656449070585371, 0.4656449070585371, 0.04434713400557497, 0.5114084078207998, 0.30684504469247986, 0.10228168156415997, 0.10228168156415997, 0.3701200634102892, 0.4163850713365753, 0.04626500792628615, 0.0925300158525723, 0.35579863636546855, 0.5336979545482028, 0.38606169814918195, 0.19303084907459098, 0.44902073666649356, 0.4939228103331429, 0.022451036833324677, 0.022451036833324677, 0.4826979220154276, 0.32179861467695176, 0.08044965366923794, 0.16089930733847588, 0.4243569540133402, 0.4243569540133402, 0.5966333081084341, 0.1835794794179797, 0.045894869854494924, 0.045894869854494924, 0.09178973970898985, 0.7938049705423101, 0.18677764012760237, 0.19897331105313792, 0.19897331105313792, 0.19897331105313792, 0.19897331105313792, 0.19897331105313792, 0.2797417528750334, 0.2797417528750334, 0.2797417528750334, 0.43434655432969677, 0.21717327716484838, 0.21717327716484838, 0.6979926013359122, 0.061587582470815784, 0.22582113572632453, 0.6788514524470645, 0.11314190874117741, 0.11314190874117741, 0.6536930596818422, 0.23071519753476782, 0.038452532922461306, 0.07690506584492261, 0.038452532922461306, 0.3799160785485447, 0.18995803927427235, 0.3799160785485447, 0.2927887435810248, 0.2927887435810248, 0.1463943717905124, 0.1463943717905124, 0.9060194036465463, 0.39911736469774417, 0.19955868234887209, 0.10110105276247579, 0.3033031582874274, 0.3033031582874274, 0.10110105276247579, 0.10110105276247579, 0.10110105276247579, 0.3085795168535731, 0.15428975842678655, 0.3857243960669664, 0.22907827616292828, 0.45815655232585656, 0.22907827616292828], \"Term\": [\"absolutely\", \"actually\", \"actually\", \"add\", \"add\", \"add\", \"amaze\", \"amaze\", \"amaze\", \"amaze\", \"amazing\", \"amazing\", \"amazing\", \"amazing\", \"amazing\", \"ambiance\", \"ambiance\", \"ambiance\", \"ambience\", \"ambience\", \"ambience\", \"amp\", \"amp\", \"amp\", \"amp\", \"appetizer\", \"appetizer\", \"appreciate\", \"area\", \"area\", \"area\", \"area\", \"area\", \"arrive\", \"arrive\", \"arrive\", \"arugula\", \"ask\", \"ask\", \"atmosphere\", \"atmosphere\", \"attentive\", \"attentive\", \"attentive\", \"attentive\", \"attentive\", \"attitude\", \"attitude\", \"available\", \"avocado\", \"avocado\", \"avocado\", \"avocado\", \"avocado\", \"away\", \"away\", \"away\", \"away\", \"away\", \"away\", \"bacon\", \"bacon\", \"bacon\", \"bacon\", \"bad\", \"bad\", \"bad\", \"balance\", \"balance\", \"balance\", \"balance\", \"bar\", \"bar\", \"bar\", \"base\", \"base\", \"base\", \"bean\", \"bean\", \"beef\", \"beef\", \"big\", \"bill\", \"bill\", \"bill\", \"bite\", \"bite\", \"bland\", \"bland\", \"bland\", \"blow\", \"blow\", \"blow\", \"blow\", \"blt\", \"blt\", \"blt\", \"blt\", \"bolognese\", \"bolognese\", \"bolognese\", \"bone\", \"bone\", \"book\", \"bread\", \"bread\", \"breakfast\", \"breakfast\", \"breakfast\", \"breakfast\", \"breast\", \"breast\", \"breast\", \"breast\", \"bring\", \"bring\", \"brunch\", \"brunch\", \"brunch\", \"brunch\", \"brunch\", \"brunch\", \"bun\", \"burger\", \"burger\", \"burger\", \"burger\", \"burrito\", \"burrito\", \"burrito\", \"busy\", \"busy\", \"cake\", \"cake\", \"calistoga\", \"calistoga\", \"calistoga\", \"calistoga\", \"calistoga\", \"calistoga\", \"calistoga\", \"chat\", \"chat\", \"check\", \"check\", \"check\", \"check\", \"cheese\", \"cheese\", \"chef\", \"chef\", \"chef\", \"chef\", \"chef\", \"chef\", \"cherry\", \"cherry\", \"cherry\", \"chicken\", \"chicken\", \"chicken\", \"chicken\", \"chocolate\", \"chocolate\", \"chocolate\", \"choice\", \"choice\", \"chop\", \"chop\", \"chop\", \"chop\", \"coffee\", \"come\", \"come\", \"come\", \"come\", \"come\", \"come\", \"come\", \"comfortable\", \"comfortable\", \"comfortable\", \"completely\", \"completely\", \"completely\", \"consider\", \"consider\", \"cool\", \"cool\", \"cool\", \"cool\", \"corner\", \"corner\", \"corner\", \"corner\", \"country\", \"country\", \"country\", \"course\", \"course\", \"cozy\", \"cozy\", \"cozy\", \"cozy\", \"cream\", \"cream\", \"crisp\", \"crisp\", \"customer\", \"customer\", \"customer\", \"cut\", \"cut\", \"cut\", \"cut\", \"cut\", \"date\", \"date\", \"date\", \"day\", \"day\", \"day\", \"day\", \"decent\", \"decent\", \"decent\", \"decor\", \"definitely\", \"definitely\", \"definitely\", \"delicious\", \"delicious\", \"delicious\", \"delicious\", \"delicious\", \"delightful\", \"delightful\", \"delightful\", \"dessert\", \"dessert\", \"dessert\", \"dessert\", \"dine\", \"dine\", \"dine\", \"dine\", \"dine\", \"dinner\", \"dinner\", \"dinner\", \"dinner\", \"dinner\", \"disappoint\", \"disappoint\", \"disappoint\", \"disappoint\", \"dish\", \"dish\", \"dish\", \"door\", \"door\", \"dress\", \"dress\", \"duck\", \"duck\", \"duck\", \"eat\", \"eat\", \"eat\", \"eat\", \"efficient\", \"efficient\", \"end\", \"end\", \"end\", \"enjoy\", \"enjoy\", \"enjoy\", \"excellent\", \"excellent\", \"excellent\", \"excellent\", \"excite\", \"excite\", \"excite\", \"experience\", \"experience\", \"experience\", \"experience\", \"experience\", \"extremely\", \"extremely\", \"extremely\", \"fabulous\", \"fabulous\", \"fact\", \"fact\", \"fact\", \"family\", \"family\", \"family\", \"fan\", \"fantastic\", \"fantastic\", \"fantastic\", \"fantastic\", \"feel\", \"feel\", \"feel\", \"feel\", \"fine\", \"fine\", \"fine\", \"finish\", \"finish\", \"fish\", \"fish\", \"fish\", \"flavor\", \"flavor\", \"follow\", \"follow\", \"food\", \"food\", \"food\", \"food\", \"food\", \"food\", \"food\", \"forget\", \"forget\", \"forget\", \"forward\", \"forward\", \"fresh\", \"fresh\", \"fresh\", \"fresh\", \"friend\", \"friend\", \"friend\", \"friendly\", \"friendly\", \"friendly\", \"friendly\", \"friendly\", \"friendly\", \"garden\", \"garden\", \"garden\", \"girl\", \"girl\", \"girl\", \"goat\", \"goat\", \"goat\", \"good\", \"good\", \"good\", \"good\", \"good\", \"great\", \"great\", \"great\", \"great\", \"great\", \"great\", \"green\", \"green\", \"green\", \"green\", \"grill\", \"grill\", \"grill\", \"group\", \"group\", \"group\", \"group\", \"guest\", \"guest\", \"guest\", \"half\", \"half\", \"hand\", \"hand\", \"hand\", \"happy\", \"happy\", \"hash\", \"head\", \"healthy\", \"healthy\", \"healthy\", \"hear\", \"hear\", \"hear\", \"hear\", \"hearty\", \"hearty\", \"hearty\", \"heirloom\", \"heirloom\", \"heirloom\", \"helpful\", \"helpful\", \"helpful\", \"helpful\", \"high\", \"high\", \"highly\", \"highly\", \"highly\", \"hit\", \"hit\", \"hit\", \"homemade\", \"homemade\", \"homemade\", \"hostess\", \"hostess\", \"hot\", \"hot\", \"hot\", \"hour\", \"hour\", \"house\", \"house\", \"house\", \"house\", \"huevos\", \"husband\", \"husband\", \"husband\", \"husband\", \"husband\", \"include\", \"include\", \"incredible\", \"incredible\", \"incredible\", \"incredible\", \"ingredient\", \"ingredient\", \"instead\", \"instead\", \"instead\", \"interest\", \"interest\", \"item\", \"item\", \"item\", \"item\", \"juice\", \"juice\", \"juice\", \"juicy\", \"juicy\", \"kimchi\", \"kimchi\", \"kitchen\", \"kitchen\", \"kitchen\", \"know\", \"know\", \"know\", \"knowledgeable\", \"knowledgeable\", \"knowledgeable\", \"lack\", \"lack\", \"lack\", \"lamb\", \"lamb\", \"lamb\", \"lamb\", \"large\", \"large\", \"leave\", \"leave\", \"light\", \"light\", \"light\", \"light\", \"like\", \"like\", \"like\", \"like\", \"little\", \"little\", \"little\", \"little\", \"live\", \"live\", \"live\", \"local\", \"local\", \"local\", \"local\", \"location\", \"location\", \"long\", \"long\", \"long\", \"look\", \"look\", \"look\", \"look\", \"look\", \"look\", \"love\", \"love\", \"love\", \"loved\", \"loved\", \"loved\", \"loved\", \"lovina\", \"lovina\", \"lovina\", \"lovina\", \"lovina\", \"lovina\", \"lovina\", \"lunch\", \"lunch\", \"lunch\", \"lunch\", \"meal\", \"meal\", \"meal\", \"meal\", \"meal\", \"meal\", \"meet\", \"meet\", \"meet\", \"meet\", \"menu\", \"menu\", \"menu\", \"menu\", \"menu\", \"menu\", \"mess\", \"mess\", \"mess\", \"mess\", \"minute\", \"minute\", \"minute\", \"minute\", \"mix\", \"mix\", \"music\", \"music\", \"music\", \"napa\", \"napa\", \"napa\", \"nearly\", \"nearly\", \"new\", \"new\", \"new\", \"new\", \"nice\", \"nice\", \"nice\", \"nice\", \"nice\", \"nice\", \"night\", \"night\", \"night\", \"note\", \"note\", \"offer\", \"offer\", \"offer\", \"offer\", \"oil\", \"oil\", \"old\", \"old\", \"old\", \"omelet\", \"open\", \"open\", \"open\", \"open\", \"order\", \"order\", \"order\", \"order\", \"outdoor\", \"outdoor\", \"outdoor\", \"outdoor\", \"outside\", \"outside\", \"outside\", \"outstanding\", \"owner\", \"owner\", \"owner\", \"owner\", \"owner\", \"park\", \"park\", \"park\", \"partner\", \"partner\", \"partner\", \"partner\", \"partner\", \"party\", \"party\", \"perfect\", \"perfect\", \"perfect\", \"perfect\", \"perfect\", \"perfection\", \"perfection\", \"perfection\", \"perfection\", \"perfection\", \"perfection\", \"place\", \"place\", \"place\", \"place\", \"place\", \"point\", \"point\", \"point\", \"polenta\", \"polenta\", \"polenta\", \"pork\", \"pork\", \"pork\", \"pork\", \"potato\", \"potato\", \"prepare\", \"prepare\", \"pretentious\", \"pretentious\", \"pretentious\", \"pretentious\", \"price\", \"price\", \"price\", \"probably\", \"probably\", \"probably\", \"probably\", \"problem\", \"professional\", \"professional\", \"professional\", \"professional\", \"pudding\", \"pudding\", \"pudding\", \"pudding\", \"pur\", \"quaint\", \"quaint\", \"quaint\", \"quaint\", \"quality\", \"quality\", \"quality\", \"quick\", \"rancheros\", \"ready\", \"ready\", \"ready\", \"reasonable\", \"receive\", \"receive\", \"recommend\", \"recommend\", \"recommend\", \"recommend\", \"recommend\", \"recommendation\", \"recommendation\", \"recommendation\", \"reservation\", \"reservation\", \"reservation\", \"reservation\", \"restaurant\", \"restaurant\", \"restaurant\", \"restaurant\", \"return\", \"return\", \"return\", \"return\", \"return\", \"rick\", \"rick\", \"ricotta\", \"ricotta\", \"ricotta\", \"ricotta\", \"ricotta\", \"right\", \"right\", \"right\", \"right\", \"right\", \"right\", \"right\", \"right\", \"risotto\", \"risotto\", \"risotto\", \"risotto\", \"room\", \"room\", \"room\", \"room\", \"rude\", \"salad\", \"salad\", \"salad\", \"salad\", \"salad\", \"salad\", \"salmon\", \"salmon\", \"salmon\", \"sandwich\", \"sandwich\", \"sandwich\", \"sandwich\", \"satisfy\", \"satisfy\", \"satisfy\", \"sauce\", \"sauce\", \"sauce\", \"sauce\", \"sauce\", \"seat\", \"seat\", \"seat\", \"seat\", \"selection\", \"serve\", \"serve\", \"serve\", \"serve\", \"server\", \"server\", \"server\", \"server\", \"server\", \"server\", \"service\", \"service\", \"service\", \"service\", \"service\", \"service\", \"service\", \"service\", \"set\", \"share\", \"share\", \"short\", \"short\", \"slice\", \"slice\", \"slice\", \"small\", \"small\", \"smoke\", \"smoke\", \"smoke\", \"smoke\", \"soon\", \"soon\", \"soon\", \"soon\", \"sorry\", \"special\", \"special\", \"special\", \"special\", \"special\", \"special\", \"spice\", \"spice\", \"spice\", \"spicy\", \"spicy\", \"spicy\", \"squash\", \"squash\", \"squash\", \"staff\", \"staff\", \"staff\", \"staff\", \"staff\", \"staff\", \"star\", \"star\", \"star\", \"star\", \"star\", \"stay\", \"steak\", \"steak\", \"steak\", \"steak\", \"steak\", \"steak\", \"stew\", \"stew\", \"stew\", \"stop\", \"stop\", \"stop\", \"stop\", \"stop\", \"strip\", \"strip\", \"style\", \"style\", \"sunday\", \"sunday\", \"sunday\", \"super\", \"super\", \"super\", \"surprise\", \"surprise\", \"surprise\", \"surprise\", \"sweet\", \"sweet\", \"sweet\", \"table\", \"table\", \"table\", \"table\", \"taste\", \"taste\", \"taste\", \"taste\", \"taste\", \"tasty\", \"tasty\", \"tasty\", \"thank\", \"thank\", \"thank\", \"thank\", \"thick\", \"thick\", \"thick\", \"thick\", \"thick\", \"thing\", \"thing\", \"thing\", \"thing\", \"thing\", \"thing\", \"think\", \"think\", \"think\", \"tiki\", \"tiki\", \"time\", \"time\", \"time\", \"time\", \"time\", \"toast\", \"toast\", \"toast\", \"toast\", \"today\", \"today\", \"tomato\", \"tomato\", \"tomato\", \"tomato\", \"tonight\", \"tonight\", \"tonight\", \"tonight\", \"town\", \"town\", \"town\", \"town\", \"trip\", \"trip\", \"trip\", \"try\", \"try\", \"try\", \"try\", \"understand\", \"understand\", \"unique\", \"unique\", \"unique\", \"use\", \"use\", \"veggie\", \"veggie\", \"veggies\", \"veggies\", \"vibe\", \"vibe\", \"vibe\", \"visit\", \"visit\", \"visit\", \"visit\", \"visit\", \"wait\", \"wait\", \"wait\", \"waiter\", \"waiter\", \"waiter\", \"waiter\", \"waitress\", \"waitress\", \"waitress\", \"waitress\", \"walk\", \"walk\", \"walnut\", \"walnut\", \"want\", \"want\", \"want\", \"want\", \"warm\", \"warm\", \"warm\", \"warm\", \"warn\", \"warn\", \"way\", \"way\", \"way\", \"way\", \"way\", \"weekend\", \"weekend\", \"went\", \"went\", \"went\", \"went\", \"went\", \"white\", \"white\", \"white\", \"wild\", \"wild\", \"wild\", \"wine\", \"wine\", \"wine\", \"wish\", \"wish\", \"wish\", \"wonderful\", \"wonderful\", \"wonderful\", \"wonderful\", \"wonderful\", \"write\", \"write\", \"write\", \"wrong\", \"wrong\", \"wrong\", \"wrong\", \"year\", \"yelp\", \"yelp\", \"yum\", \"yum\", \"yum\", \"yum\", \"yum\", \"yum\", \"yummy\", \"yummy\", \"yummy\", \"zazie\", \"zazie\", \"zazie\"]}, \"R\": 30, \"lambda.step\": 0.01, \"plot.opts\": {\"xlab\": \"PC1\", \"ylab\": \"PC2\"}, \"topic.order\": [5, 4, 2, 1, 3, 10, 6, 9, 8, 7]};\n",
       "\n",
       "function LDAvis_load_lib(url, callback){\n",
       "  var s = document.createElement('script');\n",
       "  s.src = url;\n",
       "  s.async = true;\n",
       "  s.onreadystatechange = s.onload = callback;\n",
       "  s.onerror = function(){console.warn(\"failed to load library \" + url);};\n",
       "  document.getElementsByTagName(\"head\")[0].appendChild(s);\n",
       "}\n",
       "\n",
       "if(typeof(LDAvis) !== \"undefined\"){\n",
       "   // already loaded: just create the visualization\n",
       "   !function(LDAvis){\n",
       "       new LDAvis(\"#\" + \"ldavis_el112971406612220146721632363641\", ldavis_el112971406612220146721632363641_data);\n",
       "   }(LDAvis);\n",
       "}else if(typeof define === \"function\" && define.amd){\n",
       "   // require.js is available: use it to load d3/LDAvis\n",
       "   require.config({paths: {d3: \"https://cdnjs.cloudflare.com/ajax/libs/d3/3.5.5/d3.min\"}});\n",
       "   require([\"d3\"], function(d3){\n",
       "      window.d3 = d3;\n",
       "      LDAvis_load_lib(\"https://cdn.rawgit.com/bmabey/pyLDAvis/files/ldavis.v1.0.0.js\", function(){\n",
       "        new LDAvis(\"#\" + \"ldavis_el112971406612220146721632363641\", ldavis_el112971406612220146721632363641_data);\n",
       "      });\n",
       "    });\n",
       "}else{\n",
       "    // require.js not available: dynamically load d3 & LDAvis\n",
       "    LDAvis_load_lib(\"https://cdnjs.cloudflare.com/ajax/libs/d3/3.5.5/d3.min.js\", function(){\n",
       "         LDAvis_load_lib(\"https://cdn.rawgit.com/bmabey/pyLDAvis/files/ldavis.v1.0.0.js\", function(){\n",
       "                 new LDAvis(\"#\" + \"ldavis_el112971406612220146721632363641\", ldavis_el112971406612220146721632363641_data);\n",
       "            })\n",
       "         });\n",
       "}\n",
       "</script>"
      ],
      "text/plain": [
       "PreparedData(topic_coordinates=                x           y  topics  cluster       Freq\n",
       "topic                                                    \n",
       "4      227.136108  255.518265       1        1  60.599056\n",
       "3     -300.466614 -126.330116       2        1  11.211327\n",
       "1      -62.760136  294.404022       3        1  11.051833\n",
       "0       51.640743 -108.544739       4        1   6.487974\n",
       "2     -126.197220   12.377857       5        1   3.182646\n",
       "9       67.815948  106.009277       6        1   2.912438\n",
       "5      284.433197  -14.518091       7        1   1.658389\n",
       "8      195.434555 -273.106964       8        1   1.216746\n",
       "7     -286.200958  166.584442       9        1   1.134764\n",
       "6      -96.871574 -281.679657      10        1   0.544828, topic_info=     Category        Freq           Term       Total  loglift  logprob\n",
       "term                                                                  \n",
       "156   Default  130.000000          great  130.000000  30.0000  30.0000\n",
       "141   Default  179.000000           food  179.000000  29.0000  29.0000\n",
       "43    Default   54.000000      breakfast   54.000000  28.0000  28.0000\n",
       "338   Default  132.000000        service  132.000000  27.0000  27.0000\n",
       "70    Default   89.000000           come   89.000000  26.0000  26.0000\n",
       "155   Default  182.000000           good  182.000000  25.0000  25.0000\n",
       "377   Default   60.000000          table   60.000000  24.0000  24.0000\n",
       "313   Default  107.000000     restaurant  107.000000  23.0000  23.0000\n",
       "15    Default   55.000000            ask   55.000000  22.0000  22.0000\n",
       "46    Default   45.000000         brunch   45.000000  21.0000  21.0000\n",
       "95    Default   73.000000      delicious   73.000000  20.0000  20.0000\n",
       "326   Default   66.000000          salad   66.000000  19.0000  19.0000\n",
       "222   Default   50.000000           love   50.000000  18.0000  18.0000\n",
       "230   Default   63.000000           meal   63.000000  17.0000  17.0000\n",
       "52    Default  155.000000      calistoga  155.000000  16.0000  16.0000\n",
       "9     Default   23.000000            amp   23.000000  15.0000  15.0000\n",
       "260   Default   52.000000          order   52.000000  14.0000  14.0000\n",
       "48    Default   30.000000         burger   30.000000  13.0000  13.0000\n",
       "284   Default   31.000000           pork   31.000000  12.0000  12.0000\n",
       "336   Default   36.000000          serve   36.000000  11.0000  11.0000\n",
       "308   Default   24.000000      recommend   24.000000  10.0000  10.0000\n",
       "189   Default   22.000000     ingredient   22.000000   9.0000   9.0000\n",
       "60    Default   35.000000           chef   35.000000   8.0000   8.0000\n",
       "426   Default   48.000000           wine   48.000000   7.0000   7.0000\n",
       "396   Default   53.000000            try   53.000000   6.0000   6.0000\n",
       "101   Default   62.000000         dinner   62.000000   5.0000   5.0000\n",
       "278   Default  117.000000          place  117.000000   4.0000   4.0000\n",
       "146   Default   46.000000          fresh   46.000000   3.0000   3.0000\n",
       "90    Default   44.000000            day   44.000000   2.0000   2.0000\n",
       "379   Default   32.000000          taste   32.000000   1.0000   1.0000\n",
       "...       ...         ...            ...         ...      ...      ...\n",
       "387   Topic10    0.082031           tiki    4.230445   1.2695  -6.2810\n",
       "223   Topic10    0.079089          loved    4.171863   1.2469  -6.3175\n",
       "118   Topic10    0.079623         excite    4.213527   1.2437  -6.3108\n",
       "438   Topic10    0.081552          zazie    4.365320   1.2322  -6.2869\n",
       "91    Topic10    0.081641         decent    4.447162   1.2148  -6.2858\n",
       "356   Topic10    0.078197          spicy    4.272595   1.2117  -6.3289\n",
       "11    Topic10    0.079743     appreciate    4.375271   1.2075  -6.3093\n",
       "200   Topic10    0.081901  knowledgeable    4.550604   1.1950  -6.2826\n",
       "166   Topic10    0.078851           head    4.406135   1.1893  -6.3206\n",
       "266   Topic10    0.078462           park    4.386292   1.1888  -6.3255\n",
       "243   Topic10    0.076178          music    4.268406   1.1865  -6.3550\n",
       "405   Topic10    0.077105        veggies    4.329143   1.1845  -6.3429\n",
       "349   Topic10    0.077790           soon    4.440887   1.1679  -6.3341\n",
       "414   Topic10    0.208087           warm   12.430134   1.1225  -5.3502\n",
       "36    Topic10    0.127196           blow    7.519344   1.1329  -5.8424\n",
       "70    Topic10    0.514737           come   89.014658   0.0596  -4.4444\n",
       "156   Topic10    0.569006          great  130.657563  -0.2240  -4.3442\n",
       "338   Topic10    0.531707        service  132.608448  -0.3066  -4.4120\n",
       "141   Topic10    0.566016           food  179.298670  -0.5457  -4.3495\n",
       "432   Topic10    0.086356          write    5.264320   1.1022  -6.2296\n",
       "385   Topic10    0.122662          thing   14.800816   0.4194  -5.8787\n",
       "117   Topic10    0.181512      excellent   47.909658  -0.3633  -5.4868\n",
       "367   Topic10    0.125840           stop   16.360942   0.3448  -5.8531\n",
       "216   Topic10    0.155241          local   41.009111  -0.3641  -5.6431\n",
       "22    Topic10    0.106227           away   12.558353   0.4399  -6.0225\n",
       "127   Topic10    0.112993      fantastic   18.202985   0.1304  -5.9608\n",
       "433   Topic10    0.088502          wrong    6.830864   0.8663  -6.2051\n",
       "361   Topic10    0.110350          staff   40.552001  -0.6942  -5.9845\n",
       "227   Topic10    0.105377          lunch   29.436301  -0.4200  -6.0306\n",
       "155   Topic10    0.105869           good  182.869560  -2.2419  -6.0259\n",
       "\n",
       "[506 rows x 6 columns], token_table=      Topic      Freq        Term\n",
       "term                             \n",
       "1         1  0.886289  absolutely\n",
       "3         1  0.444263    actually\n",
       "3         5  0.222131    actually\n",
       "4         3  0.514037         add\n",
       "4         5  0.171346         add\n",
       "4         9  0.171346         add\n",
       "5         1  0.675269       amaze\n",
       "5         3  0.142162       amaze\n",
       "5         4  0.035540       amaze\n",
       "5         5  0.071081       amaze\n",
       "6         1  0.373747     amazing\n",
       "6         3  0.124582     amazing\n",
       "6         4  0.124582     amazing\n",
       "6         8  0.124582     amazing\n",
       "6         9  0.124582     amazing\n",
       "7         1  0.321876    ambiance\n",
       "7         2  0.482814    ambiance\n",
       "7         5  0.160938    ambiance\n",
       "8         3  0.154321    ambience\n",
       "8         4  0.308642    ambience\n",
       "8         5  0.462963    ambience\n",
       "9         1  0.668456         amp\n",
       "9         3  0.041778         amp\n",
       "9         6  0.041778         amp\n",
       "9         7  0.208892         amp\n",
       "10        1  0.864046   appetizer\n",
       "10        9  0.066465   appetizer\n",
       "11        1  0.685672  appreciate\n",
       "12        1  0.397773        area\n",
       "12        3  0.340948        area\n",
       "...     ...       ...         ...\n",
       "428       1  0.678851        wish\n",
       "428       3  0.113142        wish\n",
       "428       7  0.113142        wish\n",
       "429       1  0.653693   wonderful\n",
       "429       3  0.230715   wonderful\n",
       "429       4  0.038453   wonderful\n",
       "429       6  0.076905   wonderful\n",
       "429      10  0.038453   wonderful\n",
       "432       1  0.379916       write\n",
       "432       2  0.189958       write\n",
       "432       3  0.379916       write\n",
       "433       1  0.292789       wrong\n",
       "433       2  0.292789       wrong\n",
       "433       3  0.146394       wrong\n",
       "433       6  0.146394       wrong\n",
       "434       1  0.906019        year\n",
       "435       1  0.399117        yelp\n",
       "435       3  0.199559        yelp\n",
       "436       1  0.101101         yum\n",
       "436       4  0.303303         yum\n",
       "436       5  0.303303         yum\n",
       "436       7  0.101101         yum\n",
       "436       9  0.101101         yum\n",
       "436      10  0.101101         yum\n",
       "437       1  0.308580       yummy\n",
       "437       3  0.154290       yummy\n",
       "437       4  0.385724       yummy\n",
       "438       1  0.229078       zazie\n",
       "438       3  0.458157       zazie\n",
       "438       9  0.229078       zazie\n",
       "\n",
       "[1006 rows x 3 columns], R=30, lambda_step=0.01, plot_opts={'xlab': 'PC1', 'ylab': 'PC2'}, topic_order=[5, 4, 2, 1, 3, 10, 6, 9, 8, 7])"
      ]
     },
     "execution_count": 43,
     "metadata": {},
     "output_type": "execute_result"
    }
   ],
   "source": [
    "pyLDAvis.enable_notebook()\n",
    "dash = pyLDAvis.sklearn.prepare(lda, data_vectorized, vectorizer, mds='tsne')\n",
    "dash\n",
    "\n",
    "#"
   ]
  },
  {
   "cell_type": "code",
   "execution_count": 47,
   "metadata": {},
   "outputs": [
    {
     "ename": "NameError",
     "evalue": "name 'best_lda_model' is not defined",
     "output_type": "error",
     "traceback": [
      "\u001b[0;31m---------------------------------------------------------------------------\u001b[0m",
      "\u001b[0;31mNameError\u001b[0m                                 Traceback (most recent call last)",
      "\u001b[0;32m<ipython-input-47-80ec0885e11e>\u001b[0m in \u001b[0;36m<module>\u001b[0;34m\u001b[0m\n\u001b[1;32m      3\u001b[0m \u001b[0;34m\u001b[0m\u001b[0m\n\u001b[1;32m      4\u001b[0m \u001b[0;31m# column names\u001b[0m\u001b[0;34m\u001b[0m\u001b[0;34m\u001b[0m\u001b[0;34m\u001b[0m\u001b[0m\n\u001b[0;32m----> 5\u001b[0;31m \u001b[0mtopicnames\u001b[0m \u001b[0;34m=\u001b[0m \u001b[0;34m[\u001b[0m\u001b[0;34m\"Topic\"\u001b[0m \u001b[0;34m+\u001b[0m \u001b[0mstr\u001b[0m\u001b[0;34m(\u001b[0m\u001b[0mi\u001b[0m\u001b[0;34m)\u001b[0m \u001b[0;32mfor\u001b[0m \u001b[0mi\u001b[0m \u001b[0;32min\u001b[0m \u001b[0mrange\u001b[0m\u001b[0;34m(\u001b[0m\u001b[0mbest_lda_model\u001b[0m\u001b[0;34m.\u001b[0m\u001b[0mn_components\u001b[0m\u001b[0;34m)\u001b[0m\u001b[0;34m]\u001b[0m\u001b[0;34m\u001b[0m\u001b[0;34m\u001b[0m\u001b[0m\n\u001b[0m\u001b[1;32m      6\u001b[0m \u001b[0;34m\u001b[0m\u001b[0m\n\u001b[1;32m      7\u001b[0m \u001b[0;31m# index names\u001b[0m\u001b[0;34m\u001b[0m\u001b[0;34m\u001b[0m\u001b[0;34m\u001b[0m\u001b[0m\n",
      "\u001b[0;31mNameError\u001b[0m: name 'best_lda_model' is not defined"
     ]
    }
   ],
   "source": [
    "# Create Document - Topic Matrix\n",
    "lda_output = lda.transform(data_vectorized)\n",
    "\n",
    "# column names\n",
    "topicnames = [\"Topic\" + str(i) for i in range(best_lda_model.n_components)]\n",
    "\n",
    "# index names\n",
    "docnames = [\"cleaned_review\" + str(i) for i in range(len(included_reviews['review_cleaned']))]\n",
    "\n",
    "# Make the pandas dataframe\n",
    "df_document_topic = pd.DataFrame(np.round(lda_output, 2), columns=topicnames, index=docnames)\n",
    "\n",
    "# Get dominant topic for each document\n",
    "dominant_topic = np.argmax(df_document_topic.values, axis=1)\n",
    "df_document_topic['dominant_topic'] = dominant_topic\n",
    "\n",
    "df_document_topic.head()\n",
    "# Now get stars in there!!!"
   ]
  },
  {
   "cell_type": "code",
   "execution_count": 45,
   "metadata": {
    "scrolled": false
   },
   "outputs": [
    {
     "ename": "NameError",
     "evalue": "name 'df_document_topic' is not defined",
     "output_type": "error",
     "traceback": [
      "\u001b[0;31m---------------------------------------------------------------------------\u001b[0m",
      "\u001b[0;31mNameError\u001b[0m                                 Traceback (most recent call last)",
      "\u001b[0;32m<ipython-input-45-df533551d00d>\u001b[0m in \u001b[0;36m<module>\u001b[0;34m\u001b[0m\n\u001b[0;32m----> 1\u001b[0;31m \u001b[0mdf_document_topic\u001b[0m \u001b[0;34m=\u001b[0m \u001b[0mdf_document_topic\u001b[0m\u001b[0;34m.\u001b[0m\u001b[0mreset_index\u001b[0m\u001b[0;34m(\u001b[0m\u001b[0mdrop\u001b[0m\u001b[0;34m=\u001b[0m\u001b[0;32mFalse\u001b[0m\u001b[0;34m)\u001b[0m\u001b[0;34m\u001b[0m\u001b[0;34m\u001b[0m\u001b[0m\n\u001b[0m\u001b[1;32m      2\u001b[0m \u001b[0;34m\u001b[0m\u001b[0m\n\u001b[1;32m      3\u001b[0m \u001b[0mdf_document_topic\u001b[0m\u001b[0;34m[\u001b[0m\u001b[0;34m'stars'\u001b[0m\u001b[0;34m]\u001b[0m \u001b[0;34m=\u001b[0m \u001b[0mincluded_reviews\u001b[0m\u001b[0;34m[\u001b[0m\u001b[0;34m'stars'\u001b[0m\u001b[0;34m]\u001b[0m\u001b[0;34m\u001b[0m\u001b[0;34m\u001b[0m\u001b[0m\n\u001b[1;32m      4\u001b[0m \u001b[0mdf_document_topic\u001b[0m\u001b[0;34m[\u001b[0m\u001b[0;34m'text'\u001b[0m\u001b[0;34m]\u001b[0m \u001b[0;34m=\u001b[0m \u001b[0mincluded_reviews\u001b[0m\u001b[0;34m[\u001b[0m\u001b[0;34m'review_body'\u001b[0m\u001b[0;34m]\u001b[0m\u001b[0;34m\u001b[0m\u001b[0;34m\u001b[0m\u001b[0m\n",
      "\u001b[0;31mNameError\u001b[0m: name 'df_document_topic' is not defined"
     ]
    }
   ],
   "source": [
    "df_document_topic = df_document_topic.reset_index(drop=False)\n",
    "\n",
    "df_document_topic['stars'] = included_reviews['stars']\n",
    "df_document_topic['text'] = included_reviews['review_body']"
   ]
  },
  {
   "cell_type": "code",
   "execution_count": null,
   "metadata": {},
   "outputs": [],
   "source": [
    "# df_document_topic.head(50)"
   ]
  },
  {
   "cell_type": "code",
   "execution_count": null,
   "metadata": {
    "scrolled": true
   },
   "outputs": [],
   "source": [
    "ax = sns.countplot(x='dominant_topic', hue='stars', data=df_document_topic)\n",
    "#note that the 1-star reviews are clumping in topcs 4, 5, and to a lesser proportion 7\n",
    "#5 and 7 are also heavy with 2-star reviews"
   ]
  },
  {
   "cell_type": "code",
   "execution_count": null,
   "metadata": {},
   "outputs": [],
   "source": [
    "svd_2d = TruncatedSVD(n_components=2)\n",
    "data_2d = svd_2d.fit_transform(data_vectorized)"
   ]
  },
  {
   "cell_type": "code",
   "execution_count": null,
   "metadata": {
    "scrolled": true
   },
   "outputs": [],
   "source": [
    "trace = go.Scattergl(\n",
    "    x = data_2d[:,0],\n",
    "    y = data_2d[:,1],\n",
    "    mode = 'markers',\n",
    "    marker = dict(\n",
    "        color = '#FFBAD2',\n",
    "        line = dict(width = 1)\n",
    "    ),\n",
    "    text = vectorizer.get_feature_names(),\n",
    "    hovertext = vectorizer.get_feature_names(),\n",
    "    hoverinfo = 'text' \n",
    ")\n",
    "data = [trace]\n",
    "iplot(data, filename='scatter-mode')"
   ]
  },
  {
   "cell_type": "code",
   "execution_count": 46,
   "metadata": {
    "scrolled": true
   },
   "outputs": [
    {
     "ename": "NameError",
     "evalue": "name 'data_2d' is not defined",
     "output_type": "error",
     "traceback": [
      "\u001b[0;31m---------------------------------------------------------------------------\u001b[0m",
      "\u001b[0;31mNameError\u001b[0m                                 Traceback (most recent call last)",
      "\u001b[0;32m<ipython-input-46-83c034e49d82>\u001b[0m in \u001b[0;36m<module>\u001b[0;34m\u001b[0m\n\u001b[1;32m      1\u001b[0m trace = go.Scattergl(\n\u001b[0;32m----> 2\u001b[0;31m     \u001b[0mx\u001b[0m \u001b[0;34m=\u001b[0m \u001b[0mdata_2d\u001b[0m\u001b[0;34m[\u001b[0m\u001b[0;34m:\u001b[0m\u001b[0;34m,\u001b[0m\u001b[0;36m0\u001b[0m\u001b[0;34m]\u001b[0m\u001b[0;34m,\u001b[0m\u001b[0;34m\u001b[0m\u001b[0;34m\u001b[0m\u001b[0m\n\u001b[0m\u001b[1;32m      3\u001b[0m     \u001b[0my\u001b[0m \u001b[0;34m=\u001b[0m \u001b[0mdata_2d\u001b[0m\u001b[0;34m[\u001b[0m\u001b[0;34m:\u001b[0m\u001b[0;34m,\u001b[0m\u001b[0;36m1\u001b[0m\u001b[0;34m]\u001b[0m\u001b[0;34m,\u001b[0m\u001b[0;34m\u001b[0m\u001b[0;34m\u001b[0m\u001b[0m\n\u001b[1;32m      4\u001b[0m     \u001b[0mmode\u001b[0m \u001b[0;34m=\u001b[0m \u001b[0;34m'text'\u001b[0m\u001b[0;34m,\u001b[0m\u001b[0;34m\u001b[0m\u001b[0;34m\u001b[0m\u001b[0m\n\u001b[1;32m      5\u001b[0m     marker = dict(\n",
      "\u001b[0;31mNameError\u001b[0m: name 'data_2d' is not defined"
     ]
    }
   ],
   "source": [
    "trace = go.Scattergl(\n",
    "    x = data_2d[:,0],\n",
    "    y = data_2d[:,1],\n",
    "    mode = 'text',\n",
    "    marker = dict(\n",
    "        color = '#FFBAD2',\n",
    "        line = dict(width = 1)\n",
    "    ),\n",
    "    text = vectorizer.get_feature_names()\n",
    ")\n",
    "data = [trace]\n",
    "iplot(data, filename='text-scatter-mode')"
   ]
  },
  {
   "cell_type": "code",
   "execution_count": 48,
   "metadata": {},
   "outputs": [],
   "source": [
    "def spacy_bigram_tokenizer(phrase):\n",
    "    doc = parser(phrase) # create spacy object\n",
    "    token_not_noun = []\n",
    "    notnoun_noun_list = []\n",
    "    noun = \"\"\n",
    "\n",
    "    for item in doc:\n",
    "        if item.pos_ != \"NOUN\": # separate nouns and not nouns\n",
    "            token_not_noun.append(item.text)\n",
    "        if item.pos_ == \"NOUN\":\n",
    "            noun = item.text\n",
    "        \n",
    "        for notnoun in token_not_noun:\n",
    "            notnoun_noun_list.append(notnoun + \" \" + noun)\n",
    "\n",
    "    return \" \".join([i for i in notnoun_noun_list])"
   ]
  },
  {
   "cell_type": "code",
   "execution_count": 49,
   "metadata": {
    "scrolled": true
   },
   "outputs": [],
   "source": [
    "bivectorizer = CountVectorizer(min_df=5, max_df=0.9, stop_words='english', lowercase=True, ngram_range=(1,2))\n",
    "bigram_vectorized = bivectorizer.fit_transform(included_reviews['processed_reviews'])"
   ]
  },
  {
   "cell_type": "code",
   "execution_count": 50,
   "metadata": {
    "scrolled": true
   },
   "outputs": [
    {
     "name": "stdout",
     "output_type": "stream",
     "text": [
      "iteration: 1 of max_iter: 10\n",
      "iteration: 2 of max_iter: 10\n",
      "iteration: 3 of max_iter: 10\n",
      "iteration: 4 of max_iter: 10\n",
      "iteration: 5 of max_iter: 10\n",
      "iteration: 6 of max_iter: 10\n",
      "iteration: 7 of max_iter: 10\n",
      "iteration: 8 of max_iter: 10\n",
      "iteration: 9 of max_iter: 10\n",
      "iteration: 10 of max_iter: 10\n"
     ]
    }
   ],
   "source": [
    "bi_lda = LatentDirichletAllocation(n_components=NUM_TOPICS, max_iter=10, learning_method='online',verbose=True)\n",
    "data_bi_lda = bi_lda.fit_transform(bigram_vectorized)"
   ]
  },
  {
   "cell_type": "code",
   "execution_count": 51,
   "metadata": {},
   "outputs": [
    {
     "name": "stdout",
     "output_type": "stream",
     "text": [
      "Bi-LDA Model:\n",
      "Topic 0:\n",
      "[('service', 7.330353381826564), ('excellent', 5.431157279702129), ('food', 5.402139418431396), ('quality', 4.664222996245931), ('sunday', 4.538597760704606), ('brunch', 4.425608518919592), ('sunday brunch', 3.950318677426635), ('feel', 3.8686166497679157), ('hash', 3.670020754455983), ('wonderful', 3.4217567327488183)]\n",
      "Topic 1:\n",
      "[('excellent', 7.750053180068155), ('friend', 7.675419613324301), ('order', 7.533563262146283), ('salad', 7.410754635784176), ('sandwich', 5.398806035639905), ('perfect', 5.372536519571869), ('amazing', 5.177940445563613), ('lunch', 4.821076658570209), ('cheese', 4.553337176458799), ('soup', 4.504880320734931)]\n",
      "Topic 2:\n",
      "[('omelet', 28.739021822932013), ('good', 17.940994594965908), ('order', 16.718499252071265), ('potato', 16.248485680149187), ('coffee', 16.242317474477215), ('service', 13.159910104554509), ('cook', 11.54671916774522), ('mushroom', 10.341355898991335), ('excellent', 10.208052226581975), ('absolutely', 9.907324730643861)]\n",
      "Topic 3:\n",
      "[('yum', 2.0330941098102007), ('soup', 1.8228175539057934), ('chicken', 1.7158204128312233), ('15', 1.2795279709192449), ('outside', 1.0328069984794153), ('enjoy', 0.9618220231249026), ('calistoga', 0.8616231042893268), ('care', 0.8565014792878924), ('tiki', 0.769877983898329), ('pasta', 0.7674562473598717)]\n",
      "Topic 4:\n",
      "[('burger', 24.333958506524873), ('breakfast', 23.956474146704622), ('place', 23.911521703637977), ('cheese', 23.61666068689464), ('good', 21.814591402102177), ('food', 20.780381734867817), ('serve', 19.996544980480408), ('lamb', 19.069745110718937), ('service', 19.047668549621225), ('long', 18.440325040380174)]\n",
      "Topic 5:\n",
      "[('highly recommend', 4.8990485465187446), ('highly', 4.897944869428294), ('recommend', 4.134967058241746), ('come', 2.93336217573616), ('wonderful', 2.719134939859253), ('chef', 2.652938421985607), ('brunch', 2.634097336735225), ('family', 2.035735323813325), ('salad', 1.9402818180004624), ('right', 1.586733943240695)]\n",
      "Topic 6:\n",
      "[('wait', 18.190234375048), ('come', 14.542760243004432), ('minute', 14.083068165089792), ('ask', 6.510240119445743), ('table', 5.758207542312532), ('leave', 5.458330307372016), ('busy', 4.496744850778529), ('offer', 4.273933330809438), ('reservation', 4.1309850043306575), ('food come', 4.0862210764691005)]\n",
      "Topic 7:\n",
      "[('food', 153.16851247649439), ('good', 141.84059943484368), ('calistoga', 141.3970164410763), ('great', 122.31907101794006), ('restaurant', 96.0591600630844), ('service', 90.31090295851125), ('place', 85.84319481198315), ('come', 59.227910300343616), ('dinner', 57.63001305208635), ('meal', 57.00757821837757)]\n",
      "Topic 8:\n",
      "[('toast', 3.881782361813733), ('fresh', 2.760020450499238), ('super', 2.4293069564649614), ('friendly', 2.3601431186146242), ('visit', 2.3232548320804436), ('nice', 2.290269451938525), ('garden', 2.28478850724594), ('loved', 2.006224275984495), ('french toast', 1.908631637380983), ('house', 1.8771368529729517)]\n",
      "Topic 9:\n",
      "[('toast', 16.16606233994516), ('french toast', 15.166575075844948), ('french', 14.503717770892164), ('brunch', 7.818829136947591), ('breakfast', 5.247488232474026), ('spot', 4.335602532195493), ('pretty', 4.306668640597315), ('remedy', 4.211450319093121), ('delicious', 3.8311582858718443), ('susie remedy', 3.78032461122497)]\n"
     ]
    }
   ],
   "source": [
    "print(\"Bi-LDA Model:\")\n",
    "selected_topics(bi_lda, bivectorizer)"
   ]
  },
  {
   "cell_type": "code",
   "execution_count": 52,
   "metadata": {
    "scrolled": true
   },
   "outputs": [
    {
     "data": {
      "text/html": [
       "\n",
       "<link rel=\"stylesheet\" type=\"text/css\" href=\"https://cdn.rawgit.com/bmabey/pyLDAvis/files/ldavis.v1.0.0.css\">\n",
       "\n",
       "\n",
       "<div id=\"ldavis_el112971406611879235444262965816\"></div>\n",
       "<script type=\"text/javascript\">\n",
       "\n",
       "var ldavis_el112971406611879235444262965816_data = {\"mdsDat\": {\"x\": [244.4518585205078, -150.44252014160156, -219.58226013183594, -80.57441711425781, 113.36378479003906, 182.35716247558594, -11.029622077941895, -281.6409606933594, -26.20489501953125, 43.45588684082031], \"y\": [10.926532745361328, -135.32394409179688, 194.1552734375, 62.72831344604492, 143.4656219482422, -186.18772888183594, -259.02227783203125, -2.9473042488098145, 267.0447998046875, -54.645530700683594], \"topics\": [1, 2, 3, 4, 5, 6, 7, 8, 9, 10], \"cluster\": [1, 1, 1, 1, 1, 1, 1, 1, 1, 1], \"Freq\": [60.98697976814549, 9.987110920218626, 6.727517918481035, 5.897559191863828, 4.323683865495479, 4.314747406543037, 3.923265409149151, 1.643373782669384, 1.5216490945289647, 0.6741126429050159]}, \"tinfo\": {\"Category\": [\"Default\", \"Default\", \"Default\", \"Default\", \"Default\", \"Default\", \"Default\", \"Default\", \"Default\", \"Default\", \"Default\", \"Default\", \"Default\", \"Default\", \"Default\", \"Default\", \"Default\", \"Default\", \"Default\", \"Default\", \"Default\", \"Default\", \"Default\", \"Default\", \"Default\", \"Default\", \"Default\", \"Default\", \"Default\", \"Default\", \"Topic1\", \"Topic1\", \"Topic1\", \"Topic1\", \"Topic1\", \"Topic1\", \"Topic1\", \"Topic1\", \"Topic1\", \"Topic1\", \"Topic1\", \"Topic1\", \"Topic1\", \"Topic1\", \"Topic1\", \"Topic1\", \"Topic1\", \"Topic1\", \"Topic1\", \"Topic1\", \"Topic1\", \"Topic1\", \"Topic1\", \"Topic1\", \"Topic1\", \"Topic1\", \"Topic1\", \"Topic1\", \"Topic1\", \"Topic1\", \"Topic1\", \"Topic1\", \"Topic1\", \"Topic1\", \"Topic1\", \"Topic1\", \"Topic1\", \"Topic1\", \"Topic1\", \"Topic1\", \"Topic1\", \"Topic1\", \"Topic1\", \"Topic1\", \"Topic1\", \"Topic1\", \"Topic1\", \"Topic1\", \"Topic1\", \"Topic1\", \"Topic1\", \"Topic1\", \"Topic1\", \"Topic1\", \"Topic1\", \"Topic1\", \"Topic1\", \"Topic2\", \"Topic2\", \"Topic2\", \"Topic2\", \"Topic2\", \"Topic2\", \"Topic2\", \"Topic2\", \"Topic2\", \"Topic2\", \"Topic2\", \"Topic2\", \"Topic2\", \"Topic2\", \"Topic2\", \"Topic2\", \"Topic2\", \"Topic2\", \"Topic2\", \"Topic2\", \"Topic2\", \"Topic2\", \"Topic2\", \"Topic2\", \"Topic2\", \"Topic2\", \"Topic2\", \"Topic2\", \"Topic2\", \"Topic2\", \"Topic2\", \"Topic2\", \"Topic2\", \"Topic2\", \"Topic2\", \"Topic2\", \"Topic2\", \"Topic2\", \"Topic2\", \"Topic2\", \"Topic2\", \"Topic2\", \"Topic2\", \"Topic2\", \"Topic2\", \"Topic2\", \"Topic2\", \"Topic2\", \"Topic2\", \"Topic2\", \"Topic2\", \"Topic2\", \"Topic2\", \"Topic2\", \"Topic2\", \"Topic3\", \"Topic3\", \"Topic3\", \"Topic3\", \"Topic3\", \"Topic3\", \"Topic3\", \"Topic3\", \"Topic3\", \"Topic3\", \"Topic3\", \"Topic3\", \"Topic3\", \"Topic3\", \"Topic3\", \"Topic3\", \"Topic3\", \"Topic3\", \"Topic3\", \"Topic3\", \"Topic3\", \"Topic3\", \"Topic3\", \"Topic3\", \"Topic3\", \"Topic3\", \"Topic3\", \"Topic3\", \"Topic3\", \"Topic3\", \"Topic3\", \"Topic3\", \"Topic3\", \"Topic3\", \"Topic3\", \"Topic3\", \"Topic3\", \"Topic3\", \"Topic3\", \"Topic3\", \"Topic3\", \"Topic3\", \"Topic3\", \"Topic3\", \"Topic3\", \"Topic3\", \"Topic4\", \"Topic4\", \"Topic4\", \"Topic4\", \"Topic4\", \"Topic4\", \"Topic4\", \"Topic4\", \"Topic4\", \"Topic4\", \"Topic4\", \"Topic4\", \"Topic4\", \"Topic4\", \"Topic4\", \"Topic4\", \"Topic4\", \"Topic4\", \"Topic4\", \"Topic4\", \"Topic4\", \"Topic4\", \"Topic4\", \"Topic4\", \"Topic4\", \"Topic4\", \"Topic4\", \"Topic4\", \"Topic4\", \"Topic4\", \"Topic4\", \"Topic4\", \"Topic4\", \"Topic4\", \"Topic4\", \"Topic4\", \"Topic4\", \"Topic4\", \"Topic4\", \"Topic4\", \"Topic4\", \"Topic4\", \"Topic4\", \"Topic4\", \"Topic4\", \"Topic4\", \"Topic4\", \"Topic4\", \"Topic5\", \"Topic5\", \"Topic5\", \"Topic5\", \"Topic5\", \"Topic5\", \"Topic5\", \"Topic5\", \"Topic5\", \"Topic5\", \"Topic5\", \"Topic5\", \"Topic5\", \"Topic5\", \"Topic5\", \"Topic5\", \"Topic5\", \"Topic5\", \"Topic5\", \"Topic5\", \"Topic5\", \"Topic5\", \"Topic5\", \"Topic5\", \"Topic5\", \"Topic5\", \"Topic5\", \"Topic5\", \"Topic5\", \"Topic5\", \"Topic5\", \"Topic5\", \"Topic5\", \"Topic5\", \"Topic5\", \"Topic5\", \"Topic5\", \"Topic5\", \"Topic5\", \"Topic5\", \"Topic5\", \"Topic5\", \"Topic5\", \"Topic6\", \"Topic6\", \"Topic6\", \"Topic6\", \"Topic6\", \"Topic6\", \"Topic6\", \"Topic6\", \"Topic6\", \"Topic6\", \"Topic6\", \"Topic6\", \"Topic6\", \"Topic6\", \"Topic6\", \"Topic6\", \"Topic6\", \"Topic6\", \"Topic6\", \"Topic6\", \"Topic6\", \"Topic6\", \"Topic6\", \"Topic6\", \"Topic6\", \"Topic6\", \"Topic6\", \"Topic6\", \"Topic6\", \"Topic6\", \"Topic6\", \"Topic6\", \"Topic6\", \"Topic6\", \"Topic6\", \"Topic6\", \"Topic6\", \"Topic6\", \"Topic6\", \"Topic6\", \"Topic6\", \"Topic6\", \"Topic6\", \"Topic6\", \"Topic6\", \"Topic6\", \"Topic6\", \"Topic6\", \"Topic6\", \"Topic6\", \"Topic7\", \"Topic7\", \"Topic7\", \"Topic7\", \"Topic7\", \"Topic7\", \"Topic7\", \"Topic7\", \"Topic7\", \"Topic7\", \"Topic7\", \"Topic7\", \"Topic7\", \"Topic7\", \"Topic7\", \"Topic7\", \"Topic7\", \"Topic7\", \"Topic7\", \"Topic7\", \"Topic7\", \"Topic7\", \"Topic7\", \"Topic7\", \"Topic7\", \"Topic7\", \"Topic7\", \"Topic7\", \"Topic7\", \"Topic7\", \"Topic7\", \"Topic7\", \"Topic7\", \"Topic7\", \"Topic7\", \"Topic7\", \"Topic7\", \"Topic7\", \"Topic7\", \"Topic7\", \"Topic7\", \"Topic7\", \"Topic7\", \"Topic7\", \"Topic8\", \"Topic8\", \"Topic8\", \"Topic8\", \"Topic8\", \"Topic8\", \"Topic8\", \"Topic8\", \"Topic8\", \"Topic8\", \"Topic8\", \"Topic8\", \"Topic8\", \"Topic8\", \"Topic8\", \"Topic8\", \"Topic8\", \"Topic8\", \"Topic8\", \"Topic8\", \"Topic8\", \"Topic8\", \"Topic8\", \"Topic8\", \"Topic8\", \"Topic8\", \"Topic8\", \"Topic8\", \"Topic8\", \"Topic8\", \"Topic8\", \"Topic8\", \"Topic8\", \"Topic8\", \"Topic8\", \"Topic8\", \"Topic8\", \"Topic8\", \"Topic8\", \"Topic8\", \"Topic8\", \"Topic8\", \"Topic8\", \"Topic8\", \"Topic8\", \"Topic8\", \"Topic8\", \"Topic8\", \"Topic8\", \"Topic8\", \"Topic9\", \"Topic9\", \"Topic9\", \"Topic9\", \"Topic9\", \"Topic9\", \"Topic9\", \"Topic9\", \"Topic9\", \"Topic9\", \"Topic9\", \"Topic9\", \"Topic9\", \"Topic9\", \"Topic9\", \"Topic9\", \"Topic9\", \"Topic9\", \"Topic9\", \"Topic9\", \"Topic9\", \"Topic9\", \"Topic9\", \"Topic9\", \"Topic9\", \"Topic9\", \"Topic9\", \"Topic9\", \"Topic9\", \"Topic9\", \"Topic9\", \"Topic9\", \"Topic9\", \"Topic9\", \"Topic9\", \"Topic9\", \"Topic9\", \"Topic9\", \"Topic9\", \"Topic9\", \"Topic9\", \"Topic9\", \"Topic9\", \"Topic9\", \"Topic10\", \"Topic10\", \"Topic10\", \"Topic10\", \"Topic10\", \"Topic10\", \"Topic10\", \"Topic10\", \"Topic10\", \"Topic10\", \"Topic10\", \"Topic10\", \"Topic10\", \"Topic10\", \"Topic10\", \"Topic10\", \"Topic10\", \"Topic10\", \"Topic10\", \"Topic10\", \"Topic10\", \"Topic10\", \"Topic10\", \"Topic10\", \"Topic10\", \"Topic10\", \"Topic10\", \"Topic10\", \"Topic10\", \"Topic10\", \"Topic10\", \"Topic10\", \"Topic10\", \"Topic10\", \"Topic10\", \"Topic10\", \"Topic10\"], \"Freq\": [92.0, 48.0, 181.0, 42.0, 179.0, 134.0, 37.0, 38.0, 53.0, 49.0, 47.0, 62.0, 154.0, 31.0, 65.0, 53.0, 49.0, 23.0, 114.0, 51.0, 36.0, 54.0, 38.0, 21.0, 30.0, 36.0, 48.0, 73.0, 26.0, 48.0, 20.177340716003762, 22.666739459341663, 39.21542569610992, 16.81654168711947, 15.543879323994291, 93.2431130994821, 15.51691363095077, 24.71776250254356, 18.25587112761672, 13.962297431106256, 31.24637469936748, 12.725868266210272, 118.73319489426261, 17.698321785324257, 11.431809827617062, 46.8782487045688, 12.956011258830332, 21.76317868380025, 55.94054561180153, 10.657000792828082, 20.657167303726347, 31.42665064558118, 16.491878836190626, 26.518764811969938, 9.918231853871262, 12.888995775217587, 137.25185591135875, 10.550064134291377, 9.98788229805892, 11.888955297061162, 55.33635792622891, 17.8382836911694, 42.381203049937994, 43.93964346459457, 47.76729704485904, 148.6782616332052, 33.574111933935185, 54.014782217489774, 47.214574277914494, 33.64728293481438, 137.68243493401204, 43.49669305541556, 33.65886097162342, 83.3266365999662, 44.50690164655498, 28.028487533759407, 38.90803895870954, 47.35491618637848, 87.6633705015391, 53.716340684320194, 57.49159929312413, 35.62901671157005, 40.275299259216155, 42.0714098541136, 36.52677945375116, 36.0923086763631, 33.77232851869907, 9.442615253217417, 5.632712192330342, 6.4348008462075175, 6.000442866248266, 5.981693904226889, 16.463133790326303, 6.162044143615018, 6.141290332961682, 6.0963102889344105, 4.965928430441376, 6.396739645045486, 5.202750252553545, 2.312527267950052, 5.299965560526743, 5.283705597299971, 12.901631480180475, 4.657585136713593, 4.707163509291466, 8.222810362484227, 4.525576720300185, 8.49104519692432, 5.089841936104781, 7.059596454007964, 4.628781529375932, 5.332173517443027, 5.045971310668972, 12.475797482578928, 11.175648249961544, 2.764641613369004, 1.999494624631611, 9.26062679107772, 15.977846122521848, 13.528657709745582, 16.207746837241377, 8.278820945679042, 10.00914589721555, 6.591148546378246, 10.538522996827515, 9.249133581222628, 16.177334272667892, 12.05120148885304, 7.782620291909568, 9.08515181626577, 14.758656580178341, 14.058962277898559, 12.886695588065573, 9.278696738946676, 9.438445562157149, 8.672065805274206, 8.090242740749755, 7.277113504130064, 8.00501439823191, 7.411482020658124, 7.5176840839503845, 7.360046980243982, 7.9508056182594835, 27.42107866109307, 15.497460833920877, 9.452984601695874, 6.680218397267037, 3.192316039064795, 7.665489878508268, 15.503346171771659, 7.50341588929444, 6.32945247560538, 3.959747174979915, 9.867111529256277, 5.8436887671639415, 2.2510627197450344, 2.9372346419450737, 2.694154923232195, 2.257837254643232, 5.03693834768003, 3.296493503489395, 11.017198028766805, 3.9058494801843833, 2.1022401154427555, 2.091097879266711, 5.800638409354545, 8.74214341540696, 2.1993906311579114, 3.9225677497583664, 1.9120432783620145, 3.1970336562050328, 7.08353548791626, 6.4816799921611485, 15.951805385410328, 8.044511365789738, 8.375123637589112, 9.191522127911966, 5.786441882981938, 8.320453580102752, 9.739921031630052, 9.362649873417524, 17.11823829905895, 8.14519247423574, 7.201809714019154, 12.556409622193856, 5.753955574974652, 6.341345442400624, 6.714606228899386, 4.0202782597764815, 7.0720680304730275, 3.6224084208360123, 3.5936878440544207, 3.7200081014671342, 4.274647500614135, 3.180971789979434, 10.48314290952568, 4.023018166677999, 2.3722925075856875, 4.1631209550693224, 4.164440397177396, 3.0008452001191124, 4.510635764856886, 2.1375473042064357, 3.871145692284309, 4.033887621177174, 1.8398559843445519, 2.9554370352216277, 2.2021748549824736, 2.3789305519820445, 2.4845203936973226, 5.881123989345085, 2.9021818813772278, 1.9231502524332886, 2.170643050430575, 3.1478858473091633, 1.6750812645776687, 1.5377658350830563, 4.8138954753963015, 7.373727830355119, 4.297535662376804, 6.152797706407144, 3.286794559064534, 6.584660922229456, 10.585077967859853, 10.289394492248084, 7.337848737747955, 10.121661593522703, 5.82873067531928, 6.218980425931394, 5.921361817504281, 3.865192555267282, 5.2346824182703395, 5.384574746715364, 4.282028641793849, 4.178437713063744, 3.8644292954169903, 18.576592680523976, 5.390023228624678, 5.63762936452817, 3.671721928882386, 5.9315339883270175, 3.7194623171464305, 4.563759784730999, 3.164686272958751, 3.2359462769103633, 23.994244065804946, 3.6057697697496915, 2.4531273555395248, 2.045378156800331, 2.9102552611479764, 7.199935244733134, 2.009739271683559, 3.989134287619798, 3.4937465888629733, 2.531824110126946, 1.9776397772010745, 3.0736738933416445, 3.9624901201881344, 2.349689982118867, 2.888377373668655, 1.467497618976694, 2.554573544446354, 3.976906848134591, 1.457373982076969, 1.946136146593179, 2.4519210162631353, 19.18296001396147, 8.587480904987741, 5.449070109951706, 3.664988084990594, 7.595495159827548, 4.718575190215055, 3.1588726504235742, 4.906289998458636, 3.6051312526307275, 5.086761527332991, 5.248347580705786, 3.4983646825644445, 4.528023565594386, 2.898700297696747, 3.9747253215270257, 3.6125592576194463, 4.083188949693509, 5.030114332828435, 2.6873723612764633, 5.939160068019695, 2.641327462250065, 2.1316703107832047, 1.8455181350500094, 1.758878561006672, 3.529890656624073, 4.252345905834297, 1.8479385877252956, 2.0080586964754437, 1.6676734367998232, 1.8398395474736915, 1.7048636679845472, 1.549966733544685, 3.0345171458905953, 1.7015613716283693, 2.4189202251337205, 5.7791959361454, 3.0473327368498984, 3.6972601724715366, 1.2723926240399281, 1.5952032485184942, 1.7128895308235248, 4.673198672364507, 2.5151768051171395, 2.5138456268629907, 4.271224995731013, 2.9482423404493243, 4.357073185818104, 4.131859970092008, 6.915731187103081, 4.926079551357339, 5.635321770294948, 9.334061026854455, 4.030177793877568, 3.793298551101973, 3.0470087973879254, 3.2631548257331184, 6.878781469420803, 3.90807595521874, 3.6575516011102236, 3.38230696886731, 3.264292931783168, 3.391452219076949, 3.2663691137997084, 5.138054159403284, 5.13130231176007, 5.724021626313446, 20.61375468153146, 19.71282762286284, 21.972214661219983, 2.2349484105057513, 5.853438261965137, 4.614423519967348, 2.270116514972183, 1.813809321799085, 5.892763959454796, 1.9657287250241178, 1.6918755365478846, 1.8897109300395365, 1.7690116283049075, 1.752190681833364, 1.817554449241968, 2.529263965343876, 2.515000795516054, 2.3856772859376045, 5.1000492648899485, 1.1570835336757554, 1.5180793226763123, 1.0811704894147207, 1.0349079127569496, 1.116130277530408, 1.1241160453825658, 10.627015322829482, 2.752270776900861, 1.8605833220863515, 7.132159672009299, 2.674488625612369, 2.2214910071949068, 3.806938172049969, 5.207145097435849, 2.4350830942073074, 5.067936309498248, 3.055927805713675, 3.6766781957625714, 2.875362199362391, 2.9339662493261542, 2.6162668844267216, 2.323025675681415, 4.671926825150125, 4.670874314942027, 1.9413578734563697, 1.0866868296832608, 0.9629152559969383, 1.00556170884992, 1.3866771589232707, 0.7950944522792553, 0.7749285395139078, 0.7782596103117367, 0.7770053526370841, 0.732343399070003, 3.943268440203402, 0.7305642258143703, 0.6636410156551881, 0.7286673496147291, 0.7221059169735982, 0.7230020164817151, 0.6647947471229607, 0.6988568990916539, 0.6907855397879997, 0.8707311934959441, 0.729665329763778, 0.7244782717203484, 0.7819856524411832, 0.5961296585498465, 1.3306362349432157, 0.7162204088516182, 2.5930748279191014, 1.3256178074965683, 1.2407525850424352, 2.529947205351413, 2.511979599854066, 1.5131723646768471, 2.7973704090850173, 1.2363173950853419, 1.8503296278435295, 0.8364281985118959, 0.9461059428313483, 0.823461566123093, 1.2235176450912826, 1.0429277091945088, 1.0205151615478212, 0.8215528036793144, 1.0486491173653179, 0.9643025327800708, 0.9906021598596029, 0.922789671762699, 0.8503946873875249, 0.8456849932041506, 2.1094645992241245, 1.852276074950421, 1.3089074183261016, 1.2992322973806698, 0.9274195357765376, 1.1910137618618137, 1.3130243503525885, 1.3132500652033523, 1.187807204810622, 2.2428933833743767, 1.3422506981493776, 1.222271500511487, 0.641169526075976, 1.263411679375986, 0.7078367072020398, 0.6872508872868174, 0.6372033670339923, 0.6807226438364173, 0.6501741373675949, 0.658339425572595, 1.1904856627649265, 1.2679395435568002, 0.6605663760846816, 0.6991439764151719, 2.144979199478504, 0.6034408987890042, 0.60022552909687, 1.330155720670363, 0.6694131604192388, 0.6980513245938659, 3.5839126677020063, 1.7330942127411466, 1.3959456188960757, 2.5482294816340523, 1.7621722357433809, 2.179036852658705, 2.114524962037858, 1.6430278288735383, 1.3930166144334342, 1.110149954887901, 1.3037319937211533, 1.1951549540629547, 0.9746040052377092, 1.062314064195355, 0.8497978279488015, 1.3502783821841537, 0.505697256666257, 0.5093046731308537, 0.5113140575054249, 0.5075327727130435, 0.360964717185315, 0.509562349531681, 0.44923832993161394, 0.3997027950599164, 0.4284884505005687, 0.3376743013563741, 1.1395612234460601, 0.2909943101245058, 1.2106233183345194, 0.31944727802297507, 0.5688450063431427, 0.5043996641520501, 0.455985689900085, 0.50619745590332, 0.13522294560182424, 0.25123259928368363, 0.11423224805424416, 0.08423116319861723, 0.1922536472167937, 0.11681492176973318, 0.6859382240527209, 0.1090602231672688, 0.12885918543552197, 0.5097056624589558, 0.6387935900593533, 0.30548379655401947, 0.508163630862526, 0.42523411657058435, 0.5722465308902462, 0.2502204414750025, 0.22117217927733948], \"Term\": [\"come\", \"wait\", \"good\", \"toast\", \"food\", \"service\", \"french\", \"omelet\", \"table\", \"brunch\", \"fresh\", \"nice\", \"calistoga\", \"french toast\", \"salad\", \"excellent\", \"ask\", \"minute\", \"place\", \"breakfast\", \"chef\", \"order\", \"enjoy\", \"soup\", \"outside\", \"perfect\", \"friendly\", \"delicious\", \"recommend\", \"duck\", \"rabbit\", \"return\", \"want\", \"ice\", \"crisp\", \"restaurant\", \"food great\", \"night\", \"street\", \"date\", \"dessert\", \"great food\", \"great\", \"bone\", \"food good\", \"love\", \"group\", \"home\", \"dinner\", \"service friendly\", \"owner\", \"share\", \"fantastic\", \"flavor\", \"sit outside\", \"great place\", \"calistoga\", \"finish\", \"restaurant calistoga\", \"fish\", \"meal\", \"lovely\", \"bread\", \"calistoga kitchen\", \"try\", \"food\", \"enjoy\", \"little\", \"kitchen\", \"patio\", \"good\", \"table\", \"look\", \"place\", \"time\", \"pork\", \"duck\", \"nice\", \"service\", \"delicious\", \"come\", \"fresh\", \"like\", \"salad\", \"menu\", \"eat\", \"friendly\", \"veggie\", \"hear\", \"san\", \"san francisco\", \"francisco\", \"burger\", \"huevos\", \"huevos rancheros\", \"rancheros\", \"crazy\", \"bun\", \"friendly staff\", \"small town\", \"winery\", \"long time\", \"lamb\", \"value\", \"base\", \"tomato\", \"mean\", \"party\", \"mimosa\", \"partner\", \"plan\", \"healthy\", \"feel like\", \"long\", \"small\", \"breakfast sandwich\", \"decent\", \"expect\", \"cheese\", \"serve\", \"breakfast\", \"ingredient\", \"seat\", \"bean\", \"napa\", \"taste\", \"place\", \"like\", \"wonderful\", \"omelet\", \"good\", \"food\", \"service\", \"wine\", \"menu\", \"time\", \"think\", \"tasty\", \"nice\", \"local\", \"salad\", \"great\", \"cook perfectly\", \"omelet\", \"coffee\", \"absolutely\", \"pea\", \"fast\", \"season\", \"potato\", \"tender\", \"lemon\", \"smoke salmon\", \"mushroom\", \"service good\", \"slightly\", \"lack\", \"spin\", \"heirloom\", \"end\", \"location\", \"cook\", \"smoke\", \"dry\", \"spin dry\", \"reasonable\", \"perfectly\", \"cool\", \"drink\", \"add\", \"water\", \"way\", \"waitress\", \"order\", \"price\", \"wife\", \"bite\", \"salmon\", \"think\", \"excellent\", \"breakfast\", \"good\", \"day\", \"cheese\", \"service\", \"taste\", \"kitchen\", \"calistoga\", \"grill cheese\", \"amazing\", \"unique\", \"juicy\", \"recommendation\", \"short\", \"squash\", \"friend\", \"excellent service\", \"soft\", \"burrito\", \"breakfast burrito\", \"extremely\", \"grill\", \"tonight\", \"arugula\", \"waiter\", \"look like\", \"blt\", \"bread pudding\", \"hearty\", \"meat\", \"risotto\", \"today\", \"write\", \"pudding\", \"avocado\", \"knowledgeable\", \"vibe\", \"duck soup\", \"sandwich\", \"rib\", \"soup\", \"drink\", \"lunch\", \"excellent\", \"order\", \"perfect\", \"salad\", \"taste\", \"cheese\", \"duck\", \"chicken\", \"like\", \"delicious\", \"wine\", \"fresh\", \"dish\", \"minute\", \"food come\", \"offer\", \"half\", \"busy\", \"let know\", \"hour\", \"receive\", \"run\", \"wait\", \"let\", \"appreciate\", \"ready\", \"live\", \"leave\", \"nearly\", \"okay\", \"water\", \"real\", \"quick\", \"totally\", \"party\", \"available\", \"arrive\", \"understand\", \"maybe\", \"walk\", \"mention\", \"girl\", \"rude\", \"come\", \"ask\", \"reservation\", \"expect\", \"table\", \"seat\", \"appetizer\", \"order\", \"steak\", \"place\", \"service\", \"know\", \"food\", \"weekend calistoga\", \"service excellent\", \"chat\", \"cozy\", \"sunday brunch\", \"forward\", \"quality\", \"wait staff\", \"strip\", \"yum yum\", \"actually\", \"smoke\", \"yum\", \"tiki\", \"appreciate\", \"recommend place\", \"mess\", \"look forward\", \"pretentious\", \"item\", \"hand\", \"blow\", \"sunday\", \"casual\", \"set\", \"veggies\", \"fact\", \"blow away\", \"hash\", \"highly recommend\", \"highly\", \"house\", \"portion\", \"wonderful\", \"weekend\", \"excellent\", \"feel\", \"brunch\", \"service\", \"tasty\", \"price\", \"risotto\", \"lovina\", \"food\", \"menu\", \"wait\", \"staff\", \"little\", \"place\", \"good\", \"susie remedy\", \"susie\", \"remedy\", \"french toast\", \"french\", \"toast\", \"walnut\", \"pretty\", \"slice\", \"pretty good\", \"music\", \"spot\", \"size\", \"forget\", \"thank\", \"stay\", \"morning\", \"ambience\", \"breakfast burrito\", \"burrito\", \"easy\", \"lovina\", \"wild\", \"trip\", \"loved\", \"zazie\", \"ricotta\", \"tiki\", \"brunch\", \"tender\", \"different\", \"breakfast\", \"attentive\", \"clean\", \"amaze\", \"delicious\", \"disappoint\", \"good\", \"order\", \"place\", \"duck\", \"come\", \"service\", \"eat\", \"highly recommend\", \"highly\", \"family\", \"zazie\", \"soon\", \"little gem\", \"thank\", \"comfortable\", \"went\", \"chef come\", \"wild\", \"vibe\", \"recommend\", \"yum yum\", \"love place\", \"professional\", \"heirloom\", \"add\", \"park\", \"nearly\", \"include\", \"trip\", \"music\", \"unique\", \"chocolate cake\", \"style\", \"yum\", \"recommendation\", \"wonderful\", \"door\", \"chocolate\", \"chef\", \"brunch\", \"right\", \"come\", \"atmosphere\", \"salad\", \"hot\", \"roast\", \"huevos\", \"excellent\", \"amaze\", \"rick\", \"rancheros\", \"staff\", \"owner\", \"local\", \"server\", \"experience\", \"day\", \"garden\", \"loved\", \"decor\", \"look forward\", \"spicy\", \"saturday\", \"forward\", \"hearty\", \"morning\", \"super\", \"cozy\", \"helpful\", \"comfortable\", \"girl\", \"ricotta\", \"head\", \"pretentious\", \"add\", \"weekend calistoga\", \"soft\", \"goat\", \"bacon\", \"walnut\", \"thank\", \"visit\", \"time calistoga\", \"stay\", \"thing\", \"crazy\", \"friendly staff\", \"toast\", \"house\", \"cute\", \"fresh\", \"french toast\", \"friendly\", \"nice\", \"french\", \"recommend\", \"attentive\", \"breakfast\", \"brunch\", \"atmosphere\", \"food\", \"15\", \"yum\", \"vibe\", \"yum yum\", \"tiki\", \"breakfast sandwich\", \"excite\", \"trip\", \"mention\", \"staff friendly\", \"stay\", \"notice\", \"chicken\", \"couple\", \"soup\", \"fine\", \"care\", \"sunday brunch\", \"lemon\", \"bolognese\", \"wild\", \"quaint\", \"table ask\", \"small town\", \"entree\", \"include\", \"outside\", \"ricotta\", \"spin\", \"pasta\", \"enjoy\", \"disappoint\", \"perfect\", \"breakfast\", \"calistoga\", \"husband\", \"waitress\"], \"Total\": [92.0, 48.0, 181.0, 42.0, 179.0, 134.0, 37.0, 38.0, 53.0, 49.0, 47.0, 62.0, 154.0, 31.0, 65.0, 53.0, 49.0, 23.0, 114.0, 51.0, 36.0, 54.0, 38.0, 21.0, 30.0, 36.0, 48.0, 73.0, 26.0, 48.0, 21.44167439864263, 24.23452729141277, 41.961351653311525, 18.066392553758437, 16.76517213182442, 100.58722061116408, 16.739363796665405, 26.74527112083164, 19.86942905694106, 15.324438119796723, 34.303086769326875, 14.019755174371275, 130.82103542208102, 19.543719118774437, 12.626211423292437, 51.85917535587025, 14.399338193386688, 24.194309153492167, 62.22494085185682, 11.919852708849087, 23.219717580926787, 35.33937795912069, 18.567851193671306, 29.872966923368825, 11.18126199055975, 14.544527968597086, 154.97487130521333, 11.97979336904802, 11.352306827122355, 13.531311462760021, 63.19065912642468, 20.340716025298835, 48.8917655221534, 50.76999558379638, 55.563614745205015, 179.36480092900862, 38.814017520561244, 63.71790157865948, 56.16852612694166, 39.41934149919209, 181.83707663697044, 53.307068002795994, 40.26318675878732, 114.9374262868943, 55.95334658712733, 33.07324275202813, 48.76624115090046, 62.210271726264715, 134.23491464680848, 73.54299983194267, 92.75326343125937, 47.313939865423535, 58.91396703075937, 65.6373116770992, 52.63910791758491, 51.30083857354307, 48.84553546213863, 11.661023969747626, 7.4728351520736735, 8.777575636115978, 8.29200049338604, 8.291955998989593, 22.894109821573394, 8.760680131979623, 8.793113085908194, 8.782857656130286, 7.233729093990743, 9.661622826606393, 7.867239146554397, 3.552260050002056, 8.37230920402966, 8.374369130826638, 20.47355964745499, 7.428069486252555, 7.5550177752267595, 13.208834188392514, 7.409846450689063, 14.06827940257606, 8.678469459249225, 12.108632428556115, 7.960684727016681, 9.400498719962124, 9.076847050474882, 23.348602199056728, 21.448064183539447, 5.3184242577676475, 3.9337867263283046, 18.46444907588654, 37.87098631487539, 31.50031972806663, 51.4330018840576, 19.25483073486826, 28.827123457073984, 14.158009876317928, 35.342142373505155, 30.973394967839948, 114.9374262868943, 58.91396703075937, 23.837042190777144, 38.20143664236717, 181.83707663697044, 179.36480092900862, 134.23491464680848, 47.646860489970564, 52.63910791758491, 55.95334658712733, 40.634387817388415, 27.858071286084424, 62.210271726264715, 36.854435192227605, 65.6373116770992, 130.82103542208102, 10.069134168054141, 38.20143664236717, 24.13859091407638, 14.926467732584557, 10.710964532032504, 5.270975364035153, 12.677171931255215, 26.026140142107227, 13.211853250852393, 11.408738863162393, 7.755335207603915, 19.46081390560114, 12.033988070645794, 4.878692631268107, 6.446545383334722, 5.923490490706555, 5.229685275987329, 11.678703606065362, 7.6581510426442545, 25.87727940005053, 9.519985734550048, 5.3311896593883965, 5.368792223291434, 15.396103571109894, 23.23648291896533, 5.888050470318418, 10.621305682014922, 5.311557722749603, 9.353708697874865, 21.11594972864257, 19.89885830296286, 54.460205502089075, 26.033958885629602, 28.35071938259921, 37.22499863445582, 21.890318395736543, 40.634387817388415, 53.473780331839066, 51.4330018840576, 181.83707663697044, 44.86619956508646, 37.87098631487539, 134.23491464680848, 30.973394967839948, 56.16852612694166, 154.97487130521333, 5.6618076139441245, 10.354079606933018, 5.915988484072182, 6.078342063930382, 6.502332756611692, 7.546806373310572, 5.988968052327123, 20.36091795800641, 7.998851305167958, 5.258057532140297, 9.495735594392041, 9.50169026123622, 6.86473328647033, 10.350692138357855, 5.088560517625063, 9.503821624225152, 10.50397562396467, 4.864637315301448, 7.818259264000313, 6.0323045870288405, 6.582697165734889, 6.999228061890378, 17.037414762223733, 8.448745043181153, 5.69280265840314, 6.5315759776340725, 9.535491490909054, 5.131067914576305, 4.764308182080979, 15.180442670869809, 24.304444250681517, 13.892533098816255, 21.94535339797426, 10.621305682014922, 27.38889654360279, 53.473780331839066, 54.460205502089075, 36.207131760444184, 65.6373116770992, 30.973394967839948, 37.87098631487539, 48.76624115090046, 19.20376785557811, 58.91396703075937, 73.54299983194267, 47.646860489970564, 47.313939865423535, 35.93802724345561, 23.73902115617459, 7.881670500279136, 8.483780618592649, 5.686996447350469, 9.317808648983906, 5.984962120885009, 7.471908183530777, 5.999082360736371, 6.230552310726504, 48.97727711544541, 7.876418228343722, 5.610319397782343, 5.059193789403573, 7.275895054797029, 18.390265907916927, 5.179509829548241, 10.362400372126158, 9.353708697874865, 7.131417876634343, 5.663178617593801, 9.14140796791776, 14.06827940257606, 8.471060704061205, 10.689892292495918, 5.7258455120625715, 10.461177574364987, 16.688805563659777, 6.172384006978179, 8.419460691364037, 10.632446709376, 92.75326343125937, 49.881215401755775, 30.452022167687456, 18.46444907588654, 53.307068002795994, 28.827123457073984, 16.78738912400912, 54.460205502089075, 29.074321208054194, 114.9374262868943, 134.23491464680848, 29.254147705326282, 179.36480092900862, 5.136408801352733, 7.276786270344008, 6.703057958105447, 8.431280136282226, 11.366126124595084, 6.160951985473238, 14.562576576033461, 6.826409296018596, 5.526293952203364, 4.858830574148167, 4.7060879762206556, 9.519985734550048, 11.594976852924084, 5.081300410649061, 5.610319397782343, 4.965818695559768, 5.53902820012022, 5.314516808369125, 4.935586989913984, 10.049684258102559, 5.829711625007274, 8.316787259665466, 20.144934341216512, 11.358707970940529, 14.049584134609775, 4.883029752917955, 6.161039709461445, 6.822172201617394, 18.858818231813594, 10.332657278760902, 10.336859368511599, 20.360174081384535, 13.344035224607907, 23.837042190777144, 22.43204460149734, 53.473780331839066, 33.402352557493735, 49.058499313737165, 134.23491464680848, 27.858071286084424, 26.033958885629602, 17.037414762223733, 21.234443438092217, 179.36480092900862, 52.63910791758491, 48.97727711544541, 38.7038151759789, 63.71790157865948, 114.9374262868943, 181.83707663697044, 6.447872319748005, 6.45604667255716, 8.238550040140597, 31.4568684288781, 37.25208264428154, 42.559272848139535, 5.887443659245355, 15.581268255864297, 12.334220126619133, 6.231491212241698, 5.543009347447589, 18.512901665735058, 6.578705448798731, 5.774724485271936, 6.7165650065810025, 6.362881309795782, 6.529253854414443, 6.78671232279562, 9.50169026123622, 9.495735594392041, 9.582532697392379, 21.234443438092217, 4.8693394984827245, 6.526165347925437, 4.821279080808801, 4.6373316297110705, 5.011857446854607, 5.081300410649061, 49.058499313737165, 13.211853250852393, 9.475159884028045, 51.4330018840576, 16.638156762451914, 13.191729401210967, 29.30879628690747, 73.54299983194267, 18.666098807315603, 181.83707663697044, 54.460205502089075, 114.9374262868943, 48.76624115090046, 92.75326343125937, 134.23491464680848, 51.30083857354307, 10.332657278760902, 10.336859368511599, 5.723797622022106, 4.6373316297110705, 4.17937411988409, 4.5868265567217525, 6.7165650065810025, 4.2030516103839135, 4.54445395467799, 4.833556130980338, 4.8693394984827245, 4.764308182080979, 26.165832969709623, 4.858830574148167, 4.498377066101417, 5.205588193403678, 5.229685275987329, 5.311557722749603, 4.88834847875456, 5.179509829548241, 5.155771368269719, 6.526165347925437, 5.543009347447589, 5.915988484072182, 6.603279100734808, 5.17890909794607, 11.594976852924084, 6.502332756611692, 23.837042190777144, 12.427801349846252, 11.670648059867569, 36.58010727592498, 49.058499313737165, 25.799417234384876, 92.75326343125937, 21.232484141452208, 65.6373116770992, 8.81249563367032, 13.748705313227463, 8.760680131979623, 53.473780331839066, 29.30879628690747, 27.70609869097987, 8.782857656130286, 38.7038151759789, 23.219717580926787, 36.854435192227605, 20.783926206162803, 31.774037051772634, 44.86619956508646, 4.504625251631381, 4.821279080808801, 5.170238506704711, 5.314516808369125, 3.9617343586448426, 5.243335273738259, 6.160951985473238, 6.582697165734889, 6.529253854414443, 12.663868168266355, 8.431280136282226, 7.79042176614851, 4.2030516103839135, 8.419460691364037, 5.011857446854607, 4.941326171557432, 4.935586989913984, 5.311557722749603, 5.136408801352733, 5.258057532140297, 9.538289434598882, 11.015982237067181, 5.887443659245355, 6.7165650065810025, 21.099710255834815, 6.1673539718206225, 6.362881309795782, 14.215012605741766, 7.233729093990743, 7.867239146554397, 42.559272848139535, 20.360174081384535, 16.544406090244607, 47.313939865423535, 31.4568684288781, 48.84553546213863, 62.210271726264715, 37.25208264428154, 26.165832969709623, 16.638156762451914, 51.4330018840576, 49.058499313737165, 21.232484141452208, 179.36480092900862, 5.436407237484502, 11.594976852924084, 4.764308182080979, 4.858830574148167, 5.081300410649061, 5.3184242577676475, 4.438239335478362, 6.526165347925437, 6.172384006978179, 5.874004494414828, 6.362881309795782, 5.101269879726176, 19.20376785557811, 5.250622688908099, 21.94535339797426, 5.910138952121095, 12.619552650611585, 11.366126124595084, 11.408738863162393, 15.825179051155839, 4.8693394984827245, 9.185776914251752, 4.177854469004726, 3.552260050002056, 8.148253283688943, 5.155771368269719, 30.61488716882591, 5.011857446854607, 5.923490490706555, 23.643924166706583, 38.814017520561244, 18.666098807315603, 36.207131760444184, 51.4330018840576, 154.97487130521333, 24.219131533383962, 19.89885830296286], \"loglift\": [30.0, 29.0, 28.0, 27.0, 26.0, 25.0, 24.0, 23.0, 22.0, 21.0, 20.0, 19.0, 18.0, 17.0, 16.0, 15.0, 14.0, 13.0, 12.0, 11.0, 10.0, 9.0, 8.0, 7.0, 6.0, 5.0, 4.0, 3.0, 2.0, 1.0, 0.4337, 0.4276, 0.4268, 0.4228, 0.4189, 0.4187, 0.4187, 0.4157, 0.4098, 0.4014, 0.4012, 0.3977, 0.3976, 0.3953, 0.3951, 0.3935, 0.3889, 0.3886, 0.388, 0.3825, 0.3776, 0.3772, 0.3759, 0.3754, 0.3746, 0.3737, 0.3731, 0.3674, 0.3665, 0.3651, 0.3618, 0.3632, 0.3516, 0.35, 0.3433, 0.3069, 0.3495, 0.3293, 0.3209, 0.3362, 0.2163, 0.2911, 0.3153, 0.1729, 0.2656, 0.329, 0.2687, 0.2217, 0.0684, 0.1804, 0.0162, 0.2109, 0.1142, 0.0497, 0.1291, 0.1429, 0.1255, 2.0929, 2.0212, 1.9934, 1.9804, 1.9773, 1.9741, 1.952, 1.9449, 1.9388, 1.9277, 1.8915, 1.8904, 1.8746, 1.8466, 1.8433, 1.8421, 1.8371, 1.8307, 1.8299, 1.8108, 1.799, 1.7703, 1.7643, 1.7617, 1.7369, 1.7167, 1.6771, 1.652, 1.6496, 1.6272, 1.6138, 1.4409, 1.4587, 1.1491, 1.4598, 1.2461, 1.5393, 1.0938, 1.0953, 0.3431, 0.717, 1.1845, 0.8676, -0.2074, -0.2423, -0.0395, 0.6678, 0.5852, 0.4395, 0.6899, 0.9615, 0.2534, 0.6999, 0.137, -0.5739, 2.4628, 2.3674, 2.2558, 2.2422, 2.2268, 2.1975, 2.1959, 2.1809, 2.1332, 2.1098, 2.0268, 2.0198, 1.9766, 1.9255, 1.9129, 1.9111, 1.859, 1.858, 1.8561, 1.8451, 1.808, 1.7684, 1.7561, 1.7228, 1.7214, 1.7142, 1.7028, 1.6773, 1.6254, 1.6067, 1.5773, 1.4711, 1.5246, 1.4796, 1.3003, 1.3684, 1.1131, 0.996, 0.9954, 0.336, 0.9927, 1.0391, 0.3296, 1.0157, 0.5177, -0.44, 2.4882, 2.4494, 2.3401, 2.3051, 2.2722, 2.2622, 2.1979, 2.1668, 2.1434, 2.0347, 2.0061, 2.0057, 2.0031, 2.0, 1.9633, 1.9325, 1.8736, 1.8583, 1.8578, 1.8229, 1.8128, 1.7949, 1.767, 1.7621, 1.7454, 1.729, 1.7223, 1.7112, 1.6998, 1.6821, 1.6379, 1.6573, 1.559, 1.6577, 1.4052, 1.2109, 1.1643, 1.2344, 0.9612, 1.1603, 1.0241, 0.7222, 1.2275, 0.4099, 0.2163, 0.4212, 0.4038, 0.6006, 2.8958, 2.7611, 2.7324, 2.7035, 2.6894, 2.6654, 2.6481, 2.5015, 2.4859, 2.4275, 2.3597, 2.3138, 2.2354, 2.2247, 2.2033, 2.1944, 2.1865, 2.1563, 2.1055, 2.089, 2.0511, 1.874, 1.8587, 1.8325, 1.7796, 1.7313, 1.7068, 1.6976, 1.6764, 1.674, 1.5651, 1.3817, 1.4204, 1.524, 1.1925, 1.3313, 1.4706, 0.7341, 1.0536, 0.0233, -0.1006, 1.0173, -0.5381, 2.571, 2.5384, 2.525, 2.4181, 2.3279, 2.3135, 2.2462, 2.1936, 2.1905, 2.1751, 2.159, 2.151, 2.14, 2.1316, 2.1157, 2.052, 2.041, 2.0062, 1.9849, 1.9456, 1.9117, 1.9082, 1.8944, 1.8274, 1.8081, 1.7983, 1.7919, 1.7611, 1.748, 1.7302, 1.7292, 1.5815, 1.6333, 1.4437, 1.4514, 1.0977, 1.229, 0.9792, 0.4772, 1.2098, 1.217, 1.4219, 1.2702, -0.1178, 0.5427, 0.5486, 0.7058, 0.1717, -0.38, -0.8763, 3.0112, 3.0086, 2.8741, 2.8156, 2.6018, 2.5771, 2.2696, 2.2592, 2.2551, 2.2285, 2.1211, 2.0935, 2.0303, 2.0106, 1.9701, 1.9582, 1.9228, 1.9208, 1.9147, 1.9097, 1.8478, 1.8119, 1.8012, 1.7799, 1.7433, 1.7384, 1.7363, 1.7297, 1.7086, 1.6696, 1.6105, 1.2626, 1.4103, 1.4568, 1.1972, 0.5904, 1.2015, -0.3419, 0.3579, -0.2041, 0.4074, -0.2153, -0.6996, 0.1434, 3.3147, 3.314, 3.0272, 2.6574, 2.6405, 2.5908, 2.5308, 2.4433, 2.3395, 2.2821, 2.2732, 2.2358, 2.216, 2.2137, 2.1947, 2.1421, 2.1285, 2.1142, 2.1133, 2.1054, 2.0984, 2.0942, 2.0807, 2.0085, 1.9749, 1.9465, 1.9435, 1.9025, 1.89, 1.8704, 1.8671, 1.4371, 1.1365, 1.2723, 0.6072, 1.265, 0.5396, 1.7536, 1.4321, 1.7439, 0.331, 0.7726, 0.8071, 1.7391, 0.5, 0.9271, 0.492, 0.9939, 0.4877, 0.1371, 3.4267, 3.2288, 2.8116, 2.7767, 2.7333, 2.7032, 2.6395, 2.5734, 2.4812, 2.4544, 2.3478, 2.3332, 2.3051, 2.2886, 2.228, 2.2127, 2.1382, 2.1309, 2.1185, 2.1076, 2.1044, 2.0234, 1.9979, 1.9229, 1.8992, 1.861, 1.8244, 1.8164, 1.8053, 1.7632, 1.7109, 1.7217, 1.7129, 1.264, 1.3033, 1.0756, 0.8037, 1.0642, 1.2524, 1.4782, 0.5103, 0.4706, 1.1041, -0.9436, 3.1437, 2.8493, 2.7566, 2.744, 2.7032, 2.6502, 2.4903, 2.4495, 2.3792, 2.312, 2.3016, 2.2844, 2.1751, 2.1067, 2.1021, 2.0817, 1.9001, 1.8845, 1.7799, 1.5571, 1.4157, 1.4005, 1.4002, 1.2578, 1.2528, 1.2122, 1.2011, 1.1719, 1.1716, 1.1625, 0.8926, 0.887, 0.7333, 0.2041, -0.6019, 0.427, 0.5001], \"logprob\": [30.0, 29.0, 28.0, 27.0, 26.0, 25.0, 24.0, 23.0, 22.0, 21.0, 20.0, 19.0, 18.0, 17.0, 16.0, 15.0, 14.0, 13.0, 12.0, 11.0, 10.0, 9.0, 8.0, 7.0, 6.0, 5.0, 4.0, 3.0, 2.0, 1.0, -5.5636, -5.4472, -4.8991, -5.7458, -5.8245, -4.0329, -5.8262, -5.3606, -5.6637, -5.9318, -5.1262, -6.0245, -3.7913, -5.6947, -6.1317, -4.7206, -6.0066, -5.4879, -4.5439, -6.2019, -5.5401, -5.1205, -5.7653, -5.2903, -6.2738, -6.0118, -3.6463, -6.212, -6.2668, -6.0925, -4.5547, -5.6868, -4.8214, -4.7853, -4.7018, -3.5664, -5.0544, -4.5789, -4.7134, -5.0522, -3.6432, -4.7955, -5.0519, -4.1454, -4.7725, -5.2349, -4.9069, -4.7105, -4.0946, -4.5844, -4.5165, -4.995, -4.8724, -4.8288, -4.9701, -4.9821, -5.0485, -4.5135, -5.0302, -4.8971, -4.9669, -4.9701, -3.9577, -4.9404, -4.9437, -4.9511, -5.1562, -4.903, -5.1096, -5.9204, -5.0911, -5.0941, -4.2014, -5.2203, -5.2097, -4.6519, -5.249, -4.6198, -5.1315, -4.8044, -5.2265, -5.085, -5.1402, -4.235, -4.345, -5.7419, -6.0659, -4.533, -3.9876, -4.154, -3.9733, -4.6451, -4.4553, -4.873, -4.4037, -4.5342, -3.9752, -4.2696, -4.7069, -4.5521, -4.0669, -4.1155, -4.2026, -4.5311, -4.514, -4.5987, -4.6681, -4.774, -4.6787, -4.7557, -4.7415, -4.7627, -4.2904, -3.0524, -3.623, -4.1174, -4.4645, -5.2029, -4.327, -3.6226, -4.3483, -4.5185, -4.9875, -4.0745, -4.5983, -5.5523, -5.2862, -5.3726, -5.5493, -4.7469, -5.1708, -3.9642, -5.0012, -5.6207, -5.626, -4.6057, -4.1955, -5.5755, -4.9969, -5.7155, -5.2015, -4.4059, -4.4947, -3.5941, -4.2787, -4.2384, -4.1454, -4.6082, -4.245, -4.0875, -4.127, -3.5235, -4.2663, -4.3894, -3.8335, -4.6138, -4.5166, -4.4594, -4.8407, -4.2759, -4.9449, -4.9528, -4.9183, -4.7793, -5.0748, -3.8823, -4.84, -5.3682, -4.8058, -4.8054, -5.1331, -4.7256, -5.4724, -4.8785, -4.8373, -5.6223, -5.1484, -5.4426, -5.3654, -5.3219, -4.4603, -5.1666, -5.5781, -5.457, -5.0853, -5.7162, -5.8017, -4.6605, -4.2341, -4.774, -4.4151, -5.0421, -4.3473, -3.8726, -3.9009, -4.239, -3.9173, -4.4692, -4.4044, -4.4535, -4.88, -4.5767, -4.5485, -4.7776, -4.8021, -4.8802, -2.9997, -4.237, -4.1921, -4.6209, -4.1413, -4.608, -4.4034, -4.7695, -4.7473, -2.7438, -4.6391, -5.0242, -5.206, -4.8533, -3.9475, -5.2236, -4.538, -4.6706, -4.9926, -5.2397, -4.7987, -4.5447, -5.0673, -4.8609, -5.538, -4.9837, -4.5411, -5.545, -5.2557, -5.0247, -2.9676, -3.7713, -4.2261, -4.6228, -3.894, -4.3701, -4.7714, -4.3311, -4.6392, -4.2949, -4.2637, -4.6693, -4.4113, -4.8553, -4.5396, -4.6351, -4.5126, -4.3041, -4.931, -4.138, -4.9482, -5.1626, -5.3068, -5.3548, -4.6583, -4.472, -5.3054, -5.2224, -5.4081, -5.3098, -5.386, -5.4813, -4.8095, -5.388, -5.0362, -4.1653, -4.8053, -4.6119, -5.6786, -5.4525, -5.3813, -4.3777, -4.9972, -4.9977, -4.4676, -4.8383, -4.4477, -4.5008, -3.9857, -4.325, -4.1905, -3.6859, -4.5257, -4.5863, -4.8054, -4.7368, -3.9911, -4.5565, -4.6227, -4.701, -4.7365, -4.6983, -4.7358, -4.1877, -4.189, -4.0797, -2.7984, -2.8431, -2.7346, -5.0202, -4.0574, -4.2952, -5.0046, -5.229, -4.0507, -5.1485, -5.2986, -5.188, -5.254, -5.2635, -5.2269, -4.8965, -4.9021, -4.9549, -4.1952, -5.6785, -5.407, -5.7464, -5.7901, -5.7145, -5.7074, -3.461, -4.812, -5.2035, -3.8598, -4.8406, -5.0262, -4.4876, -4.1744, -4.9344, -4.2015, -4.7073, -4.5224, -4.7682, -4.7481, -4.8627, -4.9815, -3.4127, -3.4129, -4.2908, -4.8711, -4.992, -4.9487, -4.6273, -5.1835, -5.2092, -5.2049, -5.2065, -5.2657, -3.5822, -5.2682, -5.3642, -5.2708, -5.2798, -5.2786, -5.3625, -5.3125, -5.3242, -5.0927, -5.2694, -5.2765, -5.2002, -5.4715, -4.6686, -5.288, -4.0014, -4.6724, -4.7385, -4.026, -4.0332, -4.54, -3.9256, -4.7421, -4.3389, -5.1328, -5.0096, -5.1485, -4.7525, -4.9122, -4.9339, -5.1508, -4.9067, -4.9906, -4.9637, -5.0346, -5.1163, -5.1218, -4.1308, -4.2609, -4.6081, -4.6155, -4.9526, -4.7025, -4.6049, -4.6048, -4.7052, -4.0695, -4.5829, -4.6766, -5.3217, -4.6435, -5.2228, -5.2523, -5.3279, -5.2619, -5.3078, -5.2953, -4.7029, -4.6399, -5.2919, -5.2352, -4.1141, -5.3824, -5.3877, -4.592, -5.2786, -5.2367, -3.6008, -4.3274, -4.5437, -3.9419, -4.3107, -4.0984, -4.1284, -4.3807, -4.5458, -4.7728, -4.612, -4.699, -4.903, -4.8168, -4.2259, -3.7628, -4.7449, -4.7378, -4.7339, -4.7413, -5.0821, -4.7373, -4.8633, -4.9802, -4.9106, -5.1488, -3.9325, -5.2976, -3.872, -5.2043, -4.6273, -4.7475, -4.8484, -4.744, -6.064, -5.4445, -6.2326, -6.5373, -5.7121, -6.2103, -4.4401, -6.279, -6.1122, -4.737, -4.5113, -5.249, -4.7401, -4.9182, -4.6213, -5.4485, -5.5719]}, \"token.table\": {\"Topic\": [1, 3, 10, 1, 3, 2, 5, 6, 2, 3, 8, 9, 1, 2, 4, 6, 7, 8, 1, 4, 8, 1, 2, 3, 7, 1, 4, 5, 5, 6, 1, 4, 5, 1, 4, 1, 2, 3, 5, 1, 2, 8, 9, 1, 2, 4, 6, 7, 9, 1, 5, 1, 3, 4, 5, 7, 9, 1, 2, 4, 9, 1, 2, 5, 1, 2, 7, 8, 1, 2, 3, 4, 1, 2, 6, 7, 1, 2, 6, 7, 1, 2, 4, 1, 3, 9, 10, 1, 3, 1, 2, 4, 1, 2, 4, 6, 1, 2, 3, 4, 5, 7, 9, 2, 4, 7, 9, 2, 7, 10, 1, 2, 3, 4, 6, 7, 8, 9, 2, 4, 2, 3, 4, 7, 2, 4, 7, 9, 1, 5, 1, 2, 3, 4, 6, 7, 10, 1, 3, 1, 2, 4, 6, 10, 1, 4, 6, 1, 6, 1, 2, 3, 4, 7, 1, 2, 4, 5, 6, 8, 1, 6, 8, 1, 4, 6, 7, 9, 10, 1, 8, 1, 8, 1, 3, 7, 1, 2, 3, 6, 1, 2, 3, 5, 6, 7, 8, 1, 2, 8, 9, 1, 2, 3, 2, 3, 1, 3, 6, 1, 5, 2, 6, 7, 9, 2, 9, 1, 1, 4, 7, 9, 1, 1, 2, 3, 4, 5, 8, 2, 7, 1, 9, 1, 2, 3, 4, 6, 7, 1, 2, 4, 1, 4, 5, 7, 1, 2, 5, 1, 2, 3, 5, 7, 1, 2, 4, 5, 6, 7, 1, 8, 1, 3, 4, 1, 3, 6, 1, 4, 7, 1, 4, 1, 4, 7, 1, 2, 3, 4, 5, 7, 1, 3, 5, 1, 2, 4, 6, 10, 1, 1, 3, 4, 6, 7, 8, 3, 4, 5, 6, 1, 5, 1, 2, 4, 5, 6, 1, 2, 3, 4, 8, 1, 3, 4, 5, 1, 3, 6, 1, 8, 1, 4, 1, 3, 1, 2, 3, 4, 5, 6, 1, 2, 1, 6, 1, 1, 2, 1, 3, 6, 1, 2, 3, 4, 5, 6, 7, 9, 1, 3, 5, 1, 1, 1, 3, 4, 7, 3, 6, 9, 2, 4, 1, 2, 3, 4, 5, 6, 7, 9, 1, 3, 4, 5, 6, 7, 9, 1, 2, 4, 9, 1, 2, 4, 6, 1, 2, 3, 4, 5, 6, 9, 2, 6, 9, 6, 9, 1, 3, 4, 5, 6, 9, 1, 2, 7, 8, 9, 1, 2, 3, 4, 6, 7, 1, 2, 4, 1, 1, 2, 1, 4, 5, 4, 7, 1, 4, 5, 1, 4, 6, 1, 2, 5, 6, 1, 3, 4, 6, 9, 1, 2, 6, 7, 2, 8, 1, 4, 7, 9, 2, 3, 8, 1, 9, 1, 4, 6, 8, 9, 1, 4, 6, 8, 9, 1, 4, 1, 4, 6, 8, 4, 5, 1, 2, 4, 6, 7, 9, 1, 2, 8, 1, 2, 8, 1, 2, 3, 6, 1, 1, 2, 6, 8, 1, 2, 1, 2, 3, 4, 6, 1, 4, 1, 3, 5, 1, 2, 3, 5, 1, 4, 6, 1, 3, 1, 2, 1, 3, 5, 1, 3, 4, 1, 2, 3, 5, 3, 5, 1, 2, 4, 1, 2, 4, 5, 6, 8, 1, 7, 8, 1, 5, 1, 2, 8, 1, 3, 6, 1, 2, 5, 1, 2, 1, 3, 4, 5, 6, 3, 6, 9, 1, 2, 4, 1, 3, 1, 3, 8, 4, 7, 9, 1, 3, 6, 1, 2, 4, 5, 6, 7, 1, 2, 4, 1, 2, 5, 1, 2, 3, 4, 1, 2, 1, 3, 4, 9, 1, 3, 5, 6, 1, 2, 4, 6, 2, 4, 6, 7, 2, 3, 6, 1, 4, 5, 1, 4, 6, 7, 9, 1, 2, 3, 4, 1, 7, 8, 1, 2, 1, 5, 7, 8, 1, 2, 3, 4, 9, 1, 2, 1, 3, 1, 5, 1, 2, 3, 5, 6, 1, 2, 3, 1, 2, 3, 4, 5, 6, 7, 1, 2, 3, 6, 9, 10, 1, 8, 1, 4, 7, 8, 1, 2, 6, 7, 8, 1, 2, 5, 1, 2, 4, 5, 7, 10, 1, 2, 4, 5, 6, 1, 3, 5, 1, 2, 4, 10, 1, 2, 3, 4, 7, 9, 1, 2, 3, 4, 5, 6, 7, 1, 2, 8, 1, 3, 1, 3, 4, 6, 9, 1, 2, 3, 7, 1, 5, 6, 9, 1, 2, 3, 7, 1, 2, 7, 1, 3, 6, 1, 6, 8, 1, 2, 4, 6, 1, 2, 4, 1, 6, 1, 5, 1, 1, 2, 8, 2, 3, 4, 5, 1, 2, 4, 5, 7, 1, 3, 1, 5, 1, 2, 4, 5, 6, 8, 9, 1, 6, 2, 4, 8, 5, 7, 1, 2, 5, 1, 2, 3, 1, 1, 1, 4, 5, 1, 2, 8, 2, 6, 7, 9, 1, 3, 8, 1, 4, 6, 1, 4, 8, 1, 5, 1, 4, 5, 1, 2, 3, 4, 5, 6, 7, 8, 1, 3, 6, 8, 2, 4, 2, 4, 1, 2, 4, 7, 1, 9, 1, 3, 4, 1, 2, 3, 4, 5, 1, 2, 7, 1, 3, 4, 5, 8, 9, 1, 2, 3, 4, 5, 6, 7, 4, 6, 7, 1, 1, 2, 3, 1, 6, 1, 4, 5, 6, 7, 1, 4, 1, 1, 3, 6, 7, 1, 2, 7, 1, 2, 3, 1, 2, 3, 6, 2, 3, 5, 6, 3, 5, 6, 4, 6, 9, 1, 2, 8, 1, 4, 10, 2, 3, 9, 1, 3, 6, 1, 3, 6, 1, 4, 6, 7, 1, 4, 1, 2, 5, 6, 7, 8, 9, 1, 6, 9, 1, 2, 7, 9, 1, 3, 5, 1, 1, 3, 6, 1, 3, 8, 1, 2, 3, 6, 8, 2, 3, 6, 8, 10, 1, 2, 9, 7, 7, 1, 2, 5, 1, 2, 1, 2, 3, 4, 6, 1, 2, 6, 1, 3, 7, 4, 7, 8, 9, 1, 3, 4, 6, 8, 9, 1, 2, 3, 4, 6, 7, 10, 1, 2, 7, 1, 4, 9, 1, 2, 3, 4, 5, 6, 7, 9, 2, 4, 8, 2, 3, 4, 8, 1, 4, 1, 3, 5, 1, 7, 8, 10, 1, 4, 6, 7, 1, 4, 5, 2, 4, 8, 1, 2, 4, 2, 6, 1, 5, 6, 4, 6, 8, 10, 1, 2, 3, 9, 1, 2, 5, 6, 7, 1, 6, 7, 1, 2, 3, 4, 1, 2, 3, 4, 1, 5, 1, 6, 7, 9, 1, 3, 1, 3, 5, 1, 3, 1, 2, 4, 6, 1, 6, 9, 2, 6, 8, 1, 3, 1, 4, 7, 8, 1, 2, 4, 1, 2, 7, 1, 2, 6, 8, 1, 4, 3, 4, 5, 6, 8, 10, 4, 6, 8, 10, 2, 4, 7, 8], \"Freq\": [0.5518350390152412, 0.1839450130050804, 0.1839450130050804, 0.26798034683503713, 0.6029557803788336, 0.21249071522948357, 0.21249071522948357, 0.42498143045896714, 0.18826868730371923, 0.37653737460743847, 0.18826868730371923, 0.18826868730371923, 0.5800306445063412, 0.0682388993536872, 0.1023583490305308, 0.0341194496768436, 0.1364777987073744, 0.0341194496768436, 0.09658028892596181, 0.6760620224817326, 0.09658028892596181, 0.2946934988362891, 0.14734674941814455, 0.14734674941814455, 0.2946934988362891, 0.6552537692873237, 0.11913704896133159, 0.1787055734419974, 0.35648594281291074, 0.35648594281291074, 0.5612778722019375, 0.09354631203365625, 0.28063893610096874, 0.5261041502772997, 0.4208833202218398, 0.6615716905494333, 0.06014288095903939, 0.08019050794538586, 0.18042864287711818, 0.8006599645498322, 0.047097644973519544, 0.047097644973519544, 0.047097644973519544, 0.42071968066782606, 0.060102811523975154, 0.24041124609590062, 0.12020562304795031, 0.18030843457192547, 0.060102811523975154, 0.5902448553583017, 0.2360979421433207, 0.2097427281967332, 0.1048713640983666, 0.3146140922950998, 0.1048713640983666, 0.1048713640983666, 0.1048713640983666, 0.2723315938097136, 0.36310879174628485, 0.09077719793657121, 0.09077719793657121, 0.13236236230694845, 0.6618118115347422, 0.13236236230694845, 0.35315697924208184, 0.49441977093891454, 0.07063139584841636, 0.07063139584841636, 0.671591696899614, 0.02686366787598456, 0.24177301088386105, 0.02686366787598456, 0.36071621244291296, 0.12023873748097098, 0.24047747496194197, 0.12023873748097098, 0.43974263787841106, 0.1465808792928037, 0.2931617585856074, 0.1465808792928037, 0.25581141945613534, 0.25581141945613534, 0.38371712918420303, 0.8214756975561996, 0.06319043827355382, 0.06319043827355382, 0.06319043827355382, 0.9210120085438865, 0.051167333807993695, 0.8590403629619253, 0.040906683950567874, 0.061360025925851804, 0.16577412257170876, 0.16577412257170876, 0.3315482451434175, 0.16577412257170876, 0.2333132339242204, 0.3110843118989605, 0.1749849254431653, 0.0583283084810551, 0.038885538987370065, 0.13609938645579522, 0.019442769493685032, 0.10524443257003147, 0.42097773028012586, 0.3157332977100944, 0.10524443257003147, 0.5640768495703309, 0.18802561652344363, 0.18802561652344363, 0.3872927273721089, 0.10191913878213392, 0.04076765551285357, 0.061151483269280354, 0.12230296653856071, 0.22422210532069464, 0.061151483269280354, 0.020383827756426786, 0.6210136855557087, 0.20700456185190289, 0.6988697147299874, 0.08735871434124842, 0.08735871434124842, 0.04367935717062421, 0.10531043014619916, 0.42124172058479664, 0.31593129043859747, 0.10531043014619916, 0.21464274223082455, 0.6439282266924736, 0.8840142846783661, 0.032263295061254235, 0.04516861308575593, 0.012905318024501695, 0.006452659012250847, 0.006452659012250847, 0.006452659012250847, 0.8666536109379321, 0.11818003785517256, 0.47545266984636103, 0.23772633492318052, 0.07924211164106017, 0.15848422328212033, 0.07924211164106017, 0.5282290921951738, 0.08803818203252897, 0.2641145460975869, 0.2983712825549371, 0.5967425651098742, 0.18483806948673165, 0.4224870159696723, 0.18483806948673165, 0.15843263098862712, 0.02640543849810452, 0.7927806165589407, 0.027337262639963472, 0.054674525279926944, 0.027337262639963472, 0.027337262639963472, 0.08201178791989042, 0.4137740300937317, 0.20688701504686585, 0.20688701504686585, 0.46865802938696605, 0.20829245750531825, 0.1562193431289887, 0.05207311437632956, 0.05207311437632956, 0.05207311437632956, 0.7711654017696534, 0.0856850446410726, 0.7571995555122915, 0.1514399111024583, 0.6822456500035411, 0.07580507222261568, 0.15161014444523135, 0.12428231667203717, 0.12428231667203717, 0.6214115833601859, 0.08285487778135811, 0.6145336335496533, 0.010781291816660583, 0.0646877508999635, 0.2048445445165511, 0.021562583633321166, 0.03234387544998175, 0.03234387544998175, 0.23792236991081306, 0.23792236991081306, 0.23792236991081306, 0.23792236991081306, 0.4637272649294256, 0.038643938744118804, 0.4250833261853068, 0.09931340503661695, 0.7945072402929356, 0.3396710014769698, 0.3396710014769698, 0.1698355007384849, 0.5713608038028475, 0.19045360126761582, 0.11860595115286374, 0.47442380461145495, 0.11860595115286374, 0.11860595115286374, 0.6912064213399473, 0.13824128426798946, 0.9543594228673659, 0.6648772968940928, 0.060443390626735705, 0.12088678125347141, 0.060443390626735705, 0.9135734628935099, 0.6686548067544617, 0.04457698711696411, 0.17830794846785644, 0.06686548067544616, 0.022288493558482055, 0.022288493558482055, 0.5084159714644084, 0.2542079857322042, 0.5802440247407603, 0.19341467491358674, 0.7342643096337993, 0.0951824105080851, 0.013597487215440728, 0.06798743607720364, 0.013597487215440728, 0.06798743607720364, 0.9037087597527688, 0.029151895475895764, 0.029151895475895764, 0.3166173485955628, 0.10553911619852094, 0.21107823239704188, 0.21107823239704188, 0.8999606786822512, 0.0321414528100804, 0.048212179215120596, 0.48215752487459923, 0.16071917495819976, 0.10714611663879983, 0.053573058319399916, 0.10714611663879983, 0.7234676467872804, 0.027825678722587704, 0.11130271489035082, 0.027825678722587704, 0.08347703616776311, 0.027825678722587704, 0.8046475573995003, 0.08046475573995003, 0.1883007663913302, 0.3766015327826604, 0.2824511495869953, 0.375150787681683, 0.375150787681683, 0.1875753938408415, 0.799733567311859, 0.12303593343259368, 0.06151796671629684, 0.5928680865987104, 0.3293711592215058, 0.41742617805921906, 0.20871308902960953, 0.20871308902960953, 0.7017429149504384, 0.058478576245869864, 0.07797143499449315, 0.058478576245869864, 0.058478576245869864, 0.03898571749724657, 0.34250376881921984, 0.4281297110240248, 0.08562594220480496, 0.8759721917987212, 0.025763887994080036, 0.05152777598816007, 0.025763887994080036, 0.025763887994080036, 0.8590798243854914, 0.41141658329513836, 0.18700753786142654, 0.20570829164756918, 0.13090527650299857, 0.03740150757228531, 0.018700753786142655, 0.12501795093426885, 0.5000718037370754, 0.12501795093426885, 0.2500359018685377, 0.675943718496347, 0.22531457283211567, 0.16247438456844182, 0.48742315370532546, 0.054158128189480605, 0.21663251275792242, 0.054158128189480605, 0.7553336694639836, 0.06294447245533197, 0.09441670868299795, 0.031472236227665984, 0.031472236227665984, 0.1456720834254253, 0.1456720834254253, 0.43701625027627594, 0.1456720834254253, 0.4869308008829956, 0.16231026696099854, 0.3246205339219971, 0.5241275457499769, 0.34941836383331787, 0.8617044499717589, 0.05385652812323493, 0.18971820790952398, 0.569154623728572, 0.5089461878692162, 0.14969005525565182, 0.08981403315339109, 0.029938011051130364, 0.029938011051130364, 0.14969005525565182, 0.33051124287073297, 0.5508520714512216, 0.6768030383726319, 0.16920075959315797, 0.9182128323198383, 0.886831999472158, 0.07390266662267983, 0.9038271983248715, 0.03347508141943968, 0.06695016283887936, 0.8307092541472125, 0.07805321851047634, 0.005575229893605453, 0.005575229893605453, 0.027876149468027266, 0.03902660925523817, 0.011150459787210906, 0.005575229893605453, 0.126876656409905, 0.126876656409905, 0.634383282049525, 0.8712035329701153, 0.9558308305114505, 0.34633686942136743, 0.17316843471068372, 0.17316843471068372, 0.34633686942136743, 0.16231257804928137, 0.48693773414784414, 0.16231257804928137, 0.7235928411500403, 0.12059880685834004, 0.2147530938442191, 0.026844136730527386, 0.05368827346105477, 0.026844136730527386, 0.026844136730527386, 0.08053241019158217, 0.5368827346105478, 0.05368827346105477, 0.031789559798710856, 0.06357911959742171, 0.031789559798710856, 0.06357911959742171, 0.09536867939613257, 0.667580755772928, 0.06357911959742171, 0.7608751269159973, 0.06340626057633311, 0.08454168076844415, 0.06340626057633311, 0.2946821951925136, 0.04911369919875226, 0.49113699198752264, 0.09822739839750452, 0.6960718042768562, 0.10236350062894944, 0.02047270012578989, 0.04094540025157978, 0.02047270012578989, 0.04094540025157978, 0.04094540025157978, 0.6355469697638266, 0.12710939395276533, 0.12710939395276533, 0.22199404925811378, 0.44398809851622756, 0.3563173592671017, 0.11877245308903389, 0.11877245308903389, 0.23754490617806778, 0.11877245308903389, 0.11877245308903389, 0.20968120266357873, 0.41936240532715746, 0.10484060133178937, 0.10484060133178937, 0.10484060133178937, 0.7589211317750714, 0.0824914273668556, 0.093490284349103, 0.016498285473371118, 0.016498285473371118, 0.027497142455618528, 0.9096396433192748, 0.05350821431289852, 0.02293209184838508, 0.9272629827205947, 0.8938069374315992, 0.06875437980243071, 0.38644758693737, 0.4830594836717126, 0.0966118967343425, 0.7064881523258829, 0.17662203808147073, 0.902819270261367, 0.17583974410005, 0.7033589764002, 0.3430701428559092, 0.1715350714279546, 0.3430701428559092, 0.6363071032604145, 0.05302559193836787, 0.05302559193836787, 0.2651279596918394, 0.20237482110694485, 0.20237482110694485, 0.20237482110694485, 0.20237482110694485, 0.20237482110694485, 0.10637733484038271, 0.5318866742019136, 0.10637733484038271, 0.10637733484038271, 0.8029081169193235, 0.13381801948655392, 0.15191341403419406, 0.3038268280683881, 0.15191341403419406, 0.15191341403419406, 0.1912160956590656, 0.3824321913181312, 0.1912160956590656, 0.6418137746696017, 0.12836275493392033, 0.09674118263098608, 0.09674118263098608, 0.29022354789295823, 0.4837059131549304, 0.09674118263098608, 0.09678052537903595, 0.09678052537903595, 0.29034157613710787, 0.48390262689517977, 0.09678052537903595, 0.9093047402357656, 0.041332033647080255, 0.4539009341141697, 0.11347523352854243, 0.22695046705708485, 0.11347523352854243, 0.26766924202953996, 0.66917310507385, 0.2946929616621425, 0.2946929616621425, 0.04911549361035708, 0.19646197444142832, 0.04911549361035708, 0.09823098722071416, 0.11414638874322572, 0.6848783324593544, 0.11414638874322572, 0.11372536554802141, 0.6823521932881285, 0.11372536554802141, 0.74321409812687, 0.04128967211815945, 0.12386901635447833, 0.0825793442363189, 0.9409736863302801, 0.38791479628221015, 0.19395739814110508, 0.19395739814110508, 0.19395739814110508, 0.5193501899703102, 0.4154801519762482, 0.29851684122128014, 0.09950561374042671, 0.09950561374042671, 0.09950561374042671, 0.29851684122128014, 0.1645185462552562, 0.6580741850210248, 0.8367675501005553, 0.10682138937453897, 0.017803564895756494, 0.6494805520018853, 0.17091593473733824, 0.0683663738949353, 0.10254956084240294, 0.38978240656655755, 0.38978240656655755, 0.19489120328327877, 0.31024368573752653, 0.4653655286062898, 0.29306090896342213, 0.6349653027540813, 0.4350127420700337, 0.10875318551750843, 0.3806361493112795, 0.08765210703778083, 0.525912642226685, 0.17530421407556165, 0.1269612622145235, 0.253922524429047, 0.1269612622145235, 0.507845048858094, 0.16708543509580773, 0.6683417403832309, 0.6789561459868376, 0.2036868437960513, 0.0848695182483547, 0.847485536436526, 0.01569417660067641, 0.047082529802029226, 0.01569417660067641, 0.047082529802029226, 0.01569417660067641, 0.43603131168522286, 0.21801565584261143, 0.21801565584261143, 0.4123204055866758, 0.4123204055866758, 0.7326119599763707, 0.18993643406794797, 0.02713377629542114, 0.39173946600093973, 0.39173946600093973, 0.13057982200031323, 0.38546204707550313, 0.5139493961006708, 0.04282911634172257, 0.2388239601999224, 0.5970599004998061, 0.8444438390753957, 0.02483658350221752, 0.02483658350221752, 0.04967316700443504, 0.02483658350221752, 0.18816386062138954, 0.3763277212427791, 0.18816386062138954, 0.4111303413533236, 0.2055651706766618, 0.4111303413533236, 0.906300566437368, 0.0771319631010526, 0.4446047920418838, 0.2223023960209419, 0.2223023960209419, 0.207413838369266, 0.207413838369266, 0.414827676738532, 0.8849246003735777, 0.0491624777985321, 0.0491624777985321, 0.23546649642959602, 0.14127989785775763, 0.0941865985718384, 0.0941865985718384, 0.14127989785775763, 0.23546649642959602, 0.4746448977710423, 0.21906687589432722, 0.2555780218767151, 0.1911830657478734, 0.4779576643696835, 0.2867745986218101, 0.87038180579763, 0.07912561870887545, 0.015825123741775093, 0.015825123741775093, 0.2699111261359558, 0.6747778153398895, 0.14287289843359044, 0.2857457968671809, 0.2857457968671809, 0.14287289843359044, 0.16201195500303475, 0.16201195500303475, 0.16201195500303475, 0.16201195500303475, 0.7028994499285498, 0.1709755418745121, 0.018997282430501344, 0.07598912972200537, 0.18053708410047375, 0.18053708410047375, 0.3610741682009475, 0.18053708410047375, 0.5761384566112825, 0.1152276913222565, 0.1152276913222565, 0.12637420811345, 0.04212473603781666, 0.8003699847185166, 0.15315685716889346, 0.15315685716889346, 0.15315685716889346, 0.3063137143377869, 0.15315685716889346, 0.25692656146107634, 0.05138531229221527, 0.5138531229221527, 0.10277062458443054, 0.36081483444023915, 0.36081483444023915, 0.18040741722011958, 0.6790759809171052, 0.31124315792033985, 0.19306846263620672, 0.38613692527241344, 0.19306846263620672, 0.19306846263620672, 0.7555022457835842, 0.12859612694188666, 0.032149031735471664, 0.032149031735471664, 0.032149031735471664, 0.9347446839126539, 0.03738978735650615, 0.5880888623287331, 0.1960296207762444, 0.23574395542676993, 0.7072318662803098, 0.19300547442461344, 0.09650273721230672, 0.19300547442461344, 0.3860109488492269, 0.09650273721230672, 0.026177025994120688, 0.2355932339470862, 0.7067797018412586, 0.2570684387054501, 0.11017218801662146, 0.2937925013776572, 0.18362031336103576, 0.09181015668051788, 0.018362031336103576, 0.05508609400831073, 0.8165961828354097, 0.032663847313416386, 0.032663847313416386, 0.032663847313416386, 0.032663847313416386, 0.032663847313416386, 0.904403764895482, 0.043066845947403905, 0.4091361343595444, 0.2045680671797722, 0.2045680671797722, 0.2045680671797722, 0.1651714189691105, 0.5780999663918868, 0.08258570948455525, 0.08258570948455525, 0.08258570948455525, 0.07108189789128647, 0.5686551831302917, 0.28432759156514587, 0.8458832746622638, 0.042294163733113184, 0.042294163733113184, 0.042294163733113184, 0.042294163733113184, 0.042294163733113184, 0.862520750142334, 0.025368257357127468, 0.025368257357127468, 0.050736514714254936, 0.025368257357127468, 0.18672454698349017, 0.6535359144422156, 0.09336227349174508, 0.7180905732059301, 0.02761886820022808, 0.19333207740159655, 0.02761886820022808, 0.3442861825474672, 0.0860715456368668, 0.3873219553659006, 0.0860715456368668, 0.0430357728184334, 0.0430357728184334, 0.7221320563836573, 0.13920617954383754, 0.017400772442979693, 0.008700386221489846, 0.04350193110744923, 0.02610115866446954, 0.034801544885959386, 0.2512346699540145, 0.6280866748850362, 0.12561733497700725, 0.8466058260429565, 0.09070776707603107, 0.4496391008422492, 0.14987970028074973, 0.07493985014037487, 0.2248195504211246, 0.07493985014037487, 0.26896035915348143, 0.038422908450497346, 0.6147665352079575, 0.038422908450497346, 0.20261014587394147, 0.20261014587394147, 0.40522029174788293, 0.20261014587394147, 0.4492573958070083, 0.06417962797242975, 0.06417962797242975, 0.38507776783457853, 0.32095046464496674, 0.16047523232248337, 0.32095046464496674, 0.4993477963574655, 0.30729095160459413, 0.15364547580229707, 0.5763037506119837, 0.19210125020399457, 0.19210125020399457, 0.15310240643671258, 0.15310240643671258, 0.30620481287342516, 0.15310240643671258, 0.6531837269737073, 0.10886395449561788, 0.10886395449561788, 0.4806841676300838, 0.4120150008257861, 0.3531585590089987, 0.3531585590089987, 0.9327629749505992, 0.11385815860308483, 0.683148951618509, 0.11385815860308483, 0.19765995168923736, 0.19765995168923736, 0.19765995168923736, 0.3953199033784747, 0.14022456926503202, 0.14022456926503202, 0.14022456926503202, 0.42067370779509605, 0.14022456926503202, 0.5196119890367356, 0.3897089917775517, 0.33338432109048516, 0.5000764816357277, 0.4968311161754033, 0.03821777816733872, 0.11465333450201615, 0.03821777816733872, 0.11465333450201615, 0.15287111266935488, 0.03821777816733872, 0.40275332681564036, 0.40275332681564036, 0.15379096048001872, 0.6151638419200749, 0.15379096048001872, 0.1213805821567765, 0.728283492940659, 0.6567708341294305, 0.1313541668258861, 0.16419270853235762, 0.9245707301080155, 0.039766483015398514, 0.009941620753849629, 0.8808782349071563, 0.9490591552883224, 0.5758489069701521, 0.28792445348507606, 0.07198111337126901, 0.8301421378928383, 0.10827940929037022, 0.03609313643012341, 0.1995268242570607, 0.1995268242570607, 0.1995268242570607, 0.1995268242570607, 0.8139718742178284, 0.07752113087788842, 0.07752113087788842, 0.41086045610163663, 0.35216610522997427, 0.17608305261498713, 0.6546070917194806, 0.14546824260432903, 0.07273412130216451, 0.6583621052929611, 0.18810345865513176, 0.16049941483974098, 0.16049941483974098, 0.48149824451922296, 0.6398799543561099, 0.12188189606783047, 0.015235237008478808, 0.15235237008478808, 0.015235237008478808, 0.015235237008478808, 0.015235237008478808, 0.030470474016957617, 0.5938698453345447, 0.27409377476978986, 0.04568229579496498, 0.04568229579496498, 0.6835600453629315, 0.11392667422715524, 0.7235889583925844, 0.12059815973209739, 0.452592122105057, 0.164578953492748, 0.288013168612309, 0.082289476746374, 0.5721549058717996, 0.19071830195726652, 0.2366458399608499, 0.631055573228933, 0.07888194665361663, 0.38158507269655006, 0.3468955206332273, 0.034689552063322734, 0.034689552063322734, 0.17344776031661366, 0.47618564285984294, 0.4444399333358534, 0.03174570952398953, 0.6735974647489247, 0.04811410462492319, 0.04811410462492319, 0.09622820924984637, 0.04811410462492319, 0.04811410462492319, 0.6555671468301728, 0.09684514669082098, 0.09684514669082098, 0.02234888000557407, 0.03724813334262345, 0.06704664001672221, 0.02234888000557407, 0.1374233023821827, 0.5496932095287308, 0.1374233023821827, 0.9228301950269734, 0.08309797168897608, 0.41548985844488034, 0.49858783013385644, 0.6405883557670139, 0.2847059358964506, 0.877208422736237, 0.028297045894717324, 0.028297045894717324, 0.028297045894717324, 0.028297045894717324, 0.2650127618316854, 0.5300255236633707, 0.8943534288386158, 0.3040111790329812, 0.1520055895164906, 0.1520055895164906, 0.3040111790329812, 0.16215050319101199, 0.40537625797752996, 0.40537625797752996, 0.20497294574183336, 0.20497294574183336, 0.4099458914836667, 0.23312127179465011, 0.5128667979482303, 0.09324850871786004, 0.13987276307679009, 0.5630218429528667, 0.4201686968377643, 0.10504217420944108, 0.4201686968377643, 0.515773966298465, 0.12894349157461624, 0.2578869831492325, 0.3803686033815416, 0.1901843016907708, 0.1901843016907708, 0.47854055239626825, 0.23927027619813412, 0.23927027619813412, 0.5923805264945066, 0.2734063968436184, 0.04556773280726974, 0.2524147026208142, 0.2524147026208142, 0.2524147026208142, 0.16881938133755994, 0.5064581440126799, 0.16881938133755994, 0.18626163174311336, 0.3725232634862267, 0.18626163174311336, 0.540163837120611, 0.0540163837120611, 0.0540163837120611, 0.32409830227236663, 0.3339473482786176, 0.5009210224179265, 0.645931153978742, 0.15502347695489807, 0.02583724615914968, 0.07751173847744904, 0.02583724615914968, 0.02583724615914968, 0.02583724615914968, 0.5107248390518744, 0.17024161301729146, 0.17024161301729146, 0.31432300912496364, 0.15716150456248182, 0.31432300912496364, 0.15716150456248182, 0.7222868540842343, 0.10318383629774777, 0.137578448396997, 0.9059143042518374, 0.18095309598963596, 0.18095309598963596, 0.36190619197927193, 0.38618171552638186, 0.19309085776319093, 0.19309085776319093, 0.3474818970086196, 0.1489208130036941, 0.1489208130036941, 0.2978416260073882, 0.04964027100123137, 0.1759614470291873, 0.1759614470291873, 0.4399036175729683, 0.08798072351459366, 0.08798072351459366, 0.5527537010801241, 0.15792962888003548, 0.15792962888003548, 0.7744677592331535, 0.7754495982630452, 0.8066472535639105, 0.018759238454974663, 0.1500739076397973, 0.4787146165185721, 0.23935730825928606, 0.19371463819932794, 0.2905719572989919, 0.19371463819932794, 0.19371463819932794, 0.09685731909966397, 0.5384435930958634, 0.2512736767780696, 0.14358495815889694, 0.1513792169823689, 0.6055168679294756, 0.2270688254735533, 0.2977712562954973, 0.2977712562954973, 0.14888562814774864, 0.14888562814774864, 0.6331334519087726, 0.07034816132319695, 0.07034816132319695, 0.07034816132319695, 0.07034816132319695, 0.07034816132319695, 0.5660230468676523, 0.1968775815191834, 0.1968775815191834, 0.19680001558346455, 0.3936000311669291, 0.19680001558346455, 0.19680001558346455, 0.8042414394271948, 0.16084828788543895, 0.017872031987270994, 0.4864322712312863, 0.32428818082085753, 0.16214409041042877, 0.023496642049506133, 0.11748321024753065, 0.09398656819802453, 0.04699328409901227, 0.023496642049506133, 0.0704899261485184, 0.5169261250891349, 0.09398656819802453, 0.4734430947503068, 0.35508232106273013, 0.1183607736875767, 0.6056552672173094, 0.15141381680432736, 0.07570690840216368, 0.07570690840216368, 0.39303846207049564, 0.39303846207049564, 0.3281770172087991, 0.2187846781391994, 0.3281770172087991, 0.4596880158658027, 0.3064586772438685, 0.15322933862193425, 0.15322933862193425, 0.8638746816619282, 0.03599477840258034, 0.05399216760387051, 0.03599477840258034, 0.34929339182949026, 0.17464669591474513, 0.17464669591474513, 0.1690334595296009, 0.6761338381184036, 0.1690334595296009, 0.13462448107825897, 0.6731224053912949, 0.13462448107825897, 0.7718018609128013, 0.0857557623236446, 0.40958177631517784, 0.20479088815758892, 0.20479088815758892, 0.41978812527749404, 0.20989406263874702, 0.20989406263874702, 0.20989406263874702, 0.568728188894517, 0.04739401574120975, 0.189576062964839, 0.0947880314824195, 0.3470997368826554, 0.040835263162665336, 0.49002315795198403, 0.08167052632533067, 0.020417631581332668, 0.2929797955663852, 0.43946969334957786, 0.1464898977831926, 0.28560614641522425, 0.09520204880507474, 0.19040409761014948, 0.38080819522029896, 0.5025413944734226, 0.050254139447342264, 0.30152483668405355, 0.050254139447342264, 0.6591244626848988, 0.23968162279450866, 0.16985300546012846, 0.16985300546012846, 0.33970601092025693, 0.16985300546012846, 0.9294266858279857, 0.023831453482768866, 0.21381893157036141, 0.3207283973555421, 0.3207283973555421, 0.5682908017025012, 0.3315029676597924, 0.6686862596108939, 0.044579083974059595, 0.044579083974059595, 0.17831633589623838, 0.19468855355450648, 0.5840656606635195, 0.19468855355450648, 0.4400968785130348, 0.2200484392565174, 0.2200484392565174, 0.6701769977541243, 0.28217978852805237, 0.20536666221601468, 0.20536666221601468, 0.20536666221601468, 0.20536666221601468, 0.692595475560165, 0.18888967515277227, 0.08395096673456545, 0.11944136027831985, 0.5972068013915993, 0.11944136027831985, 0.33561210891741017, 0.33561210891741017, 0.16780605445870508, 0.1258545408440288, 0.5269812041651757, 0.3513208027767838, 0.08624424288935209, 0.17248848577870418, 0.08624424288935209, 0.34497697155740836, 0.08624424288935209, 0.08624424288935209, 0.20581083961243418, 0.41162167922486836, 0.20581083961243418, 0.20581083961243418, 0.21564125230834635, 0.21564125230834635, 0.21564125230834635, 0.21564125230834635], \"Term\": [\"15\", \"15\", \"15\", \"absolutely\", \"absolutely\", \"actually\", \"actually\", \"actually\", \"add\", \"add\", \"add\", \"add\", \"amaze\", \"amaze\", \"amaze\", \"amaze\", \"amaze\", \"amaze\", \"amazing\", \"amazing\", \"amazing\", \"ambience\", \"ambience\", \"ambience\", \"ambience\", \"appetizer\", \"appetizer\", \"appetizer\", \"appreciate\", \"appreciate\", \"arrive\", \"arrive\", \"arrive\", \"arugula\", \"arugula\", \"ask\", \"ask\", \"ask\", \"ask\", \"atmosphere\", \"atmosphere\", \"atmosphere\", \"atmosphere\", \"attentive\", \"attentive\", \"attentive\", \"attentive\", \"attentive\", \"attentive\", \"available\", \"available\", \"avocado\", \"avocado\", \"avocado\", \"avocado\", \"avocado\", \"avocado\", \"bacon\", \"bacon\", \"bacon\", \"bacon\", \"base\", \"base\", \"base\", \"bean\", \"bean\", \"bean\", \"bean\", \"bite\", \"bite\", \"bite\", \"bite\", \"blow\", \"blow\", \"blow\", \"blow\", \"blow away\", \"blow away\", \"blow away\", \"blow away\", \"blt\", \"blt\", \"blt\", \"bolognese\", \"bolognese\", \"bolognese\", \"bolognese\", \"bone\", \"bone\", \"bread\", \"bread\", \"bread\", \"bread pudding\", \"bread pudding\", \"bread pudding\", \"bread pudding\", \"breakfast\", \"breakfast\", \"breakfast\", \"breakfast\", \"breakfast\", \"breakfast\", \"breakfast\", \"breakfast burrito\", \"breakfast burrito\", \"breakfast burrito\", \"breakfast burrito\", \"breakfast sandwich\", \"breakfast sandwich\", \"breakfast sandwich\", \"brunch\", \"brunch\", \"brunch\", \"brunch\", \"brunch\", \"brunch\", \"brunch\", \"brunch\", \"bun\", \"bun\", \"burger\", \"burger\", \"burger\", \"burger\", \"burrito\", \"burrito\", \"burrito\", \"burrito\", \"busy\", \"busy\", \"calistoga\", \"calistoga\", \"calistoga\", \"calistoga\", \"calistoga\", \"calistoga\", \"calistoga\", \"calistoga kitchen\", \"calistoga kitchen\", \"care\", \"care\", \"care\", \"care\", \"care\", \"casual\", \"casual\", \"casual\", \"chat\", \"chat\", \"cheese\", \"cheese\", \"cheese\", \"cheese\", \"cheese\", \"chef\", \"chef\", \"chef\", \"chef\", \"chef\", \"chef\", \"chef come\", \"chef come\", \"chef come\", \"chicken\", \"chicken\", \"chicken\", \"chicken\", \"chicken\", \"chicken\", \"chocolate\", \"chocolate\", \"chocolate cake\", \"chocolate cake\", \"clean\", \"clean\", \"clean\", \"coffee\", \"coffee\", \"coffee\", \"coffee\", \"come\", \"come\", \"come\", \"come\", \"come\", \"come\", \"come\", \"comfortable\", \"comfortable\", \"comfortable\", \"comfortable\", \"cook\", \"cook\", \"cook\", \"cook perfectly\", \"cook perfectly\", \"cool\", \"cool\", \"cool\", \"couple\", \"couple\", \"cozy\", \"cozy\", \"cozy\", \"cozy\", \"crazy\", \"crazy\", \"crisp\", \"cute\", \"cute\", \"cute\", \"cute\", \"date\", \"day\", \"day\", \"day\", \"day\", \"day\", \"day\", \"decent\", \"decent\", \"decor\", \"decor\", \"delicious\", \"delicious\", \"delicious\", \"delicious\", \"delicious\", \"delicious\", \"dessert\", \"dessert\", \"dessert\", \"different\", \"different\", \"different\", \"different\", \"dinner\", \"dinner\", \"dinner\", \"disappoint\", \"disappoint\", \"disappoint\", \"disappoint\", \"disappoint\", \"dish\", \"dish\", \"dish\", \"dish\", \"dish\", \"dish\", \"door\", \"door\", \"drink\", \"drink\", \"drink\", \"dry\", \"dry\", \"dry\", \"duck\", \"duck\", \"duck\", \"duck soup\", \"duck soup\", \"easy\", \"easy\", \"easy\", \"eat\", \"eat\", \"eat\", \"eat\", \"eat\", \"eat\", \"end\", \"end\", \"end\", \"enjoy\", \"enjoy\", \"enjoy\", \"enjoy\", \"enjoy\", \"entree\", \"excellent\", \"excellent\", \"excellent\", \"excellent\", \"excellent\", \"excellent\", \"excellent service\", \"excellent service\", \"excellent service\", \"excellent service\", \"excite\", \"excite\", \"expect\", \"expect\", \"expect\", \"expect\", \"expect\", \"experience\", \"experience\", \"experience\", \"experience\", \"experience\", \"extremely\", \"extremely\", \"extremely\", \"extremely\", \"fact\", \"fact\", \"fact\", \"family\", \"family\", \"fantastic\", \"fantastic\", \"fast\", \"fast\", \"feel\", \"feel\", \"feel\", \"feel\", \"feel\", \"feel\", \"feel like\", \"feel like\", \"fine\", \"fine\", \"finish\", \"fish\", \"fish\", \"flavor\", \"flavor\", \"flavor\", \"food\", \"food\", \"food\", \"food\", \"food\", \"food\", \"food\", \"food\", \"food come\", \"food come\", \"food come\", \"food good\", \"food great\", \"forget\", \"forget\", \"forget\", \"forget\", \"forward\", \"forward\", \"forward\", \"francisco\", \"francisco\", \"french\", \"french\", \"french\", \"french\", \"french\", \"french\", \"french\", \"french\", \"french toast\", \"french toast\", \"french toast\", \"french toast\", \"french toast\", \"french toast\", \"french toast\", \"fresh\", \"fresh\", \"fresh\", \"fresh\", \"friend\", \"friend\", \"friend\", \"friend\", \"friendly\", \"friendly\", \"friendly\", \"friendly\", \"friendly\", \"friendly\", \"friendly\", \"friendly staff\", \"friendly staff\", \"friendly staff\", \"garden\", \"garden\", \"girl\", \"girl\", \"girl\", \"girl\", \"girl\", \"girl\", \"goat\", \"goat\", \"goat\", \"goat\", \"goat\", \"good\", \"good\", \"good\", \"good\", \"good\", \"good\", \"great\", \"great\", \"great\", \"great food\", \"great place\", \"great place\", \"grill\", \"grill\", \"grill\", \"grill cheese\", \"grill cheese\", \"group\", \"half\", \"half\", \"hand\", \"hand\", \"hand\", \"hash\", \"hash\", \"hash\", \"hash\", \"head\", \"head\", \"head\", \"head\", \"head\", \"healthy\", \"healthy\", \"healthy\", \"healthy\", \"hear\", \"hear\", \"hearty\", \"hearty\", \"hearty\", \"hearty\", \"heirloom\", \"heirloom\", \"heirloom\", \"helpful\", \"helpful\", \"highly\", \"highly\", \"highly\", \"highly\", \"highly\", \"highly recommend\", \"highly recommend\", \"highly recommend\", \"highly recommend\", \"highly recommend\", \"home\", \"home\", \"hot\", \"hot\", \"hot\", \"hot\", \"hour\", \"hour\", \"house\", \"house\", \"house\", \"house\", \"house\", \"house\", \"huevos\", \"huevos\", \"huevos\", \"huevos rancheros\", \"huevos rancheros\", \"huevos rancheros\", \"husband\", \"husband\", \"husband\", \"husband\", \"ice\", \"include\", \"include\", \"include\", \"include\", \"ingredient\", \"ingredient\", \"item\", \"item\", \"item\", \"item\", \"item\", \"juicy\", \"juicy\", \"kitchen\", \"kitchen\", \"kitchen\", \"know\", \"know\", \"know\", \"know\", \"knowledgeable\", \"knowledgeable\", \"knowledgeable\", \"lack\", \"lack\", \"lamb\", \"lamb\", \"leave\", \"leave\", \"leave\", \"lemon\", \"lemon\", \"lemon\", \"let\", \"let\", \"let\", \"let\", \"let know\", \"let know\", \"like\", \"like\", \"like\", \"little\", \"little\", \"little\", \"little\", \"little\", \"little\", \"little gem\", \"little gem\", \"little gem\", \"live\", \"live\", \"local\", \"local\", \"local\", \"location\", \"location\", \"location\", \"long\", \"long\", \"long\", \"long time\", \"long time\", \"look\", \"look\", \"look\", \"look\", \"look\", \"look forward\", \"look forward\", \"look forward\", \"look like\", \"look like\", \"look like\", \"love\", \"love\", \"love place\", \"love place\", \"love place\", \"loved\", \"loved\", \"loved\", \"lovely\", \"lovely\", \"lovely\", \"lovina\", \"lovina\", \"lovina\", \"lovina\", \"lovina\", \"lovina\", \"lunch\", \"lunch\", \"lunch\", \"maybe\", \"maybe\", \"maybe\", \"meal\", \"meal\", \"meal\", \"meal\", \"mean\", \"mean\", \"meat\", \"meat\", \"meat\", \"meat\", \"mention\", \"mention\", \"mention\", \"mention\", \"menu\", \"menu\", \"menu\", \"menu\", \"mess\", \"mess\", \"mess\", \"mess\", \"mimosa\", \"mimosa\", \"mimosa\", \"minute\", \"minute\", \"minute\", \"morning\", \"morning\", \"morning\", \"morning\", \"morning\", \"mushroom\", \"mushroom\", \"mushroom\", \"mushroom\", \"music\", \"music\", \"music\", \"napa\", \"napa\", \"nearly\", \"nearly\", \"nearly\", \"nearly\", \"nice\", \"nice\", \"nice\", \"nice\", \"nice\", \"night\", \"night\", \"notice\", \"notice\", \"offer\", \"offer\", \"okay\", \"okay\", \"okay\", \"okay\", \"okay\", \"omelet\", \"omelet\", \"omelet\", \"order\", \"order\", \"order\", \"order\", \"order\", \"order\", \"order\", \"outside\", \"outside\", \"outside\", \"outside\", \"outside\", \"outside\", \"owner\", \"owner\", \"park\", \"park\", \"park\", \"park\", \"partner\", \"partner\", \"partner\", \"partner\", \"partner\", \"party\", \"party\", \"party\", \"pasta\", \"pasta\", \"pasta\", \"pasta\", \"pasta\", \"pasta\", \"patio\", \"patio\", \"patio\", \"patio\", \"patio\", \"pea\", \"pea\", \"pea\", \"perfect\", \"perfect\", \"perfect\", \"perfect\", \"perfectly\", \"perfectly\", \"perfectly\", \"perfectly\", \"perfectly\", \"perfectly\", \"place\", \"place\", \"place\", \"place\", \"place\", \"place\", \"place\", \"plan\", \"plan\", \"plan\", \"pork\", \"pork\", \"portion\", \"portion\", \"portion\", \"portion\", \"portion\", \"potato\", \"potato\", \"potato\", \"potato\", \"pretentious\", \"pretentious\", \"pretentious\", \"pretentious\", \"pretty\", \"pretty\", \"pretty\", \"pretty\", \"pretty good\", \"pretty good\", \"pretty good\", \"price\", \"price\", \"price\", \"professional\", \"professional\", \"professional\", \"pudding\", \"pudding\", \"pudding\", \"pudding\", \"quaint\", \"quaint\", \"quaint\", \"quality\", \"quality\", \"quick\", \"quick\", \"rabbit\", \"rancheros\", \"rancheros\", \"rancheros\", \"ready\", \"ready\", \"ready\", \"ready\", \"real\", \"real\", \"real\", \"real\", \"real\", \"reasonable\", \"reasonable\", \"receive\", \"receive\", \"recommend\", \"recommend\", \"recommend\", \"recommend\", \"recommend\", \"recommend\", \"recommend\", \"recommend place\", \"recommend place\", \"recommendation\", \"recommendation\", \"recommendation\", \"remedy\", \"remedy\", \"reservation\", \"reservation\", \"reservation\", \"restaurant\", \"restaurant\", \"restaurant\", \"restaurant calistoga\", \"return\", \"rib\", \"rib\", \"rib\", \"rick\", \"rick\", \"rick\", \"ricotta\", \"ricotta\", \"ricotta\", \"ricotta\", \"right\", \"right\", \"right\", \"risotto\", \"risotto\", \"risotto\", \"roast\", \"roast\", \"roast\", \"rude\", \"rude\", \"run\", \"run\", \"run\", \"salad\", \"salad\", \"salad\", \"salad\", \"salad\", \"salad\", \"salad\", \"salad\", \"salmon\", \"salmon\", \"salmon\", \"salmon\", \"san\", \"san\", \"san francisco\", \"san francisco\", \"sandwich\", \"sandwich\", \"sandwich\", \"sandwich\", \"saturday\", \"saturday\", \"season\", \"season\", \"season\", \"seat\", \"seat\", \"seat\", \"seat\", \"seat\", \"serve\", \"serve\", \"serve\", \"server\", \"server\", \"server\", \"server\", \"server\", \"server\", \"service\", \"service\", \"service\", \"service\", \"service\", \"service\", \"service\", \"service excellent\", \"service excellent\", \"service excellent\", \"service friendly\", \"service good\", \"service good\", \"service good\", \"set\", \"set\", \"share\", \"share\", \"share\", \"share\", \"share\", \"short\", \"short\", \"sit outside\", \"size\", \"size\", \"size\", \"size\", \"slice\", \"slice\", \"slice\", \"slightly\", \"slightly\", \"slightly\", \"small\", \"small\", \"small\", \"small\", \"small town\", \"smoke\", \"smoke\", \"smoke\", \"smoke salmon\", \"smoke salmon\", \"smoke salmon\", \"soft\", \"soft\", \"soft\", \"soon\", \"soon\", \"soon\", \"soup\", \"soup\", \"soup\", \"spicy\", \"spicy\", \"spicy\", \"spin\", \"spin\", \"spin\", \"spin dry\", \"spin dry\", \"spin dry\", \"spot\", \"spot\", \"spot\", \"spot\", \"squash\", \"squash\", \"staff\", \"staff\", \"staff\", \"staff\", \"staff\", \"staff\", \"staff\", \"staff friendly\", \"staff friendly\", \"staff friendly\", \"stay\", \"stay\", \"stay\", \"stay\", \"steak\", \"steak\", \"steak\", \"street\", \"strip\", \"strip\", \"strip\", \"style\", \"style\", \"style\", \"sunday\", \"sunday\", \"sunday\", \"sunday\", \"sunday\", \"sunday brunch\", \"sunday brunch\", \"sunday brunch\", \"sunday brunch\", \"sunday brunch\", \"super\", \"super\", \"super\", \"susie\", \"susie remedy\", \"table\", \"table\", \"table\", \"table ask\", \"table ask\", \"taste\", \"taste\", \"taste\", \"taste\", \"taste\", \"tasty\", \"tasty\", \"tasty\", \"tender\", \"tender\", \"tender\", \"thank\", \"thank\", \"thank\", \"thank\", \"thing\", \"thing\", \"thing\", \"thing\", \"thing\", \"thing\", \"think\", \"think\", \"think\", \"tiki\", \"tiki\", \"tiki\", \"tiki\", \"time\", \"time\", \"time\", \"time calistoga\", \"time calistoga\", \"time calistoga\", \"toast\", \"toast\", \"toast\", \"toast\", \"toast\", \"toast\", \"toast\", \"toast\", \"today\", \"today\", \"today\", \"tomato\", \"tomato\", \"tomato\", \"tomato\", \"tonight\", \"tonight\", \"totally\", \"totally\", \"totally\", \"trip\", \"trip\", \"trip\", \"trip\", \"try\", \"try\", \"try\", \"try\", \"understand\", \"understand\", \"understand\", \"unique\", \"unique\", \"unique\", \"value\", \"value\", \"value\", \"veggie\", \"veggie\", \"veggies\", \"veggies\", \"veggies\", \"vibe\", \"vibe\", \"vibe\", \"vibe\", \"visit\", \"visit\", \"visit\", \"visit\", \"wait\", \"wait\", \"wait\", \"wait\", \"wait\", \"wait staff\", \"wait staff\", \"wait staff\", \"waiter\", \"waiter\", \"waiter\", \"waiter\", \"waitress\", \"waitress\", \"waitress\", \"waitress\", \"walk\", \"walk\", \"walnut\", \"walnut\", \"walnut\", \"walnut\", \"want\", \"want\", \"water\", \"water\", \"water\", \"way\", \"way\", \"weekend\", \"weekend\", \"weekend\", \"weekend\", \"weekend calistoga\", \"weekend calistoga\", \"weekend calistoga\", \"went\", \"went\", \"went\", \"wife\", \"wife\", \"wild\", \"wild\", \"wild\", \"wild\", \"wine\", \"wine\", \"wine\", \"winery\", \"winery\", \"winery\", \"wonderful\", \"wonderful\", \"wonderful\", \"wonderful\", \"write\", \"write\", \"yum\", \"yum\", \"yum\", \"yum\", \"yum\", \"yum\", \"yum yum\", \"yum yum\", \"yum yum\", \"yum yum\", \"zazie\", \"zazie\", \"zazie\", \"zazie\"]}, \"R\": 30, \"lambda.step\": 0.01, \"plot.opts\": {\"xlab\": \"PC1\", \"ylab\": \"PC2\"}, \"topic.order\": [8, 5, 3, 2, 7, 1, 10, 6, 9, 4]};\n",
       "\n",
       "function LDAvis_load_lib(url, callback){\n",
       "  var s = document.createElement('script');\n",
       "  s.src = url;\n",
       "  s.async = true;\n",
       "  s.onreadystatechange = s.onload = callback;\n",
       "  s.onerror = function(){console.warn(\"failed to load library \" + url);};\n",
       "  document.getElementsByTagName(\"head\")[0].appendChild(s);\n",
       "}\n",
       "\n",
       "if(typeof(LDAvis) !== \"undefined\"){\n",
       "   // already loaded: just create the visualization\n",
       "   !function(LDAvis){\n",
       "       new LDAvis(\"#\" + \"ldavis_el112971406611879235444262965816\", ldavis_el112971406611879235444262965816_data);\n",
       "   }(LDAvis);\n",
       "}else if(typeof define === \"function\" && define.amd){\n",
       "   // require.js is available: use it to load d3/LDAvis\n",
       "   require.config({paths: {d3: \"https://cdnjs.cloudflare.com/ajax/libs/d3/3.5.5/d3.min\"}});\n",
       "   require([\"d3\"], function(d3){\n",
       "      window.d3 = d3;\n",
       "      LDAvis_load_lib(\"https://cdn.rawgit.com/bmabey/pyLDAvis/files/ldavis.v1.0.0.js\", function(){\n",
       "        new LDAvis(\"#\" + \"ldavis_el112971406611879235444262965816\", ldavis_el112971406611879235444262965816_data);\n",
       "      });\n",
       "    });\n",
       "}else{\n",
       "    // require.js not available: dynamically load d3 & LDAvis\n",
       "    LDAvis_load_lib(\"https://cdnjs.cloudflare.com/ajax/libs/d3/3.5.5/d3.min.js\", function(){\n",
       "         LDAvis_load_lib(\"https://cdn.rawgit.com/bmabey/pyLDAvis/files/ldavis.v1.0.0.js\", function(){\n",
       "                 new LDAvis(\"#\" + \"ldavis_el112971406611879235444262965816\", ldavis_el112971406611879235444262965816_data);\n",
       "            })\n",
       "         });\n",
       "}\n",
       "</script>"
      ],
      "text/plain": [
       "PreparedData(topic_coordinates=                x           y  topics  cluster       Freq\n",
       "topic                                                    \n",
       "7      244.451859   10.926533       1        1  60.986980\n",
       "4     -150.442520 -135.323944       2        1   9.987111\n",
       "2     -219.582260  194.155273       3        1   6.727518\n",
       "1      -80.574417   62.728313       4        1   5.897559\n",
       "6      113.363785  143.465622       5        1   4.323684\n",
       "0      182.357162 -186.187729       6        1   4.314747\n",
       "9      -11.029622 -259.022278       7        1   3.923265\n",
       "5     -281.640961   -2.947304       8        1   1.643374\n",
       "8      -26.204895  267.044800       9        1   1.521649\n",
       "3       43.455887  -54.645531      10        1   0.674113, topic_info=     Category        Freq            Term       Total  loglift  logprob\n",
       "term                                                                   \n",
       "81    Default   92.000000            come   92.000000  30.0000  30.0000\n",
       "473   Default   48.000000            wait   48.000000  29.0000  29.0000\n",
       "180   Default  181.000000            good  181.000000  28.0000  28.0000\n",
       "454   Default   42.000000           toast   42.000000  27.0000  27.0000\n",
       "158   Default  179.000000            food  179.000000  26.0000  26.0000\n",
       "390   Default  134.000000         service  134.000000  25.0000  25.0000\n",
       "168   Default   37.000000          french   37.000000  24.0000  24.0000\n",
       "299   Default   38.000000          omelet   38.000000  23.0000  23.0000\n",
       "440   Default   53.000000           table   53.000000  22.0000  22.0000\n",
       "52    Default   49.000000          brunch   49.000000  21.0000  21.0000\n",
       "170   Default   47.000000           fresh   47.000000  20.0000  20.0000\n",
       "289   Default   62.000000            nice   62.000000  19.0000  19.0000\n",
       "58    Default  154.000000       calistoga  154.000000  18.0000  18.0000\n",
       "169   Default   31.000000    french toast   31.000000  17.0000  17.0000\n",
       "376   Default   65.000000           salad   65.000000  16.0000  16.0000\n",
       "133   Default   53.000000       excellent   53.000000  15.0000  15.0000\n",
       "17    Default   49.000000             ask   49.000000  14.0000  14.0000\n",
       "279   Default   23.000000          minute   23.000000  13.0000  13.0000\n",
       "322   Default  114.000000           place  114.000000  12.0000  12.0000\n",
       "47    Default   51.000000       breakfast   51.000000  11.0000  11.0000\n",
       "68    Default   36.000000            chef   36.000000  10.0000  10.0000\n",
       "302   Default   54.000000           order   54.000000   9.0000   9.0000\n",
       "130   Default   38.000000           enjoy   38.000000   8.0000   8.0000\n",
       "410   Default   21.000000            soup   21.000000   7.0000   7.0000\n",
       "305   Default   30.000000         outside   30.000000   6.0000   6.0000\n",
       "317   Default   36.000000         perfect   36.000000   5.0000   5.0000\n",
       "172   Default   48.000000        friendly   48.000000   4.0000   4.0000\n",
       "108   Default   73.000000       delicious   73.000000   3.0000   3.0000\n",
       "355   Default   26.000000       recommend   26.000000   2.0000   2.0000\n",
       "121   Default   48.000000            duck   48.000000   1.0000   1.0000\n",
       "...       ...         ...             ...         ...      ...      ...\n",
       "460   Topic10    0.509562            trip    6.526165   2.4495  -4.7373\n",
       "275   Topic10    0.449238         mention    6.172384   2.3792  -4.8633\n",
       "422   Topic10    0.399703  staff friendly    5.874004   2.3120  -4.9802\n",
       "425   Topic10    0.428488            stay    6.362881   2.3016  -4.9106\n",
       "292   Topic10    0.337674          notice    5.101270   2.2844  -5.1488\n",
       "72    Topic10    1.139561         chicken   19.203768   2.1751  -3.9325\n",
       "90    Topic10    0.290994          couple    5.250623   2.1067  -5.2976\n",
       "410   Topic10    1.210623            soup   21.945353   2.1021  -3.8720\n",
       "152   Topic10    0.319447            fine    5.910139   2.0817  -5.2043\n",
       "61    Topic10    0.568845            care   12.619553   1.9001  -4.6273\n",
       "433   Topic10    0.504400   sunday brunch   11.366126   1.8845  -4.7475\n",
       "239   Topic10    0.455986           lemon   11.408739   1.7799  -4.8484\n",
       "41    Topic10    0.506197       bolognese   15.825179   1.5571  -4.7440\n",
       "492   Topic10    0.135223            wild    4.869339   1.4157  -6.0640\n",
       "345   Topic10    0.251233          quaint    9.185777   1.4005  -5.4445\n",
       "441   Topic10    0.114232       table ask    4.177854   1.4002  -6.2326\n",
       "404   Topic10    0.084231      small town    3.552260   1.2578  -6.5373\n",
       "131   Topic10    0.192254          entree    8.148253   1.2528  -5.7121\n",
       "221   Topic10    0.116815         include    5.155771   1.2122  -6.2103\n",
       "305   Topic10    0.685938         outside   30.614887   1.2011  -4.4401\n",
       "368   Topic10    0.109060         ricotta    5.011857   1.1719  -6.2790\n",
       "416   Topic10    0.128859            spin    5.923490   1.1716  -6.1122\n",
       "312   Topic10    0.509706           pasta   23.643924   1.1625  -4.7370\n",
       "130   Topic10    0.638794           enjoy   38.814018   0.8926  -4.5113\n",
       "115   Topic10    0.305484      disappoint   18.666099   0.8870  -5.2490\n",
       "317   Topic10    0.508164         perfect   36.207132   0.7333  -4.7401\n",
       "47    Topic10    0.425234       breakfast   51.433002   0.2041  -4.9182\n",
       "58    Topic10    0.572247       calistoga  154.974871  -0.6019  -4.6213\n",
       "218   Topic10    0.250220         husband   24.219132   0.4270  -5.4485\n",
       "476   Topic10    0.221172        waitress   19.898858   0.5001  -5.5719\n",
       "\n",
       "[504 rows x 6 columns], token_table=      Topic      Freq        Term\n",
       "term                             \n",
       "1         1  0.551835          15\n",
       "1         3  0.183945          15\n",
       "1        10  0.183945          15\n",
       "3         1  0.267980  absolutely\n",
       "3         3  0.602956  absolutely\n",
       "5         2  0.212491    actually\n",
       "5         5  0.212491    actually\n",
       "5         6  0.424981    actually\n",
       "6         2  0.188269         add\n",
       "6         3  0.376537         add\n",
       "6         8  0.188269         add\n",
       "6         9  0.188269         add\n",
       "7         1  0.580031       amaze\n",
       "7         2  0.068239       amaze\n",
       "7         4  0.102358       amaze\n",
       "7         6  0.034119       amaze\n",
       "7         7  0.136478       amaze\n",
       "7         8  0.034119       amaze\n",
       "8         1  0.096580     amazing\n",
       "8         4  0.676062     amazing\n",
       "8         8  0.096580     amazing\n",
       "10        1  0.294693    ambience\n",
       "10        2  0.147347    ambience\n",
       "10        3  0.147347    ambience\n",
       "10        7  0.294693    ambience\n",
       "12        1  0.655254   appetizer\n",
       "12        4  0.119137   appetizer\n",
       "12        5  0.178706   appetizer\n",
       "13        5  0.356486  appreciate\n",
       "13        6  0.356486  appreciate\n",
       "...     ...       ...         ...\n",
       "492       1  0.205367        wild\n",
       "492       4  0.205367        wild\n",
       "492       7  0.205367        wild\n",
       "492       8  0.205367        wild\n",
       "493       1  0.692595        wine\n",
       "493       2  0.188890        wine\n",
       "493       4  0.083951        wine\n",
       "496       1  0.119441      winery\n",
       "496       2  0.597207      winery\n",
       "496       7  0.119441      winery\n",
       "498       1  0.335612   wonderful\n",
       "498       2  0.335612   wonderful\n",
       "498       6  0.167806   wonderful\n",
       "498       8  0.125855   wonderful\n",
       "501       1  0.526981       write\n",
       "501       4  0.351321       write\n",
       "505       3  0.086244         yum\n",
       "505       4  0.172488         yum\n",
       "505       5  0.086244         yum\n",
       "505       6  0.344977         yum\n",
       "505       8  0.086244         yum\n",
       "505      10  0.086244         yum\n",
       "506       4  0.205811     yum yum\n",
       "506       6  0.411622     yum yum\n",
       "506       8  0.205811     yum yum\n",
       "506      10  0.205811     yum yum\n",
       "508       2  0.215641       zazie\n",
       "508       4  0.215641       zazie\n",
       "508       7  0.215641       zazie\n",
       "508       8  0.215641       zazie\n",
       "\n",
       "[1115 rows x 3 columns], R=30, lambda_step=0.01, plot_opts={'xlab': 'PC1', 'ylab': 'PC2'}, topic_order=[8, 5, 3, 2, 7, 1, 10, 6, 9, 4])"
      ]
     },
     "execution_count": 52,
     "metadata": {},
     "output_type": "execute_result"
    }
   ],
   "source": [
    "bi_dash = pyLDAvis.sklearn.prepare(bi_lda, bigram_vectorized, bivectorizer, mds='tsne')\n",
    "bi_dash"
   ]
  },
  {
   "cell_type": "markdown",
   "metadata": {},
   "source": [
    "### Going to attempt to iteratively search for the best number of topics for included_reviews:\n",
    "- https://www.machinelearningplus.com/nlp/topic-modeling-python-sklearn-examples/"
   ]
  },
  {
   "cell_type": "code",
   "execution_count": 53,
   "metadata": {},
   "outputs": [],
   "source": [
    "import numpy as np\n",
    "import pandas as pd\n",
    "import re, nltk, spacy, gensim\n",
    "\n",
    "# Sklearn\n",
    "from sklearn.decomposition import LatentDirichletAllocation, TruncatedSVD\n",
    "from sklearn.feature_extraction.text import CountVectorizer, TfidfVectorizer\n",
    "from sklearn.model_selection import GridSearchCV\n",
    "from pprint import pprint\n",
    "\n",
    "# Plotting tools\n",
    "import pyLDAvis\n",
    "import pyLDAvis.sklearn\n",
    "import matplotlib.pyplot as plt\n",
    "%matplotlib inline"
   ]
  },
  {
   "cell_type": "markdown",
   "metadata": {},
   "source": [
    "https://scikit-learn.org/stable/modules/generated/sklearn.decomposition.LatentDirichletAllocation.html"
   ]
  },
  {
   "cell_type": "code",
   "execution_count": 54,
   "metadata": {},
   "outputs": [
    {
     "data": {
      "text/plain": [
       "GridSearchCV(cv='warn', error_score='raise-deprecating',\n",
       "       estimator=LatentDirichletAllocation(batch_size=128, doc_topic_prior=None,\n",
       "             evaluate_every=-1, learning_decay=0.7,\n",
       "             learning_method='batch', learning_offset=10.0,\n",
       "             max_doc_update_iter=100, max_iter=10, mean_change_tol=0.001,\n",
       "             n_components=10, n_jobs=None, n_topics=None, perp_tol=0.1,\n",
       "             random_state=None, topic_word_prior=None,\n",
       "             total_samples=1000000.0, verbose=0),\n",
       "       fit_params=None, iid='warn', n_jobs=None,\n",
       "       param_grid={'n_components': [10, 15, 20, 25, 30], 'learning_decay': [0.5, 0.7, 0.9]},\n",
       "       pre_dispatch='2*n_jobs', refit=True, return_train_score='warn',\n",
       "       scoring=None, verbose=0)"
      ]
     },
     "execution_count": 54,
     "metadata": {},
     "output_type": "execute_result"
    }
   ],
   "source": [
    "# Define Search Param\n",
    "search_params = {'n_components': [10, 15, 20, 25, 30], 'learning_decay': [.5, .7, .9]}\n",
    "\n",
    "# Init the Model\n",
    "lda = LatentDirichletAllocation()\n",
    "\n",
    "# Init Grid Search Class\n",
    "model = GridSearchCV(lda, param_grid=search_params)\n",
    "\n",
    "# Do the Grid Search\n",
    "model.fit(data_vectorized)"
   ]
  },
  {
   "cell_type": "code",
   "execution_count": 55,
   "metadata": {
    "scrolled": true
   },
   "outputs": [
    {
     "data": {
      "text/plain": [
       "GridSearchCV(cv=None, error_score='raise',\n",
       "       estimator=LatentDirichletAllocation(batch_size=128, doc_topic_prior=None,\n",
       "             evaluate_every=-1, learning_decay=0.7, learning_method=None,\n",
       "             learning_offset=10.0, max_doc_update_iter=100, max_iter=10,\n",
       "             mean_change_tol=0.001, n_components=10, n_jobs=1,\n",
       "             n_topics=None, perp_tol=0.1, random_state=None,\n",
       "             topic_word_prior=None, total_samples=1000000.0, verbose=0),\n",
       "       fit_params=None, iid=True, n_jobs=1,\n",
       "       param_grid={'n_topics': [10, 15, 20, 25, 30], 'learning_decay': [0.5, 0.7, 0.9]},\n",
       "       pre_dispatch='2*n_jobs', refit=True, return_train_score='warn',\n",
       "       scoring=None, verbose=0)"
      ]
     },
     "execution_count": 55,
     "metadata": {},
     "output_type": "execute_result"
    }
   ],
   "source": [
    "GridSearchCV(cv=None, error_score='raise',\n",
    "       estimator=LatentDirichletAllocation(batch_size=128, doc_topic_prior=None,\n",
    "             evaluate_every=-1, learning_decay=0.7, learning_method=None,\n",
    "             learning_offset=10.0, max_doc_update_iter=100, max_iter=10,\n",
    "             mean_change_tol=0.001, n_components=10, n_jobs=1,\n",
    "             n_topics=None, perp_tol=0.1, random_state=None,\n",
    "             topic_word_prior=None, total_samples=1000000.0, verbose=0),\n",
    "       fit_params=None, iid=True, n_jobs=1,\n",
    "       param_grid={'n_topics': [10, 15, 20, 25, 30], 'learning_decay': [0.5, 0.7, 0.9]},\n",
    "       pre_dispatch='2*n_jobs', refit=True, return_train_score='warn',\n",
    "       scoring=None, verbose=0)"
   ]
  },
  {
   "cell_type": "code",
   "execution_count": 56,
   "metadata": {},
   "outputs": [
    {
     "name": "stdout",
     "output_type": "stream",
     "text": [
      "Best Model's Params:  {'learning_decay': 0.7, 'n_components': 10}\n",
      "Best Log Likelihood Score:  -19977.717455110465\n",
      "Model Perplexity:  432.88175295933235\n"
     ]
    }
   ],
   "source": [
    "# Best Model\n",
    "best_lda_model = model.best_estimator_\n",
    "\n",
    "# Model Parameters\n",
    "print(\"Best Model's Params: \", model.best_params_)\n",
    "\n",
    "# Log Likelihood Score\n",
    "print(\"Best Log Likelihood Score: \", model.best_score_)\n",
    "\n",
    "# Perplexity\n",
    "print(\"Model Perplexity: \", best_lda_model.perplexity(data_vectorized))"
   ]
  },
  {
   "cell_type": "markdown",
   "metadata": {},
   "source": [
    "### Again with 10 topics. I'm not sure I trust this model-selection approach."
   ]
  },
  {
   "cell_type": "code",
   "execution_count": 57,
   "metadata": {},
   "outputs": [
    {
     "name": "stdout",
     "output_type": "stream",
     "text": [
      "LatentDirichletAllocation(batch_size=128, doc_topic_prior=None,\n",
      "             evaluate_every=-1, learning_decay=0.7,\n",
      "             learning_method='batch', learning_offset=10.0,\n",
      "             max_doc_update_iter=100, max_iter=10, mean_change_tol=0.001,\n",
      "             n_components=10, n_jobs=None, n_topics=None, perp_tol=0.1,\n",
      "             random_state=None, topic_word_prior=None,\n",
      "             total_samples=1000000.0, verbose=0)\n"
     ]
    }
   ],
   "source": [
    "print(best_lda_model)"
   ]
  },
  {
   "cell_type": "code",
   "execution_count": 60,
   "metadata": {
    "scrolled": true
   },
   "outputs": [
    {
     "data": {
      "text/plain": [
       "['Topic0',\n",
       " 'Topic1',\n",
       " 'Topic2',\n",
       " 'Topic3',\n",
       " 'Topic4',\n",
       " 'Topic5',\n",
       " 'Topic6',\n",
       " 'Topic7',\n",
       " 'Topic8',\n",
       " 'Topic9']"
      ]
     },
     "execution_count": 60,
     "metadata": {},
     "output_type": "execute_result"
    }
   ],
   "source": [
    "lda_output.shape\n",
    "topicnames\n",
    "# print(docnames)"
   ]
  },
  {
   "cell_type": "code",
   "execution_count": 59,
   "metadata": {},
   "outputs": [
    {
     "data": {
      "text/html": [
       "<div>\n",
       "<style scoped>\n",
       "    .dataframe tbody tr th:only-of-type {\n",
       "        vertical-align: middle;\n",
       "    }\n",
       "\n",
       "    .dataframe tbody tr th {\n",
       "        vertical-align: top;\n",
       "    }\n",
       "\n",
       "    .dataframe thead th {\n",
       "        text-align: right;\n",
       "    }\n",
       "</style>\n",
       "<table border=\"1\" class=\"dataframe\">\n",
       "  <thead>\n",
       "    <tr style=\"text-align: right;\">\n",
       "      <th></th>\n",
       "      <th>Topic0</th>\n",
       "      <th>Topic1</th>\n",
       "      <th>Topic2</th>\n",
       "      <th>Topic3</th>\n",
       "      <th>Topic4</th>\n",
       "      <th>Topic5</th>\n",
       "      <th>Topic6</th>\n",
       "      <th>Topic7</th>\n",
       "      <th>Topic8</th>\n",
       "      <th>Topic9</th>\n",
       "      <th>dominant_topic</th>\n",
       "    </tr>\n",
       "  </thead>\n",
       "  <tbody>\n",
       "    <tr>\n",
       "      <th>cleaned_review0</th>\n",
       "      <td>0.00</td>\n",
       "      <td>0.00</td>\n",
       "      <td>0.00</td>\n",
       "      <td>0.98</td>\n",
       "      <td>0.00</td>\n",
       "      <td>0.00</td>\n",
       "      <td>0.00</td>\n",
       "      <td>0.00</td>\n",
       "      <td>0.00</td>\n",
       "      <td>0.00</td>\n",
       "      <td>3</td>\n",
       "    </tr>\n",
       "    <tr>\n",
       "      <th>cleaned_review1</th>\n",
       "      <td>0.00</td>\n",
       "      <td>0.00</td>\n",
       "      <td>0.00</td>\n",
       "      <td>0.00</td>\n",
       "      <td>0.00</td>\n",
       "      <td>0.61</td>\n",
       "      <td>0.00</td>\n",
       "      <td>0.00</td>\n",
       "      <td>0.00</td>\n",
       "      <td>0.38</td>\n",
       "      <td>5</td>\n",
       "    </tr>\n",
       "    <tr>\n",
       "      <th>cleaned_review2</th>\n",
       "      <td>0.01</td>\n",
       "      <td>0.01</td>\n",
       "      <td>0.01</td>\n",
       "      <td>0.01</td>\n",
       "      <td>0.01</td>\n",
       "      <td>0.94</td>\n",
       "      <td>0.01</td>\n",
       "      <td>0.01</td>\n",
       "      <td>0.01</td>\n",
       "      <td>0.01</td>\n",
       "      <td>5</td>\n",
       "    </tr>\n",
       "    <tr>\n",
       "      <th>cleaned_review3</th>\n",
       "      <td>0.00</td>\n",
       "      <td>0.00</td>\n",
       "      <td>0.00</td>\n",
       "      <td>0.00</td>\n",
       "      <td>0.98</td>\n",
       "      <td>0.00</td>\n",
       "      <td>0.00</td>\n",
       "      <td>0.00</td>\n",
       "      <td>0.00</td>\n",
       "      <td>0.00</td>\n",
       "      <td>4</td>\n",
       "    </tr>\n",
       "    <tr>\n",
       "      <th>cleaned_review4</th>\n",
       "      <td>0.01</td>\n",
       "      <td>0.30</td>\n",
       "      <td>0.01</td>\n",
       "      <td>0.01</td>\n",
       "      <td>0.01</td>\n",
       "      <td>0.01</td>\n",
       "      <td>0.01</td>\n",
       "      <td>0.01</td>\n",
       "      <td>0.01</td>\n",
       "      <td>0.63</td>\n",
       "      <td>9</td>\n",
       "    </tr>\n",
       "  </tbody>\n",
       "</table>\n",
       "</div>"
      ],
      "text/plain": [
       "                 Topic0  Topic1  Topic2  Topic3  Topic4  Topic5  Topic6  \\\n",
       "cleaned_review0    0.00    0.00    0.00    0.98    0.00    0.00    0.00   \n",
       "cleaned_review1    0.00    0.00    0.00    0.00    0.00    0.61    0.00   \n",
       "cleaned_review2    0.01    0.01    0.01    0.01    0.01    0.94    0.01   \n",
       "cleaned_review3    0.00    0.00    0.00    0.00    0.98    0.00    0.00   \n",
       "cleaned_review4    0.01    0.30    0.01    0.01    0.01    0.01    0.01   \n",
       "\n",
       "                 Topic7  Topic8  Topic9  dominant_topic  \n",
       "cleaned_review0    0.00    0.00    0.00               3  \n",
       "cleaned_review1    0.00    0.00    0.38               5  \n",
       "cleaned_review2    0.01    0.01    0.01               5  \n",
       "cleaned_review3    0.00    0.00    0.00               4  \n",
       "cleaned_review4    0.01    0.01    0.63               9  "
      ]
     },
     "execution_count": 59,
     "metadata": {},
     "output_type": "execute_result"
    }
   ],
   "source": [
    "# Create Document - Topic Matrix\n",
    "lda_output = best_lda_model.transform(data_vectorized)\n",
    "\n",
    "# column names\n",
    "topicnames = [\"Topic\" + str(i) for i in range(best_lda_model.n_components)]\n",
    "\n",
    "# index names\n",
    "docnames = [\"cleaned_review\" + str(i) for i in range(len(included_reviews['review_cleaned']))]\n",
    "\n",
    "# Make the pandas dataframe\n",
    "df_document_topic = pd.DataFrame(np.round(lda_output, 2), columns=topicnames, index=docnames)\n",
    "\n",
    "# Get dominant topic for each document\n",
    "dominant_topic = np.argmax(df_document_topic.values, axis=1)\n",
    "df_document_topic['dominant_topic'] = dominant_topic\n",
    "\n",
    "df_document_topic.head()\n",
    "# Now get stars in there!!!"
   ]
  },
  {
   "cell_type": "code",
   "execution_count": 61,
   "metadata": {
    "scrolled": true
   },
   "outputs": [
    {
     "data": {
      "text/html": [
       "<div>\n",
       "<style scoped>\n",
       "    .dataframe tbody tr th:only-of-type {\n",
       "        vertical-align: middle;\n",
       "    }\n",
       "\n",
       "    .dataframe tbody tr th {\n",
       "        vertical-align: top;\n",
       "    }\n",
       "\n",
       "    .dataframe thead th {\n",
       "        text-align: right;\n",
       "    }\n",
       "</style>\n",
       "<table border=\"1\" class=\"dataframe\">\n",
       "  <thead>\n",
       "    <tr style=\"text-align: right;\">\n",
       "      <th></th>\n",
       "      <th>index</th>\n",
       "      <th>Topic0</th>\n",
       "      <th>Topic1</th>\n",
       "      <th>Topic2</th>\n",
       "      <th>Topic3</th>\n",
       "      <th>Topic4</th>\n",
       "      <th>Topic5</th>\n",
       "      <th>Topic6</th>\n",
       "      <th>Topic7</th>\n",
       "      <th>Topic8</th>\n",
       "      <th>Topic9</th>\n",
       "      <th>dominant_topic</th>\n",
       "      <th>stars</th>\n",
       "    </tr>\n",
       "  </thead>\n",
       "  <tbody>\n",
       "    <tr>\n",
       "      <th>0</th>\n",
       "      <td>cleaned_review0</td>\n",
       "      <td>0.00</td>\n",
       "      <td>0.00</td>\n",
       "      <td>0.00</td>\n",
       "      <td>0.98</td>\n",
       "      <td>0.00</td>\n",
       "      <td>0.00</td>\n",
       "      <td>0.00</td>\n",
       "      <td>0.00</td>\n",
       "      <td>0.00</td>\n",
       "      <td>0.00</td>\n",
       "      <td>3</td>\n",
       "      <td>5.0</td>\n",
       "    </tr>\n",
       "    <tr>\n",
       "      <th>1</th>\n",
       "      <td>cleaned_review1</td>\n",
       "      <td>0.00</td>\n",
       "      <td>0.00</td>\n",
       "      <td>0.00</td>\n",
       "      <td>0.00</td>\n",
       "      <td>0.00</td>\n",
       "      <td>0.61</td>\n",
       "      <td>0.00</td>\n",
       "      <td>0.00</td>\n",
       "      <td>0.00</td>\n",
       "      <td>0.38</td>\n",
       "      <td>5</td>\n",
       "      <td>5.0</td>\n",
       "    </tr>\n",
       "    <tr>\n",
       "      <th>2</th>\n",
       "      <td>cleaned_review2</td>\n",
       "      <td>0.01</td>\n",
       "      <td>0.01</td>\n",
       "      <td>0.01</td>\n",
       "      <td>0.01</td>\n",
       "      <td>0.01</td>\n",
       "      <td>0.94</td>\n",
       "      <td>0.01</td>\n",
       "      <td>0.01</td>\n",
       "      <td>0.01</td>\n",
       "      <td>0.01</td>\n",
       "      <td>5</td>\n",
       "      <td>5.0</td>\n",
       "    </tr>\n",
       "    <tr>\n",
       "      <th>3</th>\n",
       "      <td>cleaned_review3</td>\n",
       "      <td>0.00</td>\n",
       "      <td>0.00</td>\n",
       "      <td>0.00</td>\n",
       "      <td>0.00</td>\n",
       "      <td>0.98</td>\n",
       "      <td>0.00</td>\n",
       "      <td>0.00</td>\n",
       "      <td>0.00</td>\n",
       "      <td>0.00</td>\n",
       "      <td>0.00</td>\n",
       "      <td>4</td>\n",
       "      <td>5.0</td>\n",
       "    </tr>\n",
       "    <tr>\n",
       "      <th>4</th>\n",
       "      <td>cleaned_review4</td>\n",
       "      <td>0.01</td>\n",
       "      <td>0.30</td>\n",
       "      <td>0.01</td>\n",
       "      <td>0.01</td>\n",
       "      <td>0.01</td>\n",
       "      <td>0.01</td>\n",
       "      <td>0.01</td>\n",
       "      <td>0.01</td>\n",
       "      <td>0.01</td>\n",
       "      <td>0.63</td>\n",
       "      <td>9</td>\n",
       "      <td>5.0</td>\n",
       "    </tr>\n",
       "  </tbody>\n",
       "</table>\n",
       "</div>"
      ],
      "text/plain": [
       "             index  Topic0  Topic1  Topic2  Topic3  Topic4  Topic5  Topic6  \\\n",
       "0  cleaned_review0    0.00    0.00    0.00    0.98    0.00    0.00    0.00   \n",
       "1  cleaned_review1    0.00    0.00    0.00    0.00    0.00    0.61    0.00   \n",
       "2  cleaned_review2    0.01    0.01    0.01    0.01    0.01    0.94    0.01   \n",
       "3  cleaned_review3    0.00    0.00    0.00    0.00    0.98    0.00    0.00   \n",
       "4  cleaned_review4    0.01    0.30    0.01    0.01    0.01    0.01    0.01   \n",
       "\n",
       "   Topic7  Topic8  Topic9  dominant_topic  stars  \n",
       "0    0.00    0.00    0.00               3    5.0  \n",
       "1    0.00    0.00    0.38               5    5.0  \n",
       "2    0.01    0.01    0.01               5    5.0  \n",
       "3    0.00    0.00    0.00               4    5.0  \n",
       "4    0.01    0.01    0.63               9    5.0  "
      ]
     },
     "execution_count": 61,
     "metadata": {},
     "output_type": "execute_result"
    }
   ],
   "source": [
    "df_document_topic = df_document_topic.reset_index(drop=False)\n",
    "\n",
    "df_document_topic['stars'] = included_reviews['stars']\n",
    "df_document_topic.head()"
   ]
  },
  {
   "cell_type": "code",
   "execution_count": 62,
   "metadata": {
    "scrolled": true
   },
   "outputs": [
    {
     "data": {
      "image/png": "[encoded data removed]",
      "text/plain": [
       "<Figure size 432x288 with 1 Axes>"
      ]
     },
     "metadata": {
      "needs_background": "light"
     },
     "output_type": "display_data"
    }
   ],
   "source": [
    "ax = sns.countplot(x='dominant_topic', hue='stars', data=df_document_topic)\n",
    "#note that the 1-star reviews are clumping in topcs 4, 5, and to a lesser proportion 7\n",
    "#5 and 7 are also heavy with 2-star reviews"
   ]
  },
  {
   "cell_type": "markdown",
   "metadata": {},
   "source": [
    "https://pyldavis.readthedocs.io/en/latest/modules/API.html"
   ]
  },
  {
   "cell_type": "code",
   "execution_count": 63,
   "metadata": {
    "scrolled": false
   },
   "outputs": [
    {
     "data": {
      "text/html": [
       "\n",
       "<link rel=\"stylesheet\" type=\"text/css\" href=\"https://cdn.rawgit.com/bmabey/pyLDAvis/files/ldavis.v1.0.0.css\">\n",
       "\n",
       "\n",
       "<div id=\"ldavis_el112971406618464685528035446681\"></div>\n",
       "<script type=\"text/javascript\">\n",
       "\n",
       "var ldavis_el112971406618464685528035446681_data = {\"mdsDat\": {\"x\": [-205.73890686035156, 214.7094268798828, -12.350554466247559, -50.46591567993164, 255.02903747558594, -67.82855224609375, 67.27994537353516, 180.5457763671875, 88.60823822021484, -192.8285675048828], \"y\": [126.88880157470703, -165.0943145751953, -199.0717315673828, 255.0011749267578, 50.167640686035156, 17.933639526367188, 120.25967407226562, 250.43359375, -48.01997375488281, -104.28455352783203], \"topics\": [1, 2, 3, 4, 5, 6, 7, 8, 9, 10], \"cluster\": [1, 1, 1, 1, 1, 1, 1, 1, 1, 1], \"Freq\": [21.816070445094496, 16.48869899167812, 14.785296153826266, 12.022269374971387, 10.335893902861496, 8.407920661855997, 7.2745606298325995, 4.159295087875607, 4.077488885346993, 0.6325058666570285]}, \"tinfo\": {\"Category\": [\"Default\", \"Default\", \"Default\", \"Default\", \"Default\", \"Default\", \"Default\", \"Default\", \"Default\", \"Default\", \"Default\", \"Default\", \"Default\", \"Default\", \"Default\", \"Default\", \"Default\", \"Default\", \"Default\", \"Default\", \"Default\", \"Default\", \"Default\", \"Default\", \"Default\", \"Default\", \"Default\", \"Default\", \"Default\", \"Default\", \"Topic1\", \"Topic1\", \"Topic1\", \"Topic1\", \"Topic1\", \"Topic1\", \"Topic1\", \"Topic1\", \"Topic1\", \"Topic1\", \"Topic1\", \"Topic1\", \"Topic1\", \"Topic1\", \"Topic1\", \"Topic1\", \"Topic1\", \"Topic1\", \"Topic1\", \"Topic1\", \"Topic1\", \"Topic1\", \"Topic1\", \"Topic1\", \"Topic1\", \"Topic1\", \"Topic1\", \"Topic1\", \"Topic1\", \"Topic1\", \"Topic1\", \"Topic1\", \"Topic1\", \"Topic1\", \"Topic1\", \"Topic1\", \"Topic1\", \"Topic1\", \"Topic1\", \"Topic1\", \"Topic1\", \"Topic1\", \"Topic1\", \"Topic1\", \"Topic1\", \"Topic1\", \"Topic1\", \"Topic1\", \"Topic1\", \"Topic1\", \"Topic1\", \"Topic1\", \"Topic1\", \"Topic1\", \"Topic1\", \"Topic1\", \"Topic1\", \"Topic1\", \"Topic1\", \"Topic1\", \"Topic2\", \"Topic2\", \"Topic2\", \"Topic2\", \"Topic2\", \"Topic2\", \"Topic2\", \"Topic2\", \"Topic2\", \"Topic2\", \"Topic2\", \"Topic2\", \"Topic2\", \"Topic2\", \"Topic2\", \"Topic2\", \"Topic2\", \"Topic2\", \"Topic2\", \"Topic2\", \"Topic2\", \"Topic2\", \"Topic2\", \"Topic2\", \"Topic2\", \"Topic2\", \"Topic2\", \"Topic2\", \"Topic2\", \"Topic2\", \"Topic2\", \"Topic2\", \"Topic2\", \"Topic2\", \"Topic2\", \"Topic2\", \"Topic2\", \"Topic2\", \"Topic2\", \"Topic2\", \"Topic2\", \"Topic2\", \"Topic2\", \"Topic2\", \"Topic2\", \"Topic2\", \"Topic2\", \"Topic2\", \"Topic2\", \"Topic2\", \"Topic2\", \"Topic2\", \"Topic2\", \"Topic2\", \"Topic2\", \"Topic2\", \"Topic2\", \"Topic2\", \"Topic2\", \"Topic3\", \"Topic3\", \"Topic3\", \"Topic3\", \"Topic3\", \"Topic3\", \"Topic3\", \"Topic3\", \"Topic3\", \"Topic3\", \"Topic3\", \"Topic3\", \"Topic3\", \"Topic3\", \"Topic3\", \"Topic3\", \"Topic3\", \"Topic3\", \"Topic3\", \"Topic3\", \"Topic3\", \"Topic3\", \"Topic3\", \"Topic3\", \"Topic3\", \"Topic3\", \"Topic3\", \"Topic3\", \"Topic3\", \"Topic3\", \"Topic3\", \"Topic3\", \"Topic3\", \"Topic3\", \"Topic3\", \"Topic3\", \"Topic3\", \"Topic3\", \"Topic3\", \"Topic3\", \"Topic3\", \"Topic3\", \"Topic3\", \"Topic3\", \"Topic3\", \"Topic3\", \"Topic3\", \"Topic3\", \"Topic3\", \"Topic3\", \"Topic3\", \"Topic3\", \"Topic3\", \"Topic3\", \"Topic3\", \"Topic3\", \"Topic3\", \"Topic3\", \"Topic3\", \"Topic4\", \"Topic4\", \"Topic4\", \"Topic4\", \"Topic4\", \"Topic4\", \"Topic4\", \"Topic4\", \"Topic4\", \"Topic4\", \"Topic4\", \"Topic4\", \"Topic4\", \"Topic4\", \"Topic4\", \"Topic4\", \"Topic4\", \"Topic4\", \"Topic4\", \"Topic4\", \"Topic4\", \"Topic4\", \"Topic4\", \"Topic4\", \"Topic4\", \"Topic4\", \"Topic4\", \"Topic4\", \"Topic4\", \"Topic4\", \"Topic4\", \"Topic4\", \"Topic4\", \"Topic4\", \"Topic4\", \"Topic4\", \"Topic4\", \"Topic4\", \"Topic4\", \"Topic4\", \"Topic4\", \"Topic4\", \"Topic4\", \"Topic4\", \"Topic4\", \"Topic4\", \"Topic4\", \"Topic4\", \"Topic4\", \"Topic4\", \"Topic4\", \"Topic4\", \"Topic4\", \"Topic4\", \"Topic5\", \"Topic5\", \"Topic5\", \"Topic5\", \"Topic5\", \"Topic5\", \"Topic5\", \"Topic5\", \"Topic5\", \"Topic5\", \"Topic5\", \"Topic5\", \"Topic5\", \"Topic5\", \"Topic5\", \"Topic5\", \"Topic5\", \"Topic5\", \"Topic5\", \"Topic5\", \"Topic5\", \"Topic5\", \"Topic5\", \"Topic5\", \"Topic5\", \"Topic5\", \"Topic5\", \"Topic5\", \"Topic5\", \"Topic5\", \"Topic5\", \"Topic5\", \"Topic5\", \"Topic5\", \"Topic5\", \"Topic5\", \"Topic5\", \"Topic5\", \"Topic5\", \"Topic5\", \"Topic5\", \"Topic5\", \"Topic5\", \"Topic5\", \"Topic5\", \"Topic5\", \"Topic5\", \"Topic5\", \"Topic5\", \"Topic5\", \"Topic5\", \"Topic6\", \"Topic6\", \"Topic6\", \"Topic6\", \"Topic6\", \"Topic6\", \"Topic6\", \"Topic6\", \"Topic6\", \"Topic6\", \"Topic6\", \"Topic6\", \"Topic6\", \"Topic6\", \"Topic6\", \"Topic6\", \"Topic6\", \"Topic6\", \"Topic6\", \"Topic6\", \"Topic6\", \"Topic6\", \"Topic6\", \"Topic6\", \"Topic6\", \"Topic6\", \"Topic6\", \"Topic6\", \"Topic6\", \"Topic6\", \"Topic6\", \"Topic6\", \"Topic6\", \"Topic6\", \"Topic6\", \"Topic6\", \"Topic6\", \"Topic6\", \"Topic6\", \"Topic6\", \"Topic6\", \"Topic6\", \"Topic6\", \"Topic6\", \"Topic6\", \"Topic6\", \"Topic6\", \"Topic6\", \"Topic6\", \"Topic6\", \"Topic6\", \"Topic6\", \"Topic6\", \"Topic6\", \"Topic6\", \"Topic6\", \"Topic7\", \"Topic7\", \"Topic7\", \"Topic7\", \"Topic7\", \"Topic7\", \"Topic7\", \"Topic7\", \"Topic7\", \"Topic7\", \"Topic7\", \"Topic7\", \"Topic7\", \"Topic7\", \"Topic7\", \"Topic7\", \"Topic7\", \"Topic7\", \"Topic7\", \"Topic7\", \"Topic7\", \"Topic7\", \"Topic7\", \"Topic7\", \"Topic7\", \"Topic7\", \"Topic7\", \"Topic7\", \"Topic7\", \"Topic7\", \"Topic7\", \"Topic7\", \"Topic7\", \"Topic7\", \"Topic7\", \"Topic7\", \"Topic7\", \"Topic7\", \"Topic7\", \"Topic7\", \"Topic7\", \"Topic7\", \"Topic7\", \"Topic7\", \"Topic7\", \"Topic7\", \"Topic7\", \"Topic7\", \"Topic7\", \"Topic7\", \"Topic7\", \"Topic7\", \"Topic7\", \"Topic8\", \"Topic8\", \"Topic8\", \"Topic8\", \"Topic8\", \"Topic8\", \"Topic8\", \"Topic8\", \"Topic8\", \"Topic8\", \"Topic8\", \"Topic8\", \"Topic8\", \"Topic8\", \"Topic8\", \"Topic8\", \"Topic8\", \"Topic8\", \"Topic8\", \"Topic8\", \"Topic8\", \"Topic8\", \"Topic8\", \"Topic8\", \"Topic8\", \"Topic8\", \"Topic8\", \"Topic8\", \"Topic8\", \"Topic8\", \"Topic8\", \"Topic8\", \"Topic8\", \"Topic8\", \"Topic8\", \"Topic8\", \"Topic8\", \"Topic8\", \"Topic8\", \"Topic8\", \"Topic8\", \"Topic8\", \"Topic8\", \"Topic8\", \"Topic8\", \"Topic8\", \"Topic8\", \"Topic8\", \"Topic8\", \"Topic9\", \"Topic9\", \"Topic9\", \"Topic9\", \"Topic9\", \"Topic9\", \"Topic9\", \"Topic9\", \"Topic9\", \"Topic9\", \"Topic9\", \"Topic9\", \"Topic9\", \"Topic9\", \"Topic9\", \"Topic9\", \"Topic9\", \"Topic9\", \"Topic9\", \"Topic9\", \"Topic9\", \"Topic9\", \"Topic9\", \"Topic9\", \"Topic9\", \"Topic9\", \"Topic9\", \"Topic9\", \"Topic9\", \"Topic9\", \"Topic9\", \"Topic9\", \"Topic9\", \"Topic9\", \"Topic9\", \"Topic9\", \"Topic9\", \"Topic9\", \"Topic9\", \"Topic9\", \"Topic9\", \"Topic9\", \"Topic9\", \"Topic9\", \"Topic9\", \"Topic9\", \"Topic9\", \"Topic9\", \"Topic9\", \"Topic9\", \"Topic9\", \"Topic9\", \"Topic9\", \"Topic10\", \"Topic10\", \"Topic10\", \"Topic10\", \"Topic10\", \"Topic10\", \"Topic10\", \"Topic10\", \"Topic10\", \"Topic10\", \"Topic10\", \"Topic10\", \"Topic10\", \"Topic10\", \"Topic10\", \"Topic10\", \"Topic10\", \"Topic10\", \"Topic10\", \"Topic10\", \"Topic10\", \"Topic10\", \"Topic10\", \"Topic10\", \"Topic10\", \"Topic10\", \"Topic10\", \"Topic10\", \"Topic10\", \"Topic10\", \"Topic10\", \"Topic10\", \"Topic10\", \"Topic10\", \"Topic10\", \"Topic10\", \"Topic10\", \"Topic10\"], \"Freq\": [68.0, 150.0, 85.0, 37.0, 50.0, 61.0, 46.0, 124.0, 35.0, 41.0, 59.0, 43.0, 21.0, 60.0, 31.0, 27.0, 73.0, 28.0, 35.0, 43.0, 174.0, 109.0, 32.0, 30.0, 28.0, 26.0, 23.0, 24.0, 29.0, 31.0, 5.787127311690424, 4.8383927524533625, 8.213378324466657, 10.60177321451846, 3.8896826409296623, 3.889700044643582, 8.309677103903384, 9.996715006501102, 3.745672678755871, 7.4670370503952475, 7.420041309004779, 7.280004347190744, 4.838432125154871, 4.838457370548539, 13.207931980464808, 5.666479604949924, 3.3429424621739376, 3.8731578184807676, 8.268471553191224, 6.083533747732587, 4.8384026765519925, 5.787178007364963, 5.708186486817564, 5.166196943929142, 7.236030219188375, 13.199881344070974, 5.503501914660645, 7.5508660715638865, 11.462062617825984, 12.415994833997258, 22.97134149211649, 34.40944813724548, 18.526393896895918, 38.26405108817861, 26.1650774328151, 41.8331167388511, 19.935840858904907, 23.224153260672058, 14.124871818455254, 22.0864800843384, 13.337043983400976, 19.293676926849667, 12.359429821771746, 15.403599644912687, 13.119150553479635, 18.795651883639582, 34.63785812605412, 34.03563799462391, 24.741827595055316, 16.640968218996765, 14.610747747298358, 23.988106866251677, 13.741469965466505, 15.335720959965531, 18.402588510962875, 17.13773863967325, 14.997580584192786, 13.959708043770346, 13.609647656395, 13.269495471764527, 4.846373610903156, 4.846303972459716, 3.896097311031311, 3.766192427820591, 4.8463517422852975, 9.388362714782584, 3.283526300484097, 12.851688396656671, 3.6840333229433164, 8.326118481616614, 24.25283473242467, 6.537600246845747, 3.89605268631087, 10.548017244865816, 5.982149122897873, 2.945824126945226, 2.9457395641515225, 4.806834445283546, 2.843579163151722, 6.037930366884136, 15.11974611658871, 5.904093613154172, 8.345165569164916, 9.515085909875149, 10.34993432659003, 3.8960945784915664, 3.42265221421979, 2.9458228714804933, 2.945841574127923, 3.7350225456770385, 8.089946125144426, 5.705976049472986, 9.575484977815613, 43.12424853905833, 15.69734441619242, 36.59761456519023, 34.74296133151731, 10.338311875636524, 20.32292613346177, 13.347236779365822, 14.297885650772063, 24.492517532018624, 10.846549400609344, 32.43593452987563, 9.88512058382504, 15.70669160277627, 21.6031746213476, 11.884653304230154, 10.821574337216479, 21.46006990293422, 23.326865866427415, 13.795727747079864, 13.805232924715986, 11.791143517945724, 11.973027066550934, 10.453879450285637, 10.929173240394, 10.099714174716288, 10.193857650031406, 10.375742400656433, 6.807080798764818, 6.807080798756166, 3.961686117377034, 3.9617049252512384, 12.99811860992645, 5.168828780011502, 3.5862457887686103, 4.562634856923365, 3.0089767692915284, 11.260271944099253, 12.28621351265781, 10.806578656520452, 3.2140639593417477, 14.132298984158437, 5.038586390257418, 3.6212722855106203, 4.340228855375568, 6.043749646596084, 2.995442690727127, 7.164376681321835, 4.927983718854141, 7.1819594716280255, 3.1613547333993104, 12.595628275810675, 3.0217264259526075, 4.196043712017779, 2.995275661585777, 2.9954530592371715, 2.9954193951818695, 8.974905630245043, 8.79308180804772, 4.4471130463924515, 6.221394638722969, 56.84709602336939, 10.282854414011016, 14.728881955763306, 14.279948457896145, 9.975833258260499, 13.85963270083313, 26.33211461362557, 8.414465182722028, 22.08044474957882, 29.88711386571155, 14.672928540928183, 14.675194211275297, 15.641642150130714, 12.507971976858807, 20.22756206154456, 12.786998676079003, 12.86215696183644, 12.692057824378919, 10.029802861845651, 11.364605450948021, 13.490766932878516, 10.813157199139265, 10.057928880595734, 9.148673828070422, 9.344122591605151, 7.763830780889127, 5.846837871695896, 11.439512426555954, 6.543641590310297, 7.0875860495624154, 5.7205681284049605, 4.888295794374471, 14.870217095445351, 6.374663582141421, 3.4164989706049407, 3.8051736178007203, 6.235523179806397, 3.6553253863912256, 4.5215367401590845, 2.9459072861860873, 5.8468762104280945, 5.8468350255758725, 14.005717039884873, 3.701138515698261, 5.35065473751926, 4.350538205927684, 2.576965960611047, 4.7081749003896105, 2.547626597674583, 3.825548752052335, 7.465323107804862, 6.228122116216381, 6.135515268339327, 12.087313012908437, 6.618798699633481, 25.306972098837768, 19.653589234021116, 12.54880128285201, 8.273118359082758, 18.79213096089438, 5.677797264159427, 8.19897935929039, 9.759438521610665, 11.022288615704808, 10.302328117738282, 9.024041492560185, 11.161614482777559, 7.937739826344471, 15.66397169439979, 12.998616515011346, 8.941524458466795, 9.325882699669227, 7.714711519605543, 9.02071951650846, 10.069357394073638, 10.541370607406314, 8.261076035480801, 8.291049107247689, 7.194491730462916, 5.907397973983069, 5.907384072125609, 11.717973866856303, 8.674624202524429, 7.598121659402595, 5.825923628627082, 5.750624076879173, 50.663466381671846, 4.938966995213427, 6.176276079072738, 4.8016167070969376, 9.428378052849581, 18.322466105374737, 4.938958345831181, 13.773380238603849, 3.970458950675036, 5.402849447695366, 4.921075294817566, 4.895878375338713, 4.675339007389762, 3.9704833779585313, 4.512490059592089, 9.473180663603051, 3.00213498727988, 4.008765461929718, 4.938987008750567, 14.025887774832176, 5.318218881409915, 15.452627317186112, 5.689898069193048, 10.406949686982225, 16.550481514886325, 5.527963393313548, 11.341274899233987, 8.54105951273379, 21.52393559104254, 10.398636525213277, 10.247148957468353, 13.408108939179453, 7.137574793944418, 7.440295196561622, 13.6062507813426, 8.953147649376122, 11.296025939028913, 9.200066556269752, 9.107196737172071, 7.51250336373264, 7.0877712618602855, 8.029579504015638, 6.875842775156366, 7.351452571123053, 3.8907145675863593, 4.839733847828426, 6.737644582234898, 4.839739246138412, 2.941770241284103, 6.737695430834204, 2.8515780457578996, 4.839741386382793, 2.9417957173544047, 2.941758556591488, 4.066516192285272, 3.8907518758123505, 2.5734879458087105, 3.3005727261832005, 2.542132260578063, 7.21592236744785, 3.229476294111446, 13.54580241017032, 3.1929282138647803, 7.234422127682615, 9.847464708915293, 3.3726263845038367, 2.361557715497208, 1.9927689469773517, 2.2921328166764976, 2.941807477934705, 2.673947531612602, 1.9927889756702886, 1.9927898766217116, 3.7952264210071074, 8.062904272269028, 9.709758444778062, 6.704212674062622, 9.995416870381836, 6.076713830125807, 6.737685149707089, 9.357372815858655, 6.607452071384711, 9.70679654211167, 6.737699902193475, 17.360985530325905, 14.285034602341542, 5.069720152557813, 8.612475171328075, 6.54550989833092, 6.980023281466736, 11.740119393293433, 6.943309327227377, 6.7937459416183135, 6.856632176535986, 5.912551545830276, 6.577201641360304, 7.612562425948593, 6.402646145576555, 5.464202754973208, 5.76626149648093, 3.318194684712657, 11.990294238560057, 3.796935988647435, 4.181420765674225, 3.7969552519505068, 9.399192194659234, 4.073740394534919, 1.9447657231209754, 7.862296225377146, 1.9447591305044374, 2.870843166641558, 3.5049047848499053, 1.8884704961861216, 10.665105912326899, 10.651191390899852, 3.616103229070158, 1.9447563720373335, 1.9446825078311105, 4.706889920204052, 3.146563447325559, 2.8592386169042956, 2.2451854732988394, 9.202488897544786, 4.684966804938461, 1.9447383168349328, 1.9447462262762192, 1.3759335509692783, 5.03102045682948, 2.870846391222316, 3.9498023848400274, 6.4395354130001845, 11.167577586568342, 6.986215559377423, 4.185163375564711, 5.874563365900936, 20.09145350015393, 13.967521147813054, 8.510018086245069, 14.697957026030513, 11.381393493920738, 5.155849418469681, 11.490152541235137, 6.11840129204026, 10.237707691859915, 8.98330724286932, 6.575296671815079, 6.4695215471421985, 5.474531240679132, 6.126585425409921, 6.438897093574239, 5.138164485475031, 5.6281770436626894, 5.151447198607908, 6.52768692793894, 3.6682882461334603, 2.8501134792921397, 2.8501252590992636, 3.5612452994266106, 1.9307243716216627, 2.572523450746935, 3.769522091619476, 1.878189951076714, 3.453220641248587, 7.311380096408705, 1.930728958591087, 1.7834508895018144, 1.9306967078801123, 9.047276163699701, 1.930716494937443, 2.4795868286752993, 1.6373288207830863, 1.62837830445358, 7.175139208140115, 3.7695134360396794, 2.4157071316865126, 3.455339707880596, 2.193531593437797, 2.6664408236844737, 2.483340913587062, 1.9306990756452604, 5.721200527111304, 3.7695420897433567, 1.0112969048844007, 5.936872859588841, 2.8083957698255926, 4.326464343581921, 4.219355844421596, 3.7695227246586227, 6.844830103969462, 5.593985773944868, 7.692479534989347, 4.903708849774782, 3.967952585817002, 5.448221512977983, 4.882130143510029, 3.1508500560699675, 3.1179929345411583, 4.065578895121259, 3.9890304488156985, 3.245715006347453, 3.2570638505696143, 3.020022751545887, 10.726430628689771, 4.647854756341021, 1.9138045208193122, 1.5899554142020635, 2.7912757239586647, 2.284289934010907, 1.4563428558444806, 1.9138269312288978, 2.825145209194719, 3.675372553701458, 1.9138331173391387, 1.91381997848585, 1.8999740275754013, 1.9138001856107831, 4.647859477768815, 2.316848300699844, 5.539923392986081, 1.9138194539008755, 4.543562131324128, 1.0024762665283868, 1.002471056140307, 1.002474867364564, 1.0024778990085428, 1.002478077909401, 2.7992217310599763, 4.624124108580222, 1.9138308840102338, 4.625598366820875, 1.0024731889423772, 1.0024788735422645, 4.453147663921971, 2.8917142008900925, 3.7365347446308017, 4.750319327708778, 6.409633469565258, 12.570387867416446, 4.834495027560157, 4.647883230627009, 7.6837639375922455, 5.2878775681231005, 2.8251287753665593, 5.383740467549045, 2.951569470194942, 2.7432800735578002, 3.8023576403336334, 3.0258732126313888, 2.825190531397718, 2.8826005322964843, 3.5685744218204616, 3.205714375788774, 2.9005473339115717, 2.8251780745990014, 2.825177669692814, 1.5104565112120363, 0.791202382321042, 0.7912614240462934, 0.7911905601808958, 0.7912042321916343, 0.791212207017027, 0.7912076854387442, 0.7911995345614976, 0.7912251871358933, 0.791218977997005, 0.7912310623420893, 0.7912501506048828, 0.7912291396037958, 1.2338563989512557, 0.791233917386677, 0.7911970107029064, 0.791244328637988, 0.791226302043709, 0.7911968371112731, 0.7912365939931212, 0.7912411303834727, 0.7912230637319857, 0.07192548666605378, 0.07192548625815194, 0.07192548614166065, 0.0719254862285615, 0.0719254857093665, 0.07192548590426391, 0.07192548588802937, 0.07192548805338705, 0.7912455051875871, 0.9095052381669636, 0.8384181399779477, 0.07193806238609242, 0.07193619919833578, 0.0719315625798228, 0.07192805490024141, 0.07192549146431794], \"Term\": [\"table\", \"good\", \"delicious\", \"french\", \"friendly\", \"order\", \"toast\", \"service\", \"perfect\", \"patio\", \"meal\", \"day\", \"lamb\", \"brunch\", \"seat\", \"inside\", \"salad\", \"sunday\", \"bread\", \"ask\", \"food\", \"great\", \"steak\", \"outside\", \"lovina\", \"minute\", \"salmon\", \"friend\", \"know\", \"egg\", \"walnut\", \"warn\", \"choose\", \"sweet\", \"knowledgeable\", \"appreciate\", \"wish\", \"huge\", \"veggies\", \"slice\", \"burrito\", \"set\", \"hit\", \"veggie\", \"share\", \"bun\", \"cherry\", \"bone\", \"big\", \"breast\", \"country\", \"helpful\", \"thick\", \"plenty\", \"lot\", \"sit\", \"interest\", \"awesome\", \"lovely\", \"weekend\", \"toast\", \"salad\", \"french\", \"delicious\", \"nice\", \"place\", \"wine\", \"fresh\", \"wonderful\", \"breakfast\", \"server\", \"excellent\", \"burger\", \"duck\", \"cook\", \"dinner\", \"good\", \"food\", \"great\", \"eat\", \"patio\", \"service\", \"amaze\", \"order\", \"calistoga\", \"come\", \"time\", \"menu\", \"brunch\", \"friendly\", \"completely\", \"decor\", \"tiki\", \"spicy\", \"recommendation\", \"yum\", \"loved\", \"soup\", \"hand\", \"appetizer\", \"chef\", \"main\", \"thank\", \"rick\", \"entree\", \"today\", \"garden\", \"follow\", \"watch\", \"yummy\", \"visit\", \"fish\", \"sure\", \"risotto\", \"atmosphere\", \"trip\", \"date\", \"susie\", \"attitude\", \"remedy\", \"owner\", \"incredible\", \"cute\", \"calistoga\", \"amaze\", \"come\", \"great\", \"dessert\", \"time\", \"kitchen\", \"staff\", \"restaurant\", \"definitely\", \"food\", \"amp\", \"menu\", \"place\", \"duck\", \"steak\", \"service\", \"good\", \"meal\", \"nice\", \"day\", \"friendly\", \"patio\", \"delicious\", \"dinner\", \"salad\", \"water\", \"huevos\", \"rancheros\", \"far\", \"presentation\", \"coffee\", \"bean\", \"average\", \"old\", \"head\", \"plate\", \"area\", \"tell\", \"quick\", \"tasty\", \"location\", \"reasonable\", \"high\", \"drink\", \"write\", \"worth\", \"ingredient\", \"overall\", \"juice\", \"egg\", \"mimosa\", \"use\", \"morning\", \"cut\", \"francisco\", \"leave\", \"cute\", \"quality\", \"end\", \"food\", \"waitress\", \"ask\", \"feel\", \"sunday\", \"day\", \"come\", \"spot\", \"restaurant\", \"good\", \"wait\", \"love\", \"brunch\", \"try\", \"service\", \"like\", \"order\", \"time\", \"want\", \"little\", \"calistoga\", \"fresh\", \"delicious\", \"taste\", \"place\", \"bottle\", \"pea\", \"happy\", \"white\", \"gem\", \"dress\", \"balance\", \"salmon\", \"blow\", \"loud\", \"surprise\", \"smoke\", \"professional\", \"polenta\", \"zazie\", \"hot\", \"roast\", \"lovina\", \"winery\", \"easy\", \"spring\", \"week\", \"tender\", \"nearly\", \"relax\", \"away\", \"street\", \"glass\", \"flavor\", \"rabbit\", \"little\", \"love\", \"enjoy\", \"chop\", \"salad\", \"cake\", \"chicken\", \"dish\", \"day\", \"experience\", \"serve\", \"excellent\", \"perfectly\", \"calistoga\", \"delicious\", \"want\", \"fresh\", \"right\", \"dinner\", \"service\", \"food\", \"meal\", \"restaurant\", \"think\", \"rude\", \"note\", \"hostess\", \"available\", \"customer\", \"guest\", \"family\", \"table\", \"problem\", \"bar\", \"receive\", \"arrive\", \"minute\", \"fine\", \"walk\", \"hear\", \"room\", \"lack\", \"course\", \"live\", \"heirloom\", \"instead\", \"open\", \"cold\", \"point\", \"maybe\", \"inside\", \"door\", \"reservation\", \"work\", \"leave\", \"ask\", \"early\", \"know\", \"new\", \"restaurant\", \"seat\", \"way\", \"wait\", \"home\", \"people\", \"service\", \"patio\", \"come\", \"little\", \"time\", \"feel\", \"server\", \"place\", \"burger\", \"good\", \"soft\", \"forward\", \"bill\", \"short\", \"olive\", \"return\", \"homemade\", \"rib\", \"piece\", \"fan\", \"bland\", \"ambiance\", \"ricotta\", \"old\", \"low\", \"omelet\", \"pudding\", \"bread\", \"meat\", \"thing\", \"husband\", \"high\", \"average\", \"pay\", \"oil\", \"mix\", \"lemon\", \"present\", \"prepare\", \"change\", \"sandwich\", \"steak\", \"house\", \"want\", \"soup\", \"review\", \"ask\", \"waitress\", \"like\", \"sauce\", \"good\", \"great\", \"disappoint\", \"menu\", \"enjoy\", \"look\", \"food\", \"breakfast\", \"eat\", \"meal\", \"think\", \"brunch\", \"service\", \"come\", \"pork\", \"restaurant\", \"meet\", \"pasta\", \"ambience\", \"party\", \"outstanding\", \"town\", \"interest\", \"base\", \"star\", \"crowd\", \"limit\", \"tender\", \"music\", \"serve\", \"steak\", \"entree\", \"delightful\", \"life\", \"rabbit\", \"beef\", \"season\", \"rich\", \"dish\", \"start\", \"hour\", \"cut\", \"decent\", \"valley\", \"hope\", \"portion\", \"napa\", \"dinner\", \"pork\", \"pretty\", \"sauce\", \"food\", \"service\", \"meal\", \"good\", \"place\", \"flavor\", \"calistoga\", \"taste\", \"come\", \"great\", \"wait\", \"eat\", \"kitchen\", \"brunch\", \"restaurant\", \"perfect\", \"order\", \"recommend\", \"kimchi\", \"delightful\", \"life\", \"squash\", \"blt\", \"half\", \"greet\", \"avocado\", \"park\", \"amazing\", \"friend\", \"write\", \"spin-dry\", \"hour\", \"perfect\", \"spice\", \"arugula\", \"mimosa\", \"size\", \"bread\", \"omelet\", \"yummy\", \"bacon\", \"easy\", \"green\", \"drink\", \"girl\", \"egg\", \"risotto\", \"base\", \"cheese\", \"away\", \"seat\", \"pork\", \"lovina\", \"delicious\", \"order\", \"service\", \"breakfast\", \"recommend\", \"salad\", \"nice\", \"stop\", \"amp\", \"great\", \"good\", \"look\", \"eat\", \"little\", \"lamb\", \"let\", \"went\", \"loved\", \"blt\", \"stew\", \"wild\", \"heirloom\", \"smoke\", \"bolognese\", \"finally\", \"country\", \"limit\", \"mix\", \"salmon\", \"choice\", \"know\", \"season\", \"special\", \"decent\", \"pur\", \"ready\", \"comfortable\", \"soon\", \"rabbit\", \"burger\", \"work\", \"lovina\", \"ricotta\", \"include\", \"right\", \"wife\", \"waitress\", \"taste\", \"order\", \"good\", \"wine\", \"look\", \"great\", \"menu\", \"cute\", \"service\", \"dessert\", \"atmosphere\", \"meal\", \"cook\", \"lunch\", \"pork\", \"calistoga\", \"place\", \"patio\", \"like\", \"brunch\", \"fast\", \"present\", \"prepare\", \"notice\", \"thank\", \"cool\", \"short\", \"room\", \"charm\", \"inside\", \"sunday\", \"outside\", \"seat\", \"friendly\", \"perfect\", \"french\", \"patio\", \"day\", \"toast\", \"meal\", \"brunch\", \"order\", \"half\", \"wild\", \"base\", \"decent\", \"pur\", \"loved\", \"ready\", \"music\", \"delicious\", \"service\", \"good\", \"salad\", \"smoke\", \"salmon\", \"lamb\", \"garden\"], \"Total\": [68.0, 150.0, 85.0, 37.0, 50.0, 61.0, 46.0, 124.0, 35.0, 41.0, 59.0, 43.0, 21.0, 60.0, 31.0, 27.0, 73.0, 28.0, 35.0, 43.0, 174.0, 109.0, 32.0, 30.0, 28.0, 26.0, 23.0, 24.0, 29.0, 31.0, 6.614018636520793, 5.665303237546281, 11.403592309693906, 15.134246441011937, 5.6655532626992136, 5.682858809892047, 12.372177276579162, 15.122235090246585, 5.667093504915095, 11.3613160532818, 11.341485282109625, 11.391125446186557, 7.5826973436278005, 7.602159791226911, 21.874042061896645, 9.405574535698989, 5.680726569870266, 6.586415785326676, 14.12094624918568, 10.4337424491947, 8.446476148543162, 10.420721232651932, 10.373818642474138, 9.453548426101031, 13.26210904010106, 24.628948378517485, 10.311577522879878, 14.237706686397882, 21.79690756747371, 23.755211988333123, 46.34591808704711, 73.8603926665472, 37.858933501843545, 85.14253576503063, 59.65279603044896, 103.35571264250959, 44.38521799538359, 54.32094178003922, 30.249659011821027, 53.09414656894985, 28.565600731858652, 49.44262747670927, 27.367704953223527, 38.91130940011203, 31.297955783663095, 55.892503229939756, 150.36999848297404, 174.3610477001824, 109.66692635578944, 52.173265678109715, 41.631521142495444, 124.91715582061369, 40.75821641821357, 61.135947415984745, 116.84544447929831, 113.22290214075599, 65.72137684128712, 59.62833661545408, 60.55242118406996, 50.84996447679559, 6.639346959347119, 6.639347536768618, 5.671769255673989, 5.6368705106995325, 7.510491951603147, 15.168219789522077, 5.609042518603045, 22.757535919610643, 6.658926087844834, 15.110919991741643, 44.613940821440586, 12.2341692716428, 7.310404404297962, 19.86812278667909, 11.28135727370707, 5.6702150230735135, 5.705071034587216, 9.445489067998363, 5.698191222778498, 12.243479416865382, 31.17937279565266, 12.316430210019107, 17.957449082175003, 20.789301129742043, 22.637455807159206, 8.564577376781005, 7.5782123083481805, 6.655806597166243, 6.674440160115498, 8.567289797349778, 18.98943430750706, 13.264357812037801, 22.803828822508425, 116.84544447929831, 40.75821641821357, 113.22290214075599, 109.66692635578944, 27.43301459605056, 65.72137684128712, 38.9475592335546, 43.79083358385936, 93.72290538883094, 30.41050714238013, 174.3610477001824, 27.543886160485282, 59.62833661545408, 103.35571264250959, 38.91130940011203, 32.96328263370025, 124.91715582061369, 150.36999848297404, 59.34142617886723, 59.65279603044896, 43.75044275906806, 50.84996447679559, 41.631521142495444, 85.14253576503063, 55.892503229939756, 73.8603926665472, 11.536170125475989, 8.633639549175927, 8.633639549175772, 5.712893351381361, 6.684245412955433, 22.0317867135452, 9.580794416211662, 6.678019184741505, 8.593438849476462, 5.695583240344994, 22.019355717982492, 24.854802327086432, 22.035249754712325, 6.643314414395951, 29.607303307499695, 10.578241956312901, 7.620467997259196, 9.512007269797754, 13.256477873838016, 6.585398233613874, 16.128460588232567, 11.464165814676, 17.192922340468797, 7.62004601154901, 31.19299871538404, 7.52920648296682, 10.517141886694633, 7.551803352299624, 7.570383757095825, 7.635285433175874, 23.02697265512454, 22.803828822508425, 11.428902542035052, 16.306550533473754, 174.3610477001824, 28.546112771719052, 43.193685032354225, 42.10399785426722, 28.428327701040427, 43.75044275906806, 113.22290214075599, 23.871888200279557, 93.72290538883094, 150.36999848297404, 54.39804002908846, 54.56072869682909, 60.55242118406996, 50.65305097071557, 124.91715582061369, 56.11974975672178, 61.135947415984745, 65.72137684128712, 39.26413219844517, 62.99998039725201, 116.84544447929831, 54.32094178003922, 85.14253576503063, 39.70147635063494, 103.35571264250959, 8.589724404898512, 7.641151830834356, 15.238138843786995, 9.525986052537919, 10.48445922727794, 8.568866900353873, 7.6294609629993175, 23.635807856557676, 10.45034063596878, 5.729468623655462, 6.651883034656804, 11.31060972012917, 6.650352133289184, 8.556627757645229, 5.682663981679365, 11.371533467979487, 11.421466632507103, 28.3279962842897, 7.5856774572024745, 11.38709363014249, 9.482518327385682, 5.690879888587365, 10.398951027631206, 5.690328713438709, 8.60345499816654, 17.039628274737893, 14.248611767789214, 14.38576380252113, 28.502217956797676, 15.945762000196876, 62.99998039725201, 54.56072869682909, 35.22625633942675, 23.567828028567217, 73.8603926665472, 14.350093107347108, 25.62763646087586, 34.88315252739148, 43.75044275906806, 40.17816774881048, 32.06867043234822, 49.44262747670927, 26.537941456854735, 116.84544447929831, 85.14253576503063, 39.26413219844517, 54.32094178003922, 30.452009798967303, 55.892503229939756, 124.91715582061369, 174.3610477001824, 59.34142617886723, 93.72290538883094, 36.26337660027064, 6.732292659753147, 6.732292843644586, 13.454201729087327, 10.603544018518575, 9.625126961415942, 7.679351732056299, 7.696958016933448, 68.40764513582428, 6.7301370330584716, 8.635198575182184, 6.720956012329036, 13.483935420260092, 26.805994515577105, 7.632218332451157, 22.181318073694403, 6.710420598782525, 9.30947462618112, 8.586001204069557, 8.611258109414173, 8.582012097667837, 7.568378784718285, 8.621541791890142, 18.116898766982068, 5.759551418003381, 7.694339038469436, 9.594796578439917, 27.457162922443068, 10.527829302237494, 30.59966312085311, 11.401028336328014, 23.02697265512454, 43.193685032354225, 11.458321407015122, 29.481268474970115, 22.035894203169757, 93.72290538883094, 31.086594064818314, 30.56172771521291, 54.39804002908846, 20.063487858174387, 24.699392436241798, 124.91715582061369, 41.631521142495444, 113.22290214075599, 62.99998039725201, 65.72137684128712, 42.10399785426722, 28.565600731858652, 103.35571264250959, 27.367704953223527, 150.36999848297404, 5.643665139529284, 7.542901758704959, 11.334683060337023, 8.28322903682219, 5.685619535538732, 13.24701836937018, 5.695163326139473, 10.449906607759141, 6.585439480204544, 6.614768422468241, 9.50670214834984, 9.419006306663238, 6.581003081195355, 8.593438849476462, 6.6342081475828065, 18.882535989456954, 8.495339568961885, 35.806440474029394, 8.45831323530785, 19.971341946456562, 27.48325897782802, 9.512007269797754, 6.678019184741505, 5.6658029611951735, 6.641346013568829, 9.358443929655756, 8.530549769361286, 6.3588917200855635, 6.402586457639489, 12.339113234936708, 26.51417208828472, 32.96328263370025, 23.73720319417462, 39.26413219844517, 22.757535919610643, 26.557404729950495, 43.193685032354225, 28.546112771719052, 56.11974975672178, 31.163280753878126, 150.36999848297404, 109.66692635578944, 19.911110659184228, 59.62833661545408, 35.22625633942675, 42.547976907921885, 174.3610477001824, 53.09414656894985, 52.173265678109715, 59.34142617886723, 36.26337660027064, 60.55242118406996, 124.91715582061369, 113.22290214075599, 33.78576362245375, 93.72290538883094, 6.584793322539724, 26.269780351560463, 8.420910664269543, 9.359226460073552, 9.424306982994139, 23.536275094752735, 10.311577522879878, 5.590706964529011, 22.662668549436265, 5.656629843085635, 8.405612346493166, 10.398951027631206, 5.632842163795233, 32.06867043234822, 32.96328263370025, 11.28135727370707, 6.454837245785551, 6.481016875510524, 15.945762000196876, 11.298331857965717, 10.29207632244104, 8.473290103630235, 34.88315252739148, 17.92962141807695, 7.458812027386696, 7.570383757095825, 5.596556581240657, 20.791050202872476, 12.292327769497343, 16.982916486278018, 29.342025283318304, 55.892503229939756, 33.78576362245375, 19.85452999657612, 31.163280753878126, 174.3610477001824, 124.91715582061369, 59.34142617886723, 150.36999848297404, 103.35571264250959, 28.502217956797676, 116.84544447929831, 39.70147635063494, 113.22290214075599, 109.66692635578944, 54.39804002908846, 52.173265678109715, 38.9475592335546, 60.55242118406996, 93.72290538883094, 35.375281457442775, 61.135947415984745, 35.9363616740141, 10.208251254397306, 6.454837245785551, 6.481016875510524, 6.503399735883833, 10.187877379680407, 5.587121675216299, 7.485161371783074, 11.280085573496871, 5.646450610291809, 11.256350269342278, 24.37076567546292, 6.585398233613874, 6.598484717417369, 7.458812027386696, 35.375281457442775, 8.49294675141536, 11.289632926418747, 7.52920648296682, 7.565878547710882, 35.806440474029394, 18.882535989456954, 12.243479416865382, 17.923099690222024, 11.38709363014249, 14.139597416979022, 13.256477873838016, 10.350915986797194, 31.19299871538404, 20.789301129742043, 5.590706964529011, 34.07519163897111, 17.039628274737893, 31.086594064818314, 33.78576362245375, 28.3279962842897, 85.14253576503063, 61.135947415984745, 124.91715582061369, 53.09414656894985, 35.9363616740141, 73.8603926665472, 59.65279603044896, 22.712075471861954, 27.543886160485282, 109.66692635578944, 150.36999848297404, 42.547976907921885, 52.173265678109715, 62.99998039725201, 21.37777076496708, 10.29676563962664, 6.535184550338609, 5.609042518603045, 10.187877379680407, 8.377781923290756, 5.5882782393086154, 7.568378784718285, 11.31060972012917, 15.917577904559444, 8.43972229303779, 8.446476148543162, 8.405612346493166, 9.358443929655756, 23.635807856557676, 12.224999818999967, 29.481268474970115, 10.29207632244104, 24.483567386064358, 5.596556581240657, 5.599118793865129, 5.616152388952432, 5.650993576232975, 5.6650478892285605, 15.945762000196876, 27.367704953223527, 11.401028336328014, 28.3279962842897, 6.581003081195355, 6.613535102778545, 30.452009798967303, 19.94442698781083, 28.546112771719052, 39.70147635063494, 61.135947415984745, 150.36999848297404, 44.38521799538359, 42.547976907921885, 109.66692635578944, 59.62833661545408, 22.803828822508425, 124.91715582061369, 27.43301459605056, 22.637455807159206, 59.34142617886723, 31.297955783663095, 26.476285924455595, 33.78576362245375, 116.84544447929831, 103.35571264250959, 41.631521142495444, 56.11974975672178, 60.55242118406996, 6.195783590309086, 6.3588917200855635, 6.402586457639489, 6.447313519370224, 7.310404404297962, 7.337915469550838, 8.28322903682219, 9.30947462618112, 10.1412737481803, 27.457162922443068, 28.428327701040427, 30.131693315303988, 31.086594064818314, 50.84996447679559, 35.375281457442775, 37.858933501843545, 41.631521142495444, 43.75044275906806, 46.34591808704711, 59.34142617886723, 60.55242118406996, 61.135947415984745, 5.587121675216299, 5.5882782393086154, 5.590706964529011, 5.596556581240657, 5.599118793865129, 5.609042518603045, 5.616152388952432, 5.632842163795233, 85.14253576503063, 124.91715582061369, 150.36999848297404, 73.8603926665472, 11.31060972012917, 23.635807856557676, 21.37777076496708, 5.705071034587216], \"loglift\": [30.0, 29.0, 28.0, 27.0, 26.0, 25.0, 24.0, 23.0, 22.0, 21.0, 20.0, 19.0, 18.0, 17.0, 16.0, 15.0, 14.0, 13.0, 12.0, 11.0, 10.0, 9.0, 8.0, 7.0, 6.0, 5.0, 4.0, 3.0, 2.0, 1.0, 1.389, 1.3647, 1.1944, 1.1666, 1.1464, 1.1434, 1.1245, 1.1086, 1.1084, 1.1028, 1.0982, 1.0748, 1.0732, 1.0707, 1.018, 1.0158, 0.9923, 0.9916, 0.9873, 0.9831, 0.9654, 0.9344, 0.9251, 0.9183, 0.9167, 0.8988, 0.8946, 0.8883, 0.8798, 0.8737, 0.8206, 0.7587, 0.8079, 0.7227, 0.6984, 0.618, 0.7221, 0.6728, 0.761, 0.6454, 0.7609, 0.5815, 0.7276, 0.5958, 0.653, 0.4327, 0.0544, -0.1112, 0.0336, 0.3798, 0.4754, -0.1276, 0.4353, 0.1396, -0.3258, -0.3656, 0.045, 0.0706, 0.0298, 0.1791, 1.4877, 1.4877, 1.427, 1.3992, 1.3644, 1.3228, 1.267, 1.2311, 1.2105, 1.2065, 1.193, 1.1758, 1.1732, 1.1693, 1.1681, 1.1477, 1.1415, 1.127, 1.1074, 1.0956, 1.0787, 1.0672, 1.0362, 1.0209, 1.0199, 1.0148, 1.0076, 0.9874, 0.9846, 0.9723, 0.9492, 0.9589, 0.9348, 0.8057, 0.8483, 0.6731, 0.653, 0.8266, 0.6288, 0.7316, 0.6832, 0.4605, 0.7716, 0.1206, 0.7777, 0.4685, 0.2372, 0.6165, 0.6886, 0.041, -0.061, 0.3435, 0.339, 0.4913, 0.3563, 0.4206, -0.2504, 0.0916, -0.1779, 1.8055, 1.6738, 1.6738, 1.5455, 1.3885, 1.3839, 1.2944, 1.2898, 1.2784, 1.2734, 1.2409, 1.207, 1.199, 1.1855, 1.172, 1.1699, 1.1675, 1.1269, 1.1261, 1.1238, 1.1001, 1.0672, 1.0386, 1.0318, 1.0047, 0.9986, 0.9927, 0.9868, 0.9844, 0.9758, 0.9693, 0.9586, 0.9676, 0.948, 0.7908, 0.8905, 0.8357, 0.8303, 0.8643, 0.762, 0.453, 0.8688, 0.4659, 0.2959, 0.6012, 0.5984, 0.558, 0.5129, 0.0909, 0.4325, 0.3527, 0.2671, 0.5468, 0.1989, -0.2473, 0.2974, -0.2244, 0.4438, -0.4919, 2.0173, 1.8508, 1.8317, 1.7429, 1.7269, 1.7143, 1.6732, 1.655, 1.6241, 1.6014, 1.5599, 1.5229, 1.5199, 1.4806, 1.4614, 1.4532, 1.4488, 1.414, 1.4008, 1.3631, 1.3393, 1.3262, 1.326, 1.3148, 1.3079, 1.2931, 1.2908, 1.2663, 1.2606, 1.2391, 1.2064, 1.0974, 1.0862, 1.0715, 0.7497, 1.1912, 0.9787, 0.8446, 0.7398, 0.7575, 0.8504, 0.6301, 0.9115, 0.1089, 0.2389, 0.6388, 0.3563, 0.7454, 0.2945, -0.3997, -0.6874, 0.1467, -0.3068, 0.5009, 2.1388, 2.1388, 2.1314, 2.0688, 2.0331, 1.9933, 1.978, 1.9693, 1.9601, 1.9344, 1.9333, 1.9118, 1.889, 1.8343, 1.793, 1.7448, 1.7254, 1.7129, 1.7049, 1.6622, 1.6245, 1.6221, 1.6212, 1.618, 1.6175, 1.6055, 1.5978, 1.5867, 1.5863, 1.5745, 1.4754, 1.3103, 1.5407, 1.3142, 1.3218, 0.7984, 1.1744, 1.1768, 0.8691, 1.236, 1.0697, 0.0524, 0.7327, -0.0354, 0.3456, 0.2932, 0.546, 0.8757, -0.2855, 0.8882, -0.7487, 2.1041, 2.0322, 1.9558, 1.9386, 1.8171, 1.7999, 1.7843, 1.7063, 1.6702, 1.6657, 1.6268, 1.5919, 1.5371, 1.5191, 1.5168, 1.514, 1.5088, 1.5039, 1.5018, 1.4605, 1.4496, 1.4391, 1.4365, 1.4311, 1.4122, 1.3187, 1.3159, 1.3157, 1.3088, 1.297, 1.2856, 1.2537, 1.2117, 1.1078, 1.1556, 1.1044, 0.9465, 1.0127, 0.7213, 0.9445, 0.3171, 0.4378, 1.108, 0.5411, 0.793, 0.6684, -0.2221, 0.4417, 0.4374, 0.3179, 0.6623, 0.2561, -0.3219, -0.3967, 0.6542, -0.3123, 1.9354, 1.8365, 1.8243, 1.8151, 1.7117, 1.7029, 1.6921, 1.5648, 1.5621, 1.5531, 1.5465, 1.5332, 1.5279, 1.5199, 1.4911, 1.483, 1.4211, 1.417, 1.4006, 1.3424, 1.34, 1.2927, 1.2883, 1.2787, 1.2765, 1.2617, 1.2178, 1.2019, 1.1664, 1.1622, 1.1042, 1.0104, 1.0447, 1.0639, 0.9522, 0.46, 0.4299, 0.6787, 0.2954, 0.4146, 0.9109, 0.3014, 0.7507, 0.2175, 0.1187, 0.5078, 0.5333, 0.6587, 0.3299, -0.0572, 0.6915, 0.2355, 0.6783, 2.7327, 2.6147, 2.3583, 2.3549, 2.1287, 2.1173, 2.1118, 2.0837, 2.0791, 1.9982, 1.9759, 1.9529, 1.8715, 1.8283, 1.8163, 1.6985, 1.664, 1.6541, 1.6438, 1.5723, 1.5685, 1.5568, 1.5337, 1.5329, 1.5116, 1.5049, 1.5006, 1.4838, 1.4723, 1.47, 1.4324, 1.3769, 1.2078, 1.0995, 1.1629, 0.659, 0.7884, 0.3924, 0.7977, 0.9763, 0.5729, 0.6769, 1.2046, 1.0012, -0.1151, -0.4497, 0.6065, 0.4061, 0.142, 2.51, 2.4043, 1.9716, 1.939, 1.905, 1.9002, 1.8549, 1.8248, 1.8125, 1.7339, 1.7158, 1.715, 1.7126, 1.6125, 1.5733, 1.5364, 1.5279, 1.5174, 1.5154, 1.48, 1.4795, 1.4765, 1.4703, 1.4678, 1.4598, 1.4216, 1.4151, 1.3874, 1.318, 1.313, 1.2771, 1.2686, 1.1663, 1.0765, 0.9444, 0.7179, 0.9826, 0.9855, 0.5414, 0.777, 1.1113, 0.0554, 0.9703, 1.0892, 0.452, 0.8633, 0.962, 0.7383, -0.289, -0.2736, 0.5357, 0.2108, 0.1348, 3.6518, 2.9792, 2.9724, 2.9654, 2.8397, 2.836, 2.7148, 2.598, 2.5124, 1.5164, 1.4817, 1.4235, 1.3923, 1.3445, 1.2631, 1.1952, 1.1002, 1.0506, 0.9929, 0.7458, 0.7256, 0.716, 0.7106, 0.7104, 0.71, 0.709, 0.7085, 0.7067, 0.7055, 0.7025, 0.3848, 0.1407, -0.1261, -1.8709, 0.0055, -0.7316, -0.6312, 0.6898], \"logprob\": [30.0, 29.0, 28.0, 27.0, 26.0, 25.0, 24.0, 23.0, 22.0, 21.0, 20.0, 19.0, 18.0, 17.0, 16.0, 15.0, 14.0, 13.0, 12.0, 11.0, 10.0, 9.0, 8.0, 7.0, 6.0, 5.0, 4.0, 3.0, 2.0, 1.0, -5.7146, -5.8937, -5.3645, -5.1093, -6.112, -6.112, -5.3529, -5.168, -6.1497, -5.4598, -5.4661, -5.4852, -5.8937, -5.8937, -4.8895, -5.7357, -6.2634, -6.1162, -5.3578, -5.6647, -5.8937, -5.7146, -5.7284, -5.8281, -5.4912, -4.8901, -5.7649, -5.4486, -5.0312, -4.9513, -4.336, -3.932, -4.5511, -3.8258, -4.2059, -3.7366, -4.4778, -4.3251, -4.8223, -4.3753, -4.8797, -4.5105, -4.9559, -4.7357, -4.8962, -4.5367, -3.9253, -3.9429, -4.2618, -4.6584, -4.7885, -4.2927, -4.8499, -4.7401, -4.5578, -4.629, -4.7624, -4.8341, -4.8595, -4.8848, -5.6121, -5.6121, -5.8303, -5.8642, -5.6121, -4.9508, -6.0014, -4.6368, -5.8863, -5.0709, -4.0018, -5.3127, -5.8303, -4.8344, -5.4015, -6.1099, -6.11, -5.6203, -6.1452, -5.3922, -4.4743, -5.4147, -5.0686, -4.9374, -4.8533, -5.8303, -5.9599, -6.1099, -6.1099, -5.8726, -5.0997, -5.4488, -4.9311, -3.4262, -4.4368, -3.5903, -3.6423, -4.8545, -4.1786, -4.599, -4.5302, -3.9919, -4.8065, -3.711, -4.8993, -4.4362, -4.1175, -4.7151, -4.8088, -4.1241, -4.0407, -4.566, -4.5653, -4.723, -4.7077, -4.8433, -4.7989, -4.8778, -4.8685, -4.7418, -5.1633, -5.1633, -5.7046, -5.7046, -4.5165, -5.4386, -5.8042, -5.5634, -5.9797, -4.66, -4.5728, -4.7011, -5.9137, -4.4328, -5.4641, -5.7944, -5.6133, -5.2822, -5.9842, -5.1121, -5.4863, -5.1097, -5.9303, -4.5479, -5.9754, -5.6471, -5.9842, -5.9842, -5.9842, -4.8868, -4.9073, -5.589, -5.2533, -3.0409, -4.7508, -4.3915, -4.4224, -4.7811, -4.4523, -3.8105, -4.9513, -3.9866, -3.6838, -4.3953, -4.3951, -4.3313, -4.5549, -4.0742, -4.5328, -4.527, -4.5403, -4.7757, -4.6508, -4.4793, -4.7005, -4.7729, -4.8677, -4.8465, -4.8249, -5.1085, -4.4373, -4.9959, -4.9161, -5.1303, -5.2876, -4.175, -5.0221, -5.6458, -5.538, -5.0441, -5.5782, -5.3655, -5.794, -5.1085, -5.1085, -4.2349, -5.5658, -5.1972, -5.4041, -5.9278, -5.3251, -5.9392, -5.5327, -4.8641, -5.0453, -5.0603, -4.3822, -4.9845, -3.6433, -3.8961, -4.3448, -4.7614, -3.941, -5.1378, -4.7704, -4.5962, -4.4745, -4.542, -4.6745, -4.4619, -4.8028, -4.123, -4.3096, -4.6837, -4.6416, -4.8313, -4.6749, -4.5649, -4.5191, -4.7628, -4.7592, -4.9011, -4.9471, -4.9471, -4.2621, -4.5629, -4.6954, -4.9609, -4.974, -2.7981, -5.1261, -4.9025, -5.1543, -4.4795, -3.8151, -5.1261, -4.1005, -5.3444, -5.0363, -5.1297, -5.1349, -5.181, -5.3444, -5.2164, -4.4748, -5.6239, -5.3348, -5.1261, -4.0824, -5.0521, -3.9855, -4.9846, -4.3808, -3.9168, -5.0134, -4.2948, -4.5784, -3.6541, -4.3816, -4.3963, -4.1274, -4.7579, -4.7163, -4.1127, -4.5313, -4.2988, -4.504, -4.5142, -4.7067, -4.7649, -4.6401, -4.7952, -4.7284, -5.1582, -4.94, -4.6091, -4.9399, -5.4378, -4.6091, -5.4689, -4.9399, -5.4378, -5.4378, -5.114, -5.1582, -5.5715, -5.3227, -5.5838, -4.5405, -5.3445, -3.9107, -5.3559, -4.538, -4.2296, -5.3011, -5.6575, -5.8273, -5.6873, -5.4378, -5.5333, -5.8273, -5.8273, -5.1831, -4.4295, -4.2437, -4.6141, -4.2147, -4.7123, -4.6091, -4.2806, -4.6286, -4.244, -4.6091, -3.6626, -3.8576, -4.8935, -4.3636, -4.638, -4.5738, -4.0538, -4.579, -4.6008, -4.5916, -4.7397, -4.6332, -4.487, -4.6601, -4.8186, -4.7648, -5.1726, -3.8879, -5.0378, -4.9414, -5.0378, -4.1314, -4.9675, -5.7069, -4.3099, -5.7069, -5.3174, -5.1179, -5.7363, -4.005, -4.0063, -5.0866, -5.7069, -5.7069, -4.823, -5.2257, -5.3215, -5.5632, -4.1525, -4.8277, -5.7069, -5.7069, -6.0529, -4.7564, -5.3174, -4.9984, -4.5096, -3.959, -4.4281, -4.9405, -4.6014, -3.3717, -3.7353, -4.2308, -3.6843, -3.94, -4.7319, -3.9305, -4.5607, -4.0459, -4.1767, -4.4887, -4.5049, -4.6719, -4.5594, -4.5097, -4.7353, -4.6442, -4.7327, -3.9369, -4.5133, -4.7656, -4.7656, -4.5429, -5.1551, -4.8681, -4.486, -5.1827, -4.5737, -3.8235, -5.1551, -5.2344, -5.1551, -3.6105, -5.1551, -4.9049, -5.3199, -5.3254, -3.8424, -4.486, -4.931, -4.5731, -5.0275, -4.8322, -4.9034, -5.1551, -4.0688, -4.486, -5.8017, -4.0318, -4.7804, -4.3482, -4.3733, -4.486, -3.8895, -4.0913, -3.7727, -4.223, -4.4347, -4.1177, -4.2274, -4.6653, -4.6758, -4.4104, -4.4294, -4.6356, -4.6322, -4.7077, -3.4204, -4.2567, -5.144, -5.3294, -4.7666, -4.9671, -5.4172, -5.144, -4.7546, -4.4915, -5.144, -5.144, -5.1513, -5.144, -4.2567, -4.9529, -4.0811, -5.144, -4.2794, -5.7906, -5.7906, -5.7906, -5.7906, -5.7906, -4.7638, -4.2618, -5.144, -4.2615, -5.7906, -5.7906, -4.2995, -4.7313, -4.475, -4.2349, -3.9353, -3.2618, -4.2173, -4.2567, -3.754, -4.1277, -4.7546, -4.1097, -4.7108, -4.784, -4.4575, -4.6859, -4.7545, -4.7344, -4.521, -4.6282, -4.7282, -4.7545, -4.7545, -3.5172, -4.1638, -4.1637, -4.1638, -4.1638, -4.1638, -4.1638, -4.1638, -4.1637, -4.1638, -4.1637, -4.1637, -4.1637, -3.7194, -4.1637, -4.1638, -4.1637, -4.1637, -4.1638, -4.1637, -4.1637, -4.1637, -6.5617, -6.5617, -6.5617, -6.5617, -6.5617, -6.5617, -6.5617, -6.5617, -4.1637, -4.0244, -4.1058, -6.5615, -6.5615, -6.5616, -6.5617, -6.5617]}, \"token.table\": {\"Topic\": [1, 2, 3, 4, 6, 7, 8, 9, 1, 2, 8, 1, 2, 6, 7, 1, 7, 2, 4, 5, 6, 8, 2, 3, 7, 9, 1, 3, 1, 2, 3, 5, 6, 9, 3, 5, 6, 1, 2, 4, 8, 3, 5, 6, 9, 2, 3, 4, 7, 9, 2, 3, 5, 3, 5, 3, 6, 1, 4, 8, 3, 4, 5, 8, 9, 1, 2, 4, 5, 6, 1, 3, 6, 8, 9, 3, 4, 6, 1, 5, 1, 7, 8, 2, 3, 4, 1, 2, 4, 7, 1, 6, 7, 8, 2, 6, 8, 5, 6, 7, 1, 4, 7, 1, 8, 9, 1, 2, 4, 6, 7, 9, 1, 2, 8, 4, 1, 2, 3, 4, 6, 8, 9, 1, 2, 3, 4, 6, 8, 9, 1, 2, 4, 1, 2, 3, 4, 6, 7, 9, 10, 1, 6, 7, 8, 1, 5, 7, 9, 1, 2, 3, 9, 2, 3, 4, 1, 2, 3, 4, 5, 6, 7, 9, 1, 4, 6, 1, 2, 4, 6, 7, 8, 10, 1, 2, 3, 4, 6, 8, 9, 1, 2, 3, 4, 6, 7, 1, 4, 1, 2, 4, 6, 8, 1, 3, 7, 9, 1, 3, 5, 1, 2, 4, 6, 7, 8, 9, 1, 3, 4, 9, 3, 5, 1, 2, 3, 5, 6, 7, 8, 9, 2, 5, 6, 9, 2, 3, 1, 2, 3, 4, 5, 6, 9, 1, 5, 6, 8, 10, 1, 4, 9, 2, 5, 6, 3, 4, 7, 4, 5, 1, 3, 6, 7, 2, 3, 6, 9, 1, 2, 4, 6, 2, 3, 4, 5, 6, 7, 10, 1, 7, 9, 2, 3, 1, 2, 3, 7, 1, 2, 3, 4, 5, 6, 7, 8, 9, 10, 7, 8, 1, 2, 3, 4, 8, 9, 1, 2, 4, 5, 6, 7, 1, 3, 4, 6, 7, 9, 1, 2, 4, 6, 7, 8, 9, 4, 5, 7, 1, 4, 2, 3, 8, 9, 1, 2, 4, 6, 9, 1, 4, 5, 9, 2, 3, 4, 5, 8, 1, 2, 3, 4, 5, 6, 7, 8, 2, 3, 6, 7, 8, 9, 3, 4, 5, 6, 9, 2, 3, 4, 6, 7, 9, 2, 6, 7, 1, 2, 3, 4, 6, 9, 1, 2, 3, 4, 5, 6, 3, 5, 1, 6, 3, 7, 3, 5, 7, 10, 1, 2, 3, 4, 5, 6, 7, 1, 2, 6, 9, 5, 6, 8, 1, 2, 1, 3, 4, 5, 6, 7, 1, 2, 6, 7, 1, 2, 3, 4, 5, 6, 7, 9, 2, 6, 7, 3, 4, 5, 8, 1, 2, 3, 10, 1, 2, 3, 4, 6, 8, 1, 2, 3, 7, 8, 9, 1, 2, 3, 4, 5, 6, 7, 8, 9, 10, 2, 3, 2, 4, 1, 6, 8, 2, 3, 4, 5, 1, 2, 3, 4, 5, 6, 7, 8, 9, 10, 1, 2, 3, 4, 5, 6, 7, 8, 9, 1, 3, 4, 7, 8, 1, 2, 8, 1, 5, 2, 7, 8, 2, 3, 1, 2, 4, 8, 1, 3, 7, 1, 3, 5, 2, 5, 9, 1, 2, 4, 6, 3, 6, 7, 1, 5, 6, 2, 3, 5, 6, 7, 8, 2, 3, 6, 5, 6, 7, 9, 5, 9, 1, 4, 6, 7, 1, 7, 8, 1, 2, 3, 4, 6, 8, 3, 6, 1, 3, 4, 8, 9, 1, 2, 3, 4, 6, 8, 9, 2, 3, 5, 7, 9, 2, 3, 4, 6, 7, 2, 3, 4, 6, 1, 4, 5, 7, 8, 9, 10, 3, 5, 7, 1, 7, 1, 2, 3, 2, 8, 1, 2, 3, 4, 5, 6, 7, 2, 3, 4, 5, 7, 8, 9, 1, 6, 2, 5, 8, 1, 2, 3, 9, 3, 5, 7, 9, 1, 2, 4, 6, 3, 5, 6, 9, 6, 7, 8, 1, 2, 3, 4, 5, 6, 8, 9, 2, 3, 7, 9, 1, 2, 3, 4, 5, 6, 7, 8, 9, 1, 5, 7, 3, 5, 1, 2, 3, 4, 5, 6, 7, 8, 9, 1, 2, 3, 5, 7, 4, 5, 1, 2, 3, 4, 5, 6, 7, 8, 2, 9, 1, 2, 5, 6, 7, 1, 2, 3, 4, 8, 9, 5, 6, 7, 1, 2, 3, 6, 8, 9, 1, 2, 7, 8, 1, 3, 5, 1, 2, 3, 4, 6, 7, 9, 10, 3, 6, 7, 8, 5, 7, 1, 2, 3, 4, 5, 6, 7, 9, 1, 3, 8, 9, 1, 2, 5, 8, 9, 1, 3, 6, 7, 9, 2, 3, 8, 9, 1, 2, 4, 7, 1, 3, 5, 7, 9, 1, 4, 1, 2, 3, 4, 5, 7, 1, 2, 3, 4, 5, 6, 7, 8, 9, 5, 5, 6, 10, 2, 4, 6, 3, 6, 4, 6, 4, 5, 6, 7, 8, 2, 5, 6, 7, 8, 1, 2, 3, 4, 6, 7, 8, 9, 10, 1, 2, 3, 4, 5, 6, 7, 8, 9, 10, 1, 3, 4, 7, 1, 2, 3, 4, 6, 7, 1, 2, 4, 6, 3, 4, 8, 3, 6, 7, 8, 1, 3, 4, 7, 9, 1, 2, 3, 5, 9, 10, 1, 6, 4, 5, 1, 2, 3, 5, 6, 7, 8, 9, 1, 2, 3, 5, 6, 7, 8, 9, 10, 1, 2, 3, 4, 6, 8, 9, 1, 6, 8, 1, 2, 3, 4, 5, 6, 7, 8, 9, 1, 2, 3, 4, 6, 1, 3, 8, 3, 5, 1, 4, 1, 2, 4, 6, 7, 8, 9, 1, 2, 3, 5, 7, 8, 1, 3, 6, 10, 2, 6, 7, 10, 1, 3, 1, 2, 3, 7, 8, 3, 5, 1, 4, 1, 2, 4, 6, 8, 1, 8, 9, 3, 4, 7, 1, 2, 3, 8, 2, 4, 7, 9, 3, 6, 1, 3, 8, 9, 3, 4, 8, 4, 5, 1, 2, 3, 4, 6, 7, 8, 2, 7, 9, 2, 3, 4, 2, 3, 4, 1, 2, 4, 5, 6, 7, 9, 1, 2, 3, 4, 5, 6, 7, 8, 1, 4, 6, 8, 1, 3, 5, 6, 7, 8, 9, 2, 3, 6, 1, 4, 6, 7, 1, 2, 6, 7, 2, 6, 9, 2, 3, 4, 5, 8, 9, 1, 2, 4, 6, 8, 2, 4, 6, 1, 5, 8, 10, 5, 1, 2, 4, 7, 8, 9, 2, 4, 7, 9, 1, 2, 3, 4, 6, 8, 1, 3, 4, 6, 7, 8, 9, 3, 4, 7, 8, 9, 1, 2, 3, 5, 6, 8, 9, 10, 1, 2, 4, 6, 7, 1, 2, 4, 5, 6, 8, 1, 2, 3, 4, 5, 6, 7, 8, 9, 10, 1, 4, 1, 2, 3, 4, 1, 6, 10, 1, 2, 3, 8, 9, 1, 2, 3, 8, 1, 2, 6, 2, 4, 9, 6, 7, 1, 3, 4, 9, 2, 4, 6, 8, 1, 2, 3, 6, 7, 9, 1, 2, 4, 5, 8, 2, 8, 3, 6, 8, 1, 3, 4, 5, 6, 7, 1, 2, 4, 7, 1, 7, 8, 1, 2, 3, 4, 5, 6, 8, 1, 4, 5, 7, 1, 2, 3, 4, 7, 9, 2, 5, 6, 7, 1, 2, 7, 9, 1, 3, 4, 5, 6, 7, 8, 9, 2, 4, 5, 7, 1, 3, 4, 5, 6, 10, 1, 2, 4, 6, 7, 8, 1, 4, 2, 3, 4, 1, 4, 6, 9, 1, 2, 3, 5, 6, 9, 1, 2, 3, 5, 6, 7, 8, 9, 1, 2, 3, 6, 8, 1, 3, 5, 7, 3, 4, 7, 2, 6, 8, 10, 1, 3, 6, 7, 8, 1, 2, 5, 6, 7, 9, 1, 2, 3, 4, 5, 6, 7, 9, 2, 6, 1, 2, 3, 5, 6, 7, 9, 1, 2, 3, 4, 9, 10, 1, 2, 6, 2, 3, 5, 7, 8, 2, 3, 4, 1, 2, 3, 4, 5, 6, 7, 2, 3, 5, 6, 1, 3, 5, 6, 7, 9, 1, 5, 1, 2, 1, 2, 4, 6, 7, 9, 1, 2, 3, 4, 5, 7, 8, 9, 1, 3, 4, 5, 6, 9, 2, 3, 5, 1, 1, 3, 4, 5, 6, 1, 2, 3, 4, 3, 2, 3, 4, 5, 6, 7, 9, 1, 4, 6, 1, 3, 4, 6, 7, 1, 3, 8, 9, 1, 4, 2, 3, 4, 5, 7, 9, 1, 2, 8, 9, 1, 2, 4, 5, 7, 9, 1, 4, 5, 9, 1, 5, 1, 2, 4, 6, 7, 9, 1, 2, 5, 9, 1, 2, 3, 7, 8, 9, 3, 7, 8, 1, 2, 6, 2, 3, 8, 9, 3, 4, 8], \"Freq\": [0.3434890245526995, 0.39255888520308513, 0.07360479097557845, 0.07360479097557845, 0.02453493032519282, 0.04906986065038564, 0.02453493032519282, 0.02453493032519282, 0.26651622668235375, 0.355354968909805, 0.26651622668235375, 0.10616831196859644, 0.21233662393719288, 0.42467324787438576, 0.21233662393719288, 0.47500800797854953, 0.47500800797854953, 0.3630569753931852, 0.14522279015727407, 0.1815284876965926, 0.1815284876965926, 0.10891709261795557, 0.5294184605816276, 0.19853192271811032, 0.1323546151454069, 0.06617730757270344, 0.7038710856298724, 0.1759677714074681, 0.24140204058115883, 0.12070102029057941, 0.48280408116231766, 0.04023367343019314, 0.04023367343019314, 0.04023367343019314, 0.1483246498640841, 0.6674609243883785, 0.07416232493204206, 0.5314610350137661, 0.17715367833792203, 0.08857683916896102, 0.17715367833792203, 0.3472729865202344, 0.393576051389599, 0.20836379191214066, 0.04630306486936459, 0.44174575469905286, 0.08834915093981056, 0.17669830187962113, 0.13252372640971585, 0.13252372640971585, 0.44947590030503565, 0.2996506002033571, 0.14982530010167855, 0.09430809154501067, 0.848772823905096, 0.5989800102910057, 0.29949000514550284, 0.26595542919006315, 0.3546072389200842, 0.3546072389200842, 0.11737345250454205, 0.4108070837658972, 0.11737345250454205, 0.1760601787568131, 0.11737345250454205, 0.561888243395467, 0.07023603042443337, 0.07023603042443337, 0.07023603042443337, 0.2107080912733001, 0.27896960271485616, 0.22317568217188494, 0.22317568217188494, 0.16738176162891372, 0.055793920542971234, 0.13107085872117458, 0.6553542936058728, 0.13107085872117458, 0.2316101920050871, 0.6948305760152612, 0.3577365103714553, 0.3577365103714553, 0.17886825518572766, 0.10437547833276749, 0.5218773916638374, 0.31312643499830245, 0.17701728229817665, 0.3540345645963533, 0.17701728229817665, 0.26552592344726494, 0.5665342717710111, 0.14163356794275278, 0.14163356794275278, 0.07081678397137639, 0.26467436134123357, 0.6175735097962116, 0.08822478711374451, 0.42075579286917225, 0.42075579286917225, 0.10518894821729306, 0.1913813214007826, 0.5741439642023478, 0.0956906607003913, 0.29446761952430467, 0.3926234926990729, 0.29446761952430467, 0.06282362844371939, 0.1884708853311582, 0.1884708853311582, 0.12564725688743877, 0.1884708853311582, 0.25129451377487755, 0.6073105814107977, 0.15182764535269944, 0.15182764535269944, 0.931345363704311, 0.19549555631136076, 0.11171174646363471, 0.02792793661590868, 0.05585587323181736, 0.3909911126227215, 0.19549555631136076, 0.02792793661590868, 0.4143582941187322, 0.11300680748692697, 0.11300680748692697, 0.11300680748692697, 0.1318412754014148, 0.09417233957243915, 0.018834467914487826, 0.5750573228365526, 0.09584288713942545, 0.1916857742788509, 0.23120462776281353, 0.16514616268772395, 0.26423386030035834, 0.08257308134386197, 0.11560231388140677, 0.09908769761263436, 0.04954384880631718, 0.016514616268772396, 0.6379195632576103, 0.10631992720960172, 0.10631992720960172, 0.10631992720960172, 0.43847301118271415, 0.25577592318991654, 0.10961825279567854, 0.18269708799279755, 0.6172031110459576, 0.08817187300656536, 0.08817187300656536, 0.08817187300656536, 0.20905787701572676, 0.34842979502621124, 0.4181157540314535, 0.15404965148803118, 0.36800750077696337, 0.11125808163024474, 0.1369330235449166, 0.051349883829343725, 0.042791569857786434, 0.09414145368713016, 0.03423325588622915, 0.4052155049394558, 0.2431293029636735, 0.32417240395156466, 0.19721388551993976, 0.19721388551993976, 0.19721388551993976, 0.09860694275996988, 0.09860694275996988, 0.09860694275996988, 0.09860694275996988, 0.23477490852466873, 0.08804059069675077, 0.26412177209025234, 0.14673431782791796, 0.05869372713116718, 0.17608118139350154, 0.05869372713116718, 0.2689742214889261, 0.5379484429778522, 0.06724355537223152, 0.044829036914821006, 0.022414518457410503, 0.044829036914821006, 0.5281014608081221, 0.35206764053874806, 0.07804075116537873, 0.35118338024420426, 0.3121630046615149, 0.19510187791344683, 0.07804075116537873, 0.49079755327888536, 0.16359918442629512, 0.08179959221314756, 0.16359918442629512, 0.7015333223724073, 0.08769166529655091, 0.08769166529655091, 0.08486144746031517, 0.16972289492063034, 0.33944578984126067, 0.08486144746031517, 0.12729217119047276, 0.08486144746031517, 0.08486144746031517, 0.13616689554077757, 0.5900565473433694, 0.22694482590129594, 0.045388965180259186, 0.34724926558487507, 0.5208738983773126, 0.15014630148647848, 0.32678900911762965, 0.22963551992049652, 0.09715348919713314, 0.05299281228934535, 0.08832135381557558, 0.017664270763115116, 0.026496406144672673, 0.3539200625553048, 0.1769600312776524, 0.1769600312776524, 0.1769600312776524, 0.7530861138324477, 0.15061722276648953, 0.41536259076657456, 0.09585290556151721, 0.06390193704101148, 0.15975484260252867, 0.06390193704101148, 0.09585290556151721, 0.09585290556151721, 0.2725569691146118, 0.2725569691146118, 0.1362784845573059, 0.1362784845573059, 0.1362784845573059, 0.5919628389482156, 0.1183925677896431, 0.2367851355792862, 0.11612704987982649, 0.5806352493991325, 0.23225409975965297, 0.1767837082750513, 0.3535674165501026, 0.3535674165501026, 0.10389473344182164, 0.8311578675345731, 0.13209369988181724, 0.3962810996454518, 0.13209369988181724, 0.2641873997636345, 0.438522849729934, 0.3946705647569406, 0.0438522849729934, 0.1315568549189802, 0.2639144851875942, 0.3958717277813913, 0.1319572425937971, 0.1319572425937971, 0.2742829384855262, 0.31999676156644724, 0.2514260269450657, 0.045713823080921034, 0.022856911540460517, 0.045713823080921034, 0.022856911540460517, 0.5360438970733953, 0.1786812990244651, 0.1786812990244651, 0.7530860483368383, 0.15061720966736766, 0.36171708510149714, 0.36171708510149714, 0.19730022823718027, 0.06576674274572675, 0.44631040946289496, 0.12919511852873275, 0.11745010775339342, 0.15268514007941145, 0.011745010775339342, 0.011745010775339342, 0.023490021550678683, 0.08221507542737538, 0.023490021550678683, 0.011745010775339342, 0.30984514773100225, 0.6196902954620045, 0.21871457032154973, 0.36452428386924957, 0.03645242838692495, 0.21871457032154973, 0.03645242838692495, 0.10935728516077486, 0.33993825472147277, 0.1789148709060383, 0.16102338381543446, 0.08945743545301915, 0.01789148709060383, 0.19680635799664212, 0.15066964627692508, 0.25111607712820844, 0.15066964627692508, 0.25111607712820844, 0.05022321542564169, 0.10044643085128338, 0.20066993642571018, 0.14333566887550728, 0.28667133775101455, 0.028667133775101456, 0.2580042039759131, 0.028667133775101456, 0.028667133775101456, 0.3799453700441243, 0.4749317125551554, 0.09498634251103108, 0.23340308855974937, 0.700209265679248, 0.22630445496541532, 0.45260890993083064, 0.15086963664361022, 0.07543481832180511, 0.38549203897920775, 0.3083936311833662, 0.1541968155916831, 0.10279787706112206, 0.025699469265280515, 0.1745456362199389, 0.26181845432990836, 0.5236369086598167, 0.08727281810996945, 0.08781872113116951, 0.08781872113116951, 0.43909360565584754, 0.08781872113116951, 0.17563744226233902, 0.32583737627013587, 0.038333808972957156, 0.15333523589182863, 0.0958345224323929, 0.05750071345943574, 0.13416833140535006, 0.11500142691887148, 0.05750071345943574, 0.12823390391213796, 0.4167601877144484, 0.12823390391213796, 0.06411695195606898, 0.19235085586820697, 0.06411695195606898, 0.36795029014157976, 0.06132504835692996, 0.36795029014157976, 0.06132504835692996, 0.06132504835692996, 0.25549124247775407, 0.11355166332344624, 0.3690429058012003, 0.19871541081603092, 0.02838791583086156, 0.02838791583086156, 0.5318508982942964, 0.08864181638238273, 0.35456726552953094, 0.3842837844519944, 0.18202916105620787, 0.060676387018735956, 0.22248008573536518, 0.08090184935831461, 0.020225462339578653, 0.12444569476785139, 0.2240022505821325, 0.17422397267499196, 0.24889138953570278, 0.14933483372142167, 0.07466741686071084, 0.12992145699638505, 0.7795287419783102, 0.4535306164022258, 0.4535306164022258, 0.7001706060262463, 0.17504265150656156, 0.322800170607674, 0.322800170607674, 0.161400085303837, 0.322800170607674, 0.09500285492710289, 0.2137564235859815, 0.3325099922448601, 0.047501427463551446, 0.19000570985420578, 0.07125214119532716, 0.047501427463551446, 0.23697462197895625, 0.23697462197895625, 0.23697462197895625, 0.23697462197895625, 0.6551175270682021, 0.13102350541364044, 0.13102350541364044, 0.48715414269299806, 0.48715414269299806, 0.21050993326535214, 0.07016997775511738, 0.4210198665307043, 0.03508498887755869, 0.07016997775511738, 0.17542494438779344, 0.21174128577164605, 0.5293532144291151, 0.10587064288582303, 0.10587064288582303, 0.19499768123935418, 0.18352722940174512, 0.3269078773718585, 0.06308748510684989, 0.040146581431631745, 0.06882271102565442, 0.11470451837609069, 0.01147045183760907, 0.13257497339746474, 0.6628748669873238, 0.13257497339746474, 0.3929126194765136, 0.13097087315883787, 0.26194174631767575, 0.13097087315883787, 0.501863054305922, 0.26413844963469585, 0.21131075970775667, 0.026413844963469584, 0.423409448479989, 0.1472728516452136, 0.20250017101216866, 0.16568195810086528, 0.0368182129113034, 0.0184091064556517, 0.12309830720749464, 0.20516384534582438, 0.16413107627665952, 0.16413107627665952, 0.28722938348415417, 0.04103276906916488, 0.25565406256935147, 0.23598836544863214, 0.13765987984503542, 0.09832848560359672, 0.019665697120719344, 0.07866278848287737, 0.07866278848287737, 0.03933139424143869, 0.019665697120719344, 0.019665697120719344, 0.5258479661011025, 0.3505653107340683, 0.28613779070214235, 0.6676548449716654, 0.48304903704924307, 0.28982942222954583, 0.19321961481969724, 0.06951316688688773, 0.2085395006606632, 0.4170790013213264, 0.2085395006606632, 0.23275919633638187, 0.15295604330676524, 0.19950788257404162, 0.03990157651480832, 0.04655183926727638, 0.11305446679195691, 0.09975394128702081, 0.026601051009872215, 0.0864534157820847, 0.006650262752468054, 0.22796298602272463, 0.3191481804318145, 0.0638296360863629, 0.04559259720454493, 0.027355558322726955, 0.1276592721727258, 0.08206667496818086, 0.03647407776363594, 0.07294815552727188, 0.3536168571529435, 0.0707233714305887, 0.2121701142917661, 0.1414467428611774, 0.2121701142917661, 0.400792962368072, 0.13359765412269067, 0.400792962368072, 0.13021932513204865, 0.7813159507922918, 0.35796607202447805, 0.17898303601223903, 0.35796607202447805, 0.6006974619077958, 0.3003487309538979, 0.0656248122064938, 0.0656248122064938, 0.7218729342714317, 0.0656248122064938, 0.17557464403582798, 0.5267239321074839, 0.17557464403582798, 0.14902195552115324, 0.14902195552115324, 0.596087822084613, 0.13212869340249633, 0.5285147736099853, 0.26425738680499267, 0.5757758859530572, 0.09596264765884287, 0.09596264765884287, 0.19192529531768573, 0.4205211251993764, 0.3153908438995323, 0.1051302812998441, 0.6593959607529111, 0.13187919215058222, 0.13187919215058222, 0.09968356519752113, 0.29905069559256336, 0.34889247819132396, 0.04984178259876056, 0.09968356519752113, 0.04984178259876056, 0.17558758945687, 0.35117517891374, 0.52676276837061, 0.4067577836971768, 0.2440546702183061, 0.2440546702183061, 0.08135155673943537, 0.8919146777810375, 0.07432622314841979, 0.08793888729394748, 0.527633323763685, 0.17587777458789497, 0.17587777458789497, 0.40220882212674475, 0.2681392147511632, 0.2681392147511632, 0.16851184898571564, 0.25276777347857343, 0.08425592449285782, 0.16851184898571564, 0.29489573572500233, 0.04212796224642891, 0.8107820531687756, 0.11582600759553938, 0.6612779090076253, 0.13225558180152505, 0.06612779090076253, 0.06612779090076253, 0.06612779090076253, 0.2183147204209104, 0.18192893368409202, 0.0363857867368184, 0.1091573602104552, 0.36385786736818404, 0.0363857867368184, 0.0363857867368184, 0.15120506422954796, 0.15120506422954796, 0.30241012845909593, 0.15120506422954796, 0.15120506422954796, 0.4523400291987616, 0.15078000973292052, 0.07539000486646026, 0.15078000973292052, 0.15078000973292052, 0.26168497983163425, 0.43614163305272374, 0.1744566532210895, 0.1744566532210895, 0.25494258164153977, 0.0728407376118685, 0.5098851632830795, 0.03642036880593425, 0.03642036880593425, 0.03642036880593425, 0.03642036880593425, 0.2319770695632771, 0.5799426739081928, 0.11598853478163855, 0.5818702314642817, 0.38791348764285455, 0.3936984101478092, 0.13123280338260307, 0.3936984101478092, 0.29387991392822743, 0.685719799165864, 0.12837774942498414, 0.3337821485049588, 0.07702664965499048, 0.15405329930998096, 0.10270219953998731, 0.051351099769993656, 0.12837774942498414, 0.03391984306404624, 0.23743890144832366, 0.06783968612809248, 0.3731182737045086, 0.03391984306404624, 0.03391984306404624, 0.20351905838427742, 0.7060210741173578, 0.17650526852933945, 0.23293730718929417, 0.5823432679732354, 0.11646865359464709, 0.327442934857889, 0.09355512424511114, 0.04677756212255557, 0.5145531833481113, 0.3908459932963483, 0.4342733258848314, 0.08685466517696629, 0.04342733258848314, 0.2344514778148639, 0.2344514778148639, 0.2344514778148639, 0.35167721672229585, 0.1942357503314526, 0.1942357503314526, 0.0971178751657263, 0.48558937582863154, 0.15429677459699992, 0.30859354919399984, 0.46289032379099976, 0.1960094271211975, 0.16037134946279796, 0.23164750477959706, 0.12473327180439842, 0.03563807765839955, 0.17819038829199774, 0.03563807765839955, 0.05345711648759932, 0.11896813209774079, 0.23793626419548158, 0.3569043962932224, 0.23793626419548158, 0.06349208324792552, 0.03174604162396276, 0.17460322893179517, 0.39682552029953444, 0.1428571873078324, 0.04761906243594413, 0.06349208324792552, 0.04761906243594413, 0.01587302081198138, 0.2330455815301752, 0.582613953825438, 0.1165227907650876, 0.47266833379776224, 0.3781346670382098, 0.18802304084428756, 0.16452016073875161, 0.11751440052767971, 0.04700576021107189, 0.11751440052767971, 0.16452016073875161, 0.04700576021107189, 0.07050864031660783, 0.11751440052767971, 0.527819517908794, 0.07540278827268485, 0.07540278827268485, 0.1508055765453697, 0.1508055765453697, 0.5236087667211917, 0.34907251114746113, 0.018328200958542498, 0.14662560766833999, 0.27492301437813743, 0.3665640191708499, 0.09164100479271248, 0.07331280383416999, 0.018328200958542498, 0.036656401917084996, 0.5348506434119815, 0.3565670956079877, 0.5046587441795953, 0.32114647356883336, 0.04587806765269048, 0.04587806765269048, 0.04587806765269048, 0.07060153425356001, 0.03530076712678001, 0.10590230138034001, 0.4942107397749201, 0.14120306850712003, 0.17650383563390004, 0.3014677796518498, 0.4522016694777747, 0.1507338898259249, 0.30215718408640413, 0.33992683209720465, 0.15107859204320206, 0.037769648010800516, 0.037769648010800516, 0.11330894403240155, 0.16347656760281531, 0.5721679866098536, 0.08173828380140766, 0.16347656760281531, 0.2084463160474001, 0.2084463160474001, 0.5211157901185003, 0.21907124309441658, 0.2359228771786025, 0.06740653633674357, 0.13481307267348713, 0.11796143858930125, 0.15166470675767302, 0.06740653633674357, 0.01685163408418589, 0.23645376381325367, 0.3546806457198805, 0.23645376381325367, 0.11822688190662684, 0.45559516495848257, 0.45559516495848257, 0.23478769985295164, 0.26832879983194474, 0.10062329993697929, 0.05031164996848964, 0.03354109997899309, 0.1509349499054689, 0.08385274994748274, 0.08385274994748274, 0.13281612109619798, 0.39844836328859395, 0.26563224219239595, 0.13281612109619798, 0.07461017716905782, 0.11191526575358673, 0.6714915945215204, 0.03730508858452891, 0.07461017716905782, 0.10685537120451437, 0.10685537120451437, 0.3205661136135431, 0.21371074240902874, 0.21371074240902874, 0.26483740461686855, 0.3972561069253029, 0.13241870230843428, 0.13241870230843428, 0.17753027173874003, 0.17753027173874003, 0.17753027173874003, 0.35506054347748006, 0.340808103852506, 0.20448486231150356, 0.1363232415410024, 0.20448486231150356, 0.0681616207705012, 0.3514735440988935, 0.5272103161483402, 0.22690252339661235, 0.04538050467932247, 0.1361415140379674, 0.18152201871728987, 0.4084245421139022, 0.04538050467932247, 0.4358555127362119, 0.23469142993488334, 0.050291020700332145, 0.033527347133554763, 0.050291020700332145, 0.06705469426710953, 0.016763673566777382, 0.08381836783388691, 0.033527347133554763, 0.8912268285631864, 0.465310084733252, 0.31020672315550135, 0.15510336157775068, 0.15057188677670397, 0.4517156603301119, 0.30114377355340793, 0.5818392482428167, 0.34910354894569, 0.35176465598845125, 0.527646983982677, 0.2647949408274262, 0.05295898816548524, 0.3707129171583967, 0.05295898816548524, 0.21183595266194097, 0.16559125480501558, 0.4967737644150467, 0.11039416987001038, 0.11039416987001038, 0.05519708493500519, 0.2453548302430996, 0.09814193209723983, 0.212640852877353, 0.08178494341436653, 0.049070966048619914, 0.09814193209723983, 0.09814193209723983, 0.09814193209723983, 0.016356988682873306, 0.3982517634979764, 0.1327505878326588, 0.0663752939163294, 0.1327505878326588, 0.0663752939163294, 0.0663752939163294, 0.0331876469581647, 0.0331876469581647, 0.0331876469581647, 0.0331876469581647, 0.10610859788464744, 0.21221719576929488, 0.21221719576929488, 0.42443439153858975, 0.11632693735214454, 0.05816346867607227, 0.40714428073250586, 0.23265387470428908, 0.05816346867607227, 0.05816346867607227, 0.2633043153909729, 0.4212869046255566, 0.15798258923458372, 0.10532172615638916, 0.1771024080467995, 0.354204816093599, 0.354204816093599, 0.21369287392841677, 0.21369287392841677, 0.42738574785683353, 0.10684643696420838, 0.2664658747169232, 0.03806655353098902, 0.15226621412395608, 0.4567986423718683, 0.03806655353098902, 0.36030391367777154, 0.24020260911851438, 0.09608104364740574, 0.21618234820666293, 0.07206078273555432, 0.024020260911851436, 0.5294924692134307, 0.3529949794756205, 0.7852219315664148, 0.13087032192773582, 0.04048682584324158, 0.28340778090269103, 0.12146047752972473, 0.28340778090269103, 0.08097365168648316, 0.04048682584324158, 0.08097365168648316, 0.08097365168648316, 0.1978782842596221, 0.1978782842596221, 0.05653665264560631, 0.028268326322803156, 0.028268326322803156, 0.14134163161401578, 0.25441493690522843, 0.05653665264560631, 0.028268326322803156, 0.11304569364874764, 0.18840948941457938, 0.07536379576583176, 0.301455183063327, 0.18840948941457938, 0.11304569364874764, 0.03768189788291588, 0.30370030823483934, 0.455550462352259, 0.15185015411741967, 0.4063636051281567, 0.21285712649570113, 0.087077915384605, 0.038701295726491114, 0.07740259145298223, 0.019350647863245557, 0.10642856324785056, 0.009675323931622778, 0.029025971794868335, 0.09082917891038315, 0.22707294727595786, 0.49956048400710734, 0.09082917891038315, 0.04541458945519158, 0.5289019291629283, 0.21156077166517132, 0.10578038583258566, 0.38989703793930586, 0.5198627172524078, 0.350605411964958, 0.5843423532749299, 0.0887947963386041, 0.11839306178480548, 0.1775895926772082, 0.14799132723100683, 0.2071878581234096, 0.11839306178480548, 0.0887947963386041, 0.2944135068932322, 0.23553080551458574, 0.11776540275729287, 0.058882701378646436, 0.23553080551458574, 0.058882701378646436, 0.3123737591412958, 0.1561868795706479, 0.3123737591412958, 0.1561868795706479, 0.3145202164211547, 0.3145202164211547, 0.15726010821057734, 0.15726010821057734, 0.29921103676468724, 0.5984220735293745, 0.25183169789777154, 0.1510990187386629, 0.25183169789777154, 0.2014653583182172, 0.0503663395795543, 0.1485853846790926, 0.7429269233954631, 0.3007359550163886, 0.6014719100327772, 0.11771159844552255, 0.2354231968910451, 0.11771159844552255, 0.3531347953365676, 0.11771159844552255, 0.535798598037794, 0.17859953267926465, 0.17859953267926465, 0.3499898599439586, 0.3499898599439586, 0.1749949299719793, 0.15052727262659987, 0.15052727262659987, 0.4515818178797996, 0.15052727262659987, 0.06271258783290842, 0.43898811483035893, 0.3135629391645421, 0.18813776349872527, 0.8107820531687902, 0.11582600759554144, 0.3561156930025995, 0.17805784650129974, 0.17805784650129974, 0.17805784650129974, 0.5249021453063846, 0.2624510726531923, 0.13122553632659614, 0.14878835662152573, 0.7439417831076286, 0.19478877866096728, 0.19478877866096728, 0.13913484190069092, 0.1669618102808291, 0.055653936760276364, 0.13913484190069092, 0.11130787352055273, 0.6657353515880845, 0.13314707031761688, 0.13314707031761688, 0.11623237411169203, 0.3486971223350761, 0.4649294964467681, 0.46689210877836396, 0.11672302719459099, 0.35016908158377297, 0.1634004917064787, 0.09804029502388721, 0.13072039336518296, 0.49020147511943607, 0.03268009834129574, 0.06536019668259148, 0.03268009834129574, 0.04267900129008041, 0.25607400774048245, 0.23473450709544227, 0.08535800258016082, 0.23473450709544227, 0.06401850193512061, 0.06401850193512061, 0.010669750322520103, 0.2264660557077972, 0.1509773704718648, 0.5284207966515269, 0.0754886852359324, 0.07530856348114737, 0.22592569044344207, 0.15061712696229473, 0.26357997218401574, 0.15061712696229473, 0.07530856348114737, 0.037654281740573683, 0.2870839053980134, 0.19138927026534225, 0.4784731756633556, 0.23603582263082606, 0.11801791131541303, 0.23603582263082606, 0.23603582263082606, 0.30199128847858736, 0.5536506955440768, 0.05033188141309789, 0.10066376282619578, 0.3039050392963386, 0.4558575589445079, 0.1519525196481693, 0.13135422017812595, 0.2298698853117204, 0.2627084403562519, 0.19703133026718891, 0.03283855504453149, 0.13135422017812595, 0.04810166507085504, 0.4810166507085504, 0.2405083253542752, 0.04810166507085504, 0.19240666028342016, 0.2626632897969143, 0.5253265795938286, 0.17510885986460953, 0.21483489458958102, 0.5370872364739526, 0.10741744729479051, 0.10741744729479051, 0.8912268529068968, 0.4603279074550501, 0.1353905610161912, 0.25724206593076326, 0.02707811220323824, 0.0676952805080956, 0.02707811220323824, 0.12692606143215282, 0.6346303071607641, 0.04230868714405094, 0.21154343572025472, 0.1885783943527035, 0.2640097520937849, 0.0754313577410814, 0.0377156788705407, 0.3017254309643256, 0.11314703661162209, 0.28880142854920665, 0.06417809523315703, 0.16044523808289257, 0.2246233333160496, 0.1925342856994711, 0.03208904761657851, 0.03208904761657851, 0.19432424880479768, 0.19432424880479768, 0.29148637320719656, 0.09716212440239884, 0.19432424880479768, 0.2895138650839072, 0.06433641446309049, 0.06433641446309049, 0.3216820723154524, 0.032168207231545246, 0.12867282892618098, 0.06433641446309049, 0.032168207231545246, 0.18709849579381677, 0.12473233052921119, 0.28064774369072515, 0.062366165264605596, 0.34301390895533074, 0.4550928272795382, 0.1400285622398579, 0.03500714055996448, 0.24504998391975136, 0.03500714055996448, 0.03500714055996448, 0.19212733304995364, 0.16811141641870944, 0.16010611087496135, 0.08005305543748067, 0.11207427761247295, 0.06404244434998455, 0.11207427761247295, 0.06404244434998455, 0.04002652771874034, 0.008005305543748068, 0.614513467792896, 0.26336291476838397, 0.5943117400622207, 0.1371488630912817, 0.1371488630912817, 0.0914325753941878, 0.2414517323026103, 0.6036293307565257, 0.12072586615130515, 0.5278341486695065, 0.16241050728292508, 0.20301313410365635, 0.08120525364146254, 0.04060262682073127, 0.13217235694360416, 0.13217235694360416, 0.39651707083081245, 0.2643447138872083, 0.6161258050714994, 0.1760359443061427, 0.08801797215307135, 0.17682512698149747, 0.5304753809444924, 0.2652376904722462, 0.7087592727611094, 0.17718981819027735, 0.17652101439449178, 0.17652101439449178, 0.35304202878898355, 0.17652101439449178, 0.5712393488434585, 0.08788297674514746, 0.2636489302354424, 0.04394148837257373, 0.32674976950268564, 0.16337488475134282, 0.1225311635635071, 0.1225311635635071, 0.040843721187835705, 0.2042186059391785, 0.11774476271540837, 0.23548952543081675, 0.23548952543081675, 0.11774476271540837, 0.23548952543081675, 0.7096136042876036, 0.1774034010719009, 0.3030998912099921, 0.3030998912099921, 0.3030998912099921, 0.25134165968194067, 0.33512221290925426, 0.08378055322731356, 0.12567082984097033, 0.08378055322731356, 0.08378055322731356, 0.31637165322801925, 0.10545721774267308, 0.4218288709706923, 0.10545721774267308, 0.3075314575797321, 0.15376572878986605, 0.46129718636959816, 0.25119412214282294, 0.31970160999995645, 0.13701497571426705, 0.13701497571426705, 0.04567165857142235, 0.04567165857142235, 0.04567165857142235, 0.3088780116397248, 0.0882508604684928, 0.1765017209369856, 0.3530034418739712, 0.16732087811822666, 0.11154725207881777, 0.055773626039408886, 0.3346417562364533, 0.27886813019704443, 0.055773626039408886, 0.33370462894232716, 0.03033678444930247, 0.30336784449302473, 0.33370462894232716, 0.3580900084853979, 0.1193633361617993, 0.2387266723235986, 0.2387266723235986, 0.17611776629377662, 0.17611776629377662, 0.13208832472033247, 0.13208832472033247, 0.08805888314688831, 0.044029441573444156, 0.13208832472033247, 0.08805888314688831, 0.14036455148011348, 0.42109365444034047, 0.21054682722017024, 0.21054682722017024, 0.31658562876600777, 0.35176180974000865, 0.07035236194800173, 0.03517618097400087, 0.14070472389600347, 0.03517618097400087, 0.1670615902220696, 0.4454975739255189, 0.055687196740689865, 0.1670615902220696, 0.055687196740689865, 0.11137439348137973, 0.3006667419706347, 0.6013334839412694, 0.4507342507934758, 0.15024475026449194, 0.3004895005289839, 0.7268283916793743, 0.13215061666897712, 0.06607530833448856, 0.06607530833448856, 0.11694599315786845, 0.029236498289467113, 0.07309124572366779, 0.7455307063814114, 0.014618249144733557, 0.014618249144733557, 0.20150384155354104, 0.02518798019419263, 0.22669182174773367, 0.10075192077677052, 0.12593990097096316, 0.15112788116515577, 0.02518798019419263, 0.12593990097096316, 0.3039790522806665, 0.03377545025340739, 0.47285630354770347, 0.13510180101362956, 0.03377545025340739, 0.18152732755591228, 0.4992001507787588, 0.22690915944489035, 0.09076366377795614, 0.1923270909427086, 0.4808177273567715, 0.3846541818854172, 0.5471653521176344, 0.1367913380294086, 0.1367913380294086, 0.1367913380294086, 0.5783791106038664, 0.09639651843397773, 0.09639651843397773, 0.09639651843397773, 0.09639651843397773, 0.050071747941676306, 0.10014349588335261, 0.35050223559173416, 0.35050223559173416, 0.050071747941676306, 0.050071747941676306, 0.08272809322388391, 0.08272809322388391, 0.1930322175223958, 0.1930322175223958, 0.16545618644776783, 0.16545618644776783, 0.05515206214925594, 0.02757603107462797, 0.7052473081478825, 0.17631182703697063, 0.22823624094522593, 0.30431498792696793, 0.19780474215252913, 0.13694174456713556, 0.045647248189045184, 0.045647248189045184, 0.03043149879269679, 0.49626808464126865, 0.19419185920745297, 0.17261498596218042, 0.06473061973581766, 0.043153746490545104, 0.021576873245272552, 0.1763601549378201, 0.5290804648134603, 0.1763601549378201, 0.33990085380092916, 0.12746282017534843, 0.08497521345023229, 0.3823884605260453, 0.042487606725116145, 0.4670399745402732, 0.1167599936350683, 0.3502799809052049, 0.23690576914977246, 0.19742147429147705, 0.25664791657892017, 0.13819503200403394, 0.09871073714573853, 0.07896858971659082, 0.019742147429147705, 0.2852486000778726, 0.38033146677049684, 0.19016573338524842, 0.09508286669262421, 0.38478094766442944, 0.04809761845805368, 0.19239047383221472, 0.04809761845805368, 0.2404880922902684, 0.04809761845805368, 0.65770782742164, 0.263083130968656, 0.7058291867834513, 0.17645729669586283, 0.16036243040453815, 0.48108729121361443, 0.12828994432363053, 0.03207248608090763, 0.06414497216181526, 0.09621745824272289, 0.18383015260573107, 0.11029809156343864, 0.2757452289085966, 0.018383015260573107, 0.2389791983874504, 0.12868110682401177, 0.018383015260573107, 0.018383015260573107, 0.10509311807147813, 0.35031039357159377, 0.07006207871431874, 0.10509311807147813, 0.24521727550011563, 0.14012415742863749, 0.09016596729532812, 0.2704979018859843, 0.6311617710672969, 0.907164060117649, 0.10187414762622456, 0.2546853690655614, 0.22921683215900526, 0.15281122143933684, 0.2546853690655614, 0.8825652909208734, 0.5264828579299886, 0.17549428597666286, 0.17549428597666286, 0.8668388114281034, 0.19632397932180193, 0.26176530576240253, 0.03272066322030032, 0.3272066322030032, 0.03272066322030032, 0.03272066322030032, 0.09816198966090096, 0.17571975152830502, 0.5271592545849151, 0.17571975152830502, 0.5051523011410527, 0.21048012547543865, 0.08419205019017546, 0.08419205019017546, 0.08419205019017546, 0.3060357338946723, 0.15301786694733616, 0.15301786694733616, 0.3060357338946723, 0.20995201850701417, 0.7348320647745497, 0.10027863930221277, 0.15041795895331916, 0.30083591790663833, 0.20055727860442554, 0.050139319651106386, 0.15041795895331916, 0.17894599323381588, 0.35789198646763176, 0.17894599323381588, 0.17894599323381588, 0.45060046797742787, 0.20277021058984254, 0.13518014039322837, 0.022530023398871394, 0.06759007019661419, 0.11265011699435697, 0.13182738201589583, 0.5273095280635833, 0.13182738201589583, 0.13182738201589583, 0.6466121379576575, 0.24247955173412156, 0.4628151343633014, 0.2314075671816507, 0.13223289553237183, 0.03305822388309296, 0.06611644776618592, 0.06611644776618592, 0.08771138624518802, 0.2631341587355641, 0.5262683174711282, 0.17542277249037605, 0.18600659273017167, 0.12400439515344777, 0.4340153830370672, 0.12400439515344777, 0.062002197576723886, 0.062002197576723886, 0.4555533156198646, 0.15185110520662154, 0.3037022104132431, 0.19778194419837877, 0.5933458325951363, 0.13185462946558585, 0.49005677191199465, 0.16335225730399822, 0.16335225730399822, 0.08167612865199911, 0.17597380440299687, 0.5279214132089907, 0.17597380440299687], \"Term\": [\"amaze\", \"amaze\", \"amaze\", \"amaze\", \"amaze\", \"amaze\", \"amaze\", \"amaze\", \"amazing\", \"amazing\", \"amazing\", \"ambiance\", \"ambiance\", \"ambiance\", \"ambiance\", \"ambience\", \"ambience\", \"amp\", \"amp\", \"amp\", \"amp\", \"amp\", \"appetizer\", \"appetizer\", \"appetizer\", \"appetizer\", \"appreciate\", \"appreciate\", \"area\", \"area\", \"area\", \"area\", \"area\", \"area\", \"arrive\", \"arrive\", \"arrive\", \"arugula\", \"arugula\", \"arugula\", \"arugula\", \"ask\", \"ask\", \"ask\", \"ask\", \"atmosphere\", \"atmosphere\", \"atmosphere\", \"atmosphere\", \"atmosphere\", \"attitude\", \"attitude\", \"attitude\", \"available\", \"available\", \"average\", \"average\", \"avocado\", \"avocado\", \"avocado\", \"away\", \"away\", \"away\", \"away\", \"away\", \"awesome\", \"awesome\", \"awesome\", \"awesome\", \"awesome\", \"bacon\", \"bacon\", \"bacon\", \"bacon\", \"bacon\", \"balance\", \"balance\", \"balance\", \"bar\", \"bar\", \"base\", \"base\", \"base\", \"bean\", \"bean\", \"bean\", \"beef\", \"beef\", \"beef\", \"beef\", \"big\", \"big\", \"big\", \"big\", \"bill\", \"bill\", \"bill\", \"bland\", \"bland\", \"bland\", \"blow\", \"blow\", \"blow\", \"blt\", \"blt\", \"blt\", \"bolognese\", \"bolognese\", \"bolognese\", \"bolognese\", \"bolognese\", \"bolognese\", \"bone\", \"bone\", \"bone\", \"bottle\", \"bread\", \"bread\", \"bread\", \"bread\", \"bread\", \"bread\", \"bread\", \"breakfast\", \"breakfast\", \"breakfast\", \"breakfast\", \"breakfast\", \"breakfast\", \"breakfast\", \"breast\", \"breast\", \"breast\", \"brunch\", \"brunch\", \"brunch\", \"brunch\", \"brunch\", \"brunch\", \"brunch\", \"brunch\", \"bun\", \"bun\", \"bun\", \"bun\", \"burger\", \"burger\", \"burger\", \"burger\", \"burrito\", \"burrito\", \"burrito\", \"burrito\", \"cake\", \"cake\", \"cake\", \"calistoga\", \"calistoga\", \"calistoga\", \"calistoga\", \"calistoga\", \"calistoga\", \"calistoga\", \"calistoga\", \"change\", \"change\", \"change\", \"charm\", \"charm\", \"charm\", \"charm\", \"charm\", \"charm\", \"charm\", \"cheese\", \"cheese\", \"cheese\", \"cheese\", \"cheese\", \"cheese\", \"cheese\", \"chef\", \"chef\", \"chef\", \"chef\", \"chef\", \"chef\", \"cherry\", \"cherry\", \"chicken\", \"chicken\", \"chicken\", \"chicken\", \"chicken\", \"choice\", \"choice\", \"choice\", \"choice\", \"choose\", \"choose\", \"choose\", \"chop\", \"chop\", \"chop\", \"chop\", \"chop\", \"chop\", \"chop\", \"coffee\", \"coffee\", \"coffee\", \"coffee\", \"cold\", \"cold\", \"come\", \"come\", \"come\", \"come\", \"come\", \"come\", \"come\", \"come\", \"comfortable\", \"comfortable\", \"comfortable\", \"comfortable\", \"completely\", \"completely\", \"cook\", \"cook\", \"cook\", \"cook\", \"cook\", \"cook\", \"cook\", \"cool\", \"cool\", \"cool\", \"cool\", \"cool\", \"country\", \"country\", \"country\", \"course\", \"course\", \"course\", \"crowd\", \"crowd\", \"crowd\", \"customer\", \"customer\", \"cut\", \"cut\", \"cut\", \"cut\", \"cute\", \"cute\", \"cute\", \"cute\", \"date\", \"date\", \"date\", \"date\", \"day\", \"day\", \"day\", \"day\", \"day\", \"day\", \"day\", \"decent\", \"decent\", \"decent\", \"decor\", \"decor\", \"definitely\", \"definitely\", \"definitely\", \"definitely\", \"delicious\", \"delicious\", \"delicious\", \"delicious\", \"delicious\", \"delicious\", \"delicious\", \"delicious\", \"delicious\", \"delicious\", \"delightful\", \"delightful\", \"dessert\", \"dessert\", \"dessert\", \"dessert\", \"dessert\", \"dessert\", \"dinner\", \"dinner\", \"dinner\", \"dinner\", \"dinner\", \"dinner\", \"disappoint\", \"disappoint\", \"disappoint\", \"disappoint\", \"disappoint\", \"disappoint\", \"dish\", \"dish\", \"dish\", \"dish\", \"dish\", \"dish\", \"dish\", \"door\", \"door\", \"door\", \"dress\", \"dress\", \"drink\", \"drink\", \"drink\", \"drink\", \"duck\", \"duck\", \"duck\", \"duck\", \"duck\", \"early\", \"early\", \"early\", \"early\", \"easy\", \"easy\", \"easy\", \"easy\", \"easy\", \"eat\", \"eat\", \"eat\", \"eat\", \"eat\", \"eat\", \"eat\", \"eat\", \"egg\", \"egg\", \"egg\", \"egg\", \"egg\", \"egg\", \"end\", \"end\", \"end\", \"end\", \"end\", \"enjoy\", \"enjoy\", \"enjoy\", \"enjoy\", \"enjoy\", \"enjoy\", \"entree\", \"entree\", \"entree\", \"excellent\", \"excellent\", \"excellent\", \"excellent\", \"excellent\", \"excellent\", \"experience\", \"experience\", \"experience\", \"experience\", \"experience\", \"experience\", \"family\", \"family\", \"fan\", \"fan\", \"far\", \"far\", \"fast\", \"fast\", \"fast\", \"fast\", \"feel\", \"feel\", \"feel\", \"feel\", \"feel\", \"feel\", \"feel\", \"finally\", \"finally\", \"finally\", \"finally\", \"fine\", \"fine\", \"fine\", \"fish\", \"fish\", \"flavor\", \"flavor\", \"flavor\", \"flavor\", \"flavor\", \"flavor\", \"follow\", \"follow\", \"follow\", \"follow\", \"food\", \"food\", \"food\", \"food\", \"food\", \"food\", \"food\", \"food\", \"forward\", \"forward\", \"forward\", \"francisco\", \"francisco\", \"francisco\", \"francisco\", \"french\", \"french\", \"french\", \"french\", \"fresh\", \"fresh\", \"fresh\", \"fresh\", \"fresh\", \"fresh\", \"friend\", \"friend\", \"friend\", \"friend\", \"friend\", \"friend\", \"friendly\", \"friendly\", \"friendly\", \"friendly\", \"friendly\", \"friendly\", \"friendly\", \"friendly\", \"friendly\", \"friendly\", \"garden\", \"garden\", \"gem\", \"gem\", \"girl\", \"girl\", \"girl\", \"glass\", \"glass\", \"glass\", \"glass\", \"good\", \"good\", \"good\", \"good\", \"good\", \"good\", \"good\", \"good\", \"good\", \"good\", \"great\", \"great\", \"great\", \"great\", \"great\", \"great\", \"great\", \"great\", \"great\", \"green\", \"green\", \"green\", \"green\", \"green\", \"greet\", \"greet\", \"greet\", \"guest\", \"guest\", \"half\", \"half\", \"half\", \"hand\", \"hand\", \"happy\", \"happy\", \"happy\", \"happy\", \"head\", \"head\", \"head\", \"hear\", \"hear\", \"hear\", \"heirloom\", \"heirloom\", \"heirloom\", \"helpful\", \"helpful\", \"helpful\", \"helpful\", \"high\", \"high\", \"high\", \"hit\", \"hit\", \"hit\", \"home\", \"home\", \"home\", \"home\", \"home\", \"home\", \"homemade\", \"homemade\", \"homemade\", \"hope\", \"hope\", \"hope\", \"hope\", \"hostess\", \"hostess\", \"hot\", \"hot\", \"hot\", \"hot\", \"hour\", \"hour\", \"hour\", \"house\", \"house\", \"house\", \"house\", \"house\", \"house\", \"huevos\", \"huevos\", \"huge\", \"huge\", \"huge\", \"huge\", \"huge\", \"husband\", \"husband\", \"husband\", \"husband\", \"husband\", \"husband\", \"husband\", \"include\", \"include\", \"include\", \"include\", \"include\", \"incredible\", \"incredible\", \"incredible\", \"incredible\", \"incredible\", \"ingredient\", \"ingredient\", \"ingredient\", \"ingredient\", \"inside\", \"inside\", \"inside\", \"inside\", \"inside\", \"inside\", \"inside\", \"instead\", \"instead\", \"instead\", \"interest\", \"interest\", \"juice\", \"juice\", \"juice\", \"kimchi\", \"kimchi\", \"kitchen\", \"kitchen\", \"kitchen\", \"kitchen\", \"kitchen\", \"kitchen\", \"kitchen\", \"know\", \"know\", \"know\", \"know\", \"know\", \"know\", \"know\", \"knowledgeable\", \"knowledgeable\", \"lack\", \"lack\", \"lack\", \"lamb\", \"lamb\", \"lamb\", \"lamb\", \"leave\", \"leave\", \"leave\", \"leave\", \"lemon\", \"lemon\", \"lemon\", \"lemon\", \"let\", \"let\", \"let\", \"let\", \"life\", \"life\", \"life\", \"like\", \"like\", \"like\", \"like\", \"like\", \"like\", \"like\", \"like\", \"limit\", \"limit\", \"limit\", \"limit\", \"little\", \"little\", \"little\", \"little\", \"little\", \"little\", \"little\", \"little\", \"little\", \"live\", \"live\", \"live\", \"location\", \"location\", \"look\", \"look\", \"look\", \"look\", \"look\", \"look\", \"look\", \"look\", \"look\", \"lot\", \"lot\", \"lot\", \"lot\", \"lot\", \"loud\", \"loud\", \"love\", \"love\", \"love\", \"love\", \"love\", \"love\", \"love\", \"love\", \"loved\", \"loved\", \"lovely\", \"lovely\", \"lovely\", \"lovely\", \"lovely\", \"lovina\", \"lovina\", \"lovina\", \"lovina\", \"lovina\", \"lovina\", \"low\", \"low\", \"low\", \"lunch\", \"lunch\", \"lunch\", \"lunch\", \"lunch\", \"lunch\", \"main\", \"main\", \"main\", \"main\", \"maybe\", \"maybe\", \"maybe\", \"meal\", \"meal\", \"meal\", \"meal\", \"meal\", \"meal\", \"meal\", \"meal\", \"meat\", \"meat\", \"meat\", \"meat\", \"meet\", \"meet\", \"menu\", \"menu\", \"menu\", \"menu\", \"menu\", \"menu\", \"menu\", \"menu\", \"mimosa\", \"mimosa\", \"mimosa\", \"mimosa\", \"minute\", \"minute\", \"minute\", \"minute\", \"minute\", \"mix\", \"mix\", \"mix\", \"mix\", \"mix\", \"morning\", \"morning\", \"morning\", \"morning\", \"music\", \"music\", \"music\", \"music\", \"napa\", \"napa\", \"napa\", \"napa\", \"napa\", \"nearly\", \"nearly\", \"new\", \"new\", \"new\", \"new\", \"new\", \"new\", \"nice\", \"nice\", \"nice\", \"nice\", \"nice\", \"nice\", \"nice\", \"nice\", \"nice\", \"note\", \"notice\", \"notice\", \"notice\", \"oil\", \"oil\", \"oil\", \"old\", \"old\", \"olive\", \"olive\", \"omelet\", \"omelet\", \"omelet\", \"omelet\", \"omelet\", \"open\", \"open\", \"open\", \"open\", \"open\", \"order\", \"order\", \"order\", \"order\", \"order\", \"order\", \"order\", \"order\", \"order\", \"outside\", \"outside\", \"outside\", \"outside\", \"outside\", \"outside\", \"outside\", \"outside\", \"outside\", \"outside\", \"outstanding\", \"outstanding\", \"outstanding\", \"outstanding\", \"overall\", \"overall\", \"overall\", \"overall\", \"overall\", \"overall\", \"owner\", \"owner\", \"owner\", \"owner\", \"park\", \"park\", \"park\", \"party\", \"party\", \"party\", \"party\", \"pasta\", \"pasta\", \"pasta\", \"pasta\", \"pasta\", \"patio\", \"patio\", \"patio\", \"patio\", \"patio\", \"patio\", \"pay\", \"pay\", \"pea\", \"pea\", \"people\", \"people\", \"people\", \"people\", \"people\", \"people\", \"people\", \"people\", \"perfect\", \"perfect\", \"perfect\", \"perfect\", \"perfect\", \"perfect\", \"perfect\", \"perfect\", \"perfect\", \"perfectly\", \"perfectly\", \"perfectly\", \"perfectly\", \"perfectly\", \"perfectly\", \"perfectly\", \"piece\", \"piece\", \"piece\", \"place\", \"place\", \"place\", \"place\", \"place\", \"place\", \"place\", \"place\", \"place\", \"plate\", \"plate\", \"plate\", \"plate\", \"plate\", \"plenty\", \"plenty\", \"plenty\", \"point\", \"point\", \"polenta\", \"polenta\", \"pork\", \"pork\", \"pork\", \"pork\", \"pork\", \"pork\", \"pork\", \"portion\", \"portion\", \"portion\", \"portion\", \"portion\", \"portion\", \"prepare\", \"prepare\", \"prepare\", \"prepare\", \"present\", \"present\", \"present\", \"present\", \"presentation\", \"presentation\", \"pretty\", \"pretty\", \"pretty\", \"pretty\", \"pretty\", \"problem\", \"problem\", \"professional\", \"professional\", \"pudding\", \"pudding\", \"pudding\", \"pudding\", \"pudding\", \"pur\", \"pur\", \"pur\", \"quality\", \"quality\", \"quality\", \"quick\", \"quick\", \"quick\", \"quick\", \"rabbit\", \"rabbit\", \"rabbit\", \"rabbit\", \"rancheros\", \"rancheros\", \"ready\", \"ready\", \"ready\", \"ready\", \"reasonable\", \"reasonable\", \"reasonable\", \"receive\", \"receive\", \"recommend\", \"recommend\", \"recommend\", \"recommend\", \"recommend\", \"recommend\", \"recommend\", \"recommendation\", \"recommendation\", \"recommendation\", \"relax\", \"relax\", \"relax\", \"remedy\", \"remedy\", \"remedy\", \"reservation\", \"reservation\", \"reservation\", \"reservation\", \"reservation\", \"reservation\", \"reservation\", \"restaurant\", \"restaurant\", \"restaurant\", \"restaurant\", \"restaurant\", \"restaurant\", \"restaurant\", \"restaurant\", \"return\", \"return\", \"return\", \"return\", \"review\", \"review\", \"review\", \"review\", \"review\", \"review\", \"review\", \"rib\", \"rib\", \"rib\", \"rich\", \"rich\", \"rich\", \"rich\", \"rick\", \"rick\", \"rick\", \"rick\", \"ricotta\", \"ricotta\", \"ricotta\", \"right\", \"right\", \"right\", \"right\", \"right\", \"right\", \"risotto\", \"risotto\", \"risotto\", \"risotto\", \"risotto\", \"roast\", \"roast\", \"roast\", \"room\", \"room\", \"room\", \"room\", \"rude\", \"salad\", \"salad\", \"salad\", \"salad\", \"salad\", \"salad\", \"salmon\", \"salmon\", \"salmon\", \"salmon\", \"sandwich\", \"sandwich\", \"sandwich\", \"sandwich\", \"sandwich\", \"sandwich\", \"sauce\", \"sauce\", \"sauce\", \"sauce\", \"sauce\", \"sauce\", \"sauce\", \"season\", \"season\", \"season\", \"season\", \"season\", \"seat\", \"seat\", \"seat\", \"seat\", \"seat\", \"seat\", \"seat\", \"seat\", \"serve\", \"serve\", \"serve\", \"serve\", \"serve\", \"server\", \"server\", \"server\", \"server\", \"server\", \"server\", \"service\", \"service\", \"service\", \"service\", \"service\", \"service\", \"service\", \"service\", \"service\", \"service\", \"set\", \"set\", \"share\", \"share\", \"share\", \"share\", \"short\", \"short\", \"short\", \"sit\", \"sit\", \"sit\", \"sit\", \"sit\", \"size\", \"size\", \"size\", \"size\", \"slice\", \"slice\", \"slice\", \"smoke\", \"smoke\", \"smoke\", \"soft\", \"soft\", \"soon\", \"soon\", \"soon\", \"soon\", \"soup\", \"soup\", \"soup\", \"soup\", \"special\", \"special\", \"special\", \"special\", \"special\", \"special\", \"spice\", \"spice\", \"spice\", \"spice\", \"spice\", \"spicy\", \"spicy\", \"spin-dry\", \"spin-dry\", \"spin-dry\", \"spot\", \"spot\", \"spot\", \"spot\", \"spot\", \"spot\", \"spring\", \"spring\", \"spring\", \"spring\", \"squash\", \"squash\", \"squash\", \"staff\", \"staff\", \"staff\", \"staff\", \"staff\", \"staff\", \"staff\", \"star\", \"star\", \"star\", \"star\", \"start\", \"start\", \"start\", \"start\", \"start\", \"start\", \"steak\", \"steak\", \"steak\", \"steak\", \"stew\", \"stew\", \"stew\", \"stew\", \"stop\", \"stop\", \"stop\", \"stop\", \"stop\", \"stop\", \"stop\", \"stop\", \"street\", \"street\", \"street\", \"street\", \"sunday\", \"sunday\", \"sunday\", \"sunday\", \"sunday\", \"sunday\", \"sure\", \"sure\", \"sure\", \"sure\", \"sure\", \"sure\", \"surprise\", \"surprise\", \"susie\", \"susie\", \"susie\", \"sweet\", \"sweet\", \"sweet\", \"sweet\", \"table\", \"table\", \"table\", \"table\", \"table\", \"table\", \"taste\", \"taste\", \"taste\", \"taste\", \"taste\", \"taste\", \"taste\", \"taste\", \"tasty\", \"tasty\", \"tasty\", \"tasty\", \"tasty\", \"tell\", \"tell\", \"tell\", \"tell\", \"tender\", \"tender\", \"tender\", \"thank\", \"thank\", \"thank\", \"thank\", \"thick\", \"thick\", \"thick\", \"thick\", \"thick\", \"thing\", \"thing\", \"thing\", \"thing\", \"thing\", \"thing\", \"think\", \"think\", \"think\", \"think\", \"think\", \"think\", \"think\", \"think\", \"tiki\", \"tiki\", \"time\", \"time\", \"time\", \"time\", \"time\", \"time\", \"time\", \"toast\", \"toast\", \"toast\", \"toast\", \"toast\", \"toast\", \"today\", \"today\", \"today\", \"town\", \"town\", \"town\", \"town\", \"town\", \"trip\", \"trip\", \"trip\", \"try\", \"try\", \"try\", \"try\", \"try\", \"try\", \"try\", \"use\", \"use\", \"use\", \"use\", \"valley\", \"valley\", \"valley\", \"valley\", \"valley\", \"valley\", \"veggie\", \"veggie\", \"veggies\", \"veggies\", \"visit\", \"visit\", \"visit\", \"visit\", \"visit\", \"visit\", \"wait\", \"wait\", \"wait\", \"wait\", \"wait\", \"wait\", \"wait\", \"wait\", \"waitress\", \"waitress\", \"waitress\", \"waitress\", \"waitress\", \"waitress\", \"walk\", \"walk\", \"walk\", \"walnut\", \"want\", \"want\", \"want\", \"want\", \"want\", \"warn\", \"watch\", \"watch\", \"watch\", \"water\", \"way\", \"way\", \"way\", \"way\", \"way\", \"way\", \"way\", \"week\", \"week\", \"week\", \"weekend\", \"weekend\", \"weekend\", \"weekend\", \"weekend\", \"went\", \"went\", \"went\", \"went\", \"white\", \"white\", \"wife\", \"wife\", \"wife\", \"wife\", \"wife\", \"wife\", \"wild\", \"wild\", \"wild\", \"wild\", \"wine\", \"wine\", \"wine\", \"wine\", \"wine\", \"wine\", \"winery\", \"winery\", \"winery\", \"winery\", \"wish\", \"wish\", \"wonderful\", \"wonderful\", \"wonderful\", \"wonderful\", \"wonderful\", \"wonderful\", \"work\", \"work\", \"work\", \"work\", \"worth\", \"worth\", \"worth\", \"worth\", \"worth\", \"worth\", \"write\", \"write\", \"write\", \"yum\", \"yum\", \"yum\", \"yummy\", \"yummy\", \"yummy\", \"yummy\", \"zazie\", \"zazie\", \"zazie\"]}, \"R\": 30, \"lambda.step\": 0.01, \"plot.opts\": {\"xlab\": \"PC1\", \"ylab\": \"PC2\"}, \"topic.order\": [6, 10, 2, 5, 3, 7, 1, 4, 8, 9]};\n",
       "\n",
       "function LDAvis_load_lib(url, callback){\n",
       "  var s = document.createElement('script');\n",
       "  s.src = url;\n",
       "  s.async = true;\n",
       "  s.onreadystatechange = s.onload = callback;\n",
       "  s.onerror = function(){console.warn(\"failed to load library \" + url);};\n",
       "  document.getElementsByTagName(\"head\")[0].appendChild(s);\n",
       "}\n",
       "\n",
       "if(typeof(LDAvis) !== \"undefined\"){\n",
       "   // already loaded: just create the visualization\n",
       "   !function(LDAvis){\n",
       "       new LDAvis(\"#\" + \"ldavis_el112971406618464685528035446681\", ldavis_el112971406618464685528035446681_data);\n",
       "   }(LDAvis);\n",
       "}else if(typeof define === \"function\" && define.amd){\n",
       "   // require.js is available: use it to load d3/LDAvis\n",
       "   require.config({paths: {d3: \"https://cdnjs.cloudflare.com/ajax/libs/d3/3.5.5/d3.min\"}});\n",
       "   require([\"d3\"], function(d3){\n",
       "      window.d3 = d3;\n",
       "      LDAvis_load_lib(\"https://cdn.rawgit.com/bmabey/pyLDAvis/files/ldavis.v1.0.0.js\", function(){\n",
       "        new LDAvis(\"#\" + \"ldavis_el112971406618464685528035446681\", ldavis_el112971406618464685528035446681_data);\n",
       "      });\n",
       "    });\n",
       "}else{\n",
       "    // require.js not available: dynamically load d3 & LDAvis\n",
       "    LDAvis_load_lib(\"https://cdnjs.cloudflare.com/ajax/libs/d3/3.5.5/d3.min.js\", function(){\n",
       "         LDAvis_load_lib(\"https://cdn.rawgit.com/bmabey/pyLDAvis/files/ldavis.v1.0.0.js\", function(){\n",
       "                 new LDAvis(\"#\" + \"ldavis_el112971406618464685528035446681\", ldavis_el112971406618464685528035446681_data);\n",
       "            })\n",
       "         });\n",
       "}\n",
       "</script>"
      ],
      "text/plain": [
       "PreparedData(topic_coordinates=                x           y  topics  cluster       Freq\n",
       "topic                                                    \n",
       "5     -205.738907  126.888802       1        1  21.816070\n",
       "9      214.709427 -165.094315       2        1  16.488699\n",
       "1      -12.350554 -199.071732       3        1  14.785296\n",
       "4      -50.465916  255.001175       4        1  12.022269\n",
       "2      255.029037   50.167641       5        1  10.335894\n",
       "6      -67.828552   17.933640       6        1   8.407921\n",
       "0       67.279945  120.259674       7        1   7.274561\n",
       "3      180.545776  250.433594       8        1   4.159295\n",
       "7       88.608238  -48.019974       9        1   4.077489\n",
       "8     -192.828568 -104.284554      10        1   0.632506, topic_info=     Category        Freq       Term       Total  loglift  logprob\n",
       "term                                                              \n",
       "377   Default   68.000000      table   68.000000  30.0000  30.0000\n",
       "155   Default  150.000000       good  150.000000  29.0000  29.0000\n",
       "95    Default   85.000000  delicious   85.000000  28.0000  28.0000\n",
       "145   Default   37.000000     french   37.000000  27.0000  27.0000\n",
       "148   Default   50.000000   friendly   50.000000  26.0000  26.0000\n",
       "260   Default   61.000000      order   61.000000  25.0000  25.0000\n",
       "389   Default   46.000000      toast   46.000000  24.0000  24.0000\n",
       "338   Default  124.000000    service  124.000000  23.0000  23.0000\n",
       "274   Default   35.000000    perfect   35.000000  22.0000  22.0000\n",
       "270   Default   41.000000      patio   41.000000  21.0000  21.0000\n",
       "230   Default   59.000000       meal   59.000000  20.0000  20.0000\n",
       "90    Default   43.000000        day   43.000000  19.0000  19.0000\n",
       "202   Default   21.000000       lamb   21.000000  18.0000  18.0000\n",
       "46    Default   60.000000     brunch   60.000000  17.0000  17.0000\n",
       "334   Default   31.000000       seat   31.000000  16.0000  16.0000\n",
       "190   Default   27.000000     inside   27.000000  15.0000  15.0000\n",
       "326   Default   73.000000      salad   73.000000  14.0000  14.0000\n",
       "371   Default   28.000000     sunday   28.000000  13.0000  13.0000\n",
       "42    Default   35.000000      bread   35.000000  12.0000  12.0000\n",
       "15    Default   43.000000        ask   43.000000  11.0000  11.0000\n",
       "141   Default  174.000000       food  174.000000  10.0000  10.0000\n",
       "156   Default  109.000000      great  109.000000   9.0000   9.0000\n",
       "365   Default   32.000000      steak   32.000000   8.0000   8.0000\n",
       "262   Default   30.000000    outside   30.000000   7.0000   7.0000\n",
       "225   Default   28.000000     lovina   28.000000   6.0000   6.0000\n",
       "239   Default   26.000000     minute   26.000000   5.0000   5.0000\n",
       "327   Default   23.000000     salmon   23.000000   4.0000   4.0000\n",
       "147   Default   24.000000     friend   24.000000   3.0000   3.0000\n",
       "199   Default   29.000000       know   29.000000   2.0000   2.0000\n",
       "112   Default   31.000000        egg   31.000000   1.0000   1.0000\n",
       "...       ...         ...        ...         ...      ...      ...\n",
       "56    Topic10    0.791225      charm   10.141274   2.5124  -4.1637\n",
       "190   Topic10    0.791219     inside   27.457163   1.5164  -4.1638\n",
       "371   Topic10    0.791231     sunday   28.428328   1.4817  -4.1637\n",
       "262   Topic10    0.791250    outside   30.131693   1.4235  -4.1637\n",
       "334   Topic10    0.791229       seat   31.086594   1.3923  -4.1637\n",
       "148   Topic10    1.233856   friendly   50.849964   1.3445  -3.7194\n",
       "274   Topic10    0.791234    perfect   35.375281   1.2631  -4.1637\n",
       "145   Topic10    0.791197     french   37.858934   1.1952  -4.1638\n",
       "270   Topic10    0.791244      patio   41.631521   1.1002  -4.1637\n",
       "90    Topic10    0.791226        day   43.750443   1.0506  -4.1637\n",
       "389   Topic10    0.791197      toast   46.345918   0.9929  -4.1638\n",
       "230   Topic10    0.791237       meal   59.341426   0.7458  -4.1637\n",
       "46    Topic10    0.791241     brunch   60.552421   0.7256  -4.1637\n",
       "260   Topic10    0.791223      order   61.135947   0.7160  -4.1637\n",
       "162   Topic10    0.071925       half    5.587122   0.7106  -6.5617\n",
       "425   Topic10    0.071925       wild    5.588278   0.7104  -6.5617\n",
       "28    Topic10    0.071925       base    5.590707   0.7100  -6.5617\n",
       "91    Topic10    0.071925     decent    5.596557   0.7090  -6.5617\n",
       "297   Topic10    0.071925        pur    5.599119   0.7085  -6.5617\n",
       "223   Topic10    0.071925      loved    5.609043   0.7067  -6.5617\n",
       "303   Topic10    0.071925      ready    5.616152   0.7055  -6.5617\n",
       "243   Topic10    0.071925      music    5.632842   0.7025  -6.5617\n",
       "95    Topic10    0.791246  delicious   85.142536   0.3848  -4.1637\n",
       "338   Topic10    0.909505    service  124.917156   0.1407  -4.0244\n",
       "155   Topic10    0.838418       good  150.369998  -0.1261  -4.1058\n",
       "326   Topic10    0.071938      salad   73.860393  -1.8709  -6.5615\n",
       "347   Topic10    0.071936      smoke   11.310610   0.0055  -6.5615\n",
       "327   Topic10    0.071932     salmon   23.635808  -0.7316  -6.5616\n",
       "202   Topic10    0.071928       lamb   21.377771  -0.6312  -6.5617\n",
       "150   Topic10    0.071925     garden    5.705071   0.6898  -6.5617\n",
       "\n",
       "[562 rows x 6 columns], token_table=      Topic      Freq        Term\n",
       "term                             \n",
       "5         1  0.343489       amaze\n",
       "5         2  0.392559       amaze\n",
       "5         3  0.073605       amaze\n",
       "5         4  0.073605       amaze\n",
       "5         6  0.024535       amaze\n",
       "5         7  0.049070       amaze\n",
       "5         8  0.024535       amaze\n",
       "5         9  0.024535       amaze\n",
       "6         1  0.266516     amazing\n",
       "6         2  0.355355     amazing\n",
       "6         8  0.266516     amazing\n",
       "7         1  0.106168    ambiance\n",
       "7         2  0.212337    ambiance\n",
       "7         6  0.424673    ambiance\n",
       "7         7  0.212337    ambiance\n",
       "8         1  0.475008    ambience\n",
       "8         7  0.475008    ambience\n",
       "9         2  0.363057         amp\n",
       "9         4  0.145223         amp\n",
       "9         5  0.181528         amp\n",
       "9         6  0.181528         amp\n",
       "9         8  0.108917         amp\n",
       "10        2  0.529418   appetizer\n",
       "10        3  0.198532   appetizer\n",
       "10        7  0.132355   appetizer\n",
       "10        9  0.066177   appetizer\n",
       "11        1  0.703871  appreciate\n",
       "11        3  0.175968  appreciate\n",
       "12        1  0.241402        area\n",
       "12        2  0.120701        area\n",
       "...     ...       ...         ...\n",
       "428       5  0.242480        wish\n",
       "429       1  0.462815   wonderful\n",
       "429       2  0.231408   wonderful\n",
       "429       4  0.132233   wonderful\n",
       "429       6  0.033058   wonderful\n",
       "429       7  0.066116   wonderful\n",
       "429       9  0.066116   wonderful\n",
       "430       1  0.087711        work\n",
       "430       2  0.263134        work\n",
       "430       5  0.526268        work\n",
       "430       9  0.175423        work\n",
       "431       1  0.186007       worth\n",
       "431       2  0.124004       worth\n",
       "431       3  0.434015       worth\n",
       "431       7  0.124004       worth\n",
       "431       8  0.062002       worth\n",
       "431       9  0.062002       worth\n",
       "432       3  0.455553       write\n",
       "432       7  0.151851       write\n",
       "432       8  0.303702       write\n",
       "436       1  0.197782         yum\n",
       "436       2  0.593346         yum\n",
       "436       6  0.131855         yum\n",
       "437       2  0.490057       yummy\n",
       "437       3  0.163352       yummy\n",
       "437       8  0.163352       yummy\n",
       "437       9  0.081676       yummy\n",
       "438       3  0.175974       zazie\n",
       "438       4  0.527921       zazie\n",
       "438       8  0.175974       zazie\n",
       "\n",
       "[1421 rows x 3 columns], R=30, lambda_step=0.01, plot_opts={'xlab': 'PC1', 'ylab': 'PC2'}, topic_order=[6, 10, 2, 5, 3, 7, 1, 4, 8, 9])"
      ]
     },
     "execution_count": 63,
     "metadata": {},
     "output_type": "execute_result"
    }
   ],
   "source": [
    "pyLDAvis.enable_notebook()\n",
    "dash = pyLDAvis.sklearn.prepare(best_lda_model, data_vectorized, vectorizer, mds='tsne')\n",
    "dash"
   ]
  },
  {
   "cell_type": "markdown",
   "metadata": {},
   "source": [
    "### Let's just do the most positive (4 and 5) and, separately, most negative reviews (1 and 2) - may get more informative clustering there"
   ]
  }
 ],
 "metadata": {
  "kernelspec": {
   "display_name": "Python 3",
   "language": "python",
   "name": "python3"
  },
  "language_info": {
   "codemirror_mode": {
    "name": "ipython",
    "version": 3
   },
   "file_extension": ".py",
   "mimetype": "text/x-python",
   "name": "python",
   "nbconvert_exporter": "python",
   "pygments_lexer": "ipython3",
   "version": "3.7.1"
  }
 },
 "nbformat": 4,
 "nbformat_minor": 2
}
